{
 "cells": [
  {
   "cell_type": "markdown",
   "metadata": {},
   "source": [
    "# Банки — Анализ оттока клиентов"
   ]
  },
  {
   "cell_type": "markdown",
   "metadata": {},
   "source": [
    "**Презентация:**<https://disk.yandex.ru/i/7Hdi788WbWk7_Q>"
   ]
  },
  {
   "cell_type": "markdown",
   "metadata": {},
   "source": [
    "В банке «Метанпром» последнее время драматически повысился отток клиент, это становиться проблемой, которая угрожает существованию банка. В связи с этим менеджеры отдела маркетинга заказали проанализировать клиентов регионального банка и выделите сегменты клиентов, которые склонны уходить из банка.\n",
    "\n",
    "Датасет содержит данные о клиентах банка «Метанпром». Банк располагается в Ярославле и областных городах: Ростов Великий и Рыбинск.\n",
    "\n",
    "Исследование будет проводиться в несколько этапов:\n",
    "- Шаг 1. Загрузка, первичный осмотр и предобработка данных;\n",
    "- Шаг 2. Исследовательский анализ данных;\n",
    "- Шаг 3. Сегментация клиентов банка и определение портретов клиентов, которые склонны уходить из банка;\n",
    "- Шаг 4. Проверка статистических гипотез:\n",
    "  - гипотеза 1: *доход клиентов, которые ушли и тех, которые остались, различается*,\n",
    "  - гипотеза 2: *доли клиентов, ушедших из банка, среди активных и неактивных клиентов различаются*;\n",
    "- Шаг 5. Формулирование выводов по работе."
   ]
  },
  {
   "cell_type": "markdown",
   "metadata": {},
   "source": [
    "### Загрузка, первичный осмотр и предобработка данных"
   ]
  },
  {
   "cell_type": "code",
   "execution_count": 509,
   "metadata": {},
   "outputs": [],
   "source": [
    "import pandas as pd\n",
    "pd.set_option('display.max_columns', 0)\n",
    "import matplotlib.pyplot as plt\n",
    "from plotly import graph_objects as go\n",
    "import plotly.express as px\n",
    "from scipy import stats as st\n",
    "import numpy as np\n",
    "import math as mth\n",
    "import seaborn as sns\n",
    "import phik\n",
    "from phik.report import plot_correlation_matrix\n",
    "from phik import report"
   ]
  },
  {
   "cell_type": "code",
   "execution_count": 510,
   "metadata": {},
   "outputs": [],
   "source": [
    "# чтение файла bank_scrooge.csv с данными и сохранение его в переменную\n",
    "path = \"...\"\n",
    "df = pd.read_csv(path)"
   ]
  },
  {
   "cell_type": "code",
   "execution_count": 511,
   "metadata": {},
   "outputs": [
    {
     "data": {
      "text/html": [
       "<div>\n",
       "<style scoped>\n",
       "    .dataframe tbody tr th:only-of-type {\n",
       "        vertical-align: middle;\n",
       "    }\n",
       "\n",
       "    .dataframe tbody tr th {\n",
       "        vertical-align: top;\n",
       "    }\n",
       "\n",
       "    .dataframe thead th {\n",
       "        text-align: right;\n",
       "    }\n",
       "</style>\n",
       "<table border=\"1\" class=\"dataframe\">\n",
       "  <thead>\n",
       "    <tr style=\"text-align: right;\">\n",
       "      <th></th>\n",
       "      <th>USERID</th>\n",
       "      <th>score</th>\n",
       "      <th>city</th>\n",
       "      <th>gender</th>\n",
       "      <th>age</th>\n",
       "      <th>equity</th>\n",
       "      <th>balance</th>\n",
       "      <th>products</th>\n",
       "      <th>credit_card</th>\n",
       "      <th>last_activity</th>\n",
       "      <th>EST_SALARY</th>\n",
       "      <th>churn</th>\n",
       "    </tr>\n",
       "  </thead>\n",
       "  <tbody>\n",
       "    <tr>\n",
       "      <th>0</th>\n",
       "      <td>183012</td>\n",
       "      <td>850.0</td>\n",
       "      <td>Рыбинск</td>\n",
       "      <td>Ж</td>\n",
       "      <td>25.0</td>\n",
       "      <td>1</td>\n",
       "      <td>59214.82</td>\n",
       "      <td>2</td>\n",
       "      <td>0</td>\n",
       "      <td>1</td>\n",
       "      <td>75719.14</td>\n",
       "      <td>1</td>\n",
       "    </tr>\n",
       "    <tr>\n",
       "      <th>1</th>\n",
       "      <td>146556</td>\n",
       "      <td>861.0</td>\n",
       "      <td>Рыбинск</td>\n",
       "      <td>Ж</td>\n",
       "      <td>37.0</td>\n",
       "      <td>5</td>\n",
       "      <td>850594.33</td>\n",
       "      <td>3</td>\n",
       "      <td>1</td>\n",
       "      <td>0</td>\n",
       "      <td>86621.77</td>\n",
       "      <td>0</td>\n",
       "    </tr>\n",
       "    <tr>\n",
       "      <th>2</th>\n",
       "      <td>120722</td>\n",
       "      <td>892.0</td>\n",
       "      <td>Рыбинск</td>\n",
       "      <td>Ж</td>\n",
       "      <td>30.0</td>\n",
       "      <td>0</td>\n",
       "      <td>NaN</td>\n",
       "      <td>1</td>\n",
       "      <td>1</td>\n",
       "      <td>1</td>\n",
       "      <td>107683.34</td>\n",
       "      <td>0</td>\n",
       "    </tr>\n",
       "    <tr>\n",
       "      <th>3</th>\n",
       "      <td>225363</td>\n",
       "      <td>866.0</td>\n",
       "      <td>Ярославль</td>\n",
       "      <td>Ж</td>\n",
       "      <td>51.0</td>\n",
       "      <td>5</td>\n",
       "      <td>1524746.26</td>\n",
       "      <td>2</td>\n",
       "      <td>0</td>\n",
       "      <td>1</td>\n",
       "      <td>174423.53</td>\n",
       "      <td>1</td>\n",
       "    </tr>\n",
       "    <tr>\n",
       "      <th>4</th>\n",
       "      <td>157978</td>\n",
       "      <td>730.0</td>\n",
       "      <td>Ярославль</td>\n",
       "      <td>М</td>\n",
       "      <td>34.0</td>\n",
       "      <td>5</td>\n",
       "      <td>174.00</td>\n",
       "      <td>1</td>\n",
       "      <td>1</td>\n",
       "      <td>0</td>\n",
       "      <td>67353.16</td>\n",
       "      <td>1</td>\n",
       "    </tr>\n",
       "    <tr>\n",
       "      <th>5</th>\n",
       "      <td>202305</td>\n",
       "      <td>856.0</td>\n",
       "      <td>Рыбинск</td>\n",
       "      <td>М</td>\n",
       "      <td>56.0</td>\n",
       "      <td>4</td>\n",
       "      <td>863687.24</td>\n",
       "      <td>3</td>\n",
       "      <td>1</td>\n",
       "      <td>0</td>\n",
       "      <td>156619.80</td>\n",
       "      <td>0</td>\n",
       "    </tr>\n",
       "    <tr>\n",
       "      <th>6</th>\n",
       "      <td>177259</td>\n",
       "      <td>807.0</td>\n",
       "      <td>Ярославль</td>\n",
       "      <td>Ж</td>\n",
       "      <td>39.0</td>\n",
       "      <td>3</td>\n",
       "      <td>405042.44</td>\n",
       "      <td>3</td>\n",
       "      <td>0</td>\n",
       "      <td>1</td>\n",
       "      <td>103838.32</td>\n",
       "      <td>0</td>\n",
       "    </tr>\n",
       "    <tr>\n",
       "      <th>7</th>\n",
       "      <td>218868</td>\n",
       "      <td>825.0</td>\n",
       "      <td>Ярославль</td>\n",
       "      <td>Ж</td>\n",
       "      <td>38.0</td>\n",
       "      <td>4</td>\n",
       "      <td>458145.40</td>\n",
       "      <td>2</td>\n",
       "      <td>1</td>\n",
       "      <td>1</td>\n",
       "      <td>68085.48</td>\n",
       "      <td>0</td>\n",
       "    </tr>\n",
       "    <tr>\n",
       "      <th>8</th>\n",
       "      <td>211686</td>\n",
       "      <td>923.0</td>\n",
       "      <td>Ярославль</td>\n",
       "      <td>М</td>\n",
       "      <td>54.0</td>\n",
       "      <td>5</td>\n",
       "      <td>1206337.87</td>\n",
       "      <td>2</td>\n",
       "      <td>1</td>\n",
       "      <td>0</td>\n",
       "      <td>155371.79</td>\n",
       "      <td>0</td>\n",
       "    </tr>\n",
       "    <tr>\n",
       "      <th>9</th>\n",
       "      <td>133130</td>\n",
       "      <td>906.0</td>\n",
       "      <td>Ярославль</td>\n",
       "      <td>Ж</td>\n",
       "      <td>67.0</td>\n",
       "      <td>0</td>\n",
       "      <td>NaN</td>\n",
       "      <td>1</td>\n",
       "      <td>0</td>\n",
       "      <td>1</td>\n",
       "      <td>238055.53</td>\n",
       "      <td>0</td>\n",
       "    </tr>\n",
       "  </tbody>\n",
       "</table>\n",
       "</div>"
      ],
      "text/plain": [
       "   USERID  score       city  ... last_activity  EST_SALARY  churn\n",
       "0  183012  850.0    Рыбинск  ...             1    75719.14      1\n",
       "1  146556  861.0    Рыбинск  ...             0    86621.77      0\n",
       "2  120722  892.0    Рыбинск  ...             1   107683.34      0\n",
       "3  225363  866.0  Ярославль  ...             1   174423.53      1\n",
       "4  157978  730.0  Ярославль  ...             0    67353.16      1\n",
       "5  202305  856.0    Рыбинск  ...             0   156619.80      0\n",
       "6  177259  807.0  Ярославль  ...             1   103838.32      0\n",
       "7  218868  825.0  Ярославль  ...             1    68085.48      0\n",
       "8  211686  923.0  Ярославль  ...             0   155371.79      0\n",
       "9  133130  906.0  Ярославль  ...             1   238055.53      0\n",
       "\n",
       "[10 rows x 12 columns]"
      ]
     },
     "execution_count": 511,
     "metadata": {},
     "output_type": "execute_result"
    }
   ],
   "source": [
    "# изучаем первые 10 строк датасета\n",
    "df.head(10)"
   ]
  },
  {
   "cell_type": "code",
   "execution_count": 512,
   "metadata": {
    "scrolled": true
   },
   "outputs": [
    {
     "name": "stdout",
     "output_type": "stream",
     "text": [
      "<class 'pandas.core.frame.DataFrame'>\n",
      "RangeIndex: 10000 entries, 0 to 9999\n",
      "Data columns (total 12 columns):\n",
      " #   Column         Non-Null Count  Dtype  \n",
      "---  ------         --------------  -----  \n",
      " 0   USERID         10000 non-null  int64  \n",
      " 1   score          10000 non-null  float64\n",
      " 2   city           10000 non-null  object \n",
      " 3   gender         10000 non-null  object \n",
      " 4   age            9974 non-null   float64\n",
      " 5   equity         10000 non-null  int64  \n",
      " 6   balance        7705 non-null   float64\n",
      " 7   products       10000 non-null  int64  \n",
      " 8   credit_card    10000 non-null  int64  \n",
      " 9   last_activity  10000 non-null  int64  \n",
      " 10  EST_SALARY     10000 non-null  float64\n",
      " 11  churn          10000 non-null  int64  \n",
      "dtypes: float64(4), int64(6), object(2)\n",
      "memory usage: 937.6+ KB\n"
     ]
    }
   ],
   "source": [
    "# изучаем общую информацию о датасете\n",
    "df.info()"
   ]
  },
  {
   "cell_type": "markdown",
   "metadata": {},
   "source": [
    "В датасете 12 колонок и 10000 строк. Колонки `USERID` и `EST_SALARY` нужно переименовать. Типы данных в датасете соотвествуют значениям, оставим их без изменения. Проверим наличие полных дубликатов в датасете и наличие дубликатов в колонке с идентификатором пользователя. В колонке `balance` есть пропуски, изучим их."
   ]
  },
  {
   "cell_type": "code",
   "execution_count": 513,
   "metadata": {},
   "outputs": [
    {
     "data": {
      "text/plain": [
       "Index(['user_id', 'score', 'city', 'gender', 'age', 'equity', 'balance',\n",
       "       'products', 'credit_card', 'last_activity', 'salary', 'churn'],\n",
       "      dtype='object')"
      ]
     },
     "execution_count": 513,
     "metadata": {},
     "output_type": "execute_result"
    }
   ],
   "source": [
    "# переименуем столбцы\n",
    "df = df.rename(columns = {'USERID' : 'user_id', 'EST_SALARY' : 'salary'})\n",
    "\n",
    "# проверим\n",
    "df.columns"
   ]
  },
  {
   "cell_type": "code",
   "execution_count": 514,
   "metadata": {},
   "outputs": [
    {
     "name": "stdout",
     "output_type": "stream",
     "text": [
      "Количество дубликатов = 0\n"
     ]
    }
   ],
   "source": [
    "# проверим наличие полных дубликатов\n",
    "print('Количество дубликатов =', df.duplicated().sum())"
   ]
  },
  {
   "cell_type": "code",
   "execution_count": 515,
   "metadata": {},
   "outputs": [
    {
     "name": "stdout",
     "output_type": "stream",
     "text": [
      "Количество оставшихся дубликатов = 0\n"
     ]
    }
   ],
   "source": [
    "# избавимся от дубликатов и проверим еще раз\n",
    "df = df.drop_duplicates()\n",
    "print('Количество оставшихся дубликатов =', df.duplicated().sum())"
   ]
  },
  {
   "cell_type": "code",
   "execution_count": 516,
   "metadata": {
    "scrolled": true
   },
   "outputs": [
    {
     "name": "stdout",
     "output_type": "stream",
     "text": [
      "Количество дубликатов в столбце user_id = 73\n"
     ]
    }
   ],
   "source": [
    "# проверим наличие дубликатов в столбце user_id\n",
    "print('Количество дубликатов в столбце user_id =', df['user_id'].duplicated().sum())"
   ]
  },
  {
   "cell_type": "markdown",
   "metadata": {},
   "source": [
    "Дубликаты в столбце user_id составляют меньше 1% от общего числа записей в датасете, можем удалить их без вреда для исследования."
   ]
  },
  {
   "cell_type": "code",
   "execution_count": 517,
   "metadata": {},
   "outputs": [
    {
     "name": "stdout",
     "output_type": "stream",
     "text": [
      "Количество оставшихся дубликатов в столбце user_id = 0\n"
     ]
    }
   ],
   "source": [
    "# удалим дубликаты в столбце user_id и еще раз проверим\n",
    "df = df.drop_duplicates(subset=['user_id'])\n",
    "print('Количество оставшихся дубликатов в столбце user_id =', df['user_id'].duplicated().sum())"
   ]
  },
  {
   "cell_type": "code",
   "execution_count": 518,
   "metadata": {},
   "outputs": [
    {
     "name": "stdout",
     "output_type": "stream",
     "text": [
      "Количество пропусков в столбце balance =  2260\n"
     ]
    }
   ],
   "source": [
    "# изучим пропуски в столбце balance\n",
    "print('Количество пропусков в столбце balance = ', len(df[df['balance'].isna()]))"
   ]
  },
  {
   "cell_type": "markdown",
   "metadata": {},
   "source": [
    "Удалить пропуски из датасета мы не можем, так мы потеряем 22.8% записей. Заполнить медианой или средним такие пропуски мы тоже не можем, столбец balance содержит информацию о балансе на счете клиента, такая инофрмация строго индивидуальна для каждого клиента. Нам остается только оставить эти пропуски в том виде, в котором они есть. "
   ]
  },
  {
   "cell_type": "code",
   "execution_count": 519,
   "metadata": {},
   "outputs": [],
   "source": [
    "# присвоим новый индекс записям в датасете\n",
    "df = df.reset_index(drop=True)"
   ]
  },
  {
   "cell_type": "code",
   "execution_count": 520,
   "metadata": {},
   "outputs": [
    {
     "data": {
      "text/html": [
       "<div>\n",
       "<style scoped>\n",
       "    .dataframe tbody tr th:only-of-type {\n",
       "        vertical-align: middle;\n",
       "    }\n",
       "\n",
       "    .dataframe tbody tr th {\n",
       "        vertical-align: top;\n",
       "    }\n",
       "\n",
       "    .dataframe thead th {\n",
       "        text-align: right;\n",
       "    }\n",
       "</style>\n",
       "<table border=\"1\" class=\"dataframe\">\n",
       "  <thead>\n",
       "    <tr style=\"text-align: right;\">\n",
       "      <th></th>\n",
       "      <th>user_id</th>\n",
       "      <th>score</th>\n",
       "      <th>city</th>\n",
       "      <th>gender</th>\n",
       "      <th>age</th>\n",
       "      <th>equity</th>\n",
       "      <th>balance</th>\n",
       "      <th>products</th>\n",
       "      <th>credit_card</th>\n",
       "      <th>last_activity</th>\n",
       "      <th>salary</th>\n",
       "      <th>churn</th>\n",
       "    </tr>\n",
       "  </thead>\n",
       "  <tbody>\n",
       "    <tr>\n",
       "      <th>0</th>\n",
       "      <td>183012</td>\n",
       "      <td>850.0</td>\n",
       "      <td>Рыбинск</td>\n",
       "      <td>Ж</td>\n",
       "      <td>25.0</td>\n",
       "      <td>1</td>\n",
       "      <td>59214.82</td>\n",
       "      <td>2</td>\n",
       "      <td>0</td>\n",
       "      <td>1</td>\n",
       "      <td>75719.14</td>\n",
       "      <td>1</td>\n",
       "    </tr>\n",
       "    <tr>\n",
       "      <th>1</th>\n",
       "      <td>146556</td>\n",
       "      <td>861.0</td>\n",
       "      <td>Рыбинск</td>\n",
       "      <td>Ж</td>\n",
       "      <td>37.0</td>\n",
       "      <td>5</td>\n",
       "      <td>850594.33</td>\n",
       "      <td>3</td>\n",
       "      <td>1</td>\n",
       "      <td>0</td>\n",
       "      <td>86621.77</td>\n",
       "      <td>0</td>\n",
       "    </tr>\n",
       "    <tr>\n",
       "      <th>2</th>\n",
       "      <td>120722</td>\n",
       "      <td>892.0</td>\n",
       "      <td>Рыбинск</td>\n",
       "      <td>Ж</td>\n",
       "      <td>30.0</td>\n",
       "      <td>0</td>\n",
       "      <td>NaN</td>\n",
       "      <td>1</td>\n",
       "      <td>1</td>\n",
       "      <td>1</td>\n",
       "      <td>107683.34</td>\n",
       "      <td>0</td>\n",
       "    </tr>\n",
       "    <tr>\n",
       "      <th>3</th>\n",
       "      <td>225363</td>\n",
       "      <td>866.0</td>\n",
       "      <td>Ярославль</td>\n",
       "      <td>Ж</td>\n",
       "      <td>51.0</td>\n",
       "      <td>5</td>\n",
       "      <td>1524746.26</td>\n",
       "      <td>2</td>\n",
       "      <td>0</td>\n",
       "      <td>1</td>\n",
       "      <td>174423.53</td>\n",
       "      <td>1</td>\n",
       "    </tr>\n",
       "    <tr>\n",
       "      <th>4</th>\n",
       "      <td>157978</td>\n",
       "      <td>730.0</td>\n",
       "      <td>Ярославль</td>\n",
       "      <td>М</td>\n",
       "      <td>34.0</td>\n",
       "      <td>5</td>\n",
       "      <td>174.00</td>\n",
       "      <td>1</td>\n",
       "      <td>1</td>\n",
       "      <td>0</td>\n",
       "      <td>67353.16</td>\n",
       "      <td>1</td>\n",
       "    </tr>\n",
       "    <tr>\n",
       "      <th>5</th>\n",
       "      <td>202305</td>\n",
       "      <td>856.0</td>\n",
       "      <td>Рыбинск</td>\n",
       "      <td>М</td>\n",
       "      <td>56.0</td>\n",
       "      <td>4</td>\n",
       "      <td>863687.24</td>\n",
       "      <td>3</td>\n",
       "      <td>1</td>\n",
       "      <td>0</td>\n",
       "      <td>156619.80</td>\n",
       "      <td>0</td>\n",
       "    </tr>\n",
       "    <tr>\n",
       "      <th>6</th>\n",
       "      <td>177259</td>\n",
       "      <td>807.0</td>\n",
       "      <td>Ярославль</td>\n",
       "      <td>Ж</td>\n",
       "      <td>39.0</td>\n",
       "      <td>3</td>\n",
       "      <td>405042.44</td>\n",
       "      <td>3</td>\n",
       "      <td>0</td>\n",
       "      <td>1</td>\n",
       "      <td>103838.32</td>\n",
       "      <td>0</td>\n",
       "    </tr>\n",
       "    <tr>\n",
       "      <th>7</th>\n",
       "      <td>218868</td>\n",
       "      <td>825.0</td>\n",
       "      <td>Ярославль</td>\n",
       "      <td>Ж</td>\n",
       "      <td>38.0</td>\n",
       "      <td>4</td>\n",
       "      <td>458145.40</td>\n",
       "      <td>2</td>\n",
       "      <td>1</td>\n",
       "      <td>1</td>\n",
       "      <td>68085.48</td>\n",
       "      <td>0</td>\n",
       "    </tr>\n",
       "    <tr>\n",
       "      <th>8</th>\n",
       "      <td>211686</td>\n",
       "      <td>923.0</td>\n",
       "      <td>Ярославль</td>\n",
       "      <td>М</td>\n",
       "      <td>54.0</td>\n",
       "      <td>5</td>\n",
       "      <td>1206337.87</td>\n",
       "      <td>2</td>\n",
       "      <td>1</td>\n",
       "      <td>0</td>\n",
       "      <td>155371.79</td>\n",
       "      <td>0</td>\n",
       "    </tr>\n",
       "    <tr>\n",
       "      <th>9</th>\n",
       "      <td>133130</td>\n",
       "      <td>906.0</td>\n",
       "      <td>Ярославль</td>\n",
       "      <td>Ж</td>\n",
       "      <td>67.0</td>\n",
       "      <td>0</td>\n",
       "      <td>NaN</td>\n",
       "      <td>1</td>\n",
       "      <td>0</td>\n",
       "      <td>1</td>\n",
       "      <td>238055.53</td>\n",
       "      <td>0</td>\n",
       "    </tr>\n",
       "  </tbody>\n",
       "</table>\n",
       "</div>"
      ],
      "text/plain": [
       "   user_id  score       city  ... last_activity     salary  churn\n",
       "0   183012  850.0    Рыбинск  ...             1   75719.14      1\n",
       "1   146556  861.0    Рыбинск  ...             0   86621.77      0\n",
       "2   120722  892.0    Рыбинск  ...             1  107683.34      0\n",
       "3   225363  866.0  Ярославль  ...             1  174423.53      1\n",
       "4   157978  730.0  Ярославль  ...             0   67353.16      1\n",
       "5   202305  856.0    Рыбинск  ...             0  156619.80      0\n",
       "6   177259  807.0  Ярославль  ...             1  103838.32      0\n",
       "7   218868  825.0  Ярославль  ...             1   68085.48      0\n",
       "8   211686  923.0  Ярославль  ...             0  155371.79      0\n",
       "9   133130  906.0  Ярославль  ...             1  238055.53      0\n",
       "\n",
       "[10 rows x 12 columns]"
      ]
     },
     "execution_count": 520,
     "metadata": {},
     "output_type": "execute_result"
    }
   ],
   "source": [
    "# еще раз посмотрим на датасет\n",
    "df.head(10)"
   ]
  },
  {
   "cell_type": "code",
   "execution_count": 521,
   "metadata": {},
   "outputs": [
    {
     "name": "stdout",
     "output_type": "stream",
     "text": [
      "<class 'pandas.core.frame.DataFrame'>\n",
      "RangeIndex: 9927 entries, 0 to 9926\n",
      "Data columns (total 12 columns):\n",
      " #   Column         Non-Null Count  Dtype  \n",
      "---  ------         --------------  -----  \n",
      " 0   user_id        9927 non-null   int64  \n",
      " 1   score          9927 non-null   float64\n",
      " 2   city           9927 non-null   object \n",
      " 3   gender         9927 non-null   object \n",
      " 4   age            9923 non-null   float64\n",
      " 5   equity         9927 non-null   int64  \n",
      " 6   balance        7667 non-null   float64\n",
      " 7   products       9927 non-null   int64  \n",
      " 8   credit_card    9927 non-null   int64  \n",
      " 9   last_activity  9927 non-null   int64  \n",
      " 10  salary         9927 non-null   float64\n",
      " 11  churn          9927 non-null   int64  \n",
      "dtypes: float64(4), int64(6), object(2)\n",
      "memory usage: 930.8+ KB\n"
     ]
    }
   ],
   "source": [
    "# и изучим информацию о нем\n",
    "df.info()"
   ]
  },
  {
   "cell_type": "markdown",
   "metadata": {},
   "source": [
    "**На этапе предобработки данных** мы избавились от проблем в названии столбцов, избавились от дубликатов и изучили пропуски в датасете.\n",
    "<br>По результатам предобработки в таблице 12 столбцов и 9927 строк. В столбце balance 2260 необрабатываемых пропусков.\n",
    "\n",
    "Первичный осмотр и предобработка данных заверешены, можем приступать к исследовательскому анализу данных."
   ]
  },
  {
   "cell_type": "markdown",
   "metadata": {},
   "source": [
    "### Исследовательский анализ данных"
   ]
  },
  {
   "cell_type": "markdown",
   "metadata": {},
   "source": [
    "На данном этапе изучим географической положение клиентов банка, их разделение по полу, возрасту, доходу и другим показателям. \n",
    "\n",
    "Изучим географию клиентов. Банк располагается в Ярославле и областных городах: Ростов Великий и Рыбинск, посчитаем сколько клиентов в каждом городе."
   ]
  },
  {
   "cell_type": "code",
   "execution_count": 522,
   "metadata": {
    "scrolled": true
   },
   "outputs": [
    {
     "data": {
      "text/html": [
       "<div>\n",
       "<style scoped>\n",
       "    .dataframe tbody tr th:only-of-type {\n",
       "        vertical-align: middle;\n",
       "    }\n",
       "\n",
       "    .dataframe tbody tr th {\n",
       "        vertical-align: top;\n",
       "    }\n",
       "\n",
       "    .dataframe thead th {\n",
       "        text-align: right;\n",
       "    }\n",
       "</style>\n",
       "<table border=\"1\" class=\"dataframe\">\n",
       "  <thead>\n",
       "    <tr style=\"text-align: right;\">\n",
       "      <th></th>\n",
       "      <th>city</th>\n",
       "      <th>count</th>\n",
       "    </tr>\n",
       "  </thead>\n",
       "  <tbody>\n",
       "    <tr>\n",
       "      <th>0</th>\n",
       "      <td>Ярославль</td>\n",
       "      <td>5856</td>\n",
       "    </tr>\n",
       "    <tr>\n",
       "      <th>1</th>\n",
       "      <td>Рыбинск</td>\n",
       "      <td>2654</td>\n",
       "    </tr>\n",
       "    <tr>\n",
       "      <th>2</th>\n",
       "      <td>Ростов</td>\n",
       "      <td>1417</td>\n",
       "    </tr>\n",
       "  </tbody>\n",
       "</table>\n",
       "</div>"
      ],
      "text/plain": [
       "        city  count\n",
       "0  Ярославль   5856\n",
       "1    Рыбинск   2654\n",
       "2     Ростов   1417"
      ]
     },
     "execution_count": 522,
     "metadata": {},
     "output_type": "execute_result"
    }
   ],
   "source": [
    "# найдем количество клиентов банка в каждом городе\n",
    "city = df['city'].value_counts().reset_index()\n",
    "city.columns = ['city', 'count']\n",
    "city"
   ]
  },
  {
   "cell_type": "code",
   "execution_count": 523,
   "metadata": {},
   "outputs": [
    {
     "data": {
      "image/png": "[encoded data removed]",
      "text/plain": [
       "<Figure size 432x288 with 1 Axes>"
      ]
     },
     "metadata": {},
     "output_type": "display_data"
    }
   ],
   "source": [
    "# посторим круговую диаграмму с количеством клиентов по городам\n",
    "labels = ['Ярославль', 'Рыбинск', 'Ростов Великий']\n",
    "city_pie = [5856, 2654, 1417]  \n",
    "\n",
    "fig, ax = plt.subplots() \n",
    "ax.pie(city_pie, labels = labels) \n",
    "ax.set_title('Количество клиентов в городах присутсвия банка «Метанпром»') \n",
    "plt.show();"
   ]
  },
  {
   "cell_type": "code",
   "execution_count": 524,
   "metadata": {},
   "outputs": [
    {
     "data": {
      "text/html": [
       "<div>\n",
       "<style scoped>\n",
       "    .dataframe tbody tr th:only-of-type {\n",
       "        vertical-align: middle;\n",
       "    }\n",
       "\n",
       "    .dataframe tbody tr th {\n",
       "        vertical-align: top;\n",
       "    }\n",
       "\n",
       "    .dataframe thead th {\n",
       "        text-align: right;\n",
       "    }\n",
       "</style>\n",
       "<table border=\"1\" class=\"dataframe\">\n",
       "  <thead>\n",
       "    <tr style=\"text-align: right;\">\n",
       "      <th></th>\n",
       "      <th>gender</th>\n",
       "      <th>count</th>\n",
       "    </tr>\n",
       "  </thead>\n",
       "  <tbody>\n",
       "    <tr>\n",
       "      <th>0</th>\n",
       "      <td>М</td>\n",
       "      <td>4972</td>\n",
       "    </tr>\n",
       "    <tr>\n",
       "      <th>1</th>\n",
       "      <td>Ж</td>\n",
       "      <td>4955</td>\n",
       "    </tr>\n",
       "  </tbody>\n",
       "</table>\n",
       "</div>"
      ],
      "text/plain": [
       "  gender  count\n",
       "0      М   4972\n",
       "1      Ж   4955"
      ]
     },
     "execution_count": 524,
     "metadata": {},
     "output_type": "execute_result"
    }
   ],
   "source": [
    "# найдем количество мужчин и женщин среди клиентов\n",
    "gender = df['gender'].value_counts().reset_index()\n",
    "gender.columns = ['gender', 'count']\n",
    "gender"
   ]
  },
  {
   "cell_type": "code",
   "execution_count": 525,
   "metadata": {},
   "outputs": [
    {
     "data": {
      "image/png": "[encoded data removed]",
      "text/plain": [
       "<Figure size 432x288 with 1 Axes>"
      ]
     },
     "metadata": {},
     "output_type": "display_data"
    }
   ],
   "source": [
    "# построим круговую диаграмму\n",
    "labels = ['Мужчины', 'Женщины']\n",
    "gender_pie = [4972, 4955]  \n",
    "\n",
    "fig, ax = plt.subplots() \n",
    "ax.pie(gender_pie, labels = labels) \n",
    "ax.set_title('Половой состав клиентов банка «Метанпром»') \n",
    "plt.show();"
   ]
  },
  {
   "cell_type": "code",
   "execution_count": 526,
   "metadata": {},
   "outputs": [],
   "source": [
    "# создадим функцию для присвоения возрастной категории\n",
    "def age_group(age):\n",
    "    if age >= 18 and age <= 25:\n",
    "        return '18-25'\n",
    "    if age >= 26 and age <= 30:\n",
    "        return '26-30'\n",
    "    if age >= 31 and age <= 35:\n",
    "        return '31-35'\n",
    "    if age >= 36 and age <= 40:\n",
    "        return '36-40'\n",
    "    if age >= 41 and age <= 45:\n",
    "        return '41-45'\n",
    "    return '45+' "
   ]
  },
  {
   "cell_type": "code",
   "execution_count": 527,
   "metadata": {},
   "outputs": [
    {
     "data": {
      "text/html": [
       "<div>\n",
       "<style scoped>\n",
       "    .dataframe tbody tr th:only-of-type {\n",
       "        vertical-align: middle;\n",
       "    }\n",
       "\n",
       "    .dataframe tbody tr th {\n",
       "        vertical-align: top;\n",
       "    }\n",
       "\n",
       "    .dataframe thead th {\n",
       "        text-align: right;\n",
       "    }\n",
       "</style>\n",
       "<table border=\"1\" class=\"dataframe\">\n",
       "  <thead>\n",
       "    <tr style=\"text-align: right;\">\n",
       "      <th></th>\n",
       "      <th>user_id</th>\n",
       "      <th>score</th>\n",
       "      <th>city</th>\n",
       "      <th>gender</th>\n",
       "      <th>age</th>\n",
       "      <th>equity</th>\n",
       "      <th>balance</th>\n",
       "      <th>products</th>\n",
       "      <th>credit_card</th>\n",
       "      <th>last_activity</th>\n",
       "      <th>salary</th>\n",
       "      <th>churn</th>\n",
       "      <th>age_group</th>\n",
       "    </tr>\n",
       "  </thead>\n",
       "  <tbody>\n",
       "    <tr>\n",
       "      <th>0</th>\n",
       "      <td>183012</td>\n",
       "      <td>850.0</td>\n",
       "      <td>Рыбинск</td>\n",
       "      <td>Ж</td>\n",
       "      <td>25.0</td>\n",
       "      <td>1</td>\n",
       "      <td>59214.82</td>\n",
       "      <td>2</td>\n",
       "      <td>0</td>\n",
       "      <td>1</td>\n",
       "      <td>75719.14</td>\n",
       "      <td>1</td>\n",
       "      <td>18-25</td>\n",
       "    </tr>\n",
       "    <tr>\n",
       "      <th>1</th>\n",
       "      <td>146556</td>\n",
       "      <td>861.0</td>\n",
       "      <td>Рыбинск</td>\n",
       "      <td>Ж</td>\n",
       "      <td>37.0</td>\n",
       "      <td>5</td>\n",
       "      <td>850594.33</td>\n",
       "      <td>3</td>\n",
       "      <td>1</td>\n",
       "      <td>0</td>\n",
       "      <td>86621.77</td>\n",
       "      <td>0</td>\n",
       "      <td>36-40</td>\n",
       "    </tr>\n",
       "    <tr>\n",
       "      <th>2</th>\n",
       "      <td>120722</td>\n",
       "      <td>892.0</td>\n",
       "      <td>Рыбинск</td>\n",
       "      <td>Ж</td>\n",
       "      <td>30.0</td>\n",
       "      <td>0</td>\n",
       "      <td>NaN</td>\n",
       "      <td>1</td>\n",
       "      <td>1</td>\n",
       "      <td>1</td>\n",
       "      <td>107683.34</td>\n",
       "      <td>0</td>\n",
       "      <td>26-30</td>\n",
       "    </tr>\n",
       "    <tr>\n",
       "      <th>3</th>\n",
       "      <td>225363</td>\n",
       "      <td>866.0</td>\n",
       "      <td>Ярославль</td>\n",
       "      <td>Ж</td>\n",
       "      <td>51.0</td>\n",
       "      <td>5</td>\n",
       "      <td>1524746.26</td>\n",
       "      <td>2</td>\n",
       "      <td>0</td>\n",
       "      <td>1</td>\n",
       "      <td>174423.53</td>\n",
       "      <td>1</td>\n",
       "      <td>45+</td>\n",
       "    </tr>\n",
       "    <tr>\n",
       "      <th>4</th>\n",
       "      <td>157978</td>\n",
       "      <td>730.0</td>\n",
       "      <td>Ярославль</td>\n",
       "      <td>М</td>\n",
       "      <td>34.0</td>\n",
       "      <td>5</td>\n",
       "      <td>174.00</td>\n",
       "      <td>1</td>\n",
       "      <td>1</td>\n",
       "      <td>0</td>\n",
       "      <td>67353.16</td>\n",
       "      <td>1</td>\n",
       "      <td>31-35</td>\n",
       "    </tr>\n",
       "    <tr>\n",
       "      <th>5</th>\n",
       "      <td>202305</td>\n",
       "      <td>856.0</td>\n",
       "      <td>Рыбинск</td>\n",
       "      <td>М</td>\n",
       "      <td>56.0</td>\n",
       "      <td>4</td>\n",
       "      <td>863687.24</td>\n",
       "      <td>3</td>\n",
       "      <td>1</td>\n",
       "      <td>0</td>\n",
       "      <td>156619.80</td>\n",
       "      <td>0</td>\n",
       "      <td>45+</td>\n",
       "    </tr>\n",
       "    <tr>\n",
       "      <th>6</th>\n",
       "      <td>177259</td>\n",
       "      <td>807.0</td>\n",
       "      <td>Ярославль</td>\n",
       "      <td>Ж</td>\n",
       "      <td>39.0</td>\n",
       "      <td>3</td>\n",
       "      <td>405042.44</td>\n",
       "      <td>3</td>\n",
       "      <td>0</td>\n",
       "      <td>1</td>\n",
       "      <td>103838.32</td>\n",
       "      <td>0</td>\n",
       "      <td>36-40</td>\n",
       "    </tr>\n",
       "    <tr>\n",
       "      <th>7</th>\n",
       "      <td>218868</td>\n",
       "      <td>825.0</td>\n",
       "      <td>Ярославль</td>\n",
       "      <td>Ж</td>\n",
       "      <td>38.0</td>\n",
       "      <td>4</td>\n",
       "      <td>458145.40</td>\n",
       "      <td>2</td>\n",
       "      <td>1</td>\n",
       "      <td>1</td>\n",
       "      <td>68085.48</td>\n",
       "      <td>0</td>\n",
       "      <td>36-40</td>\n",
       "    </tr>\n",
       "    <tr>\n",
       "      <th>8</th>\n",
       "      <td>211686</td>\n",
       "      <td>923.0</td>\n",
       "      <td>Ярославль</td>\n",
       "      <td>М</td>\n",
       "      <td>54.0</td>\n",
       "      <td>5</td>\n",
       "      <td>1206337.87</td>\n",
       "      <td>2</td>\n",
       "      <td>1</td>\n",
       "      <td>0</td>\n",
       "      <td>155371.79</td>\n",
       "      <td>0</td>\n",
       "      <td>45+</td>\n",
       "    </tr>\n",
       "    <tr>\n",
       "      <th>9</th>\n",
       "      <td>133130</td>\n",
       "      <td>906.0</td>\n",
       "      <td>Ярославль</td>\n",
       "      <td>Ж</td>\n",
       "      <td>67.0</td>\n",
       "      <td>0</td>\n",
       "      <td>NaN</td>\n",
       "      <td>1</td>\n",
       "      <td>0</td>\n",
       "      <td>1</td>\n",
       "      <td>238055.53</td>\n",
       "      <td>0</td>\n",
       "      <td>45+</td>\n",
       "    </tr>\n",
       "  </tbody>\n",
       "</table>\n",
       "</div>"
      ],
      "text/plain": [
       "   user_id  score       city gender  ...  last_activity     salary  churn  age_group\n",
       "0   183012  850.0    Рыбинск      Ж  ...              1   75719.14      1      18-25\n",
       "1   146556  861.0    Рыбинск      Ж  ...              0   86621.77      0      36-40\n",
       "2   120722  892.0    Рыбинск      Ж  ...              1  107683.34      0      26-30\n",
       "3   225363  866.0  Ярославль      Ж  ...              1  174423.53      1        45+\n",
       "4   157978  730.0  Ярославль      М  ...              0   67353.16      1      31-35\n",
       "5   202305  856.0    Рыбинск      М  ...              0  156619.80      0        45+\n",
       "6   177259  807.0  Ярославль      Ж  ...              1  103838.32      0      36-40\n",
       "7   218868  825.0  Ярославль      Ж  ...              1   68085.48      0      36-40\n",
       "8   211686  923.0  Ярославль      М  ...              0  155371.79      0        45+\n",
       "9   133130  906.0  Ярославль      Ж  ...              1  238055.53      0        45+\n",
       "\n",
       "[10 rows x 13 columns]"
      ]
     },
     "execution_count": 527,
     "metadata": {},
     "output_type": "execute_result"
    }
   ],
   "source": [
    "# добавим в таблицу столбец с возрастными категориями\n",
    "df['age_group'] = df['age'].apply(age_group)\n",
    "df.head(10)"
   ]
  },
  {
   "cell_type": "markdown",
   "metadata": {},
   "source": [
    "Функция работает корректно, теперь узнаем количество клиентов каждой возрастной группы. Для этого напишем функцию bar_chart, которая будет считать количество клиентов по нужному нам параметру и строить столбчатую диаграмму по этим данным."
   ]
  },
  {
   "cell_type": "code",
   "execution_count": 529,
   "metadata": {},
   "outputs": [],
   "source": [
    "def bar_chart(dt, group1, group2, title, x_title, y_title):\n",
    "    table = dt.groupby(group1)[group2].count().reset_index()\n",
    "    table.columns = [group1, 'count']\n",
    "    table = table.sort_values(['count'])\n",
    "    \n",
    "    plt.figure(figsize=(15, 5))\n",
    "\n",
    "    sns.barplot(x=group1, y='count', data=table)\n",
    "\n",
    "    plt.title(title)\n",
    "    plt.xlabel(x_title)\n",
    "    plt.ylabel(y_title)\n",
    "\n",
    "    plt.show()"
   ]
  },
  {
   "cell_type": "code",
   "execution_count": 530,
   "metadata": {},
   "outputs": [
    {
     "data": {
      "image/png": "[encoded data removed]",
      "text/plain": [
       "<Figure size 1080x360 with 1 Axes>"
      ]
     },
     "metadata": {
      "needs_background": "light"
     },
     "output_type": "display_data"
    }
   ],
   "source": [
    "# применяем функцию bar_chart, чтобы найти количесвто клиентов в каждой возрастной категории\n",
    "bar_chart(df, 'age_group', 'user_id',\n",
    "         'Возрастной состав клиентов банка «Метанпром»', 'Возрастная категория', 'Количество клиентов')"
   ]
  },
  {
   "cell_type": "markdown",
   "metadata": {},
   "source": [
    "Наиболее многочисленная группа клиентов - это клиенты старше 45 лет, меньше всего клиентов возрасте 18-25 лет. \n",
    "<br> Посмотрим, как делятся клиенты разных возрастов по полу. Для этого напишем еще одну функцию combined_bar_chart, она похожа на bar_chart, но теперь функция группирует данные не по одному, а по двум параметрам."
   ]
  },
  {
   "cell_type": "code",
   "execution_count": 532,
   "metadata": {},
   "outputs": [],
   "source": [
    "def combined_bar_chart(dt, cbc_group1, cbc_group2, cbc_group3, cbc_title, cbc_xtitle, cbc_ytitle):\n",
    "    cbc_table = dt.groupby([cbc_group1, cbc_group2]).agg({cbc_group3 : 'count'})\n",
    "    cbc_table = cbc_table.sort_values(cbc_group1).reset_index()\n",
    "    cbc_table = cbc_table.rename(columns={cbc_group3:'count'})\n",
    "    \n",
    "    plt.figure(figsize=(15, 5))\n",
    "    ax = sns.barplot(x='count',\n",
    "            y=cbc_group1,\n",
    "            hue=cbc_group2,\n",
    "            data=cbc_table,\n",
    ")\n",
    "\n",
    "    ax.set_title(cbc_title)\n",
    "    ax.set(xlabel=cbc_xtitle, ylabel=cbc_ytitle);"
   ]
  },
  {
   "cell_type": "code",
   "execution_count": 533,
   "metadata": {},
   "outputs": [
    {
     "data": {
      "image/png": "[encoded data removed]",
      "text/plain": [
       "<Figure size 1080x360 with 1 Axes>"
      ]
     },
     "metadata": {
      "needs_background": "light"
     },
     "output_type": "display_data"
    }
   ],
   "source": [
    "# найдем, как делятся клиенты по полу и возрасту и построим графикс помощью функции combined_bar_chart\n",
    "combined_bar_chart(df, 'age_group', 'gender', 'user_id',\n",
    "                  'Распределние клиентов банка по полу и возрасту',\n",
    "                  'Количество клиентов', 'Возрастная категория')"
   ]
  },
  {
   "cell_type": "markdown",
   "metadata": {},
   "source": [
    "Наиболее многочисленной категорией клиентов банка являются женщины в возрасте старше 45 лет. Среди клиентов старше 45 лет преобладает количество женщин, это единственная возрастная категория с подобным половым разделением, в остальных категориях преобладают мужчины. Реже всего среди клиентов встречаются женщины в возрасте 18-25 лет.\n",
    "\n",
    "Рассмотрим, как распределяются доходы клиентов банка. Для этого, на основании столбца с заработной платой, выделим категории дохода и добавим их в отдельный столбец `income_level`, значения в новом столбце указаны в тысячах рублей."
   ]
  },
  {
   "cell_type": "code",
   "execution_count": 534,
   "metadata": {},
   "outputs": [],
   "source": [
    "# создадим функцию для присвоения категории дохода\n",
    "def income_level(salary):\n",
    "    if salary < 50000:\n",
    "        return '>50'\n",
    "    if salary > 50000 and salary <= 100000:\n",
    "        return '50-100'\n",
    "    if salary > 100000 and salary <= 150000:\n",
    "        return '100-150'\n",
    "    if salary > 150000 and salary <= 200000:\n",
    "        return '150-200'\n",
    "    if salary > 20000 and salary <= 300000:\n",
    "        return '200-300'\n",
    "    return '300+' "
   ]
  },
  {
   "cell_type": "code",
   "execution_count": 535,
   "metadata": {},
   "outputs": [
    {
     "data": {
      "text/html": [
       "<div>\n",
       "<style scoped>\n",
       "    .dataframe tbody tr th:only-of-type {\n",
       "        vertical-align: middle;\n",
       "    }\n",
       "\n",
       "    .dataframe tbody tr th {\n",
       "        vertical-align: top;\n",
       "    }\n",
       "\n",
       "    .dataframe thead th {\n",
       "        text-align: right;\n",
       "    }\n",
       "</style>\n",
       "<table border=\"1\" class=\"dataframe\">\n",
       "  <thead>\n",
       "    <tr style=\"text-align: right;\">\n",
       "      <th></th>\n",
       "      <th>user_id</th>\n",
       "      <th>score</th>\n",
       "      <th>city</th>\n",
       "      <th>gender</th>\n",
       "      <th>age</th>\n",
       "      <th>equity</th>\n",
       "      <th>balance</th>\n",
       "      <th>products</th>\n",
       "      <th>credit_card</th>\n",
       "      <th>last_activity</th>\n",
       "      <th>salary</th>\n",
       "      <th>churn</th>\n",
       "      <th>age_group</th>\n",
       "      <th>income_level</th>\n",
       "    </tr>\n",
       "  </thead>\n",
       "  <tbody>\n",
       "    <tr>\n",
       "      <th>0</th>\n",
       "      <td>183012</td>\n",
       "      <td>850.0</td>\n",
       "      <td>Рыбинск</td>\n",
       "      <td>Ж</td>\n",
       "      <td>25.0</td>\n",
       "      <td>1</td>\n",
       "      <td>59214.82</td>\n",
       "      <td>2</td>\n",
       "      <td>0</td>\n",
       "      <td>1</td>\n",
       "      <td>75719.14</td>\n",
       "      <td>1</td>\n",
       "      <td>18-25</td>\n",
       "      <td>50-100</td>\n",
       "    </tr>\n",
       "    <tr>\n",
       "      <th>1</th>\n",
       "      <td>146556</td>\n",
       "      <td>861.0</td>\n",
       "      <td>Рыбинск</td>\n",
       "      <td>Ж</td>\n",
       "      <td>37.0</td>\n",
       "      <td>5</td>\n",
       "      <td>850594.33</td>\n",
       "      <td>3</td>\n",
       "      <td>1</td>\n",
       "      <td>0</td>\n",
       "      <td>86621.77</td>\n",
       "      <td>0</td>\n",
       "      <td>36-40</td>\n",
       "      <td>50-100</td>\n",
       "    </tr>\n",
       "    <tr>\n",
       "      <th>2</th>\n",
       "      <td>120722</td>\n",
       "      <td>892.0</td>\n",
       "      <td>Рыбинск</td>\n",
       "      <td>Ж</td>\n",
       "      <td>30.0</td>\n",
       "      <td>0</td>\n",
       "      <td>NaN</td>\n",
       "      <td>1</td>\n",
       "      <td>1</td>\n",
       "      <td>1</td>\n",
       "      <td>107683.34</td>\n",
       "      <td>0</td>\n",
       "      <td>26-30</td>\n",
       "      <td>100-150</td>\n",
       "    </tr>\n",
       "    <tr>\n",
       "      <th>3</th>\n",
       "      <td>225363</td>\n",
       "      <td>866.0</td>\n",
       "      <td>Ярославль</td>\n",
       "      <td>Ж</td>\n",
       "      <td>51.0</td>\n",
       "      <td>5</td>\n",
       "      <td>1524746.26</td>\n",
       "      <td>2</td>\n",
       "      <td>0</td>\n",
       "      <td>1</td>\n",
       "      <td>174423.53</td>\n",
       "      <td>1</td>\n",
       "      <td>45+</td>\n",
       "      <td>150-200</td>\n",
       "    </tr>\n",
       "    <tr>\n",
       "      <th>4</th>\n",
       "      <td>157978</td>\n",
       "      <td>730.0</td>\n",
       "      <td>Ярославль</td>\n",
       "      <td>М</td>\n",
       "      <td>34.0</td>\n",
       "      <td>5</td>\n",
       "      <td>174.00</td>\n",
       "      <td>1</td>\n",
       "      <td>1</td>\n",
       "      <td>0</td>\n",
       "      <td>67353.16</td>\n",
       "      <td>1</td>\n",
       "      <td>31-35</td>\n",
       "      <td>50-100</td>\n",
       "    </tr>\n",
       "    <tr>\n",
       "      <th>5</th>\n",
       "      <td>202305</td>\n",
       "      <td>856.0</td>\n",
       "      <td>Рыбинск</td>\n",
       "      <td>М</td>\n",
       "      <td>56.0</td>\n",
       "      <td>4</td>\n",
       "      <td>863687.24</td>\n",
       "      <td>3</td>\n",
       "      <td>1</td>\n",
       "      <td>0</td>\n",
       "      <td>156619.80</td>\n",
       "      <td>0</td>\n",
       "      <td>45+</td>\n",
       "      <td>150-200</td>\n",
       "    </tr>\n",
       "    <tr>\n",
       "      <th>6</th>\n",
       "      <td>177259</td>\n",
       "      <td>807.0</td>\n",
       "      <td>Ярославль</td>\n",
       "      <td>Ж</td>\n",
       "      <td>39.0</td>\n",
       "      <td>3</td>\n",
       "      <td>405042.44</td>\n",
       "      <td>3</td>\n",
       "      <td>0</td>\n",
       "      <td>1</td>\n",
       "      <td>103838.32</td>\n",
       "      <td>0</td>\n",
       "      <td>36-40</td>\n",
       "      <td>100-150</td>\n",
       "    </tr>\n",
       "    <tr>\n",
       "      <th>7</th>\n",
       "      <td>218868</td>\n",
       "      <td>825.0</td>\n",
       "      <td>Ярославль</td>\n",
       "      <td>Ж</td>\n",
       "      <td>38.0</td>\n",
       "      <td>4</td>\n",
       "      <td>458145.40</td>\n",
       "      <td>2</td>\n",
       "      <td>1</td>\n",
       "      <td>1</td>\n",
       "      <td>68085.48</td>\n",
       "      <td>0</td>\n",
       "      <td>36-40</td>\n",
       "      <td>50-100</td>\n",
       "    </tr>\n",
       "    <tr>\n",
       "      <th>8</th>\n",
       "      <td>211686</td>\n",
       "      <td>923.0</td>\n",
       "      <td>Ярославль</td>\n",
       "      <td>М</td>\n",
       "      <td>54.0</td>\n",
       "      <td>5</td>\n",
       "      <td>1206337.87</td>\n",
       "      <td>2</td>\n",
       "      <td>1</td>\n",
       "      <td>0</td>\n",
       "      <td>155371.79</td>\n",
       "      <td>0</td>\n",
       "      <td>45+</td>\n",
       "      <td>150-200</td>\n",
       "    </tr>\n",
       "    <tr>\n",
       "      <th>9</th>\n",
       "      <td>133130</td>\n",
       "      <td>906.0</td>\n",
       "      <td>Ярославль</td>\n",
       "      <td>Ж</td>\n",
       "      <td>67.0</td>\n",
       "      <td>0</td>\n",
       "      <td>NaN</td>\n",
       "      <td>1</td>\n",
       "      <td>0</td>\n",
       "      <td>1</td>\n",
       "      <td>238055.53</td>\n",
       "      <td>0</td>\n",
       "      <td>45+</td>\n",
       "      <td>200-300</td>\n",
       "    </tr>\n",
       "  </tbody>\n",
       "</table>\n",
       "</div>"
      ],
      "text/plain": [
       "   user_id  score       city gender  ...     salary  churn  age_group  income_level\n",
       "0   183012  850.0    Рыбинск      Ж  ...   75719.14      1      18-25        50-100\n",
       "1   146556  861.0    Рыбинск      Ж  ...   86621.77      0      36-40        50-100\n",
       "2   120722  892.0    Рыбинск      Ж  ...  107683.34      0      26-30       100-150\n",
       "3   225363  866.0  Ярославль      Ж  ...  174423.53      1        45+       150-200\n",
       "4   157978  730.0  Ярославль      М  ...   67353.16      1      31-35        50-100\n",
       "5   202305  856.0    Рыбинск      М  ...  156619.80      0        45+       150-200\n",
       "6   177259  807.0  Ярославль      Ж  ...  103838.32      0      36-40       100-150\n",
       "7   218868  825.0  Ярославль      Ж  ...   68085.48      0      36-40        50-100\n",
       "8   211686  923.0  Ярославль      М  ...  155371.79      0        45+       150-200\n",
       "9   133130  906.0  Ярославль      Ж  ...  238055.53      0        45+       200-300\n",
       "\n",
       "[10 rows x 14 columns]"
      ]
     },
     "execution_count": 535,
     "metadata": {},
     "output_type": "execute_result"
    }
   ],
   "source": [
    "# добавим в таблицу столбец с категориями дохода\n",
    "df['income_level'] = df['salary'].apply(income_level)\n",
    "df.head(10)"
   ]
  },
  {
   "cell_type": "markdown",
   "metadata": {},
   "source": [
    "Функция работает. Изучим сколько клентов в кажой категории, для этого воспользуемся функцией bar_chart."
   ]
  },
  {
   "cell_type": "code",
   "execution_count": 536,
   "metadata": {},
   "outputs": [
    {
     "data": {
      "image/png": "[encoded data removed]",
      "text/plain": [
       "<Figure size 1080x360 with 1 Axes>"
      ]
     },
     "metadata": {
      "needs_background": "light"
     },
     "output_type": "display_data"
    }
   ],
   "source": [
    "# применяем функцию bar_chart, чтобы найти количесвто клиентов по категориям дохода\n",
    "bar_chart(df, 'income_level', 'user_id',\n",
    "         'Доходы клиентов банка «Метанпром»', 'Категория дохода (тыс.руб.)', 'Количество клиентов')"
   ]
  },
  {
   "cell_type": "markdown",
   "metadata": {},
   "source": [
    "Наиболее многочисленные категории клиентов с доходом 50-100 и 100-150 тыс.руб. Меньше всего клиентов банка с доходом более 300 тыс.руб. \n",
    "<br>Посмотрим как распределяются уровни дохода по возрасту и полу."
   ]
  },
  {
   "cell_type": "code",
   "execution_count": 537,
   "metadata": {},
   "outputs": [
    {
     "data": {
      "image/png": "[encoded data removed]",
      "text/plain": [
       "<Figure size 1080x360 with 1 Axes>"
      ]
     },
     "metadata": {
      "needs_background": "light"
     },
     "output_type": "display_data"
    }
   ],
   "source": [
    "# используем функцию combined_bar_chart чтобы узнакть как распределяется доход клиентов в зависимости от пола\n",
    "combined_bar_chart(df, 'income_level', 'gender', 'user_id',\n",
    "                  'Распределние клиентов банка по полу и доходу',\n",
    "                  'Количество клиентов', 'Уровень дохода')"
   ]
  },
  {
   "cell_type": "markdown",
   "metadata": {},
   "source": [
    "На графике видим, что среди клиентов с доходом до 100 тыс.руб. преобладают женщины, в категории дохода 100-150 тыс.руб. примерно одинаковое количество клиентов обоих полов, а вот в категориях клиентов с доходом более 150 тыс.руб. преобладают мужчины. В целом, доход мужчин выше, чем доход женщин. \n",
    "<br>Изучим, как распределяются доход клиентов в зависимости от возраста."
   ]
  },
  {
   "cell_type": "code",
   "execution_count": 538,
   "metadata": {},
   "outputs": [
    {
     "data": {
      "image/png": "[encoded data removed]",
      "text/plain": [
       "<Figure size 1080x360 with 1 Axes>"
      ]
     },
     "metadata": {
      "needs_background": "light"
     },
     "output_type": "display_data"
    }
   ],
   "source": [
    "# используем функцию combined_bar_chart чтобы узнакть как распределяется доход клиентов в зависимости от возраста\n",
    "combined_bar_chart(df, 'income_level', 'age_group', 'user_id',\n",
    "                  'Распределние клиентов банка по возрасту и доходу',\n",
    "                  'Количество клиентов', 'Уровень дохода')"
   ]
  },
  {
   "cell_type": "markdown",
   "metadata": {},
   "source": [
    "По графику можно сделать следующие выводы:\n",
    "- среди клиентов в возрасте 18-25 лет уровень дохода, как правило, не превышет 150 тыс.руб.;\n",
    "- доход клиентов в возрасте 26-30 лет,  как правило, не превышает 200 тыс.руб., однако есть клиенты с доходом более 200-300 тыс.руб.;\n",
    "- основная масса клиентов в возрасте 31-35 лет имеет доход в пределах 50-200 тыс.руб., при этом часть клиентов имеет меньший или больший доход;\n",
    "- среди людей 36-40 лет большое количество клиентов с доходом 100-200 тыс.руб., также в категории дохода 200-300 тыс.руб. клиенты данного возраста наиболее многочисленны, по сравнению с клиентами других возрастов;\n",
    "- доход клиентов в возрасте 41-45 лет находится в пределах 100-300 тыс.руб., при этом среди клиентов с доходом менее 100тыс.руб. данная возрастная категория встречается реже остальных;\n",
    "- клиенты в возрасте старше 45 лет пробладают в категориях с доходом 50-150 тыс.руб., в то же время, среди людей с доходом менее 50 тыс.руб. и более 300тыс.руб. также много людей старше 45 лет.\n",
    "\n",
    "\n",
    "**По итогам исследовательского анализа данных:**\n",
    "- 59.1% из 9927 клиентов банка находятся в Ярославле, в Рыбинске находится 26.6% клиентов, наименьшее число клиентов в Ростове - 14.3%;\n",
    "- в банке примерно одинаковое количесвто мужчин и женщин;\n",
    "- наиболее многочисленная группа клиентов - это клиенты старше 45 лет, меньше всего клиентов возрасте 18-25 лет;\n",
    "- среди клиентов старше 45 лет преобладает количество женщин, это единственная возрастная категория с подобным половым разделением, в остальных категориях преобладают мужчины, реже всего среди клиентов встречаются женщины в возрасте 18-25 лет;\n",
    "- наиболее многочисленные категории клиентов с доходом 50-100 и 100-150 тыс.руб., меньше всего клиентов банка с доходом более 300 тыс.руб.;\n",
    "- в целом, доход мужчин выше, чем доход женщин;\n",
    "- как правило, доход клиентов в возрасте до 25 лет не превышает 150 тыс.руб., вместе с этим прослеживается тенденция к увелечению дохода с увелечением возраста, но эта тенденция не универсальна: так, значительная часть клиентов старше 45 лет имеет доход менее 50 тыс.руб.;\n",
    "\n",
    "Исследовательский анализ данных завершен, приступим к сегментации отточных клиентов."
   ]
  },
  {
   "cell_type": "markdown",
   "metadata": {},
   "source": [
    "### Сегментация клиентов банка и определение портретов клиентов, которые склонны уходить из банка"
   ]
  },
  {
   "cell_type": "markdown",
   "metadata": {},
   "source": [
    "Изучим клиентов, ушедших из банка: посчитаем их количество, проследим влияние различных параметров на уход из банка. <br>Столбец `churn` содержит информацию о том ушел клиент или нет:\n",
    "- 1 - ушел,\n",
    "- 0 - остался."
   ]
  },
  {
   "cell_type": "code",
   "execution_count": 539,
   "metadata": {},
   "outputs": [
    {
     "name": "stdout",
     "output_type": "stream",
     "text": [
      "Количество клиентов, ушедших из банка = 1820\n"
     ]
    }
   ],
   "source": [
    "churn = len(df[df['churn'] == 1])\n",
    "print('Количество клиентов, ушедших из банка =', churn)"
   ]
  },
  {
   "cell_type": "markdown",
   "metadata": {},
   "source": [
    "Из банка ушло 18.3% клиентов. Изучим половой и возрастной состав отточных клиентов, узнаем в каком городе самое большое количество отточных клиентов. Также проследим влияет ли наличие нескольких продуктов банка или доход клиента на его уход. "
   ]
  },
  {
   "cell_type": "code",
   "execution_count": 540,
   "metadata": {},
   "outputs": [
    {
     "data": {
      "text/html": [
       "<div>\n",
       "<style scoped>\n",
       "    .dataframe tbody tr th:only-of-type {\n",
       "        vertical-align: middle;\n",
       "    }\n",
       "\n",
       "    .dataframe tbody tr th {\n",
       "        vertical-align: top;\n",
       "    }\n",
       "\n",
       "    .dataframe thead th {\n",
       "        text-align: right;\n",
       "    }\n",
       "</style>\n",
       "<table border=\"1\" class=\"dataframe\">\n",
       "  <thead>\n",
       "    <tr style=\"text-align: right;\">\n",
       "      <th></th>\n",
       "      <th>user_id</th>\n",
       "      <th>score</th>\n",
       "      <th>city</th>\n",
       "      <th>gender</th>\n",
       "      <th>age</th>\n",
       "      <th>equity</th>\n",
       "      <th>balance</th>\n",
       "      <th>products</th>\n",
       "      <th>credit_card</th>\n",
       "      <th>last_activity</th>\n",
       "      <th>salary</th>\n",
       "      <th>churn</th>\n",
       "      <th>age_group</th>\n",
       "      <th>income_level</th>\n",
       "    </tr>\n",
       "  </thead>\n",
       "  <tbody>\n",
       "    <tr>\n",
       "      <th>0</th>\n",
       "      <td>183012</td>\n",
       "      <td>850.0</td>\n",
       "      <td>Рыбинск</td>\n",
       "      <td>Ж</td>\n",
       "      <td>25.0</td>\n",
       "      <td>1</td>\n",
       "      <td>59214.82</td>\n",
       "      <td>2</td>\n",
       "      <td>0</td>\n",
       "      <td>1</td>\n",
       "      <td>75719.14</td>\n",
       "      <td>1</td>\n",
       "      <td>18-25</td>\n",
       "      <td>50-100</td>\n",
       "    </tr>\n",
       "    <tr>\n",
       "      <th>1</th>\n",
       "      <td>225363</td>\n",
       "      <td>866.0</td>\n",
       "      <td>Ярославль</td>\n",
       "      <td>Ж</td>\n",
       "      <td>51.0</td>\n",
       "      <td>5</td>\n",
       "      <td>1524746.26</td>\n",
       "      <td>2</td>\n",
       "      <td>0</td>\n",
       "      <td>1</td>\n",
       "      <td>174423.53</td>\n",
       "      <td>1</td>\n",
       "      <td>45+</td>\n",
       "      <td>150-200</td>\n",
       "    </tr>\n",
       "    <tr>\n",
       "      <th>2</th>\n",
       "      <td>157978</td>\n",
       "      <td>730.0</td>\n",
       "      <td>Ярославль</td>\n",
       "      <td>М</td>\n",
       "      <td>34.0</td>\n",
       "      <td>5</td>\n",
       "      <td>174.00</td>\n",
       "      <td>1</td>\n",
       "      <td>1</td>\n",
       "      <td>0</td>\n",
       "      <td>67353.16</td>\n",
       "      <td>1</td>\n",
       "      <td>31-35</td>\n",
       "      <td>50-100</td>\n",
       "    </tr>\n",
       "    <tr>\n",
       "      <th>3</th>\n",
       "      <td>132970</td>\n",
       "      <td>845.0</td>\n",
       "      <td>Ярославль</td>\n",
       "      <td>Ж</td>\n",
       "      <td>31.0</td>\n",
       "      <td>3</td>\n",
       "      <td>591928.52</td>\n",
       "      <td>2</td>\n",
       "      <td>1</td>\n",
       "      <td>1</td>\n",
       "      <td>112697.16</td>\n",
       "      <td>1</td>\n",
       "      <td>31-35</td>\n",
       "      <td>100-150</td>\n",
       "    </tr>\n",
       "    <tr>\n",
       "      <th>4</th>\n",
       "      <td>129705</td>\n",
       "      <td>811.0</td>\n",
       "      <td>Рыбинск</td>\n",
       "      <td>М</td>\n",
       "      <td>34.0</td>\n",
       "      <td>2</td>\n",
       "      <td>129799.35</td>\n",
       "      <td>1</td>\n",
       "      <td>0</td>\n",
       "      <td>0</td>\n",
       "      <td>96242.71</td>\n",
       "      <td>1</td>\n",
       "      <td>31-35</td>\n",
       "      <td>50-100</td>\n",
       "    </tr>\n",
       "    <tr>\n",
       "      <th>5</th>\n",
       "      <td>210764</td>\n",
       "      <td>748.0</td>\n",
       "      <td>Рыбинск</td>\n",
       "      <td>М</td>\n",
       "      <td>46.0</td>\n",
       "      <td>2</td>\n",
       "      <td>182889.96</td>\n",
       "      <td>1</td>\n",
       "      <td>1</td>\n",
       "      <td>1</td>\n",
       "      <td>74009.18</td>\n",
       "      <td>1</td>\n",
       "      <td>45+</td>\n",
       "      <td>50-100</td>\n",
       "    </tr>\n",
       "    <tr>\n",
       "      <th>6</th>\n",
       "      <td>164676</td>\n",
       "      <td>860.0</td>\n",
       "      <td>Ярославль</td>\n",
       "      <td>М</td>\n",
       "      <td>37.0</td>\n",
       "      <td>5</td>\n",
       "      <td>648594.03</td>\n",
       "      <td>2</td>\n",
       "      <td>1</td>\n",
       "      <td>1</td>\n",
       "      <td>213586.86</td>\n",
       "      <td>1</td>\n",
       "      <td>36-40</td>\n",
       "      <td>200-300</td>\n",
       "    </tr>\n",
       "    <tr>\n",
       "      <th>7</th>\n",
       "      <td>136096</td>\n",
       "      <td>896.0</td>\n",
       "      <td>Ярославль</td>\n",
       "      <td>Ж</td>\n",
       "      <td>39.0</td>\n",
       "      <td>5</td>\n",
       "      <td>657597.09</td>\n",
       "      <td>2</td>\n",
       "      <td>0</td>\n",
       "      <td>1</td>\n",
       "      <td>266033.98</td>\n",
       "      <td>1</td>\n",
       "      <td>36-40</td>\n",
       "      <td>200-300</td>\n",
       "    </tr>\n",
       "    <tr>\n",
       "      <th>8</th>\n",
       "      <td>156677</td>\n",
       "      <td>873.0</td>\n",
       "      <td>Ярославль</td>\n",
       "      <td>М</td>\n",
       "      <td>39.0</td>\n",
       "      <td>5</td>\n",
       "      <td>915959.85</td>\n",
       "      <td>3</td>\n",
       "      <td>0</td>\n",
       "      <td>1</td>\n",
       "      <td>154034.62</td>\n",
       "      <td>1</td>\n",
       "      <td>36-40</td>\n",
       "      <td>150-200</td>\n",
       "    </tr>\n",
       "    <tr>\n",
       "      <th>9</th>\n",
       "      <td>155403</td>\n",
       "      <td>859.0</td>\n",
       "      <td>Рыбинск</td>\n",
       "      <td>М</td>\n",
       "      <td>56.0</td>\n",
       "      <td>5</td>\n",
       "      <td>652553.80</td>\n",
       "      <td>2</td>\n",
       "      <td>1</td>\n",
       "      <td>1</td>\n",
       "      <td>60791.77</td>\n",
       "      <td>1</td>\n",
       "      <td>45+</td>\n",
       "      <td>50-100</td>\n",
       "    </tr>\n",
       "  </tbody>\n",
       "</table>\n",
       "</div>"
      ],
      "text/plain": [
       "   user_id  score       city gender  ...     salary  churn  age_group  income_level\n",
       "0   183012  850.0    Рыбинск      Ж  ...   75719.14      1      18-25        50-100\n",
       "1   225363  866.0  Ярославль      Ж  ...  174423.53      1        45+       150-200\n",
       "2   157978  730.0  Ярославль      М  ...   67353.16      1      31-35        50-100\n",
       "3   132970  845.0  Ярославль      Ж  ...  112697.16      1      31-35       100-150\n",
       "4   129705  811.0    Рыбинск      М  ...   96242.71      1      31-35        50-100\n",
       "5   210764  748.0    Рыбинск      М  ...   74009.18      1        45+        50-100\n",
       "6   164676  860.0  Ярославль      М  ...  213586.86      1      36-40       200-300\n",
       "7   136096  896.0  Ярославль      Ж  ...  266033.98      1      36-40       200-300\n",
       "8   156677  873.0  Ярославль      М  ...  154034.62      1      36-40       150-200\n",
       "9   155403  859.0    Рыбинск      М  ...   60791.77      1        45+        50-100\n",
       "\n",
       "[10 rows x 14 columns]"
      ]
     },
     "execution_count": 540,
     "metadata": {},
     "output_type": "execute_result"
    }
   ],
   "source": [
    "# перенесем информацию об ушедших клиентах в отдельный датасет\n",
    "df_churn = df[df['churn'] == 1]\n",
    "df_churn = df_churn.reset_index(drop=True)\n",
    "df_churn.head(10)"
   ]
  },
  {
   "cell_type": "code",
   "execution_count": 541,
   "metadata": {},
   "outputs": [
    {
     "data": {
      "image/png": "[encoded data removed]",
      "text/plain": [
       "<Figure size 1080x360 with 1 Axes>"
      ]
     },
     "metadata": {
      "needs_background": "light"
     },
     "output_type": "display_data"
    }
   ],
   "source": [
    "# найдем, как делятся отточные клиенты по полу и возрасту, используем функцию combined_bar_chart\n",
    "combined_bar_chart(df_churn, 'age_group', 'gender', 'user_id',\n",
    "                  'Распределние отточных клиентов банка по полу и возрасту',\n",
    "                  'Количество отточных клиентов', 'Возрастная категория')"
   ]
  },
  {
   "cell_type": "markdown",
   "metadata": {},
   "source": [
    "Наиболее склонны к уходу из банка клиенты в возрасте старше 45 лет. Среди всех возрастных групп отточных клиентов преобладают мужчины.\n",
    "<br>Посмотрим, как распределяются отточные клиенты по полу и доходу."
   ]
  },
  {
   "cell_type": "code",
   "execution_count": 542,
   "metadata": {},
   "outputs": [
    {
     "data": {
      "image/png": "[encoded data removed]",
      "text/plain": [
       "<Figure size 1080x360 with 1 Axes>"
      ]
     },
     "metadata": {
      "needs_background": "light"
     },
     "output_type": "display_data"
    }
   ],
   "source": [
    "# найдем, как делятся отточные клиенты по полу и возрасту, используем функцию combined_bar_chart\n",
    "combined_bar_chart(df_churn, 'income_level', 'gender', 'user_id',\n",
    "                  'Распределние отточных клиентов банка по полу и доходу',\n",
    "                  'Количество отточных клиентов', 'Уровень дохода')"
   ]
  },
  {
   "cell_type": "markdown",
   "metadata": {},
   "source": [
    "Наибольшая склонность к уходу из банка прослеживается у клиентов с доходом 100-150 тыс.руб. Наименее склонны уходить из банка клиенты с доходом более 300 тыс.руб.\n",
    "<br>Посомтрим, в каком городе наибольшее количесвто отточных клиентов."
   ]
  },
  {
   "cell_type": "code",
   "execution_count": 543,
   "metadata": {},
   "outputs": [
    {
     "data": {
      "text/html": [
       "<div>\n",
       "<style scoped>\n",
       "    .dataframe tbody tr th:only-of-type {\n",
       "        vertical-align: middle;\n",
       "    }\n",
       "\n",
       "    .dataframe tbody tr th {\n",
       "        vertical-align: top;\n",
       "    }\n",
       "\n",
       "    .dataframe thead th {\n",
       "        text-align: right;\n",
       "    }\n",
       "</style>\n",
       "<table border=\"1\" class=\"dataframe\">\n",
       "  <thead>\n",
       "    <tr style=\"text-align: right;\">\n",
       "      <th></th>\n",
       "      <th>city</th>\n",
       "      <th>count</th>\n",
       "    </tr>\n",
       "  </thead>\n",
       "  <tbody>\n",
       "    <tr>\n",
       "      <th>0</th>\n",
       "      <td>Ярославль</td>\n",
       "      <td>1117</td>\n",
       "    </tr>\n",
       "    <tr>\n",
       "      <th>1</th>\n",
       "      <td>Рыбинск</td>\n",
       "      <td>437</td>\n",
       "    </tr>\n",
       "    <tr>\n",
       "      <th>2</th>\n",
       "      <td>Ростов</td>\n",
       "      <td>266</td>\n",
       "    </tr>\n",
       "  </tbody>\n",
       "</table>\n",
       "</div>"
      ],
      "text/plain": [
       "        city  count\n",
       "0  Ярославль   1117\n",
       "1    Рыбинск    437\n",
       "2     Ростов    266"
      ]
     },
     "execution_count": 543,
     "metadata": {},
     "output_type": "execute_result"
    }
   ],
   "source": [
    "# посчитаем количество отточных клиентов по городам и посторим круговую диаграмму\n",
    "city_churn = df_churn['city'].value_counts().reset_index()\n",
    "city_churn.columns = ['city', 'count']\n",
    "city_churn"
   ]
  },
  {
   "cell_type": "code",
   "execution_count": 544,
   "metadata": {},
   "outputs": [
    {
     "data": {
      "image/png": "[encoded data removed]",
      "text/plain": [
       "<Figure size 432x288 with 1 Axes>"
      ]
     },
     "metadata": {},
     "output_type": "display_data"
    }
   ],
   "source": [
    "# построим круговую диаграмму\n",
    "labels = ['Ярославль', 'Рыбинск', 'Ростов Великий']\n",
    "city_churn_pie = [1117, 437, 266]   \n",
    "\n",
    "fig, ax = plt.subplots() \n",
    "ax.pie(city_churn_pie, labels = labels) \n",
    "ax.set_title('Количество отточных клиентов по городам') \n",
    "plt.show();"
   ]
  },
  {
   "cell_type": "markdown",
   "metadata": {},
   "source": [
    "Почти 60% клиентов, которые ушли из банка, находятся в Ярославле.\n",
    "<br>Посмотрим, сколькими продуктами банка пользовались ушедшие клиенты."
   ]
  },
  {
   "cell_type": "code",
   "execution_count": 545,
   "metadata": {},
   "outputs": [
    {
     "data": {
      "image/png": "[encoded data removed]",
      "text/plain": [
       "<Figure size 1080x360 with 1 Axes>"
      ]
     },
     "metadata": {
      "needs_background": "light"
     },
     "output_type": "display_data"
    }
   ],
   "source": [
    "# используем функцию bar_chart\n",
    "bar_chart(df_churn, 'products', 'user_id',\n",
    "         'Количество продуктов банка, которыми пользовались ушедшие клиенты', 'Количество продуктов', 'Количество клиентов')"
   ]
  },
  {
   "cell_type": "markdown",
   "metadata": {},
   "source": [
    "Больше половины отточных клиентов пользовались двумя продуктами банка.\n",
    "<br> Проследим активность ушедших клиентов на основании столбца `last_activity`, где:\n",
    "- 1 - был активен,\n",
    "- 0 - не был ативен."
   ]
  },
  {
   "cell_type": "code",
   "execution_count": 546,
   "metadata": {
    "scrolled": true
   },
   "outputs": [
    {
     "data": {
      "image/png": "[encoded data removed]",
      "text/plain": [
       "<Figure size 1080x360 with 1 Axes>"
      ]
     },
     "metadata": {
      "needs_background": "light"
     },
     "output_type": "display_data"
    }
   ],
   "source": [
    "# используем функцию bar_chart\n",
    "bar_chart(df_churn, 'last_activity', 'user_id',\n",
    "         'Последняя активность отточных клиентов', 'Активность клиента', 'Количество клиентов')"
   ]
  },
  {
   "cell_type": "markdown",
   "metadata": {},
   "source": [
    "Клиенты, покинувшие банк, в 70% случаев были ативны в последнее время.\n",
    "<br>Посмотрим, у скольких клиентов была кредитная карта, на основании столбца `credit_card`, где:\n",
    "- 1 - есть кредитная карта,\n",
    "- 0 - нет карты."
   ]
  },
  {
   "cell_type": "code",
   "execution_count": 547,
   "metadata": {},
   "outputs": [
    {
     "data": {
      "image/png": "[encoded data removed]",
      "text/plain": [
       "<Figure size 1080x360 with 1 Axes>"
      ]
     },
     "metadata": {
      "needs_background": "light"
     },
     "output_type": "display_data"
    }
   ],
   "source": [
    "# используем функцию bar_chart\n",
    "bar_chart(df_churn, 'credit_card', 'user_id',\n",
    "         'Наличие кредитной карты у отточных клиентов', 'Наличие кредтной карты', 'Количество клиентов')"
   ]
  },
  {
   "cell_type": "markdown",
   "metadata": {},
   "source": [
    "У 55% клиентов ушедших из банка была кредитная карта.\n",
    "<br>Построим матрицу корреляций, чтобы проверить как взаимосвязанны различные факторы и уход улиента из банка. Матрицу будем сторить на основании исходного датасета, но не будем учитывать записи с пропусками в столбце `balance`."
   ]
  },
  {
   "cell_type": "code",
   "execution_count": 548,
   "metadata": {
    "scrolled": true
   },
   "outputs": [
    {
     "name": "stdout",
     "output_type": "stream",
     "text": [
      "interval columns not set, guessing: ['user_id', 'score', 'age', 'equity', 'balance', 'products', 'credit_card', 'last_activity', 'salary', 'churn']\n"
     ]
    },
    {
     "data": {
      "image/png": "[encoded data removed]",
      "text/plain": [
       "<Figure size 720x576 with 2 Axes>"
      ]
     },
     "metadata": {
      "needs_background": "light"
     },
     "output_type": "display_data"
    }
   ],
   "source": [
    "phik_overview = df.query('balance > 0').phik_matrix()\n",
    "phik_overview.round(2)\n",
    "plot_correlation_matrix(phik_overview.values, \n",
    "                        x_labels=phik_overview.columns, \n",
    "                        y_labels=phik_overview.index, \n",
    "                        vmin=0, vmax=1, color_map=\"Greens\", \n",
    "                        title=r\"Матрица корреляций\", \n",
    "                        fontsize_factor=1.5, \n",
    "                        figsize=(10, 8))\n",
    "plt.tight_layout();"
   ]
  },
  {
   "cell_type": "code",
   "execution_count": 549,
   "metadata": {
    "scrolled": true
   },
   "outputs": [
    {
     "data": {
      "image/png": "[encoded data removed]",
      "text/plain": [
       "<Figure size 720x360 with 2 Axes>"
      ]
     },
     "metadata": {
      "needs_background": "light"
     },
     "output_type": "display_data"
    }
   ],
   "source": [
    "# выделеим отдельно колонку для удобства\n",
    "plt.figure(figsize=(10, 5))\n",
    "plt.title('Столбец корреляций признаков')\n",
    "sns.heatmap(phik_overview.loc[:,['churn']].drop('churn').sort_values('churn'),\n",
    "    annot=True,\n",
    "    fmt='.0%',\n",
    "    cmap='Greens'\n",
    ")\n",
    "plt.show()"
   ]
  },
  {
   "cell_type": "markdown",
   "metadata": {},
   "source": [
    "Явной взаимосвязи между какими-либо параметрами и уходом клиента не выявлено: корреляция очень слабая или отсутствует вовсе.\n",
    "\n",
    "Приступим к сегментированию клиентов. Выделим 4 группы клиентов:\n",
    "- группа 1 - мужчины с доходом до 150 тыс.руб.;\n",
    "- группа 2 - женщины с доходом до 150 тыс.руб.;\n",
    "- группа 3 - мужчины с доходом более 150 тыс.руб.;\n",
    "- группа 4 - женщины с доходом более 150 тыс.руб.\n",
    "\n",
    "Распределим клиентов по группам, затем посчитаем количество в каждой из них, найдем сколько клиентов ушло или осталось в банке."
   ]
  },
  {
   "cell_type": "code",
   "execution_count": 550,
   "metadata": {
    "scrolled": true
   },
   "outputs": [
    {
     "data": {
      "text/html": [
       "<div>\n",
       "<style scoped>\n",
       "    .dataframe tbody tr th:only-of-type {\n",
       "        vertical-align: middle;\n",
       "    }\n",
       "\n",
       "    .dataframe tbody tr th {\n",
       "        vertical-align: top;\n",
       "    }\n",
       "\n",
       "    .dataframe thead th {\n",
       "        text-align: right;\n",
       "    }\n",
       "</style>\n",
       "<table border=\"1\" class=\"dataframe\">\n",
       "  <thead>\n",
       "    <tr style=\"text-align: right;\">\n",
       "      <th></th>\n",
       "      <th>user_id</th>\n",
       "      <th>score</th>\n",
       "      <th>city</th>\n",
       "      <th>gender</th>\n",
       "      <th>age</th>\n",
       "      <th>equity</th>\n",
       "      <th>balance</th>\n",
       "      <th>products</th>\n",
       "      <th>credit_card</th>\n",
       "      <th>last_activity</th>\n",
       "      <th>salary</th>\n",
       "      <th>churn</th>\n",
       "      <th>age_group</th>\n",
       "      <th>income_level</th>\n",
       "    </tr>\n",
       "  </thead>\n",
       "  <tbody>\n",
       "    <tr>\n",
       "      <th>0</th>\n",
       "      <td>157978</td>\n",
       "      <td>730.0</td>\n",
       "      <td>Ярославль</td>\n",
       "      <td>М</td>\n",
       "      <td>34.0</td>\n",
       "      <td>5</td>\n",
       "      <td>174.00</td>\n",
       "      <td>1</td>\n",
       "      <td>1</td>\n",
       "      <td>0</td>\n",
       "      <td>67353.16</td>\n",
       "      <td>1</td>\n",
       "      <td>31-35</td>\n",
       "      <td>50-100</td>\n",
       "    </tr>\n",
       "    <tr>\n",
       "      <th>1</th>\n",
       "      <td>172138</td>\n",
       "      <td>815.0</td>\n",
       "      <td>Ярославль</td>\n",
       "      <td>М</td>\n",
       "      <td>35.0</td>\n",
       "      <td>5</td>\n",
       "      <td>547499.87</td>\n",
       "      <td>2</td>\n",
       "      <td>1</td>\n",
       "      <td>1</td>\n",
       "      <td>105883.26</td>\n",
       "      <td>0</td>\n",
       "      <td>31-35</td>\n",
       "      <td>100-150</td>\n",
       "    </tr>\n",
       "    <tr>\n",
       "      <th>2</th>\n",
       "      <td>114192</td>\n",
       "      <td>772.0</td>\n",
       "      <td>Ростов</td>\n",
       "      <td>М</td>\n",
       "      <td>43.0</td>\n",
       "      <td>3</td>\n",
       "      <td>1315511.65</td>\n",
       "      <td>2</td>\n",
       "      <td>0</td>\n",
       "      <td>0</td>\n",
       "      <td>143935.71</td>\n",
       "      <td>0</td>\n",
       "      <td>41-45</td>\n",
       "      <td>100-150</td>\n",
       "    </tr>\n",
       "    <tr>\n",
       "      <th>3</th>\n",
       "      <td>161656</td>\n",
       "      <td>871.0</td>\n",
       "      <td>Ярославль</td>\n",
       "      <td>М</td>\n",
       "      <td>51.0</td>\n",
       "      <td>4</td>\n",
       "      <td>708866.92</td>\n",
       "      <td>1</td>\n",
       "      <td>1</td>\n",
       "      <td>0</td>\n",
       "      <td>106407.26</td>\n",
       "      <td>0</td>\n",
       "      <td>45+</td>\n",
       "      <td>100-150</td>\n",
       "    </tr>\n",
       "    <tr>\n",
       "      <th>4</th>\n",
       "      <td>167316</td>\n",
       "      <td>766.0</td>\n",
       "      <td>Ярославль</td>\n",
       "      <td>М</td>\n",
       "      <td>36.0</td>\n",
       "      <td>1</td>\n",
       "      <td>250543.82</td>\n",
       "      <td>2</td>\n",
       "      <td>1</td>\n",
       "      <td>1</td>\n",
       "      <td>38843.00</td>\n",
       "      <td>0</td>\n",
       "      <td>36-40</td>\n",
       "      <td>&gt;50</td>\n",
       "    </tr>\n",
       "  </tbody>\n",
       "</table>\n",
       "</div>"
      ],
      "text/plain": [
       "   user_id  score       city gender  ...     salary  churn  age_group  income_level\n",
       "0   157978  730.0  Ярославль      М  ...   67353.16      1      31-35        50-100\n",
       "1   172138  815.0  Ярославль      М  ...  105883.26      0      31-35       100-150\n",
       "2   114192  772.0     Ростов      М  ...  143935.71      0      41-45       100-150\n",
       "3   161656  871.0  Ярославль      М  ...  106407.26      0        45+       100-150\n",
       "4   167316  766.0  Ярославль      М  ...   38843.00      0      36-40           >50\n",
       "\n",
       "[5 rows x 14 columns]"
      ]
     },
     "execution_count": 550,
     "metadata": {},
     "output_type": "execute_result"
    }
   ],
   "source": [
    "# формируем 1 группу: мужчины с доходом до 150 тыс.руб.\n",
    "group_1 = df[(df.gender == 'М') & (df.salary <= 150000)]\n",
    "group_1 = group_1.reset_index(drop=True)\n",
    "group_1.head()"
   ]
  },
  {
   "cell_type": "code",
   "execution_count": 551,
   "metadata": {},
   "outputs": [
    {
     "data": {
      "text/html": [
       "<div>\n",
       "<style scoped>\n",
       "    .dataframe tbody tr th:only-of-type {\n",
       "        vertical-align: middle;\n",
       "    }\n",
       "\n",
       "    .dataframe tbody tr th {\n",
       "        vertical-align: top;\n",
       "    }\n",
       "\n",
       "    .dataframe thead th {\n",
       "        text-align: right;\n",
       "    }\n",
       "</style>\n",
       "<table border=\"1\" class=\"dataframe\">\n",
       "  <thead>\n",
       "    <tr style=\"text-align: right;\">\n",
       "      <th></th>\n",
       "      <th>user_id</th>\n",
       "      <th>score</th>\n",
       "      <th>city</th>\n",
       "      <th>gender</th>\n",
       "      <th>age</th>\n",
       "      <th>equity</th>\n",
       "      <th>balance</th>\n",
       "      <th>products</th>\n",
       "      <th>credit_card</th>\n",
       "      <th>last_activity</th>\n",
       "      <th>salary</th>\n",
       "      <th>churn</th>\n",
       "      <th>age_group</th>\n",
       "      <th>income_level</th>\n",
       "    </tr>\n",
       "  </thead>\n",
       "  <tbody>\n",
       "    <tr>\n",
       "      <th>0</th>\n",
       "      <td>183012</td>\n",
       "      <td>850.0</td>\n",
       "      <td>Рыбинск</td>\n",
       "      <td>Ж</td>\n",
       "      <td>25.0</td>\n",
       "      <td>1</td>\n",
       "      <td>59214.82</td>\n",
       "      <td>2</td>\n",
       "      <td>0</td>\n",
       "      <td>1</td>\n",
       "      <td>75719.14</td>\n",
       "      <td>1</td>\n",
       "      <td>18-25</td>\n",
       "      <td>50-100</td>\n",
       "    </tr>\n",
       "    <tr>\n",
       "      <th>1</th>\n",
       "      <td>146556</td>\n",
       "      <td>861.0</td>\n",
       "      <td>Рыбинск</td>\n",
       "      <td>Ж</td>\n",
       "      <td>37.0</td>\n",
       "      <td>5</td>\n",
       "      <td>850594.33</td>\n",
       "      <td>3</td>\n",
       "      <td>1</td>\n",
       "      <td>0</td>\n",
       "      <td>86621.77</td>\n",
       "      <td>0</td>\n",
       "      <td>36-40</td>\n",
       "      <td>50-100</td>\n",
       "    </tr>\n",
       "    <tr>\n",
       "      <th>2</th>\n",
       "      <td>120722</td>\n",
       "      <td>892.0</td>\n",
       "      <td>Рыбинск</td>\n",
       "      <td>Ж</td>\n",
       "      <td>30.0</td>\n",
       "      <td>0</td>\n",
       "      <td>NaN</td>\n",
       "      <td>1</td>\n",
       "      <td>1</td>\n",
       "      <td>1</td>\n",
       "      <td>107683.34</td>\n",
       "      <td>0</td>\n",
       "      <td>26-30</td>\n",
       "      <td>100-150</td>\n",
       "    </tr>\n",
       "    <tr>\n",
       "      <th>3</th>\n",
       "      <td>177259</td>\n",
       "      <td>807.0</td>\n",
       "      <td>Ярославль</td>\n",
       "      <td>Ж</td>\n",
       "      <td>39.0</td>\n",
       "      <td>3</td>\n",
       "      <td>405042.44</td>\n",
       "      <td>3</td>\n",
       "      <td>0</td>\n",
       "      <td>1</td>\n",
       "      <td>103838.32</td>\n",
       "      <td>0</td>\n",
       "      <td>36-40</td>\n",
       "      <td>100-150</td>\n",
       "    </tr>\n",
       "    <tr>\n",
       "      <th>4</th>\n",
       "      <td>218868</td>\n",
       "      <td>825.0</td>\n",
       "      <td>Ярославль</td>\n",
       "      <td>Ж</td>\n",
       "      <td>38.0</td>\n",
       "      <td>4</td>\n",
       "      <td>458145.40</td>\n",
       "      <td>2</td>\n",
       "      <td>1</td>\n",
       "      <td>1</td>\n",
       "      <td>68085.48</td>\n",
       "      <td>0</td>\n",
       "      <td>36-40</td>\n",
       "      <td>50-100</td>\n",
       "    </tr>\n",
       "  </tbody>\n",
       "</table>\n",
       "</div>"
      ],
      "text/plain": [
       "   user_id  score       city gender  ...     salary  churn  age_group  income_level\n",
       "0   183012  850.0    Рыбинск      Ж  ...   75719.14      1      18-25        50-100\n",
       "1   146556  861.0    Рыбинск      Ж  ...   86621.77      0      36-40        50-100\n",
       "2   120722  892.0    Рыбинск      Ж  ...  107683.34      0      26-30       100-150\n",
       "3   177259  807.0  Ярославль      Ж  ...  103838.32      0      36-40       100-150\n",
       "4   218868  825.0  Ярославль      Ж  ...   68085.48      0      36-40        50-100\n",
       "\n",
       "[5 rows x 14 columns]"
      ]
     },
     "execution_count": 551,
     "metadata": {},
     "output_type": "execute_result"
    }
   ],
   "source": [
    "# формируем 2 группу: женщины с доходом до 150 тыс.руб.\n",
    "group_2 = df[(df.gender == 'Ж') & (df.salary <= 150000)]\n",
    "group_2 = group_2.reset_index(drop=True)\n",
    "group_2.head()"
   ]
  },
  {
   "cell_type": "code",
   "execution_count": 552,
   "metadata": {},
   "outputs": [
    {
     "data": {
      "text/html": [
       "<div>\n",
       "<style scoped>\n",
       "    .dataframe tbody tr th:only-of-type {\n",
       "        vertical-align: middle;\n",
       "    }\n",
       "\n",
       "    .dataframe tbody tr th {\n",
       "        vertical-align: top;\n",
       "    }\n",
       "\n",
       "    .dataframe thead th {\n",
       "        text-align: right;\n",
       "    }\n",
       "</style>\n",
       "<table border=\"1\" class=\"dataframe\">\n",
       "  <thead>\n",
       "    <tr style=\"text-align: right;\">\n",
       "      <th></th>\n",
       "      <th>user_id</th>\n",
       "      <th>score</th>\n",
       "      <th>city</th>\n",
       "      <th>gender</th>\n",
       "      <th>age</th>\n",
       "      <th>equity</th>\n",
       "      <th>balance</th>\n",
       "      <th>products</th>\n",
       "      <th>credit_card</th>\n",
       "      <th>last_activity</th>\n",
       "      <th>salary</th>\n",
       "      <th>churn</th>\n",
       "      <th>age_group</th>\n",
       "      <th>income_level</th>\n",
       "    </tr>\n",
       "  </thead>\n",
       "  <tbody>\n",
       "    <tr>\n",
       "      <th>0</th>\n",
       "      <td>202305</td>\n",
       "      <td>856.0</td>\n",
       "      <td>Рыбинск</td>\n",
       "      <td>М</td>\n",
       "      <td>56.0</td>\n",
       "      <td>4</td>\n",
       "      <td>863687.24</td>\n",
       "      <td>3</td>\n",
       "      <td>1</td>\n",
       "      <td>0</td>\n",
       "      <td>156619.80</td>\n",
       "      <td>0</td>\n",
       "      <td>45+</td>\n",
       "      <td>150-200</td>\n",
       "    </tr>\n",
       "    <tr>\n",
       "      <th>1</th>\n",
       "      <td>211686</td>\n",
       "      <td>923.0</td>\n",
       "      <td>Ярославль</td>\n",
       "      <td>М</td>\n",
       "      <td>54.0</td>\n",
       "      <td>5</td>\n",
       "      <td>1206337.87</td>\n",
       "      <td>2</td>\n",
       "      <td>1</td>\n",
       "      <td>0</td>\n",
       "      <td>155371.79</td>\n",
       "      <td>0</td>\n",
       "      <td>45+</td>\n",
       "      <td>150-200</td>\n",
       "    </tr>\n",
       "    <tr>\n",
       "      <th>2</th>\n",
       "      <td>148929</td>\n",
       "      <td>927.0</td>\n",
       "      <td>Ростов</td>\n",
       "      <td>М</td>\n",
       "      <td>52.0</td>\n",
       "      <td>0</td>\n",
       "      <td>NaN</td>\n",
       "      <td>1</td>\n",
       "      <td>1</td>\n",
       "      <td>1</td>\n",
       "      <td>196820.07</td>\n",
       "      <td>0</td>\n",
       "      <td>45+</td>\n",
       "      <td>150-200</td>\n",
       "    </tr>\n",
       "    <tr>\n",
       "      <th>3</th>\n",
       "      <td>172184</td>\n",
       "      <td>921.0</td>\n",
       "      <td>Ростов</td>\n",
       "      <td>М</td>\n",
       "      <td>41.0</td>\n",
       "      <td>0</td>\n",
       "      <td>NaN</td>\n",
       "      <td>1</td>\n",
       "      <td>1</td>\n",
       "      <td>1</td>\n",
       "      <td>217469.48</td>\n",
       "      <td>0</td>\n",
       "      <td>41-45</td>\n",
       "      <td>200-300</td>\n",
       "    </tr>\n",
       "    <tr>\n",
       "      <th>4</th>\n",
       "      <td>120260</td>\n",
       "      <td>731.0</td>\n",
       "      <td>Рыбинск</td>\n",
       "      <td>М</td>\n",
       "      <td>42.0</td>\n",
       "      <td>3</td>\n",
       "      <td>1480548.47</td>\n",
       "      <td>3</td>\n",
       "      <td>1</td>\n",
       "      <td>0</td>\n",
       "      <td>160974.43</td>\n",
       "      <td>0</td>\n",
       "      <td>41-45</td>\n",
       "      <td>150-200</td>\n",
       "    </tr>\n",
       "  </tbody>\n",
       "</table>\n",
       "</div>"
      ],
      "text/plain": [
       "   user_id  score       city gender  ...     salary  churn  age_group  income_level\n",
       "0   202305  856.0    Рыбинск      М  ...  156619.80      0        45+       150-200\n",
       "1   211686  923.0  Ярославль      М  ...  155371.79      0        45+       150-200\n",
       "2   148929  927.0     Ростов      М  ...  196820.07      0        45+       150-200\n",
       "3   172184  921.0     Ростов      М  ...  217469.48      0      41-45       200-300\n",
       "4   120260  731.0    Рыбинск      М  ...  160974.43      0      41-45       150-200\n",
       "\n",
       "[5 rows x 14 columns]"
      ]
     },
     "execution_count": 552,
     "metadata": {},
     "output_type": "execute_result"
    }
   ],
   "source": [
    "# формируем 3 группу: мужчины с доходом более 150 тыс.руб.\n",
    "group_3 = df[(df.gender == 'М') & (df.salary >= 150000)]\n",
    "group_3 = group_3.reset_index(drop=True)\n",
    "group_3.head()"
   ]
  },
  {
   "cell_type": "code",
   "execution_count": 553,
   "metadata": {},
   "outputs": [
    {
     "data": {
      "text/html": [
       "<div>\n",
       "<style scoped>\n",
       "    .dataframe tbody tr th:only-of-type {\n",
       "        vertical-align: middle;\n",
       "    }\n",
       "\n",
       "    .dataframe tbody tr th {\n",
       "        vertical-align: top;\n",
       "    }\n",
       "\n",
       "    .dataframe thead th {\n",
       "        text-align: right;\n",
       "    }\n",
       "</style>\n",
       "<table border=\"1\" class=\"dataframe\">\n",
       "  <thead>\n",
       "    <tr style=\"text-align: right;\">\n",
       "      <th></th>\n",
       "      <th>user_id</th>\n",
       "      <th>score</th>\n",
       "      <th>city</th>\n",
       "      <th>gender</th>\n",
       "      <th>age</th>\n",
       "      <th>equity</th>\n",
       "      <th>balance</th>\n",
       "      <th>products</th>\n",
       "      <th>credit_card</th>\n",
       "      <th>last_activity</th>\n",
       "      <th>salary</th>\n",
       "      <th>churn</th>\n",
       "      <th>age_group</th>\n",
       "      <th>income_level</th>\n",
       "    </tr>\n",
       "  </thead>\n",
       "  <tbody>\n",
       "    <tr>\n",
       "      <th>0</th>\n",
       "      <td>225363</td>\n",
       "      <td>866.0</td>\n",
       "      <td>Ярославль</td>\n",
       "      <td>Ж</td>\n",
       "      <td>51.0</td>\n",
       "      <td>5</td>\n",
       "      <td>1524746.26</td>\n",
       "      <td>2</td>\n",
       "      <td>0</td>\n",
       "      <td>1</td>\n",
       "      <td>174423.53</td>\n",
       "      <td>1</td>\n",
       "      <td>45+</td>\n",
       "      <td>150-200</td>\n",
       "    </tr>\n",
       "    <tr>\n",
       "      <th>1</th>\n",
       "      <td>133130</td>\n",
       "      <td>906.0</td>\n",
       "      <td>Ярославль</td>\n",
       "      <td>Ж</td>\n",
       "      <td>67.0</td>\n",
       "      <td>0</td>\n",
       "      <td>NaN</td>\n",
       "      <td>1</td>\n",
       "      <td>0</td>\n",
       "      <td>1</td>\n",
       "      <td>238055.53</td>\n",
       "      <td>0</td>\n",
       "      <td>45+</td>\n",
       "      <td>200-300</td>\n",
       "    </tr>\n",
       "    <tr>\n",
       "      <th>2</th>\n",
       "      <td>177415</td>\n",
       "      <td>896.0</td>\n",
       "      <td>Рыбинск</td>\n",
       "      <td>Ж</td>\n",
       "      <td>47.0</td>\n",
       "      <td>0</td>\n",
       "      <td>NaN</td>\n",
       "      <td>1</td>\n",
       "      <td>0</td>\n",
       "      <td>0</td>\n",
       "      <td>225060.35</td>\n",
       "      <td>0</td>\n",
       "      <td>45+</td>\n",
       "      <td>200-300</td>\n",
       "    </tr>\n",
       "    <tr>\n",
       "      <th>3</th>\n",
       "      <td>130826</td>\n",
       "      <td>898.0</td>\n",
       "      <td>Ярославль</td>\n",
       "      <td>Ж</td>\n",
       "      <td>39.0</td>\n",
       "      <td>5</td>\n",
       "      <td>561906.51</td>\n",
       "      <td>1</td>\n",
       "      <td>1</td>\n",
       "      <td>0</td>\n",
       "      <td>151221.69</td>\n",
       "      <td>0</td>\n",
       "      <td>36-40</td>\n",
       "      <td>150-200</td>\n",
       "    </tr>\n",
       "    <tr>\n",
       "      <th>4</th>\n",
       "      <td>155730</td>\n",
       "      <td>946.0</td>\n",
       "      <td>Ярославль</td>\n",
       "      <td>Ж</td>\n",
       "      <td>47.0</td>\n",
       "      <td>0</td>\n",
       "      <td>NaN</td>\n",
       "      <td>2</td>\n",
       "      <td>1</td>\n",
       "      <td>1</td>\n",
       "      <td>660015.85</td>\n",
       "      <td>0</td>\n",
       "      <td>45+</td>\n",
       "      <td>300+</td>\n",
       "    </tr>\n",
       "  </tbody>\n",
       "</table>\n",
       "</div>"
      ],
      "text/plain": [
       "   user_id  score       city gender  ...     salary  churn  age_group  income_level\n",
       "0   225363  866.0  Ярославль      Ж  ...  174423.53      1        45+       150-200\n",
       "1   133130  906.0  Ярославль      Ж  ...  238055.53      0        45+       200-300\n",
       "2   177415  896.0    Рыбинск      Ж  ...  225060.35      0        45+       200-300\n",
       "3   130826  898.0  Ярославль      Ж  ...  151221.69      0      36-40       150-200\n",
       "4   155730  946.0  Ярославль      Ж  ...  660015.85      0        45+          300+\n",
       "\n",
       "[5 rows x 14 columns]"
      ]
     },
     "execution_count": 553,
     "metadata": {},
     "output_type": "execute_result"
    }
   ],
   "source": [
    "# формируем 4 группу: женщины с доходом более 150 тыс.руб.\n",
    "group_4 = df[(df.gender == 'Ж') & (df.salary >= 150000)]\n",
    "group_4 = group_4.reset_index(drop=True)\n",
    "group_4.head()"
   ]
  },
  {
   "cell_type": "code",
   "execution_count": 554,
   "metadata": {},
   "outputs": [],
   "source": [
    "# создадим функцию, которая будет подсчитывать общее количество клиентов в ней, количество клиентов, которые остались и ушли\n",
    "# и процент ушедших от общего количества\n",
    "def segment_indicators(group):\n",
    "    table = group.pivot_table(columns='churn', values='user_id', aggfunc='count')\n",
    "    table['total'] = group['user_id'].count()\n",
    "    table.columns = ['0_churn', '1_churn', 'total']\n",
    "    table['churn_%'] = (table['1_churn'] / table['total'] * 100).round(2)\n",
    "    print(table)"
   ]
  },
  {
   "cell_type": "code",
   "execution_count": 555,
   "metadata": {},
   "outputs": [
    {
     "name": "stdout",
     "output_type": "stream",
     "text": [
      "группа 1\n",
      "         0_churn  1_churn  total  churn_%\n",
      "user_id     2256      725   2981    24.32\n",
      "\n",
      "группа 2\n",
      "         0_churn  1_churn  total  churn_%\n",
      "user_id     3061      421   3482    12.09\n",
      "\n",
      "группа 3\n",
      "         0_churn  1_churn  total  churn_%\n",
      "user_id     1533      458   1991     23.0\n",
      "\n",
      "группа 4\n",
      "         0_churn  1_churn  total  churn_%\n",
      "user_id     1257      216   1473    14.66\n",
      "\n"
     ]
    }
   ],
   "source": [
    "# напишем цикл, который будет применять ко всем группам функцию segment_indicators\n",
    "groups = [group_1, group_2, group_3, group_4]\n",
    "n = 0\n",
    "\n",
    "for group in groups:\n",
    "    n = n+1\n",
    "    print('группа', n)\n",
    "    segment_indicators(group)\n",
    "    print('')"
   ]
  },
  {
   "cell_type": "markdown",
   "metadata": {},
   "source": [
    "Количество клиентов в группах не равномерно - наиболее многочисленна 2 группа - женщины с доходом до 150.тыс.руб., в ней же самый низкий процент оттока клиентов.\n",
    "\n",
    "Больше всего отточных клиентов в первой группе - мужчины с доходом до 150 тыс.руб., также много клиентов, которые ушли из банка в третьей группе - мужчины с доходом более 150 тыс.руб.\n",
    "\n",
    "**Среди клиентов ушедших из банка:**\n",
    "- количество клиентов ушедших из банка - 1821, это составляет 18.3% от общего числа клиентов.\n",
    "- почти 65% мужчин;\n",
    "- 35% клиентов в возрасте старше 45 лет, меньше всего клиентов в возрасте 18-25 лет;\n",
    "- 28.5% клиентов имеют доход 100-150 тыс.руб., 24.8% имеют доход 50-100 тыс.руб., наименьшее число клиентов с доходом более 300 тыс.руб.;\n",
    "- 59.1% клиентов находятся в Ярославле;\n",
    "- 53.7% клиентов пользовались двумя продуктами банка;\n",
    "- 70% были ативны в последнее время;\n",
    "- 55% имели кредитную карту.\n",
    "\n",
    "Наиболее отточный сегмент - мужчины с доходом до 150 тыс.руб., при численности 2981, отток клиентов составляет 24.32%.\n",
    "\n",
    "Приступим к проверке статистических гипотез."
   ]
  },
  {
   "cell_type": "markdown",
   "metadata": {},
   "source": [
    "### Проверка статистических гипотез"
   ]
  },
  {
   "cell_type": "markdown",
   "metadata": {},
   "source": [
    "Предстоит проверить 2 гипотезы:\n",
    "- гипотеза 1: *доход клиентов, которые ушли и тех, которые остались, различается*:\n",
    "   - H₀ - доход клиентов, которые ушли и тех, которые остались, не различается,\n",
    "   - H₁ - доход клиентов, которые ушли и тех, которые остались, различается;\n",
    "- гипотеза 2: *доли клиентов, ушедших из банка, среди активных и неактивных клиентов различаются*:\n",
    "   - H₀ - доли клиентов, ушедших из банка, среди активных и неактивных клиентов не различаются,\n",
    "   - H₁ - доли клиентов, ушедших из банка, среди активных и неактивных клиентов различаются.\n",
    "   \n",
    "Приступим к проверке гипотезы 1, уровень критерия статистической значимости alpha примем 0.05."
   ]
  },
  {
   "cell_type": "code",
   "execution_count": 556,
   "metadata": {},
   "outputs": [
    {
     "name": "stdout",
     "output_type": "stream",
     "text": [
      "p-значение: 0.9052061761558352\n",
      "Не получилось отвергнуть нулевую гипотезу\n"
     ]
    }
   ],
   "source": [
    "# формируем выборки\n",
    "sample_1 = df.query('churn == 0')['salary']\n",
    "sample_2 = df.query('churn == 1')['salary']\n",
    "\n",
    "alpha = .05 # критический уровень статистической значимости\n",
    "# если p-value окажется меньше него - отвергнем гипотезу\n",
    "\n",
    "results = st.ttest_ind(\n",
    "    sample_1, \n",
    "    sample_2)\n",
    "\n",
    "print('p-значение:', results.pvalue)\n",
    "\n",
    "if results.pvalue < alpha:\n",
    "    print(\"Отвергаем нулевую гипотезу\")\n",
    "else:\n",
    "    print(\"Не получилось отвергнуть нулевую гипотезу\") "
   ]
  },
  {
   "cell_type": "code",
   "execution_count": 557,
   "metadata": {},
   "outputs": [
    {
     "name": "stdout",
     "output_type": "stream",
     "text": [
      "Относительная разница средних 0.29%\n"
     ]
    }
   ],
   "source": [
    "# сравним относительную разницу средних:\n",
    "print('Относительная разница средних', '{0:.2%}'.format(sample_2.mean() / sample_1.mean() - 1))"
   ]
  },
  {
   "cell_type": "markdown",
   "metadata": {},
   "source": [
    "Нулевая гипотеза подтвердилась - доход клиентов, которые ушли и тех, которые остались, не различается. Относительная разница средних пренебрежимо мала, что подтверждает результаты теста.\n",
    "\n",
    "Приступим к проверке гипотезы 2."
   ]
  },
  {
   "cell_type": "code",
   "execution_count": 558,
   "metadata": {},
   "outputs": [
    {
     "name": "stdout",
     "output_type": "stream",
     "text": [
      "p-значение: 6.966842486812411e-65\n",
      "Отвергаем нулевую гипотезу\n"
     ]
    }
   ],
   "source": [
    "# формируем выборки\n",
    "sample_1 = df.query('churn == 0')['last_activity']\n",
    "sample_2 = df.query('churn == 1')['last_activity']\n",
    "\n",
    "alpha = .05 # критический уровень статистической значимости\n",
    "# если p-value окажется меньше него - отвергнем гипотезу\n",
    "\n",
    "results = st.ttest_ind(\n",
    "    sample_1, \n",
    "    sample_2)\n",
    "\n",
    "print('p-значение:', results.pvalue)\n",
    "\n",
    "if results.pvalue < alpha:\n",
    "    print(\"Отвергаем нулевую гипотезу\")\n",
    "else:\n",
    "    print(\"Не получилось отвергнуть нулевую гипотезу\") "
   ]
  },
  {
   "cell_type": "code",
   "execution_count": 559,
   "metadata": {},
   "outputs": [
    {
     "name": "stdout",
     "output_type": "stream",
     "text": [
      "Относительная разница средних 45.26%\n"
     ]
    }
   ],
   "source": [
    "print('Относительная разница средних', '{0:.2%}'.format(sample_2.mean() / sample_1.mean() - 1))"
   ]
  },
  {
   "cell_type": "markdown",
   "metadata": {},
   "source": [
    "Нулевая гипотеза не подтвердилась, отвергеам ее. Доли клиентов, ушедших из банка, среди активных и неактивных клиентов различаются. Относительная разница средних существенна, что подтверждает результаты теста.\n",
    "\n",
    "**По результатам проверки статистических гипотез:**\n",
    "- доход клиентов, которые ушли и тех, которые остались, не различается;\n",
    "- доли клиентов, ушедших из банка, среди активных и неактивных клиентов различаются."
   ]
  },
  {
   "cell_type": "markdown",
   "metadata": {},
   "source": [
    "### Общие выводы и рекомендации\n",
    "\n",
    "В проекте предстояло проанализировать отток клиентов из банка «Метанпром».\n",
    "\n",
    "На превом этапе избавились от проблем в названии столбцов, избавились от дубликатов и изучили пропуски в датасете. По результатам предобработки в таблице 12 столбцов и 9927 строк. В столбце balance 2260 необрабатываемых пропусков.\n",
    "\n",
    "По результатам исследовательского анализа данных:\n",
    "- 59.1% из 9927 клиентов банка находятся в Ярославле, в Рыбинске находится 26.6% клиентов, наименьшее число клиентов в Ростове - 14.3%;\n",
    "- в банке примерно одинаковое количесвто мужчин и женщин;\n",
    "- наиболее многочисленная группа клиентов - это клиенты старше 45 лет, меньше всего клиентов возрасте 18-25 лет;\n",
    "- среди клиентов старше 45 лет преобладает количество женщин, это единственная возрастная категория с подобным половым разделением, в остальных категориях преобладают мужчины, реже всего среди клиентов встречаются женщины в возрасте 18-25 лет;\n",
    "- наиболее многочисленные категории клиентов с доходом 50-100 и 100-150 тыс.руб., меньше всего клиентов банка с доходом более 300 тыс.руб.;\n",
    "- в целом, доход мужчин выше, чем доход женщин;\n",
    "- как правило, доход клиентов в возрасте до 25 лет не превышает 150 тыс.руб., вместе с этим прослеживается тенденция к увелечению дохода с увелечением возраста, но эта тенденция не универсальна: так, значительная часть клиентов старше 45 лет имеет доход менее 50 тыс.руб.;\n",
    "- количество клиентов ушедших из банка - 1821, это составляет 18.3% от общего числа клиентов.\n",
    "\n",
    "Количество клиентов ушедших из банка - 1821, это составляет 18.3% от общего числа клиентов. Явной взаимосвязи между какими-либо параметрами и уходом клиента не выявлено: корреляция очень слабая или отсутствует вовсе. \n",
    "<br>Среди клиентов, которые склонны уходить из банка:\n",
    "- почти 65% мужчин;\n",
    "- 35% клиентов в возрасте старше 45 лет, меньше всего клиентов в возрасте 18-25 лет;\n",
    "- 28.5% клиентов имеют доход 100-150 тыс.руб., 24.8% имеют доход 50-100 тыс.руб., наименьшее число клиентов с доходом более 300 тыс.руб.;\n",
    "- 59.1% клиентов находятся в Ярославле;\n",
    "- 53.7% клиентов пользовались двумя продуктами банка;\n",
    "- 70% были ативны в последнее время;\n",
    "- 55% имели кредитную карту.\n",
    "\n",
    "Наиболее отточный сегмент - мужчины с доходом до 150 тыс.руб., при численности 2981, отток клиентов составляет 24.32%. Самый низкий процент оттока клиентов в сегменте женщин с доходом до 150.тыс.руб.\n",
    "\n",
    "Проверка статистических гипотез дала следующие результаты:\n",
    "- доход клиентов, которые ушли и тех, которые остались, не различается;\n",
    "- доли клиентов, ушедших из банка, среди активных и неактивных клиентов различаются.\n",
    "\n",
    "Рекомендации отделу маркетинга дать сложно, так как прямой взаимосвязи с каким-либо парматером и уходом клиентов из банка не обнаружено. Однако, удалось выяснить что мужчины более склонны уходить из банка чем женщины, также выше отток клиентов с доходом 50-150 тыс.руб. и почти 60% отточных клиентов находятся в Ярославле. Наиболее отточный сегмент - мужчины с доходом до 150 тыс.руб. Стоит обратить внимание на эти группы клиентов и подготовить предложения, которые смогут заинтресовать проблемных клиентов, например, можно разработать систему лояльности, в которой будут учавствоать сети АЗС в Ярославле."
   ]
  }
 ],
 "metadata": {
  "ExecuteTimeLog": [
   {
    "duration": 52,
    "start_time": "2023-01-25T08:36:15.963Z"
   },
   {
    "duration": 835,
    "start_time": "2023-01-25T08:38:07.382Z"
   },
   {
    "duration": 1111,
    "start_time": "2023-01-25T08:38:09.875Z"
   },
   {
    "duration": 26,
    "start_time": "2023-01-25T08:38:20.894Z"
   },
   {
    "duration": 13,
    "start_time": "2023-01-25T08:39:02.703Z"
   },
   {
    "duration": 14,
    "start_time": "2023-01-25T08:42:22.807Z"
   },
   {
    "duration": 12,
    "start_time": "2023-01-25T08:47:34.132Z"
   },
   {
    "duration": 11,
    "start_time": "2023-01-25T08:48:01.192Z"
   },
   {
    "duration": 12,
    "start_time": "2023-01-25T09:01:06.724Z"
   },
   {
    "duration": 11,
    "start_time": "2023-01-25T09:03:03.828Z"
   },
   {
    "duration": 16,
    "start_time": "2023-01-25T09:03:43.240Z"
   },
   {
    "duration": 4,
    "start_time": "2023-01-25T09:04:49.016Z"
   },
   {
    "duration": 7,
    "start_time": "2023-01-25T09:04:59.168Z"
   },
   {
    "duration": 7,
    "start_time": "2023-01-25T09:08:46.708Z"
   },
   {
    "duration": 604,
    "start_time": "2023-01-25T09:09:01.016Z"
   },
   {
    "duration": 717,
    "start_time": "2023-01-25T09:09:08.677Z"
   },
   {
    "duration": 2,
    "start_time": "2023-01-25T09:09:15.302Z"
   },
   {
    "duration": 1260,
    "start_time": "2023-01-25T09:09:15.307Z"
   },
   {
    "duration": 14,
    "start_time": "2023-01-25T09:09:16.569Z"
   },
   {
    "duration": 18,
    "start_time": "2023-01-25T09:09:16.585Z"
   },
   {
    "duration": 13,
    "start_time": "2023-01-25T09:09:16.605Z"
   },
   {
    "duration": 33,
    "start_time": "2023-01-25T09:09:16.620Z"
   },
   {
    "duration": 17,
    "start_time": "2023-01-25T09:09:16.655Z"
   },
   {
    "duration": 4,
    "start_time": "2023-01-25T09:09:16.674Z"
   },
   {
    "duration": 15,
    "start_time": "2023-01-25T09:09:16.680Z"
   },
   {
    "duration": 5,
    "start_time": "2023-01-25T09:12:01.953Z"
   },
   {
    "duration": 5,
    "start_time": "2023-01-25T09:12:13.696Z"
   },
   {
    "duration": 28,
    "start_time": "2023-01-25T09:12:33.392Z"
   },
   {
    "duration": 20,
    "start_time": "2023-01-25T09:15:11.224Z"
   },
   {
    "duration": 3,
    "start_time": "2023-01-25T09:15:18.776Z"
   },
   {
    "duration": 1254,
    "start_time": "2023-01-25T09:15:18.781Z"
   },
   {
    "duration": 13,
    "start_time": "2023-01-25T09:15:20.037Z"
   },
   {
    "duration": 22,
    "start_time": "2023-01-25T09:15:20.051Z"
   },
   {
    "duration": 17,
    "start_time": "2023-01-25T09:15:20.075Z"
   },
   {
    "duration": 8,
    "start_time": "2023-01-25T09:15:20.094Z"
   },
   {
    "duration": 18,
    "start_time": "2023-01-25T09:15:20.103Z"
   },
   {
    "duration": 4,
    "start_time": "2023-01-25T09:15:20.122Z"
   },
   {
    "duration": 35,
    "start_time": "2023-01-25T09:15:20.128Z"
   },
   {
    "duration": 12,
    "start_time": "2023-01-25T09:15:41.443Z"
   },
   {
    "duration": 20,
    "start_time": "2023-01-25T09:16:06.677Z"
   },
   {
    "duration": 7,
    "start_time": "2023-01-25T09:17:46.164Z"
   },
   {
    "duration": 22,
    "start_time": "2023-01-25T09:17:54.370Z"
   },
   {
    "duration": 5,
    "start_time": "2023-01-25T09:18:04.074Z"
   },
   {
    "duration": 3,
    "start_time": "2023-01-25T09:18:31.027Z"
   },
   {
    "duration": 950,
    "start_time": "2023-01-25T09:18:31.032Z"
   },
   {
    "duration": 12,
    "start_time": "2023-01-25T09:18:31.984Z"
   },
   {
    "duration": 36,
    "start_time": "2023-01-25T09:18:31.998Z"
   },
   {
    "duration": 35,
    "start_time": "2023-01-25T09:18:32.036Z"
   },
   {
    "duration": 16,
    "start_time": "2023-01-25T09:18:32.072Z"
   },
   {
    "duration": 15,
    "start_time": "2023-01-25T09:18:32.090Z"
   },
   {
    "duration": 3,
    "start_time": "2023-01-25T09:18:32.107Z"
   },
   {
    "duration": 9,
    "start_time": "2023-01-25T09:18:32.112Z"
   },
   {
    "duration": 25,
    "start_time": "2023-01-25T09:18:32.123Z"
   },
   {
    "duration": 3,
    "start_time": "2023-01-25T09:18:32.150Z"
   },
   {
    "duration": 5,
    "start_time": "2023-01-25T09:18:43.170Z"
   },
   {
    "duration": 5,
    "start_time": "2023-01-25T09:18:57.871Z"
   },
   {
    "duration": 5,
    "start_time": "2023-01-25T09:19:02.803Z"
   },
   {
    "duration": 4,
    "start_time": "2023-01-25T09:19:20.651Z"
   },
   {
    "duration": 8,
    "start_time": "2023-01-25T09:22:10.627Z"
   },
   {
    "duration": 9,
    "start_time": "2023-01-25T09:28:26.500Z"
   },
   {
    "duration": 6,
    "start_time": "2023-01-25T09:28:29.995Z"
   },
   {
    "duration": 3,
    "start_time": "2023-01-25T09:29:14.727Z"
   },
   {
    "duration": 1437,
    "start_time": "2023-01-25T09:29:14.733Z"
   },
   {
    "duration": 14,
    "start_time": "2023-01-25T09:29:16.172Z"
   },
   {
    "duration": 16,
    "start_time": "2023-01-25T09:29:16.188Z"
   },
   {
    "duration": 6,
    "start_time": "2023-01-25T09:29:16.206Z"
   },
   {
    "duration": 17,
    "start_time": "2023-01-25T09:29:16.213Z"
   },
   {
    "duration": 32,
    "start_time": "2023-01-25T09:29:16.231Z"
   },
   {
    "duration": 3,
    "start_time": "2023-01-25T09:29:16.265Z"
   },
   {
    "duration": 22,
    "start_time": "2023-01-25T09:29:16.270Z"
   },
   {
    "duration": 4,
    "start_time": "2023-01-25T09:29:45.344Z"
   },
   {
    "duration": 4,
    "start_time": "2023-01-25T09:29:55.813Z"
   },
   {
    "duration": 9,
    "start_time": "2023-01-25T09:31:08.116Z"
   },
   {
    "duration": 8,
    "start_time": "2023-01-25T09:32:39.773Z"
   },
   {
    "duration": 13,
    "start_time": "2023-01-25T09:33:38.685Z"
   },
   {
    "duration": 722,
    "start_time": "2023-01-25T09:34:05.629Z"
   },
   {
    "duration": 13,
    "start_time": "2023-01-25T09:34:17.042Z"
   },
   {
    "duration": 14,
    "start_time": "2023-01-25T09:35:36.884Z"
   },
   {
    "duration": 15,
    "start_time": "2023-01-25T09:35:48.789Z"
   },
   {
    "duration": 6,
    "start_time": "2023-01-25T09:41:40.386Z"
   },
   {
    "duration": 48,
    "start_time": "2023-01-25T09:43:15.571Z"
   },
   {
    "duration": 5,
    "start_time": "2023-01-25T09:43:21.539Z"
   },
   {
    "duration": 12,
    "start_time": "2023-01-25T09:50:18.952Z"
   },
   {
    "duration": 14,
    "start_time": "2023-01-25T09:50:24.551Z"
   },
   {
    "duration": 13,
    "start_time": "2023-01-25T09:50:28.991Z"
   },
   {
    "duration": 3,
    "start_time": "2023-01-25T09:51:40.935Z"
   },
   {
    "duration": 1357,
    "start_time": "2023-01-25T09:51:40.940Z"
   },
   {
    "duration": 15,
    "start_time": "2023-01-25T09:51:42.299Z"
   },
   {
    "duration": 58,
    "start_time": "2023-01-25T09:51:42.316Z"
   },
   {
    "duration": 57,
    "start_time": "2023-01-25T09:51:42.376Z"
   },
   {
    "duration": 58,
    "start_time": "2023-01-25T09:51:42.435Z"
   },
   {
    "duration": 60,
    "start_time": "2023-01-25T09:51:42.495Z"
   },
   {
    "duration": 19,
    "start_time": "2023-01-25T09:51:42.557Z"
   },
   {
    "duration": 11,
    "start_time": "2023-01-25T09:51:42.578Z"
   },
   {
    "duration": 6,
    "start_time": "2023-01-25T09:51:42.591Z"
   },
   {
    "duration": 17,
    "start_time": "2023-01-25T09:51:42.600Z"
   },
   {
    "duration": 20,
    "start_time": "2023-01-25T09:51:42.619Z"
   },
   {
    "duration": 4,
    "start_time": "2023-01-25T09:55:41.511Z"
   },
   {
    "duration": 1543,
    "start_time": "2023-01-25T09:55:41.517Z"
   },
   {
    "duration": 16,
    "start_time": "2023-01-25T09:55:43.062Z"
   },
   {
    "duration": 14,
    "start_time": "2023-01-25T09:55:43.081Z"
   },
   {
    "duration": 6,
    "start_time": "2023-01-25T09:55:43.098Z"
   },
   {
    "duration": 19,
    "start_time": "2023-01-25T09:55:43.106Z"
   },
   {
    "duration": 44,
    "start_time": "2023-01-25T09:55:43.127Z"
   },
   {
    "duration": 5,
    "start_time": "2023-01-25T09:55:43.173Z"
   },
   {
    "duration": 15,
    "start_time": "2023-01-25T09:55:43.180Z"
   },
   {
    "duration": 6,
    "start_time": "2023-01-25T09:55:43.198Z"
   },
   {
    "duration": 8,
    "start_time": "2023-01-25T09:55:43.207Z"
   },
   {
    "duration": 44,
    "start_time": "2023-01-25T09:55:43.217Z"
   },
   {
    "duration": 19,
    "start_time": "2023-01-25T09:55:43.263Z"
   },
   {
    "duration": 878,
    "start_time": "2023-01-26T08:18:08.267Z"
   },
   {
    "duration": 1246,
    "start_time": "2023-01-26T08:18:09.148Z"
   },
   {
    "duration": 21,
    "start_time": "2023-01-26T08:18:10.396Z"
   },
   {
    "duration": 16,
    "start_time": "2023-01-26T08:18:10.420Z"
   },
   {
    "duration": 22,
    "start_time": "2023-01-26T08:18:10.438Z"
   },
   {
    "duration": 23,
    "start_time": "2023-01-26T08:18:10.462Z"
   },
   {
    "duration": 35,
    "start_time": "2023-01-26T08:18:10.487Z"
   },
   {
    "duration": 6,
    "start_time": "2023-01-26T08:18:10.524Z"
   },
   {
    "duration": 30,
    "start_time": "2023-01-26T08:18:10.532Z"
   },
   {
    "duration": 20,
    "start_time": "2023-01-26T08:18:10.566Z"
   },
   {
    "duration": 9,
    "start_time": "2023-01-26T08:18:10.588Z"
   },
   {
    "duration": 44,
    "start_time": "2023-01-26T08:18:10.598Z"
   },
   {
    "duration": 30,
    "start_time": "2023-01-26T08:18:10.644Z"
   },
   {
    "duration": 3,
    "start_time": "2023-01-26T08:18:33.383Z"
   },
   {
    "duration": 15,
    "start_time": "2023-01-26T08:18:35.467Z"
   },
   {
    "duration": 3,
    "start_time": "2023-01-26T08:18:38.404Z"
   },
   {
    "duration": 1071,
    "start_time": "2023-01-26T08:18:38.410Z"
   },
   {
    "duration": 13,
    "start_time": "2023-01-26T08:18:39.483Z"
   },
   {
    "duration": 61,
    "start_time": "2023-01-26T08:18:39.499Z"
   },
   {
    "duration": 118,
    "start_time": "2023-01-26T08:18:39.562Z"
   },
   {
    "duration": 110,
    "start_time": "2023-01-26T08:18:39.682Z"
   },
   {
    "duration": 155,
    "start_time": "2023-01-26T08:18:39.794Z"
   },
   {
    "duration": 246,
    "start_time": "2023-01-26T08:18:39.951Z"
   },
   {
    "duration": 240,
    "start_time": "2023-01-26T08:18:40.199Z"
   },
   {
    "duration": 169,
    "start_time": "2023-01-26T08:18:40.441Z"
   },
   {
    "duration": 169,
    "start_time": "2023-01-26T08:18:40.612Z"
   },
   {
    "duration": 192,
    "start_time": "2023-01-26T08:18:40.784Z"
   },
   {
    "duration": 169,
    "start_time": "2023-01-26T08:18:40.978Z"
   },
   {
    "duration": 87,
    "start_time": "2023-01-26T08:42:04.806Z"
   },
   {
    "duration": 1149,
    "start_time": "2023-01-26T08:42:04.895Z"
   },
   {
    "duration": 23,
    "start_time": "2023-01-26T08:42:06.046Z"
   },
   {
    "duration": 15,
    "start_time": "2023-01-26T08:42:06.071Z"
   },
   {
    "duration": 5,
    "start_time": "2023-01-26T08:42:06.088Z"
   },
   {
    "duration": 10,
    "start_time": "2023-01-26T08:42:06.095Z"
   },
   {
    "duration": 27,
    "start_time": "2023-01-26T08:42:06.106Z"
   },
   {
    "duration": 4,
    "start_time": "2023-01-26T08:42:06.136Z"
   },
   {
    "duration": 12,
    "start_time": "2023-01-26T08:42:06.142Z"
   },
   {
    "duration": 25,
    "start_time": "2023-01-26T08:42:06.156Z"
   },
   {
    "duration": 4,
    "start_time": "2023-01-26T08:42:06.183Z"
   },
   {
    "duration": 30,
    "start_time": "2023-01-26T08:42:06.188Z"
   },
   {
    "duration": 15,
    "start_time": "2023-01-26T08:42:06.220Z"
   },
   {
    "duration": 12,
    "start_time": "2023-01-26T08:45:37.200Z"
   },
   {
    "duration": 76,
    "start_time": "2023-01-26T08:47:28.929Z"
   },
   {
    "duration": 421,
    "start_time": "2023-01-26T08:47:40.292Z"
   },
   {
    "duration": 13,
    "start_time": "2023-01-26T08:48:13.100Z"
   },
   {
    "duration": 40,
    "start_time": "2023-01-26T08:49:07.540Z"
   },
   {
    "duration": 18,
    "start_time": "2023-01-26T08:57:57.590Z"
   },
   {
    "duration": 67,
    "start_time": "2023-01-26T08:59:00.998Z"
   },
   {
    "duration": 39,
    "start_time": "2023-01-26T08:59:24.659Z"
   },
   {
    "duration": 6,
    "start_time": "2023-01-26T09:59:31.701Z"
   },
   {
    "duration": 39,
    "start_time": "2023-01-26T10:00:50.350Z"
   },
   {
    "duration": 15,
    "start_time": "2023-01-26T10:04:08.245Z"
   },
   {
    "duration": 17,
    "start_time": "2023-01-26T10:04:54.166Z"
   },
   {
    "duration": 57,
    "start_time": "2023-01-26T10:06:33.238Z"
   },
   {
    "duration": 18,
    "start_time": "2023-01-26T10:14:15.555Z"
   },
   {
    "duration": 57,
    "start_time": "2023-01-26T10:16:44.300Z"
   },
   {
    "duration": 19,
    "start_time": "2023-01-26T10:17:31.203Z"
   },
   {
    "duration": 897,
    "start_time": "2023-01-27T10:10:02.723Z"
   },
   {
    "duration": 1218,
    "start_time": "2023-01-27T10:10:03.622Z"
   },
   {
    "duration": 29,
    "start_time": "2023-01-27T10:10:04.842Z"
   },
   {
    "duration": 12,
    "start_time": "2023-01-27T10:10:04.873Z"
   },
   {
    "duration": 5,
    "start_time": "2023-01-27T10:10:04.887Z"
   },
   {
    "duration": 12,
    "start_time": "2023-01-27T10:10:04.893Z"
   },
   {
    "duration": 15,
    "start_time": "2023-01-27T10:10:04.907Z"
   },
   {
    "duration": 27,
    "start_time": "2023-01-27T10:10:04.923Z"
   },
   {
    "duration": 9,
    "start_time": "2023-01-27T10:10:04.952Z"
   },
   {
    "duration": 5,
    "start_time": "2023-01-27T10:10:04.964Z"
   },
   {
    "duration": 6,
    "start_time": "2023-01-27T10:10:04.971Z"
   },
   {
    "duration": 38,
    "start_time": "2023-01-27T10:10:04.979Z"
   },
   {
    "duration": 45,
    "start_time": "2023-01-27T10:10:05.019Z"
   },
   {
    "duration": 28,
    "start_time": "2023-01-27T10:10:05.066Z"
   },
   {
    "duration": 463,
    "start_time": "2023-01-27T10:10:05.096Z"
   },
   {
    "duration": 12,
    "start_time": "2023-01-27T10:10:05.561Z"
   },
   {
    "duration": 92,
    "start_time": "2023-01-27T10:10:05.574Z"
   },
   {
    "duration": 20,
    "start_time": "2023-01-27T10:10:05.668Z"
   },
   {
    "duration": 62,
    "start_time": "2023-01-27T10:10:05.690Z"
   },
   {
    "duration": 13,
    "start_time": "2023-01-27T10:10:05.753Z"
   },
   {
    "duration": 57,
    "start_time": "2023-01-27T10:10:05.768Z"
   },
   {
    "duration": 38,
    "start_time": "2023-01-27T10:10:05.826Z"
   },
   {
    "duration": 54,
    "start_time": "2023-01-27T10:10:05.865Z"
   },
   {
    "duration": 4,
    "start_time": "2023-01-27T10:31:32.174Z"
   },
   {
    "duration": 129,
    "start_time": "2023-01-27T10:32:43.112Z"
   },
   {
    "duration": 11,
    "start_time": "2023-01-27T10:33:09.468Z"
   },
   {
    "duration": 3,
    "start_time": "2023-01-27T10:33:12.022Z"
   },
   {
    "duration": 1530,
    "start_time": "2023-01-27T10:33:12.027Z"
   },
   {
    "duration": 28,
    "start_time": "2023-01-27T10:33:13.559Z"
   },
   {
    "duration": 12,
    "start_time": "2023-01-27T10:33:13.590Z"
   },
   {
    "duration": 5,
    "start_time": "2023-01-27T10:33:13.604Z"
   },
   {
    "duration": 17,
    "start_time": "2023-01-27T10:33:13.611Z"
   },
   {
    "duration": 36,
    "start_time": "2023-01-27T10:33:13.629Z"
   },
   {
    "duration": 6,
    "start_time": "2023-01-27T10:33:13.666Z"
   },
   {
    "duration": 8,
    "start_time": "2023-01-27T10:33:13.675Z"
   },
   {
    "duration": 6,
    "start_time": "2023-01-27T10:33:13.685Z"
   },
   {
    "duration": 15,
    "start_time": "2023-01-27T10:33:13.692Z"
   },
   {
    "duration": 49,
    "start_time": "2023-01-27T10:33:13.709Z"
   },
   {
    "duration": 39,
    "start_time": "2023-01-27T10:33:13.759Z"
   },
   {
    "duration": 11,
    "start_time": "2023-01-27T10:33:13.801Z"
   },
   {
    "duration": 58,
    "start_time": "2023-01-27T10:33:13.814Z"
   },
   {
    "duration": 14,
    "start_time": "2023-01-27T10:33:13.873Z"
   },
   {
    "duration": 37,
    "start_time": "2023-01-27T10:33:13.889Z"
   },
   {
    "duration": 5,
    "start_time": "2023-01-27T10:33:13.928Z"
   },
   {
    "duration": 41,
    "start_time": "2023-01-27T10:33:13.949Z"
   },
   {
    "duration": 21,
    "start_time": "2023-01-27T10:33:13.992Z"
   },
   {
    "duration": 86,
    "start_time": "2023-01-27T10:33:14.015Z"
   },
   {
    "duration": 17,
    "start_time": "2023-01-27T10:33:14.104Z"
   },
   {
    "duration": 60,
    "start_time": "2023-01-27T10:33:14.123Z"
   },
   {
    "duration": 3,
    "start_time": "2023-01-27T10:33:14.186Z"
   },
   {
    "duration": 38,
    "start_time": "2023-01-27T10:33:14.191Z"
   },
   {
    "duration": 12,
    "start_time": "2023-01-27T10:35:48.972Z"
   },
   {
    "duration": 16,
    "start_time": "2023-01-27T10:37:19.569Z"
   },
   {
    "duration": 54,
    "start_time": "2023-01-27T10:37:37.428Z"
   },
   {
    "duration": 55,
    "start_time": "2023-01-27T10:37:58.816Z"
   },
   {
    "duration": 55,
    "start_time": "2023-01-27T10:38:10.324Z"
   },
   {
    "duration": 29,
    "start_time": "2023-01-27T10:48:37.626Z"
   },
   {
    "duration": 17,
    "start_time": "2023-01-27T10:48:52.525Z"
   },
   {
    "duration": 9,
    "start_time": "2023-01-27T10:50:24.852Z"
   },
   {
    "duration": 25,
    "start_time": "2023-01-27T10:51:53.345Z"
   },
   {
    "duration": 11,
    "start_time": "2023-01-27T10:52:07.273Z"
   },
   {
    "duration": 26,
    "start_time": "2023-01-27T10:52:34.053Z"
   },
   {
    "duration": 4,
    "start_time": "2023-01-27T10:53:24.173Z"
   },
   {
    "duration": 43,
    "start_time": "2023-01-27T10:53:27.917Z"
   },
   {
    "duration": 517,
    "start_time": "2023-01-27T10:54:14.010Z"
   },
   {
    "duration": 6,
    "start_time": "2023-01-27T10:54:37.773Z"
   },
   {
    "duration": 15,
    "start_time": "2023-01-27T10:54:39.973Z"
   },
   {
    "duration": 6,
    "start_time": "2023-01-27T10:54:51.689Z"
   },
   {
    "duration": 613,
    "start_time": "2023-01-27T10:54:54.345Z"
   },
   {
    "duration": 6,
    "start_time": "2023-01-27T10:55:09.225Z"
   },
   {
    "duration": 519,
    "start_time": "2023-01-27T10:55:11.120Z"
   },
   {
    "duration": 5,
    "start_time": "2023-01-27T10:58:57.602Z"
   },
   {
    "duration": 24,
    "start_time": "2023-01-27T10:58:59.523Z"
   },
   {
    "duration": 402,
    "start_time": "2023-01-27T10:59:20.725Z"
   },
   {
    "duration": 12,
    "start_time": "2023-01-27T10:59:32.313Z"
   },
   {
    "duration": 8,
    "start_time": "2023-01-27T11:10:23.448Z"
   },
   {
    "duration": 54,
    "start_time": "2023-01-27T11:10:25.128Z"
   },
   {
    "duration": 56,
    "start_time": "2023-01-27T11:11:25.519Z"
   },
   {
    "duration": 5,
    "start_time": "2023-01-27T11:14:28.296Z"
   },
   {
    "duration": 7,
    "start_time": "2023-01-27T11:15:07.935Z"
   },
   {
    "duration": 76,
    "start_time": "2023-01-27T11:15:11.904Z"
   },
   {
    "duration": 5,
    "start_time": "2023-01-27T11:15:27.109Z"
   },
   {
    "duration": 5,
    "start_time": "2023-01-27T11:15:34.028Z"
   },
   {
    "duration": 1354,
    "start_time": "2023-01-27T11:15:34.035Z"
   },
   {
    "duration": 28,
    "start_time": "2023-01-27T11:15:35.391Z"
   },
   {
    "duration": 66,
    "start_time": "2023-01-27T11:15:35.421Z"
   },
   {
    "duration": 11,
    "start_time": "2023-01-27T11:15:35.489Z"
   },
   {
    "duration": 29,
    "start_time": "2023-01-27T11:15:35.502Z"
   },
   {
    "duration": 51,
    "start_time": "2023-01-27T11:15:35.533Z"
   },
   {
    "duration": 13,
    "start_time": "2023-01-27T11:15:35.586Z"
   },
   {
    "duration": 30,
    "start_time": "2023-01-27T11:15:35.601Z"
   },
   {
    "duration": 8,
    "start_time": "2023-01-27T11:15:35.633Z"
   },
   {
    "duration": 39,
    "start_time": "2023-01-27T11:15:35.644Z"
   },
   {
    "duration": 41,
    "start_time": "2023-01-27T11:15:35.685Z"
   },
   {
    "duration": 34,
    "start_time": "2023-01-27T11:15:35.728Z"
   },
   {
    "duration": 33,
    "start_time": "2023-01-27T11:15:35.765Z"
   },
   {
    "duration": 46,
    "start_time": "2023-01-27T11:15:35.800Z"
   },
   {
    "duration": 45,
    "start_time": "2023-01-27T11:15:35.848Z"
   },
   {
    "duration": 42,
    "start_time": "2023-01-27T11:15:35.895Z"
   },
   {
    "duration": 6,
    "start_time": "2023-01-27T11:15:35.938Z"
   },
   {
    "duration": 64,
    "start_time": "2023-01-27T11:15:35.945Z"
   },
   {
    "duration": 7,
    "start_time": "2023-01-27T11:15:36.012Z"
   },
   {
    "duration": 81,
    "start_time": "2023-01-27T11:15:36.021Z"
   },
   {
    "duration": 17,
    "start_time": "2023-01-27T11:15:36.104Z"
   },
   {
    "duration": 71,
    "start_time": "2023-01-27T11:15:36.123Z"
   },
   {
    "duration": 20,
    "start_time": "2023-01-27T11:15:36.196Z"
   },
   {
    "duration": 86,
    "start_time": "2023-01-27T11:15:36.218Z"
   },
   {
    "duration": 4,
    "start_time": "2023-01-27T11:15:36.306Z"
   },
   {
    "duration": 57,
    "start_time": "2023-01-27T11:15:36.312Z"
   },
   {
    "duration": 25,
    "start_time": "2023-01-27T11:15:36.373Z"
   },
   {
    "duration": 45,
    "start_time": "2023-01-27T11:15:36.402Z"
   },
   {
    "duration": 161,
    "start_time": "2023-01-27T11:15:36.454Z"
   },
   {
    "duration": 61,
    "start_time": "2023-01-27T11:17:25.811Z"
   },
   {
    "duration": 69,
    "start_time": "2023-01-27T11:19:34.239Z"
   },
   {
    "duration": 3,
    "start_time": "2023-01-27T11:30:30.318Z"
   },
   {
    "duration": 1122,
    "start_time": "2023-01-27T11:30:30.323Z"
   },
   {
    "duration": 33,
    "start_time": "2023-01-27T11:30:31.447Z"
   },
   {
    "duration": 23,
    "start_time": "2023-01-27T11:30:31.481Z"
   },
   {
    "duration": 7,
    "start_time": "2023-01-27T11:30:31.506Z"
   },
   {
    "duration": 33,
    "start_time": "2023-01-27T11:30:31.514Z"
   },
   {
    "duration": 43,
    "start_time": "2023-01-27T11:30:31.551Z"
   },
   {
    "duration": 4,
    "start_time": "2023-01-27T11:30:31.596Z"
   },
   {
    "duration": 16,
    "start_time": "2023-01-27T11:30:31.601Z"
   },
   {
    "duration": 8,
    "start_time": "2023-01-27T11:30:31.618Z"
   },
   {
    "duration": 19,
    "start_time": "2023-01-27T11:30:31.628Z"
   },
   {
    "duration": 44,
    "start_time": "2023-01-27T11:30:31.648Z"
   },
   {
    "duration": 16,
    "start_time": "2023-01-27T11:30:31.694Z"
   },
   {
    "duration": 11,
    "start_time": "2023-01-27T11:30:31.712Z"
   },
   {
    "duration": 47,
    "start_time": "2023-01-27T11:30:31.724Z"
   },
   {
    "duration": 107,
    "start_time": "2023-01-27T11:30:31.772Z"
   },
   {
    "duration": 33,
    "start_time": "2023-01-27T11:30:31.881Z"
   },
   {
    "duration": 3,
    "start_time": "2023-01-27T11:30:31.915Z"
   },
   {
    "duration": 42,
    "start_time": "2023-01-27T11:30:31.920Z"
   },
   {
    "duration": 3,
    "start_time": "2023-01-27T11:30:31.966Z"
   },
   {
    "duration": 48,
    "start_time": "2023-01-27T11:30:31.971Z"
   },
   {
    "duration": 16,
    "start_time": "2023-01-27T11:30:32.020Z"
   },
   {
    "duration": 62,
    "start_time": "2023-01-27T11:30:32.050Z"
   },
   {
    "duration": 350,
    "start_time": "2023-01-27T11:30:32.114Z"
   },
   {
    "duration": 0,
    "start_time": "2023-01-27T11:30:32.466Z"
   },
   {
    "duration": 4,
    "start_time": "2023-01-27T11:40:56.641Z"
   },
   {
    "duration": 38,
    "start_time": "2023-01-27T11:40:59.781Z"
   },
   {
    "duration": 3,
    "start_time": "2023-01-27T11:41:09.004Z"
   },
   {
    "duration": 394,
    "start_time": "2023-01-27T11:41:10.873Z"
   },
   {
    "duration": 4,
    "start_time": "2023-01-27T11:41:23.942Z"
   },
   {
    "duration": 49,
    "start_time": "2023-01-27T11:41:25.630Z"
   },
   {
    "duration": 3,
    "start_time": "2023-01-27T11:41:30.902Z"
   },
   {
    "duration": 1261,
    "start_time": "2023-01-27T11:41:30.908Z"
   },
   {
    "duration": 34,
    "start_time": "2023-01-27T11:41:32.171Z"
   },
   {
    "duration": 12,
    "start_time": "2023-01-27T11:41:32.208Z"
   },
   {
    "duration": 5,
    "start_time": "2023-01-27T11:41:32.222Z"
   },
   {
    "duration": 20,
    "start_time": "2023-01-27T11:41:32.250Z"
   },
   {
    "duration": 25,
    "start_time": "2023-01-27T11:41:32.272Z"
   },
   {
    "duration": 4,
    "start_time": "2023-01-27T11:41:32.299Z"
   },
   {
    "duration": 17,
    "start_time": "2023-01-27T11:41:32.306Z"
   },
   {
    "duration": 6,
    "start_time": "2023-01-27T11:41:32.325Z"
   },
   {
    "duration": 20,
    "start_time": "2023-01-27T11:41:32.333Z"
   },
   {
    "duration": 47,
    "start_time": "2023-01-27T11:41:32.359Z"
   },
   {
    "duration": 19,
    "start_time": "2023-01-27T11:41:32.408Z"
   },
   {
    "duration": 14,
    "start_time": "2023-01-27T11:41:32.430Z"
   },
   {
    "duration": 70,
    "start_time": "2023-01-27T11:41:32.450Z"
   },
   {
    "duration": 15,
    "start_time": "2023-01-27T11:41:32.522Z"
   },
   {
    "duration": 50,
    "start_time": "2023-01-27T11:41:32.539Z"
   },
   {
    "duration": 5,
    "start_time": "2023-01-27T11:41:32.591Z"
   },
   {
    "duration": 35,
    "start_time": "2023-01-27T11:41:32.597Z"
   },
   {
    "duration": 22,
    "start_time": "2023-01-27T11:41:32.634Z"
   },
   {
    "duration": 62,
    "start_time": "2023-01-27T11:41:32.660Z"
   },
   {
    "duration": 25,
    "start_time": "2023-01-27T11:41:32.724Z"
   },
   {
    "duration": 66,
    "start_time": "2023-01-27T11:41:32.753Z"
   },
   {
    "duration": 5,
    "start_time": "2023-01-27T11:41:32.822Z"
   },
   {
    "duration": 43,
    "start_time": "2023-01-27T11:41:32.828Z"
   },
   {
    "duration": 55,
    "start_time": "2023-01-27T11:41:32.873Z"
   },
   {
    "duration": 5,
    "start_time": "2023-01-27T11:54:37.328Z"
   },
   {
    "duration": 62,
    "start_time": "2023-01-27T11:55:34.305Z"
   },
   {
    "duration": 5,
    "start_time": "2023-01-27T11:57:30.581Z"
   },
   {
    "duration": 58,
    "start_time": "2023-01-27T11:57:34.137Z"
   },
   {
    "duration": 61,
    "start_time": "2023-01-27T11:58:05.348Z"
   },
   {
    "duration": 4,
    "start_time": "2023-01-27T11:58:07.580Z"
   },
   {
    "duration": 1080,
    "start_time": "2023-01-27T11:58:07.587Z"
   },
   {
    "duration": 22,
    "start_time": "2023-01-27T11:58:08.669Z"
   },
   {
    "duration": 15,
    "start_time": "2023-01-27T11:58:08.693Z"
   },
   {
    "duration": 6,
    "start_time": "2023-01-27T11:58:08.710Z"
   },
   {
    "duration": 35,
    "start_time": "2023-01-27T11:58:08.717Z"
   },
   {
    "duration": 16,
    "start_time": "2023-01-27T11:58:08.754Z"
   },
   {
    "duration": 11,
    "start_time": "2023-01-27T11:58:08.772Z"
   },
   {
    "duration": 9,
    "start_time": "2023-01-27T11:58:08.784Z"
   },
   {
    "duration": 14,
    "start_time": "2023-01-27T11:58:08.794Z"
   },
   {
    "duration": 12,
    "start_time": "2023-01-27T11:58:08.809Z"
   },
   {
    "duration": 40,
    "start_time": "2023-01-27T11:58:08.822Z"
   },
   {
    "duration": 23,
    "start_time": "2023-01-27T11:58:08.866Z"
   },
   {
    "duration": 10,
    "start_time": "2023-01-27T11:58:08.891Z"
   },
   {
    "duration": 41,
    "start_time": "2023-01-27T11:58:08.903Z"
   },
   {
    "duration": 39,
    "start_time": "2023-01-27T11:58:08.946Z"
   },
   {
    "duration": 44,
    "start_time": "2023-01-27T11:58:08.986Z"
   },
   {
    "duration": 3,
    "start_time": "2023-01-27T11:58:09.032Z"
   },
   {
    "duration": 40,
    "start_time": "2023-01-27T11:58:09.037Z"
   },
   {
    "duration": 4,
    "start_time": "2023-01-27T11:58:09.079Z"
   },
   {
    "duration": 48,
    "start_time": "2023-01-27T11:58:09.084Z"
   },
   {
    "duration": 19,
    "start_time": "2023-01-27T11:58:09.133Z"
   },
   {
    "duration": 65,
    "start_time": "2023-01-27T11:58:09.162Z"
   },
   {
    "duration": 15,
    "start_time": "2023-01-27T11:58:09.229Z"
   },
   {
    "duration": 51,
    "start_time": "2023-01-27T11:58:09.248Z"
   },
   {
    "duration": 4,
    "start_time": "2023-01-27T11:58:09.301Z"
   },
   {
    "duration": 57,
    "start_time": "2023-01-27T11:58:09.307Z"
   },
   {
    "duration": 54,
    "start_time": "2023-01-27T11:58:09.365Z"
   },
   {
    "duration": 73,
    "start_time": "2023-01-27T12:01:18.877Z"
   },
   {
    "duration": 76,
    "start_time": "2023-01-27T12:02:37.565Z"
   },
   {
    "duration": 68,
    "start_time": "2023-01-27T12:05:07.033Z"
   },
   {
    "duration": 100,
    "start_time": "2023-01-27T12:13:21.366Z"
   },
   {
    "duration": 67,
    "start_time": "2023-01-27T12:13:35.424Z"
   },
   {
    "duration": 4,
    "start_time": "2023-01-27T12:35:08.513Z"
   },
   {
    "duration": 1134,
    "start_time": "2023-01-27T12:35:08.519Z"
   },
   {
    "duration": 24,
    "start_time": "2023-01-27T12:35:09.654Z"
   },
   {
    "duration": 16,
    "start_time": "2023-01-27T12:35:09.680Z"
   },
   {
    "duration": 5,
    "start_time": "2023-01-27T12:35:09.698Z"
   },
   {
    "duration": 14,
    "start_time": "2023-01-27T12:35:09.704Z"
   },
   {
    "duration": 13,
    "start_time": "2023-01-27T12:35:09.720Z"
   },
   {
    "duration": 10,
    "start_time": "2023-01-27T12:35:09.748Z"
   },
   {
    "duration": 15,
    "start_time": "2023-01-27T12:35:09.760Z"
   },
   {
    "duration": 5,
    "start_time": "2023-01-27T12:35:09.777Z"
   },
   {
    "duration": 6,
    "start_time": "2023-01-27T12:35:09.784Z"
   },
   {
    "duration": 24,
    "start_time": "2023-01-27T12:35:09.791Z"
   },
   {
    "duration": 12,
    "start_time": "2023-01-27T12:35:09.817Z"
   },
   {
    "duration": 14,
    "start_time": "2023-01-27T12:35:09.852Z"
   },
   {
    "duration": 53,
    "start_time": "2023-01-27T12:35:09.868Z"
   },
   {
    "duration": 28,
    "start_time": "2023-01-27T12:35:09.923Z"
   },
   {
    "duration": 36,
    "start_time": "2023-01-27T12:35:09.960Z"
   },
   {
    "duration": 4,
    "start_time": "2023-01-27T12:35:09.998Z"
   },
   {
    "duration": 36,
    "start_time": "2023-01-27T12:35:10.003Z"
   },
   {
    "duration": 18,
    "start_time": "2023-01-27T12:35:10.048Z"
   },
   {
    "duration": 48,
    "start_time": "2023-01-27T12:35:10.067Z"
   },
   {
    "duration": 4,
    "start_time": "2023-01-27T12:35:10.117Z"
   },
   {
    "duration": 62,
    "start_time": "2023-01-27T12:35:10.122Z"
   },
   {
    "duration": 4,
    "start_time": "2023-01-27T12:35:10.186Z"
   },
   {
    "duration": 36,
    "start_time": "2023-01-27T12:35:10.192Z"
   },
   {
    "duration": 61,
    "start_time": "2023-01-27T12:35:10.230Z"
   },
   {
    "duration": 74,
    "start_time": "2023-01-27T12:35:10.293Z"
   },
   {
    "duration": 59,
    "start_time": "2023-01-27T12:35:10.369Z"
   },
   {
    "duration": 11,
    "start_time": "2023-01-27T12:39:18.220Z"
   },
   {
    "duration": 39,
    "start_time": "2023-01-27T13:37:04.030Z"
   },
   {
    "duration": 12,
    "start_time": "2023-01-27T13:37:13.586Z"
   },
   {
    "duration": 95,
    "start_time": "2023-01-27T13:37:24.662Z"
   },
   {
    "duration": 4,
    "start_time": "2023-01-27T13:38:45.055Z"
   },
   {
    "duration": 842,
    "start_time": "2023-01-28T09:18:16.464Z"
   },
   {
    "duration": 1218,
    "start_time": "2023-01-28T09:18:17.308Z"
   },
   {
    "duration": 29,
    "start_time": "2023-01-28T09:18:18.528Z"
   },
   {
    "duration": 14,
    "start_time": "2023-01-28T09:18:18.559Z"
   },
   {
    "duration": 7,
    "start_time": "2023-01-28T09:18:18.575Z"
   },
   {
    "duration": 12,
    "start_time": "2023-01-28T09:18:18.603Z"
   },
   {
    "duration": 16,
    "start_time": "2023-01-28T09:18:18.616Z"
   },
   {
    "duration": 5,
    "start_time": "2023-01-28T09:18:18.634Z"
   },
   {
    "duration": 9,
    "start_time": "2023-01-28T09:18:18.641Z"
   },
   {
    "duration": 4,
    "start_time": "2023-01-28T09:18:18.654Z"
   },
   {
    "duration": 6,
    "start_time": "2023-01-28T09:18:18.660Z"
   },
   {
    "duration": 24,
    "start_time": "2023-01-28T09:18:18.703Z"
   },
   {
    "duration": 12,
    "start_time": "2023-01-28T09:18:18.728Z"
   },
   {
    "duration": 11,
    "start_time": "2023-01-28T09:18:18.742Z"
   },
   {
    "duration": 414,
    "start_time": "2023-01-28T09:18:18.754Z"
   },
   {
    "duration": 12,
    "start_time": "2023-01-28T09:18:19.169Z"
   },
   {
    "duration": 46,
    "start_time": "2023-01-28T09:18:19.183Z"
   },
   {
    "duration": 4,
    "start_time": "2023-01-28T09:18:19.230Z"
   },
   {
    "duration": 84,
    "start_time": "2023-01-28T09:18:19.235Z"
   },
   {
    "duration": 4,
    "start_time": "2023-01-28T09:18:19.321Z"
   },
   {
    "duration": 88,
    "start_time": "2023-01-28T09:18:19.326Z"
   },
   {
    "duration": 4,
    "start_time": "2023-01-28T09:18:19.415Z"
   },
   {
    "duration": 58,
    "start_time": "2023-01-28T09:18:19.420Z"
   },
   {
    "duration": 4,
    "start_time": "2023-01-28T09:18:19.479Z"
   },
   {
    "duration": 34,
    "start_time": "2023-01-28T09:18:19.502Z"
   },
   {
    "duration": 48,
    "start_time": "2023-01-28T09:18:19.538Z"
   },
   {
    "duration": 53,
    "start_time": "2023-01-28T09:18:19.602Z"
   },
   {
    "duration": 78,
    "start_time": "2023-01-28T09:18:19.658Z"
   },
   {
    "duration": 6,
    "start_time": "2023-01-28T09:18:19.737Z"
   },
   {
    "duration": 6507,
    "start_time": "2023-01-28T09:25:27.374Z"
   },
   {
    "duration": 6811,
    "start_time": "2023-01-28T09:25:40.324Z"
   },
   {
    "duration": 980,
    "start_time": "2023-01-28T09:34:44.230Z"
   },
   {
    "duration": 769,
    "start_time": "2023-01-28T09:35:01.229Z"
   },
   {
    "duration": 36,
    "start_time": "2023-01-28T09:36:32.596Z"
   },
   {
    "duration": 4336,
    "start_time": "2023-01-28T09:37:17.828Z"
   },
   {
    "duration": 5,
    "start_time": "2023-01-28T09:41:44.154Z"
   },
   {
    "duration": 4,
    "start_time": "2023-01-28T09:43:10.186Z"
   },
   {
    "duration": 5,
    "start_time": "2023-01-28T09:43:17.620Z"
   },
   {
    "duration": 6,
    "start_time": "2023-01-28T09:43:30.321Z"
   },
   {
    "duration": 5,
    "start_time": "2023-01-28T09:43:40.830Z"
   },
   {
    "duration": 6,
    "start_time": "2023-01-28T09:43:53.940Z"
   },
   {
    "duration": 206,
    "start_time": "2023-01-28T09:44:03.954Z"
   },
   {
    "duration": 9,
    "start_time": "2023-01-28T09:44:14.104Z"
   },
   {
    "duration": 5,
    "start_time": "2023-01-28T09:44:22.562Z"
   },
   {
    "duration": 51,
    "start_time": "2023-01-28T09:45:18.222Z"
   },
   {
    "duration": 100,
    "start_time": "2023-01-28T09:45:46.429Z"
   },
   {
    "duration": 61,
    "start_time": "2023-01-28T09:46:01.025Z"
   },
   {
    "duration": 53,
    "start_time": "2023-01-28T09:46:40.323Z"
   },
   {
    "duration": 115,
    "start_time": "2023-01-28T09:46:56.173Z"
   },
   {
    "duration": 31,
    "start_time": "2023-01-28T09:56:24.041Z"
   },
   {
    "duration": 32,
    "start_time": "2023-01-28T09:56:55.453Z"
   },
   {
    "duration": 31,
    "start_time": "2023-01-28T09:57:27.789Z"
   },
   {
    "duration": 44,
    "start_time": "2023-01-28T09:58:07.175Z"
   },
   {
    "duration": 7,
    "start_time": "2023-01-28T10:00:06.255Z"
   },
   {
    "duration": 69,
    "start_time": "2023-01-28T10:00:09.130Z"
   },
   {
    "duration": 4,
    "start_time": "2023-01-28T10:00:35.001Z"
   },
   {
    "duration": 78,
    "start_time": "2023-01-28T10:00:37.177Z"
   },
   {
    "duration": 109,
    "start_time": "2023-01-28T10:01:27.138Z"
   },
   {
    "duration": 4,
    "start_time": "2023-01-28T10:01:41.245Z"
   },
   {
    "duration": 1401,
    "start_time": "2023-01-28T10:01:41.252Z"
   },
   {
    "duration": 28,
    "start_time": "2023-01-28T10:01:42.655Z"
   },
   {
    "duration": 23,
    "start_time": "2023-01-28T10:01:42.685Z"
   },
   {
    "duration": 11,
    "start_time": "2023-01-28T10:01:42.711Z"
   },
   {
    "duration": 22,
    "start_time": "2023-01-28T10:01:42.724Z"
   },
   {
    "duration": 27,
    "start_time": "2023-01-28T10:01:42.749Z"
   },
   {
    "duration": 27,
    "start_time": "2023-01-28T10:01:42.779Z"
   },
   {
    "duration": 18,
    "start_time": "2023-01-28T10:01:42.809Z"
   },
   {
    "duration": 13,
    "start_time": "2023-01-28T10:01:42.828Z"
   },
   {
    "duration": 11,
    "start_time": "2023-01-28T10:01:42.844Z"
   },
   {
    "duration": 55,
    "start_time": "2023-01-28T10:01:42.858Z"
   },
   {
    "duration": 16,
    "start_time": "2023-01-28T10:01:42.916Z"
   },
   {
    "duration": 19,
    "start_time": "2023-01-28T10:01:42.935Z"
   },
   {
    "duration": 80,
    "start_time": "2023-01-28T10:01:42.956Z"
   },
   {
    "duration": 22,
    "start_time": "2023-01-28T10:01:43.044Z"
   },
   {
    "duration": 57,
    "start_time": "2023-01-28T10:01:43.068Z"
   },
   {
    "duration": 15,
    "start_time": "2023-01-28T10:01:43.128Z"
   },
   {
    "duration": 63,
    "start_time": "2023-01-28T10:01:43.145Z"
   },
   {
    "duration": 9,
    "start_time": "2023-01-28T10:01:43.210Z"
   },
   {
    "duration": 104,
    "start_time": "2023-01-28T10:01:43.222Z"
   },
   {
    "duration": 6,
    "start_time": "2023-01-28T10:01:43.328Z"
   },
   {
    "duration": 110,
    "start_time": "2023-01-28T10:01:43.336Z"
   },
   {
    "duration": 10,
    "start_time": "2023-01-28T10:01:43.449Z"
   },
   {
    "duration": 59,
    "start_time": "2023-01-28T10:01:43.461Z"
   },
   {
    "duration": 121,
    "start_time": "2023-01-28T10:01:43.522Z"
   },
   {
    "duration": 93,
    "start_time": "2023-01-28T10:01:43.647Z"
   },
   {
    "duration": 121,
    "start_time": "2023-01-28T10:01:43.742Z"
   },
   {
    "duration": 7,
    "start_time": "2023-01-28T10:01:43.865Z"
   },
   {
    "duration": 70,
    "start_time": "2023-01-28T10:01:43.873Z"
   },
   {
    "duration": 110,
    "start_time": "2023-01-28T10:01:43.946Z"
   },
   {
    "duration": 56,
    "start_time": "2023-01-28T10:11:20.443Z"
   },
   {
    "duration": 38,
    "start_time": "2023-01-28T10:15:37.744Z"
   },
   {
    "duration": 12,
    "start_time": "2023-01-28T10:16:05.756Z"
   },
   {
    "duration": 62,
    "start_time": "2023-01-28T10:22:23.527Z"
   },
   {
    "duration": 55,
    "start_time": "2023-01-28T10:22:54.515Z"
   },
   {
    "duration": 49,
    "start_time": "2023-01-28T10:24:11.954Z"
   },
   {
    "duration": 59,
    "start_time": "2023-01-28T10:26:30.708Z"
   },
   {
    "duration": 73,
    "start_time": "2023-01-28T10:29:27.467Z"
   },
   {
    "duration": 3,
    "start_time": "2023-01-28T11:43:06.848Z"
   },
   {
    "duration": 1281,
    "start_time": "2023-01-28T11:43:06.852Z"
   },
   {
    "duration": 25,
    "start_time": "2023-01-28T11:43:08.134Z"
   },
   {
    "duration": 12,
    "start_time": "2023-01-28T11:43:08.160Z"
   },
   {
    "duration": 5,
    "start_time": "2023-01-28T11:43:08.174Z"
   },
   {
    "duration": 23,
    "start_time": "2023-01-28T11:43:08.181Z"
   },
   {
    "duration": 16,
    "start_time": "2023-01-28T11:43:08.205Z"
   },
   {
    "duration": 4,
    "start_time": "2023-01-28T11:43:08.223Z"
   },
   {
    "duration": 14,
    "start_time": "2023-01-28T11:43:08.228Z"
   },
   {
    "duration": 4,
    "start_time": "2023-01-28T11:43:08.244Z"
   },
   {
    "duration": 4,
    "start_time": "2023-01-28T11:43:08.251Z"
   },
   {
    "duration": 51,
    "start_time": "2023-01-28T11:43:08.258Z"
   },
   {
    "duration": 24,
    "start_time": "2023-01-28T11:43:08.310Z"
   },
   {
    "duration": 15,
    "start_time": "2023-01-28T11:43:08.336Z"
   },
   {
    "duration": 38,
    "start_time": "2023-01-28T11:43:08.353Z"
   },
   {
    "duration": 18,
    "start_time": "2023-01-28T11:43:08.393Z"
   },
   {
    "duration": 36,
    "start_time": "2023-01-28T11:43:08.413Z"
   },
   {
    "duration": 5,
    "start_time": "2023-01-28T11:43:08.451Z"
   },
   {
    "duration": 58,
    "start_time": "2023-01-28T11:43:08.458Z"
   },
   {
    "duration": 4,
    "start_time": "2023-01-28T11:43:08.519Z"
   },
   {
    "duration": 59,
    "start_time": "2023-01-28T11:43:08.525Z"
   },
   {
    "duration": 21,
    "start_time": "2023-01-28T11:43:08.585Z"
   },
   {
    "duration": 63,
    "start_time": "2023-01-28T11:43:08.608Z"
   },
   {
    "duration": 4,
    "start_time": "2023-01-28T11:43:08.672Z"
   },
   {
    "duration": 54,
    "start_time": "2023-01-28T11:43:08.678Z"
   },
   {
    "duration": 49,
    "start_time": "2023-01-28T11:43:08.733Z"
   },
   {
    "duration": 64,
    "start_time": "2023-01-28T11:43:08.784Z"
   },
   {
    "duration": 78,
    "start_time": "2023-01-28T11:43:08.850Z"
   },
   {
    "duration": 5,
    "start_time": "2023-01-28T11:43:08.931Z"
   },
   {
    "duration": 30,
    "start_time": "2023-01-28T11:43:08.938Z"
   },
   {
    "duration": 79,
    "start_time": "2023-01-28T11:43:08.970Z"
   },
   {
    "duration": 70,
    "start_time": "2023-01-28T11:43:09.050Z"
   },
   {
    "duration": 39,
    "start_time": "2023-01-28T11:43:09.122Z"
   },
   {
    "duration": 68,
    "start_time": "2023-01-28T11:43:09.162Z"
   },
   {
    "duration": 72,
    "start_time": "2023-01-28T11:43:09.231Z"
   },
   {
    "duration": 53,
    "start_time": "2023-01-28T11:45:04.911Z"
   },
   {
    "duration": 50,
    "start_time": "2023-01-28T11:47:09.015Z"
   },
   {
    "duration": 3,
    "start_time": "2023-01-28T11:50:57.773Z"
   },
   {
    "duration": 1162,
    "start_time": "2023-01-28T11:50:57.778Z"
   },
   {
    "duration": 25,
    "start_time": "2023-01-28T11:50:58.942Z"
   },
   {
    "duration": 13,
    "start_time": "2023-01-28T11:50:58.968Z"
   },
   {
    "duration": 6,
    "start_time": "2023-01-28T11:50:58.984Z"
   },
   {
    "duration": 15,
    "start_time": "2023-01-28T11:50:58.992Z"
   },
   {
    "duration": 15,
    "start_time": "2023-01-28T11:50:59.008Z"
   },
   {
    "duration": 4,
    "start_time": "2023-01-28T11:50:59.024Z"
   },
   {
    "duration": 12,
    "start_time": "2023-01-28T11:50:59.030Z"
   },
   {
    "duration": 5,
    "start_time": "2023-01-28T11:50:59.044Z"
   },
   {
    "duration": 10,
    "start_time": "2023-01-28T11:50:59.051Z"
   },
   {
    "duration": 56,
    "start_time": "2023-01-28T11:50:59.062Z"
   },
   {
    "duration": 15,
    "start_time": "2023-01-28T11:50:59.120Z"
   },
   {
    "duration": 13,
    "start_time": "2023-01-28T11:50:59.136Z"
   },
   {
    "duration": 57,
    "start_time": "2023-01-28T11:50:59.150Z"
   },
   {
    "duration": 13,
    "start_time": "2023-01-28T11:50:59.210Z"
   },
   {
    "duration": 45,
    "start_time": "2023-01-28T11:50:59.225Z"
   },
   {
    "duration": 4,
    "start_time": "2023-01-28T11:50:59.273Z"
   },
   {
    "duration": 52,
    "start_time": "2023-01-28T11:50:59.279Z"
   },
   {
    "duration": 5,
    "start_time": "2023-01-28T11:50:59.333Z"
   },
   {
    "duration": 49,
    "start_time": "2023-01-28T11:50:59.339Z"
   },
   {
    "duration": 4,
    "start_time": "2023-01-28T11:50:59.404Z"
   },
   {
    "duration": 63,
    "start_time": "2023-01-28T11:50:59.410Z"
   },
   {
    "duration": 4,
    "start_time": "2023-01-28T11:50:59.475Z"
   },
   {
    "duration": 50,
    "start_time": "2023-01-28T11:50:59.481Z"
   },
   {
    "duration": 57,
    "start_time": "2023-01-28T11:50:59.533Z"
   },
   {
    "duration": 68,
    "start_time": "2023-01-28T11:50:59.593Z"
   },
   {
    "duration": 86,
    "start_time": "2023-01-28T11:50:59.663Z"
   },
   {
    "duration": 6,
    "start_time": "2023-01-28T11:50:59.752Z"
   },
   {
    "duration": 62,
    "start_time": "2023-01-28T11:50:59.759Z"
   },
   {
    "duration": 66,
    "start_time": "2023-01-28T11:50:59.822Z"
   },
   {
    "duration": 61,
    "start_time": "2023-01-28T11:50:59.890Z"
   },
   {
    "duration": 53,
    "start_time": "2023-01-28T11:50:59.953Z"
   },
   {
    "duration": 54,
    "start_time": "2023-01-28T11:51:00.008Z"
   },
   {
    "duration": 75,
    "start_time": "2023-01-28T11:51:00.064Z"
   },
   {
    "duration": 64,
    "start_time": "2023-01-28T11:51:00.141Z"
   },
   {
    "duration": 408,
    "start_time": "2023-01-28T11:54:33.304Z"
   },
   {
    "duration": 4,
    "start_time": "2023-01-28T11:54:35.988Z"
   },
   {
    "duration": 1415,
    "start_time": "2023-01-28T11:54:35.994Z"
   },
   {
    "duration": 26,
    "start_time": "2023-01-28T11:54:37.411Z"
   },
   {
    "duration": 16,
    "start_time": "2023-01-28T11:54:37.440Z"
   },
   {
    "duration": 7,
    "start_time": "2023-01-28T11:54:37.458Z"
   },
   {
    "duration": 38,
    "start_time": "2023-01-28T11:54:37.467Z"
   },
   {
    "duration": 14,
    "start_time": "2023-01-28T11:54:37.507Z"
   },
   {
    "duration": 6,
    "start_time": "2023-01-28T11:54:37.523Z"
   },
   {
    "duration": 12,
    "start_time": "2023-01-28T11:54:37.531Z"
   },
   {
    "duration": 9,
    "start_time": "2023-01-28T11:54:37.545Z"
   },
   {
    "duration": 9,
    "start_time": "2023-01-28T11:54:37.557Z"
   },
   {
    "duration": 55,
    "start_time": "2023-01-28T11:54:37.568Z"
   },
   {
    "duration": 17,
    "start_time": "2023-01-28T11:54:37.625Z"
   },
   {
    "duration": 15,
    "start_time": "2023-01-28T11:54:37.644Z"
   },
   {
    "duration": 53,
    "start_time": "2023-01-28T11:54:37.661Z"
   },
   {
    "duration": 13,
    "start_time": "2023-01-28T11:54:37.715Z"
   },
   {
    "duration": 41,
    "start_time": "2023-01-28T11:54:37.730Z"
   },
   {
    "duration": 9,
    "start_time": "2023-01-28T11:54:37.773Z"
   },
   {
    "duration": 42,
    "start_time": "2023-01-28T11:54:37.784Z"
   },
   {
    "duration": 5,
    "start_time": "2023-01-28T11:54:37.828Z"
   },
   {
    "duration": 51,
    "start_time": "2023-01-28T11:54:37.834Z"
   },
   {
    "duration": 17,
    "start_time": "2023-01-28T11:54:37.887Z"
   },
   {
    "duration": 64,
    "start_time": "2023-01-28T11:54:37.905Z"
   },
   {
    "duration": 4,
    "start_time": "2023-01-28T11:54:37.970Z"
   },
   {
    "duration": 45,
    "start_time": "2023-01-28T11:54:37.976Z"
   },
   {
    "duration": 54,
    "start_time": "2023-01-28T11:54:38.023Z"
   },
   {
    "duration": 72,
    "start_time": "2023-01-28T11:54:38.078Z"
   },
   {
    "duration": 78,
    "start_time": "2023-01-28T11:54:38.153Z"
   },
   {
    "duration": 6,
    "start_time": "2023-01-28T11:54:38.235Z"
   },
   {
    "duration": 33,
    "start_time": "2023-01-28T11:54:38.242Z"
   },
   {
    "duration": 75,
    "start_time": "2023-01-28T11:54:38.277Z"
   },
   {
    "duration": 70,
    "start_time": "2023-01-28T11:54:38.354Z"
   },
   {
    "duration": 37,
    "start_time": "2023-01-28T11:54:38.426Z"
   },
   {
    "duration": 66,
    "start_time": "2023-01-28T11:54:38.465Z"
   },
   {
    "duration": 47,
    "start_time": "2023-01-28T11:54:38.533Z"
   },
   {
    "duration": 74,
    "start_time": "2023-01-28T11:54:38.582Z"
   },
   {
    "duration": 1378,
    "start_time": "2023-01-29T07:32:07.873Z"
   },
   {
    "duration": 1466,
    "start_time": "2023-01-29T07:32:09.253Z"
   },
   {
    "duration": 30,
    "start_time": "2023-01-29T07:32:10.721Z"
   },
   {
    "duration": 14,
    "start_time": "2023-01-29T07:32:10.753Z"
   },
   {
    "duration": 5,
    "start_time": "2023-01-29T07:32:10.769Z"
   },
   {
    "duration": 22,
    "start_time": "2023-01-29T07:32:10.776Z"
   },
   {
    "duration": 13,
    "start_time": "2023-01-29T07:32:10.800Z"
   },
   {
    "duration": 3,
    "start_time": "2023-01-29T07:32:10.814Z"
   },
   {
    "duration": 7,
    "start_time": "2023-01-29T07:32:10.819Z"
   },
   {
    "duration": 3,
    "start_time": "2023-01-29T07:32:10.829Z"
   },
   {
    "duration": 5,
    "start_time": "2023-01-29T07:32:10.834Z"
   },
   {
    "duration": 52,
    "start_time": "2023-01-29T07:32:10.840Z"
   },
   {
    "duration": 11,
    "start_time": "2023-01-29T07:32:10.894Z"
   },
   {
    "duration": 11,
    "start_time": "2023-01-29T07:32:10.906Z"
   },
   {
    "duration": 379,
    "start_time": "2023-01-29T07:32:10.919Z"
   },
   {
    "duration": 12,
    "start_time": "2023-01-29T07:32:11.300Z"
   },
   {
    "duration": 94,
    "start_time": "2023-01-29T07:32:11.314Z"
   },
   {
    "duration": 10,
    "start_time": "2023-01-29T07:32:11.411Z"
   },
   {
    "duration": 82,
    "start_time": "2023-01-29T07:32:11.423Z"
   },
   {
    "duration": 5,
    "start_time": "2023-01-29T07:32:11.507Z"
   },
   {
    "duration": 61,
    "start_time": "2023-01-29T07:32:11.514Z"
   },
   {
    "duration": 4,
    "start_time": "2023-01-29T07:32:11.591Z"
   },
   {
    "duration": 60,
    "start_time": "2023-01-29T07:32:11.597Z"
   },
   {
    "duration": 3,
    "start_time": "2023-01-29T07:32:11.659Z"
   },
   {
    "duration": 49,
    "start_time": "2023-01-29T07:32:11.664Z"
   },
   {
    "duration": 44,
    "start_time": "2023-01-29T07:32:11.715Z"
   },
   {
    "duration": 63,
    "start_time": "2023-01-29T07:32:11.761Z"
   },
   {
    "duration": 130,
    "start_time": "2023-01-29T07:32:11.827Z"
   },
   {
    "duration": 6,
    "start_time": "2023-01-29T07:32:11.959Z"
   },
   {
    "duration": 41,
    "start_time": "2023-01-29T07:32:11.967Z"
   },
   {
    "duration": 54,
    "start_time": "2023-01-29T07:32:12.010Z"
   },
   {
    "duration": 76,
    "start_time": "2023-01-29T07:32:12.066Z"
   },
   {
    "duration": 52,
    "start_time": "2023-01-29T07:32:12.144Z"
   },
   {
    "duration": 47,
    "start_time": "2023-01-29T07:32:12.197Z"
   },
   {
    "duration": 64,
    "start_time": "2023-01-29T07:32:12.245Z"
   },
   {
    "duration": 42,
    "start_time": "2023-01-29T07:32:12.311Z"
   },
   {
    "duration": 342,
    "start_time": "2023-01-29T07:50:49.005Z"
   },
   {
    "duration": 59,
    "start_time": "2023-01-29T07:51:20.724Z"
   },
   {
    "duration": 1319,
    "start_time": "2023-01-29T07:51:20.785Z"
   },
   {
    "duration": 25,
    "start_time": "2023-01-29T07:51:22.106Z"
   },
   {
    "duration": 13,
    "start_time": "2023-01-29T07:51:22.133Z"
   },
   {
    "duration": 4,
    "start_time": "2023-01-29T07:51:22.148Z"
   },
   {
    "duration": 10,
    "start_time": "2023-01-29T07:51:22.154Z"
   },
   {
    "duration": 45,
    "start_time": "2023-01-29T07:51:22.165Z"
   },
   {
    "duration": 4,
    "start_time": "2023-01-29T07:51:22.212Z"
   },
   {
    "duration": 24,
    "start_time": "2023-01-29T07:51:22.218Z"
   },
   {
    "duration": 8,
    "start_time": "2023-01-29T07:51:22.245Z"
   },
   {
    "duration": 6,
    "start_time": "2023-01-29T07:51:22.255Z"
   },
   {
    "duration": 38,
    "start_time": "2023-01-29T07:51:22.263Z"
   },
   {
    "duration": 13,
    "start_time": "2023-01-29T07:51:22.303Z"
   },
   {
    "duration": 13,
    "start_time": "2023-01-29T07:51:22.317Z"
   },
   {
    "duration": 38,
    "start_time": "2023-01-29T07:51:22.331Z"
   },
   {
    "duration": 29,
    "start_time": "2023-01-29T07:51:22.371Z"
   },
   {
    "duration": 40,
    "start_time": "2023-01-29T07:51:22.402Z"
   },
   {
    "duration": 5,
    "start_time": "2023-01-29T07:51:22.443Z"
   },
   {
    "duration": 67,
    "start_time": "2023-01-29T07:51:22.450Z"
   },
   {
    "duration": 4,
    "start_time": "2023-01-29T07:51:22.518Z"
   },
   {
    "duration": 48,
    "start_time": "2023-01-29T07:51:22.524Z"
   },
   {
    "duration": 4,
    "start_time": "2023-01-29T07:51:22.574Z"
   },
   {
    "duration": 68,
    "start_time": "2023-01-29T07:51:22.579Z"
   },
   {
    "duration": 3,
    "start_time": "2023-01-29T07:51:22.649Z"
   },
   {
    "duration": 59,
    "start_time": "2023-01-29T07:51:22.654Z"
   },
   {
    "duration": 48,
    "start_time": "2023-01-29T07:51:22.715Z"
   },
   {
    "duration": 75,
    "start_time": "2023-01-29T07:51:22.764Z"
   },
   {
    "duration": 84,
    "start_time": "2023-01-29T07:51:22.842Z"
   },
   {
    "duration": 6,
    "start_time": "2023-01-29T07:51:22.928Z"
   },
   {
    "duration": 38,
    "start_time": "2023-01-29T07:51:22.935Z"
   },
   {
    "duration": 69,
    "start_time": "2023-01-29T07:51:22.975Z"
   },
   {
    "duration": 69,
    "start_time": "2023-01-29T07:51:23.046Z"
   },
   {
    "duration": 38,
    "start_time": "2023-01-29T07:51:23.116Z"
   },
   {
    "duration": 70,
    "start_time": "2023-01-29T07:51:23.155Z"
   },
   {
    "duration": 52,
    "start_time": "2023-01-29T07:51:23.227Z"
   },
   {
    "duration": 57,
    "start_time": "2023-01-29T07:51:23.293Z"
   },
   {
    "duration": 1017,
    "start_time": "2023-01-29T07:51:23.352Z"
   },
   {
    "duration": 851,
    "start_time": "2023-01-29T07:52:17.828Z"
   },
   {
    "duration": 896,
    "start_time": "2023-01-29T07:53:59.717Z"
   },
   {
    "duration": 917,
    "start_time": "2023-01-29T07:54:16.788Z"
   },
   {
    "duration": 1002,
    "start_time": "2023-01-29T07:54:36.052Z"
   },
   {
    "duration": 89,
    "start_time": "2023-01-29T07:54:54.272Z"
   },
   {
    "duration": 926,
    "start_time": "2023-01-29T07:54:58.168Z"
   },
   {
    "duration": 909,
    "start_time": "2023-01-29T07:55:17.860Z"
   },
   {
    "duration": 1053,
    "start_time": "2023-01-29T07:55:31.228Z"
   },
   {
    "duration": 68,
    "start_time": "2023-01-29T07:55:44.261Z"
   },
   {
    "duration": 918,
    "start_time": "2023-01-29T07:55:48.389Z"
   },
   {
    "duration": 818,
    "start_time": "2023-01-29T07:56:40.615Z"
   },
   {
    "duration": 914,
    "start_time": "2023-01-29T07:57:04.704Z"
   },
   {
    "duration": 79,
    "start_time": "2023-01-29T07:57:19.743Z"
   },
   {
    "duration": 891,
    "start_time": "2023-01-29T07:57:23.019Z"
   },
   {
    "duration": 951,
    "start_time": "2023-01-29T07:57:33.711Z"
   },
   {
    "duration": 10,
    "start_time": "2023-01-29T08:19:33.933Z"
   },
   {
    "duration": 9,
    "start_time": "2023-01-29T08:24:18.878Z"
   },
   {
    "duration": 14,
    "start_time": "2023-01-29T08:24:56.641Z"
   },
   {
    "duration": 4,
    "start_time": "2023-01-29T08:25:04.633Z"
   },
   {
    "duration": 4,
    "start_time": "2023-01-29T08:25:28.877Z"
   },
   {
    "duration": 4,
    "start_time": "2023-01-29T08:25:32.049Z"
   },
   {
    "duration": 1869,
    "start_time": "2023-01-29T08:25:32.055Z"
   },
   {
    "duration": 24,
    "start_time": "2023-01-29T08:25:33.926Z"
   },
   {
    "duration": 31,
    "start_time": "2023-01-29T08:25:33.952Z"
   },
   {
    "duration": 5,
    "start_time": "2023-01-29T08:25:33.985Z"
   },
   {
    "duration": 12,
    "start_time": "2023-01-29T08:25:33.991Z"
   },
   {
    "duration": 49,
    "start_time": "2023-01-29T08:25:34.005Z"
   },
   {
    "duration": 87,
    "start_time": "2023-01-29T08:25:34.056Z"
   },
   {
    "duration": 52,
    "start_time": "2023-01-29T08:25:34.145Z"
   },
   {
    "duration": 14,
    "start_time": "2023-01-29T08:25:34.199Z"
   },
   {
    "duration": 17,
    "start_time": "2023-01-29T08:25:34.216Z"
   },
   {
    "duration": 26,
    "start_time": "2023-01-29T08:25:34.235Z"
   },
   {
    "duration": 24,
    "start_time": "2023-01-29T08:25:34.263Z"
   },
   {
    "duration": 21,
    "start_time": "2023-01-29T08:25:34.289Z"
   },
   {
    "duration": 38,
    "start_time": "2023-01-29T08:25:34.312Z"
   },
   {
    "duration": 12,
    "start_time": "2023-01-29T08:25:34.352Z"
   },
   {
    "duration": 41,
    "start_time": "2023-01-29T08:25:34.366Z"
   },
   {
    "duration": 4,
    "start_time": "2023-01-29T08:25:34.409Z"
   },
   {
    "duration": 30,
    "start_time": "2023-01-29T08:25:34.415Z"
   },
   {
    "duration": 4,
    "start_time": "2023-01-29T08:25:34.447Z"
   },
   {
    "duration": 72,
    "start_time": "2023-01-29T08:25:34.452Z"
   },
   {
    "duration": 4,
    "start_time": "2023-01-29T08:25:34.526Z"
   },
   {
    "duration": 64,
    "start_time": "2023-01-29T08:25:34.532Z"
   },
   {
    "duration": 3,
    "start_time": "2023-01-29T08:25:34.597Z"
   },
   {
    "duration": 42,
    "start_time": "2023-01-29T08:25:34.602Z"
   },
   {
    "duration": 61,
    "start_time": "2023-01-29T08:25:34.646Z"
   },
   {
    "duration": 62,
    "start_time": "2023-01-29T08:25:34.709Z"
   },
   {
    "duration": 86,
    "start_time": "2023-01-29T08:25:34.773Z"
   },
   {
    "duration": 5,
    "start_time": "2023-01-29T08:25:34.862Z"
   },
   {
    "duration": 50,
    "start_time": "2023-01-29T08:25:34.869Z"
   },
   {
    "duration": 55,
    "start_time": "2023-01-29T08:25:34.921Z"
   },
   {
    "duration": 65,
    "start_time": "2023-01-29T08:25:34.977Z"
   },
   {
    "duration": 58,
    "start_time": "2023-01-29T08:25:35.044Z"
   },
   {
    "duration": 73,
    "start_time": "2023-01-29T08:25:35.104Z"
   },
   {
    "duration": 45,
    "start_time": "2023-01-29T08:25:35.179Z"
   },
   {
    "duration": 70,
    "start_time": "2023-01-29T08:25:35.226Z"
   },
   {
    "duration": 941,
    "start_time": "2023-01-29T08:25:35.298Z"
   },
   {
    "duration": 11,
    "start_time": "2023-01-29T08:25:36.241Z"
   },
   {
    "duration": 5,
    "start_time": "2023-01-29T08:25:36.254Z"
   },
   {
    "duration": 88,
    "start_time": "2023-01-29T08:25:36.262Z"
   },
   {
    "duration": 3,
    "start_time": "2023-01-29T08:25:36.351Z"
   },
   {
    "duration": 4,
    "start_time": "2023-01-29T08:27:20.050Z"
   },
   {
    "duration": 4,
    "start_time": "2023-01-29T08:27:23.073Z"
   },
   {
    "duration": 1338,
    "start_time": "2023-01-29T08:27:23.081Z"
   },
   {
    "duration": 22,
    "start_time": "2023-01-29T08:27:24.421Z"
   },
   {
    "duration": 21,
    "start_time": "2023-01-29T08:27:24.445Z"
   },
   {
    "duration": 10,
    "start_time": "2023-01-29T08:27:24.468Z"
   },
   {
    "duration": 12,
    "start_time": "2023-01-29T08:27:24.480Z"
   },
   {
    "duration": 17,
    "start_time": "2023-01-29T08:27:24.493Z"
   },
   {
    "duration": 3,
    "start_time": "2023-01-29T08:27:24.512Z"
   },
   {
    "duration": 10,
    "start_time": "2023-01-29T08:27:24.517Z"
   },
   {
    "duration": 9,
    "start_time": "2023-01-29T08:27:24.528Z"
   },
   {
    "duration": 10,
    "start_time": "2023-01-29T08:27:24.538Z"
   },
   {
    "duration": 37,
    "start_time": "2023-01-29T08:27:24.549Z"
   },
   {
    "duration": 20,
    "start_time": "2023-01-29T08:27:24.587Z"
   },
   {
    "duration": 11,
    "start_time": "2023-01-29T08:27:24.608Z"
   },
   {
    "duration": 40,
    "start_time": "2023-01-29T08:27:24.622Z"
   },
   {
    "duration": 21,
    "start_time": "2023-01-29T08:27:24.664Z"
   },
   {
    "duration": 37,
    "start_time": "2023-01-29T08:27:24.686Z"
   },
   {
    "duration": 10,
    "start_time": "2023-01-29T08:27:24.725Z"
   },
   {
    "duration": 31,
    "start_time": "2023-01-29T08:27:24.736Z"
   },
   {
    "duration": 14,
    "start_time": "2023-01-29T08:27:24.768Z"
   },
   {
    "duration": 46,
    "start_time": "2023-01-29T08:27:24.783Z"
   },
   {
    "duration": 4,
    "start_time": "2023-01-29T08:27:24.830Z"
   },
   {
    "duration": 64,
    "start_time": "2023-01-29T08:27:24.835Z"
   },
   {
    "duration": 3,
    "start_time": "2023-01-29T08:27:24.901Z"
   },
   {
    "duration": 31,
    "start_time": "2023-01-29T08:27:24.906Z"
   },
   {
    "duration": 61,
    "start_time": "2023-01-29T08:27:24.939Z"
   },
   {
    "duration": 55,
    "start_time": "2023-01-29T08:27:25.001Z"
   },
   {
    "duration": 82,
    "start_time": "2023-01-29T08:27:25.058Z"
   },
   {
    "duration": 5,
    "start_time": "2023-01-29T08:27:25.142Z"
   },
   {
    "duration": 50,
    "start_time": "2023-01-29T08:27:25.149Z"
   },
   {
    "duration": 52,
    "start_time": "2023-01-29T08:27:25.200Z"
   },
   {
    "duration": 63,
    "start_time": "2023-01-29T08:27:25.254Z"
   },
   {
    "duration": 34,
    "start_time": "2023-01-29T08:27:25.318Z"
   },
   {
    "duration": 59,
    "start_time": "2023-01-29T08:27:25.354Z"
   },
   {
    "duration": 41,
    "start_time": "2023-01-29T08:27:25.415Z"
   },
   {
    "duration": 59,
    "start_time": "2023-01-29T08:27:25.458Z"
   },
   {
    "duration": 931,
    "start_time": "2023-01-29T08:27:25.518Z"
   },
   {
    "duration": 11,
    "start_time": "2023-01-29T08:27:26.450Z"
   },
   {
    "duration": 14,
    "start_time": "2023-01-29T08:27:26.463Z"
   },
   {
    "duration": 43,
    "start_time": "2023-01-29T08:27:26.479Z"
   },
   {
    "duration": 6,
    "start_time": "2023-01-29T08:27:26.524Z"
   },
   {
    "duration": 4,
    "start_time": "2023-01-29T08:29:37.108Z"
   },
   {
    "duration": 4,
    "start_time": "2023-01-29T08:33:07.583Z"
   },
   {
    "duration": 1279,
    "start_time": "2023-01-29T08:33:07.589Z"
   },
   {
    "duration": 24,
    "start_time": "2023-01-29T08:33:08.870Z"
   },
   {
    "duration": 12,
    "start_time": "2023-01-29T08:33:08.896Z"
   },
   {
    "duration": 5,
    "start_time": "2023-01-29T08:33:08.910Z"
   },
   {
    "duration": 9,
    "start_time": "2023-01-29T08:33:08.917Z"
   },
   {
    "duration": 15,
    "start_time": "2023-01-29T08:33:08.927Z"
   },
   {
    "duration": 3,
    "start_time": "2023-01-29T08:33:08.943Z"
   },
   {
    "duration": 8,
    "start_time": "2023-01-29T08:33:08.948Z"
   },
   {
    "duration": 38,
    "start_time": "2023-01-29T08:33:08.957Z"
   },
   {
    "duration": 10,
    "start_time": "2023-01-29T08:33:08.996Z"
   },
   {
    "duration": 135,
    "start_time": "2023-01-29T08:33:09.008Z"
   },
   {
    "duration": 13,
    "start_time": "2023-01-29T08:33:09.144Z"
   },
   {
    "duration": 11,
    "start_time": "2023-01-29T08:33:09.159Z"
   },
   {
    "duration": 64,
    "start_time": "2023-01-29T08:33:09.171Z"
   },
   {
    "duration": 12,
    "start_time": "2023-01-29T08:33:09.237Z"
   },
   {
    "duration": 50,
    "start_time": "2023-01-29T08:33:09.251Z"
   },
   {
    "duration": 4,
    "start_time": "2023-01-29T08:33:09.302Z"
   },
   {
    "duration": 29,
    "start_time": "2023-01-29T08:33:09.308Z"
   },
   {
    "duration": 4,
    "start_time": "2023-01-29T08:33:09.339Z"
   },
   {
    "duration": 71,
    "start_time": "2023-01-29T08:33:09.344Z"
   },
   {
    "duration": 4,
    "start_time": "2023-01-29T08:33:09.416Z"
   },
   {
    "duration": 70,
    "start_time": "2023-01-29T08:33:09.422Z"
   },
   {
    "duration": 4,
    "start_time": "2023-01-29T08:33:09.493Z"
   },
   {
    "duration": 60,
    "start_time": "2023-01-29T08:33:09.498Z"
   },
   {
    "duration": 62,
    "start_time": "2023-01-29T08:33:09.560Z"
   },
   {
    "duration": 55,
    "start_time": "2023-01-29T08:33:09.624Z"
   },
   {
    "duration": 80,
    "start_time": "2023-01-29T08:33:09.681Z"
   },
   {
    "duration": 6,
    "start_time": "2023-01-29T08:33:09.763Z"
   },
   {
    "duration": 53,
    "start_time": "2023-01-29T08:33:09.770Z"
   },
   {
    "duration": 69,
    "start_time": "2023-01-29T08:33:09.825Z"
   },
   {
    "duration": 54,
    "start_time": "2023-01-29T08:33:09.896Z"
   },
   {
    "duration": 52,
    "start_time": "2023-01-29T08:33:09.951Z"
   },
   {
    "duration": 47,
    "start_time": "2023-01-29T08:33:10.005Z"
   },
   {
    "duration": 69,
    "start_time": "2023-01-29T08:33:10.054Z"
   },
   {
    "duration": 45,
    "start_time": "2023-01-29T08:33:10.125Z"
   },
   {
    "duration": 886,
    "start_time": "2023-01-29T08:33:10.172Z"
   },
   {
    "duration": 11,
    "start_time": "2023-01-29T08:33:11.060Z"
   },
   {
    "duration": 19,
    "start_time": "2023-01-29T08:33:11.073Z"
   },
   {
    "duration": 10,
    "start_time": "2023-01-29T08:33:11.094Z"
   },
   {
    "duration": 27,
    "start_time": "2023-01-29T08:33:11.107Z"
   },
   {
    "duration": 1398,
    "start_time": "2023-01-29T10:26:18.733Z"
   },
   {
    "duration": 1174,
    "start_time": "2023-01-29T10:26:20.133Z"
   },
   {
    "duration": 29,
    "start_time": "2023-01-29T10:26:21.309Z"
   },
   {
    "duration": 12,
    "start_time": "2023-01-29T10:26:21.340Z"
   },
   {
    "duration": 9,
    "start_time": "2023-01-29T10:26:21.354Z"
   },
   {
    "duration": 12,
    "start_time": "2023-01-29T10:26:21.364Z"
   },
   {
    "duration": 16,
    "start_time": "2023-01-29T10:26:21.377Z"
   },
   {
    "duration": 4,
    "start_time": "2023-01-29T10:26:21.395Z"
   },
   {
    "duration": 30,
    "start_time": "2023-01-29T10:26:21.401Z"
   },
   {
    "duration": 5,
    "start_time": "2023-01-29T10:26:21.435Z"
   },
   {
    "duration": 6,
    "start_time": "2023-01-29T10:26:21.442Z"
   },
   {
    "duration": 24,
    "start_time": "2023-01-29T10:26:21.450Z"
   },
   {
    "duration": 18,
    "start_time": "2023-01-29T10:26:21.477Z"
   },
   {
    "duration": 35,
    "start_time": "2023-01-29T10:26:21.498Z"
   },
   {
    "duration": 357,
    "start_time": "2023-01-29T10:26:21.534Z"
   },
   {
    "duration": 13,
    "start_time": "2023-01-29T10:26:21.893Z"
   },
   {
    "duration": 52,
    "start_time": "2023-01-29T10:26:21.908Z"
   },
   {
    "duration": 10,
    "start_time": "2023-01-29T10:26:21.962Z"
   },
   {
    "duration": 80,
    "start_time": "2023-01-29T10:26:21.973Z"
   },
   {
    "duration": 17,
    "start_time": "2023-01-29T10:26:22.055Z"
   },
   {
    "duration": 80,
    "start_time": "2023-01-29T10:26:22.074Z"
   },
   {
    "duration": 4,
    "start_time": "2023-01-29T10:26:22.156Z"
   },
   {
    "duration": 70,
    "start_time": "2023-01-29T10:26:22.162Z"
   },
   {
    "duration": 3,
    "start_time": "2023-01-29T10:26:22.234Z"
   },
   {
    "duration": 55,
    "start_time": "2023-01-29T10:26:22.239Z"
   },
   {
    "duration": 136,
    "start_time": "2023-01-29T10:26:22.296Z"
   },
   {
    "duration": 52,
    "start_time": "2023-01-29T10:26:22.434Z"
   },
   {
    "duration": 79,
    "start_time": "2023-01-29T10:26:22.489Z"
   },
   {
    "duration": 6,
    "start_time": "2023-01-29T10:26:22.570Z"
   },
   {
    "duration": 40,
    "start_time": "2023-01-29T10:26:22.578Z"
   },
   {
    "duration": 59,
    "start_time": "2023-01-29T10:26:22.627Z"
   },
   {
    "duration": 84,
    "start_time": "2023-01-29T10:26:22.688Z"
   },
   {
    "duration": 37,
    "start_time": "2023-01-29T10:26:22.773Z"
   },
   {
    "duration": 63,
    "start_time": "2023-01-29T10:26:22.812Z"
   },
   {
    "duration": 66,
    "start_time": "2023-01-29T10:26:22.876Z"
   },
   {
    "duration": 45,
    "start_time": "2023-01-29T10:26:22.944Z"
   },
   {
    "duration": 984,
    "start_time": "2023-01-29T10:26:22.991Z"
   },
   {
    "duration": 11,
    "start_time": "2023-01-29T10:26:23.976Z"
   },
   {
    "duration": 52,
    "start_time": "2023-01-29T10:26:23.988Z"
   },
   {
    "duration": 28,
    "start_time": "2023-01-29T10:26:24.041Z"
   },
   {
    "duration": 10,
    "start_time": "2023-01-29T10:26:24.071Z"
   },
   {
    "duration": 64,
    "start_time": "2023-01-29T10:29:31.357Z"
   },
   {
    "duration": 1471,
    "start_time": "2023-01-30T09:08:24.007Z"
   },
   {
    "duration": 1258,
    "start_time": "2023-01-30T09:08:25.480Z"
   },
   {
    "duration": 28,
    "start_time": "2023-01-30T09:08:26.739Z"
   },
   {
    "duration": 50,
    "start_time": "2023-01-30T09:08:26.769Z"
   },
   {
    "duration": 15,
    "start_time": "2023-01-30T09:08:26.821Z"
   },
   {
    "duration": 29,
    "start_time": "2023-01-30T09:08:26.837Z"
   },
   {
    "duration": 19,
    "start_time": "2023-01-30T09:08:26.867Z"
   },
   {
    "duration": 11,
    "start_time": "2023-01-30T09:08:26.888Z"
   },
   {
    "duration": 32,
    "start_time": "2023-01-30T09:08:26.900Z"
   },
   {
    "duration": 41,
    "start_time": "2023-01-30T09:08:26.934Z"
   },
   {
    "duration": 28,
    "start_time": "2023-01-30T09:08:26.977Z"
   },
   {
    "duration": 48,
    "start_time": "2023-01-30T09:08:27.006Z"
   },
   {
    "duration": 48,
    "start_time": "2023-01-30T09:08:27.056Z"
   },
   {
    "duration": 32,
    "start_time": "2023-01-30T09:08:27.105Z"
   },
   {
    "duration": 406,
    "start_time": "2023-01-30T09:08:27.138Z"
   },
   {
    "duration": 15,
    "start_time": "2023-01-30T09:08:27.545Z"
   },
   {
    "duration": 96,
    "start_time": "2023-01-30T09:08:27.561Z"
   },
   {
    "duration": 40,
    "start_time": "2023-01-30T09:08:27.658Z"
   },
   {
    "duration": 64,
    "start_time": "2023-01-30T09:08:27.700Z"
   },
   {
    "duration": 16,
    "start_time": "2023-01-30T09:08:27.766Z"
   },
   {
    "duration": 84,
    "start_time": "2023-01-30T09:08:27.784Z"
   },
   {
    "duration": 5,
    "start_time": "2023-01-30T09:08:27.869Z"
   },
   {
    "duration": 67,
    "start_time": "2023-01-30T09:08:27.875Z"
   },
   {
    "duration": 4,
    "start_time": "2023-01-30T09:08:27.944Z"
   },
   {
    "duration": 36,
    "start_time": "2023-01-30T09:08:27.950Z"
   },
   {
    "duration": 147,
    "start_time": "2023-01-30T09:08:27.987Z"
   },
   {
    "duration": 61,
    "start_time": "2023-01-30T09:08:28.139Z"
   },
   {
    "duration": 98,
    "start_time": "2023-01-30T09:08:28.204Z"
   },
   {
    "duration": 6,
    "start_time": "2023-01-30T09:08:28.303Z"
   },
   {
    "duration": 41,
    "start_time": "2023-01-30T09:08:28.310Z"
   },
   {
    "duration": 53,
    "start_time": "2023-01-30T09:08:28.353Z"
   },
   {
    "duration": 71,
    "start_time": "2023-01-30T09:08:28.408Z"
   },
   {
    "duration": 36,
    "start_time": "2023-01-30T09:08:28.481Z"
   },
   {
    "duration": 62,
    "start_time": "2023-01-30T09:08:28.518Z"
   },
   {
    "duration": 64,
    "start_time": "2023-01-30T09:08:28.582Z"
   },
   {
    "duration": 52,
    "start_time": "2023-01-30T09:08:28.648Z"
   },
   {
    "duration": 1008,
    "start_time": "2023-01-30T09:08:28.702Z"
   },
   {
    "duration": 11,
    "start_time": "2023-01-30T09:08:29.712Z"
   },
   {
    "duration": 17,
    "start_time": "2023-01-30T09:08:29.725Z"
   },
   {
    "duration": 18,
    "start_time": "2023-01-30T09:08:29.744Z"
   },
   {
    "duration": 5,
    "start_time": "2023-01-30T09:08:29.764Z"
   },
   {
    "duration": 46,
    "start_time": "2023-01-30T11:41:28.683Z"
   },
   {
    "duration": 37,
    "start_time": "2023-01-30T11:41:59.954Z"
   },
   {
    "duration": 4,
    "start_time": "2023-01-30T11:44:02.154Z"
   },
   {
    "duration": 1222,
    "start_time": "2023-01-30T11:44:02.160Z"
   },
   {
    "duration": 27,
    "start_time": "2023-01-30T11:44:03.384Z"
   },
   {
    "duration": 19,
    "start_time": "2023-01-30T11:44:03.413Z"
   },
   {
    "duration": 6,
    "start_time": "2023-01-30T11:44:03.434Z"
   },
   {
    "duration": 18,
    "start_time": "2023-01-30T11:44:03.442Z"
   },
   {
    "duration": 24,
    "start_time": "2023-01-30T11:44:03.461Z"
   },
   {
    "duration": 5,
    "start_time": "2023-01-30T11:44:03.487Z"
   },
   {
    "duration": 14,
    "start_time": "2023-01-30T11:44:03.496Z"
   },
   {
    "duration": 32,
    "start_time": "2023-01-30T11:44:03.512Z"
   },
   {
    "duration": 46,
    "start_time": "2023-01-30T11:44:03.546Z"
   },
   {
    "duration": 55,
    "start_time": "2023-01-30T11:44:03.594Z"
   },
   {
    "duration": 25,
    "start_time": "2023-01-30T11:44:03.651Z"
   },
   {
    "duration": 18,
    "start_time": "2023-01-30T11:44:03.678Z"
   },
   {
    "duration": 60,
    "start_time": "2023-01-30T11:44:03.698Z"
   },
   {
    "duration": 18,
    "start_time": "2023-01-30T11:44:03.761Z"
   },
   {
    "duration": 59,
    "start_time": "2023-01-30T11:44:03.781Z"
   },
   {
    "duration": 6,
    "start_time": "2023-01-30T11:44:03.842Z"
   },
   {
    "duration": 44,
    "start_time": "2023-01-30T11:44:03.849Z"
   },
   {
    "duration": 5,
    "start_time": "2023-01-30T11:44:03.895Z"
   },
   {
    "duration": 81,
    "start_time": "2023-01-30T11:44:03.901Z"
   },
   {
    "duration": 6,
    "start_time": "2023-01-30T11:44:03.984Z"
   },
   {
    "duration": 92,
    "start_time": "2023-01-30T11:44:03.991Z"
   },
   {
    "duration": 4,
    "start_time": "2023-01-30T11:44:04.086Z"
   },
   {
    "duration": 50,
    "start_time": "2023-01-30T11:44:04.092Z"
   },
   {
    "duration": 64,
    "start_time": "2023-01-30T11:44:04.144Z"
   },
   {
    "duration": 98,
    "start_time": "2023-01-30T11:44:04.210Z"
   },
   {
    "duration": 97,
    "start_time": "2023-01-30T11:44:04.311Z"
   },
   {
    "duration": 7,
    "start_time": "2023-01-30T11:44:04.410Z"
   },
   {
    "duration": 65,
    "start_time": "2023-01-30T11:44:04.418Z"
   },
   {
    "duration": 79,
    "start_time": "2023-01-30T11:44:04.485Z"
   },
   {
    "duration": 82,
    "start_time": "2023-01-30T11:44:04.566Z"
   },
   {
    "duration": 43,
    "start_time": "2023-01-30T11:44:04.657Z"
   },
   {
    "duration": 74,
    "start_time": "2023-01-30T11:44:04.702Z"
   },
   {
    "duration": 53,
    "start_time": "2023-01-30T11:44:04.778Z"
   },
   {
    "duration": 66,
    "start_time": "2023-01-30T11:44:04.833Z"
   },
   {
    "duration": 1087,
    "start_time": "2023-01-30T11:44:04.901Z"
   },
   {
    "duration": 11,
    "start_time": "2023-01-30T11:44:05.990Z"
   },
   {
    "duration": 14,
    "start_time": "2023-01-30T11:44:06.003Z"
   },
   {
    "duration": 33,
    "start_time": "2023-01-30T11:44:06.018Z"
   },
   {
    "duration": 5,
    "start_time": "2023-01-30T11:44:06.052Z"
   },
   {
    "duration": 50,
    "start_time": "2023-01-30T11:52:06.901Z"
   },
   {
    "duration": 297,
    "start_time": "2023-01-30T11:56:21.373Z"
   },
   {
    "duration": 288,
    "start_time": "2023-01-30T11:56:27.470Z"
   },
   {
    "duration": 340,
    "start_time": "2023-01-30T11:59:30.409Z"
   },
   {
    "duration": 4,
    "start_time": "2023-01-30T11:59:33.965Z"
   },
   {
    "duration": 1308,
    "start_time": "2023-01-30T11:59:33.973Z"
   },
   {
    "duration": 27,
    "start_time": "2023-01-30T11:59:35.284Z"
   },
   {
    "duration": 13,
    "start_time": "2023-01-30T11:59:35.313Z"
   },
   {
    "duration": 9,
    "start_time": "2023-01-30T11:59:35.328Z"
   },
   {
    "duration": 17,
    "start_time": "2023-01-30T11:59:35.340Z"
   },
   {
    "duration": 39,
    "start_time": "2023-01-30T11:59:35.359Z"
   },
   {
    "duration": 4,
    "start_time": "2023-01-30T11:59:35.400Z"
   },
   {
    "duration": 23,
    "start_time": "2023-01-30T11:59:35.406Z"
   },
   {
    "duration": 21,
    "start_time": "2023-01-30T11:59:35.430Z"
   },
   {
    "duration": 17,
    "start_time": "2023-01-30T11:59:35.453Z"
   },
   {
    "duration": 45,
    "start_time": "2023-01-30T11:59:35.472Z"
   },
   {
    "duration": 31,
    "start_time": "2023-01-30T11:59:35.519Z"
   },
   {
    "duration": 14,
    "start_time": "2023-01-30T11:59:35.552Z"
   },
   {
    "duration": 37,
    "start_time": "2023-01-30T11:59:35.569Z"
   },
   {
    "duration": 33,
    "start_time": "2023-01-30T11:59:35.608Z"
   },
   {
    "duration": 36,
    "start_time": "2023-01-30T11:59:35.643Z"
   },
   {
    "duration": 12,
    "start_time": "2023-01-30T11:59:35.680Z"
   },
   {
    "duration": 47,
    "start_time": "2023-01-30T11:59:35.694Z"
   },
   {
    "duration": 4,
    "start_time": "2023-01-30T11:59:35.742Z"
   },
   {
    "duration": 55,
    "start_time": "2023-01-30T11:59:35.748Z"
   },
   {
    "duration": 4,
    "start_time": "2023-01-30T11:59:35.805Z"
   },
   {
    "duration": 71,
    "start_time": "2023-01-30T11:59:35.811Z"
   },
   {
    "duration": 4,
    "start_time": "2023-01-30T11:59:35.884Z"
   },
   {
    "duration": 36,
    "start_time": "2023-01-30T11:59:35.890Z"
   },
   {
    "duration": 49,
    "start_time": "2023-01-30T11:59:35.939Z"
   },
   {
    "duration": 69,
    "start_time": "2023-01-30T11:59:35.990Z"
   },
   {
    "duration": 64,
    "start_time": "2023-01-30T11:59:36.061Z"
   },
   {
    "duration": 6,
    "start_time": "2023-01-30T11:59:36.139Z"
   },
   {
    "duration": 32,
    "start_time": "2023-01-30T11:59:36.146Z"
   },
   {
    "duration": 73,
    "start_time": "2023-01-30T11:59:36.179Z"
   },
   {
    "duration": 60,
    "start_time": "2023-01-30T11:59:36.254Z"
   },
   {
    "duration": 56,
    "start_time": "2023-01-30T11:59:36.316Z"
   },
   {
    "duration": 48,
    "start_time": "2023-01-30T11:59:36.373Z"
   },
   {
    "duration": 66,
    "start_time": "2023-01-30T11:59:36.423Z"
   },
   {
    "duration": 70,
    "start_time": "2023-01-30T11:59:36.490Z"
   },
   {
    "duration": 932,
    "start_time": "2023-01-30T11:59:36.562Z"
   },
   {
    "duration": 351,
    "start_time": "2023-01-30T11:59:37.495Z"
   },
   {
    "duration": 12,
    "start_time": "2023-01-30T11:59:37.848Z"
   },
   {
    "duration": 5,
    "start_time": "2023-01-30T11:59:37.861Z"
   },
   {
    "duration": 12,
    "start_time": "2023-01-30T11:59:37.868Z"
   },
   {
    "duration": 3,
    "start_time": "2023-01-30T11:59:37.884Z"
   },
   {
    "duration": 439,
    "start_time": "2023-01-30T12:15:46.297Z"
   },
   {
    "duration": 483,
    "start_time": "2023-01-30T12:15:54.343Z"
   },
   {
    "duration": 325,
    "start_time": "2023-01-30T12:16:14.777Z"
   },
   {
    "duration": 1372,
    "start_time": "2023-01-31T13:01:42.525Z"
   },
   {
    "duration": 1289,
    "start_time": "2023-01-31T13:01:43.900Z"
   },
   {
    "duration": 30,
    "start_time": "2023-01-31T13:01:45.191Z"
   },
   {
    "duration": 14,
    "start_time": "2023-01-31T13:01:45.223Z"
   },
   {
    "duration": 6,
    "start_time": "2023-01-31T13:01:45.239Z"
   },
   {
    "duration": 11,
    "start_time": "2023-01-31T13:01:45.247Z"
   },
   {
    "duration": 28,
    "start_time": "2023-01-31T13:01:45.260Z"
   },
   {
    "duration": 33,
    "start_time": "2023-01-31T13:01:45.290Z"
   },
   {
    "duration": 7,
    "start_time": "2023-01-31T13:01:45.325Z"
   },
   {
    "duration": 5,
    "start_time": "2023-01-31T13:01:45.335Z"
   },
   {
    "duration": 7,
    "start_time": "2023-01-31T13:01:45.341Z"
   },
   {
    "duration": 29,
    "start_time": "2023-01-31T13:01:45.349Z"
   },
   {
    "duration": 43,
    "start_time": "2023-01-31T13:01:45.380Z"
   },
   {
    "duration": 19,
    "start_time": "2023-01-31T13:01:45.425Z"
   },
   {
    "duration": 496,
    "start_time": "2023-01-31T13:01:45.446Z"
   },
   {
    "duration": 14,
    "start_time": "2023-01-31T13:01:45.944Z"
   },
   {
    "duration": 84,
    "start_time": "2023-01-31T13:01:45.960Z"
   },
   {
    "duration": 4,
    "start_time": "2023-01-31T13:01:46.046Z"
   },
   {
    "duration": 83,
    "start_time": "2023-01-31T13:01:46.052Z"
   },
   {
    "duration": 5,
    "start_time": "2023-01-31T13:01:46.137Z"
   },
   {
    "duration": 65,
    "start_time": "2023-01-31T13:01:46.143Z"
   },
   {
    "duration": 5,
    "start_time": "2023-01-31T13:01:46.222Z"
   },
   {
    "duration": 73,
    "start_time": "2023-01-31T13:01:46.229Z"
   },
   {
    "duration": 4,
    "start_time": "2023-01-31T13:01:46.321Z"
   },
   {
    "duration": 58,
    "start_time": "2023-01-31T13:01:46.326Z"
   },
   {
    "duration": 129,
    "start_time": "2023-01-31T13:01:46.386Z"
   },
   {
    "duration": 56,
    "start_time": "2023-01-31T13:01:46.520Z"
   },
   {
    "duration": 96,
    "start_time": "2023-01-31T13:01:46.580Z"
   },
   {
    "duration": 7,
    "start_time": "2023-01-31T13:01:46.678Z"
   },
   {
    "duration": 46,
    "start_time": "2023-01-31T13:01:46.686Z"
   },
   {
    "duration": 59,
    "start_time": "2023-01-31T13:01:46.734Z"
   },
   {
    "duration": 88,
    "start_time": "2023-01-31T13:01:46.795Z"
   },
   {
    "duration": 55,
    "start_time": "2023-01-31T13:01:46.886Z"
   },
   {
    "duration": 54,
    "start_time": "2023-01-31T13:01:46.942Z"
   },
   {
    "duration": 69,
    "start_time": "2023-01-31T13:01:46.998Z"
   },
   {
    "duration": 76,
    "start_time": "2023-01-31T13:01:47.068Z"
   },
   {
    "duration": 993,
    "start_time": "2023-01-31T13:01:47.146Z"
   },
   {
    "duration": 347,
    "start_time": "2023-01-31T13:01:48.141Z"
   },
   {
    "duration": 12,
    "start_time": "2023-01-31T13:01:48.489Z"
   },
   {
    "duration": 19,
    "start_time": "2023-01-31T13:01:48.503Z"
   },
   {
    "duration": 12,
    "start_time": "2023-01-31T13:01:48.525Z"
   },
   {
    "duration": 5,
    "start_time": "2023-01-31T13:01:48.540Z"
   },
   {
    "duration": 1429,
    "start_time": "2023-02-01T11:26:53.760Z"
   },
   {
    "duration": 1208,
    "start_time": "2023-02-01T11:26:55.191Z"
   },
   {
    "duration": 33,
    "start_time": "2023-02-01T11:26:56.401Z"
   },
   {
    "duration": 12,
    "start_time": "2023-02-01T11:26:56.437Z"
   },
   {
    "duration": 9,
    "start_time": "2023-02-01T11:26:56.451Z"
   },
   {
    "duration": 19,
    "start_time": "2023-02-01T11:26:56.462Z"
   },
   {
    "duration": 37,
    "start_time": "2023-02-01T11:26:56.482Z"
   },
   {
    "duration": 4,
    "start_time": "2023-02-01T11:26:56.521Z"
   },
   {
    "duration": 13,
    "start_time": "2023-02-01T11:26:56.527Z"
   },
   {
    "duration": 6,
    "start_time": "2023-02-01T11:26:56.544Z"
   },
   {
    "duration": 5,
    "start_time": "2023-02-01T11:26:56.552Z"
   },
   {
    "duration": 68,
    "start_time": "2023-02-01T11:26:56.559Z"
   },
   {
    "duration": 16,
    "start_time": "2023-02-01T11:26:56.629Z"
   },
   {
    "duration": 16,
    "start_time": "2023-02-01T11:26:56.648Z"
   },
   {
    "duration": 407,
    "start_time": "2023-02-01T11:26:56.666Z"
   },
   {
    "duration": 18,
    "start_time": "2023-02-01T11:26:57.077Z"
   },
   {
    "duration": 73,
    "start_time": "2023-02-01T11:26:57.097Z"
   },
   {
    "duration": 38,
    "start_time": "2023-02-01T11:26:57.171Z"
   },
   {
    "duration": 41,
    "start_time": "2023-02-01T11:26:57.210Z"
   },
   {
    "duration": 40,
    "start_time": "2023-02-01T11:26:57.253Z"
   },
   {
    "duration": 78,
    "start_time": "2023-02-01T11:26:57.295Z"
   },
   {
    "duration": 4,
    "start_time": "2023-02-01T11:26:57.374Z"
   },
   {
    "duration": 69,
    "start_time": "2023-02-01T11:26:57.380Z"
   },
   {
    "duration": 3,
    "start_time": "2023-02-01T11:26:57.451Z"
   },
   {
    "duration": 44,
    "start_time": "2023-02-01T11:26:57.456Z"
   },
   {
    "duration": 128,
    "start_time": "2023-02-01T11:26:57.502Z"
   },
   {
    "duration": 57,
    "start_time": "2023-02-01T11:26:57.632Z"
   },
   {
    "duration": 62,
    "start_time": "2023-02-01T11:26:57.700Z"
   },
   {
    "duration": 8,
    "start_time": "2023-02-01T11:26:57.764Z"
   },
   {
    "duration": 51,
    "start_time": "2023-02-01T11:26:57.773Z"
   },
   {
    "duration": 54,
    "start_time": "2023-02-01T11:26:57.826Z"
   },
   {
    "duration": 73,
    "start_time": "2023-02-01T11:26:57.882Z"
   },
   {
    "duration": 50,
    "start_time": "2023-02-01T11:26:57.957Z"
   },
   {
    "duration": 47,
    "start_time": "2023-02-01T11:26:58.009Z"
   },
   {
    "duration": 65,
    "start_time": "2023-02-01T11:26:58.058Z"
   },
   {
    "duration": 49,
    "start_time": "2023-02-01T11:26:58.125Z"
   },
   {
    "duration": 1014,
    "start_time": "2023-02-01T11:26:58.176Z"
   },
   {
    "duration": 339,
    "start_time": "2023-02-01T11:26:59.192Z"
   },
   {
    "duration": 11,
    "start_time": "2023-02-01T11:26:59.533Z"
   },
   {
    "duration": 27,
    "start_time": "2023-02-01T11:26:59.545Z"
   },
   {
    "duration": 35,
    "start_time": "2023-02-01T11:26:59.573Z"
   },
   {
    "duration": 28,
    "start_time": "2023-02-01T11:26:59.609Z"
   },
   {
    "duration": 142,
    "start_time": "2023-02-01T11:28:59.927Z"
   },
   {
    "duration": 0,
    "start_time": "2023-02-01T11:29:00.071Z"
   },
   {
    "duration": 0,
    "start_time": "2023-02-01T11:29:00.072Z"
   },
   {
    "duration": 0,
    "start_time": "2023-02-01T11:29:00.073Z"
   },
   {
    "duration": 0,
    "start_time": "2023-02-01T11:29:00.074Z"
   },
   {
    "duration": 0,
    "start_time": "2023-02-01T11:29:00.075Z"
   },
   {
    "duration": 0,
    "start_time": "2023-02-01T11:29:00.076Z"
   },
   {
    "duration": 0,
    "start_time": "2023-02-01T11:29:00.077Z"
   },
   {
    "duration": 0,
    "start_time": "2023-02-01T11:29:00.078Z"
   },
   {
    "duration": 0,
    "start_time": "2023-02-01T11:29:00.079Z"
   },
   {
    "duration": 0,
    "start_time": "2023-02-01T11:29:00.080Z"
   },
   {
    "duration": 0,
    "start_time": "2023-02-01T11:29:00.080Z"
   },
   {
    "duration": 0,
    "start_time": "2023-02-01T11:29:00.081Z"
   },
   {
    "duration": 0,
    "start_time": "2023-02-01T11:29:00.099Z"
   },
   {
    "duration": 0,
    "start_time": "2023-02-01T11:29:00.100Z"
   },
   {
    "duration": 0,
    "start_time": "2023-02-01T11:29:00.101Z"
   },
   {
    "duration": 0,
    "start_time": "2023-02-01T11:29:00.101Z"
   },
   {
    "duration": 0,
    "start_time": "2023-02-01T11:29:00.103Z"
   },
   {
    "duration": 0,
    "start_time": "2023-02-01T11:29:00.104Z"
   },
   {
    "duration": 0,
    "start_time": "2023-02-01T11:29:00.105Z"
   },
   {
    "duration": 0,
    "start_time": "2023-02-01T11:29:00.106Z"
   },
   {
    "duration": 0,
    "start_time": "2023-02-01T11:29:00.107Z"
   },
   {
    "duration": 1,
    "start_time": "2023-02-01T11:29:00.107Z"
   },
   {
    "duration": 0,
    "start_time": "2023-02-01T11:29:00.108Z"
   },
   {
    "duration": 0,
    "start_time": "2023-02-01T11:29:00.109Z"
   },
   {
    "duration": 0,
    "start_time": "2023-02-01T11:29:00.110Z"
   },
   {
    "duration": 0,
    "start_time": "2023-02-01T11:29:00.111Z"
   },
   {
    "duration": 0,
    "start_time": "2023-02-01T11:29:00.112Z"
   },
   {
    "duration": 0,
    "start_time": "2023-02-01T11:29:00.113Z"
   },
   {
    "duration": 0,
    "start_time": "2023-02-01T11:29:00.114Z"
   },
   {
    "duration": 0,
    "start_time": "2023-02-01T11:29:00.116Z"
   },
   {
    "duration": 0,
    "start_time": "2023-02-01T11:29:00.117Z"
   },
   {
    "duration": 0,
    "start_time": "2023-02-01T11:29:00.118Z"
   },
   {
    "duration": 0,
    "start_time": "2023-02-01T11:29:00.119Z"
   },
   {
    "duration": 0,
    "start_time": "2023-02-01T11:29:00.120Z"
   },
   {
    "duration": 0,
    "start_time": "2023-02-01T11:29:00.121Z"
   },
   {
    "duration": 0,
    "start_time": "2023-02-01T11:29:00.122Z"
   },
   {
    "duration": 0,
    "start_time": "2023-02-01T11:29:00.123Z"
   },
   {
    "duration": 0,
    "start_time": "2023-02-01T11:29:00.124Z"
   },
   {
    "duration": 0,
    "start_time": "2023-02-01T11:29:00.125Z"
   },
   {
    "duration": 0,
    "start_time": "2023-02-01T11:29:00.126Z"
   },
   {
    "duration": 0,
    "start_time": "2023-02-01T11:29:00.127Z"
   },
   {
    "duration": 0,
    "start_time": "2023-02-01T11:29:00.128Z"
   },
   {
    "duration": 2974,
    "start_time": "2023-02-01T11:32:36.354Z"
   },
   {
    "duration": 46,
    "start_time": "2023-02-01T11:32:39.330Z"
   },
   {
    "duration": 1454,
    "start_time": "2023-02-01T11:32:39.378Z"
   },
   {
    "duration": 26,
    "start_time": "2023-02-01T11:32:40.833Z"
   },
   {
    "duration": 26,
    "start_time": "2023-02-01T11:32:40.862Z"
   },
   {
    "duration": 11,
    "start_time": "2023-02-01T11:32:40.890Z"
   },
   {
    "duration": 16,
    "start_time": "2023-02-01T11:32:40.903Z"
   },
   {
    "duration": 16,
    "start_time": "2023-02-01T11:32:40.921Z"
   },
   {
    "duration": 6,
    "start_time": "2023-02-01T11:32:40.939Z"
   },
   {
    "duration": 24,
    "start_time": "2023-02-01T11:32:40.946Z"
   },
   {
    "duration": 32,
    "start_time": "2023-02-01T11:32:40.972Z"
   },
   {
    "duration": 19,
    "start_time": "2023-02-01T11:32:41.006Z"
   },
   {
    "duration": 30,
    "start_time": "2023-02-01T11:32:41.028Z"
   },
   {
    "duration": 20,
    "start_time": "2023-02-01T11:32:41.062Z"
   },
   {
    "duration": 23,
    "start_time": "2023-02-01T11:32:41.084Z"
   },
   {
    "duration": 48,
    "start_time": "2023-02-01T11:32:41.109Z"
   },
   {
    "duration": 13,
    "start_time": "2023-02-01T11:32:41.159Z"
   },
   {
    "duration": 44,
    "start_time": "2023-02-01T11:32:41.174Z"
   },
   {
    "duration": 11,
    "start_time": "2023-02-01T11:32:41.219Z"
   },
   {
    "duration": 32,
    "start_time": "2023-02-01T11:32:41.232Z"
   },
   {
    "duration": 17,
    "start_time": "2023-02-01T11:32:41.265Z"
   },
   {
    "duration": 56,
    "start_time": "2023-02-01T11:32:41.283Z"
   },
   {
    "duration": 4,
    "start_time": "2023-02-01T11:32:41.341Z"
   },
   {
    "duration": 61,
    "start_time": "2023-02-01T11:32:41.346Z"
   },
   {
    "duration": 4,
    "start_time": "2023-02-01T11:32:41.408Z"
   },
   {
    "duration": 32,
    "start_time": "2023-02-01T11:32:41.413Z"
   },
   {
    "duration": 55,
    "start_time": "2023-02-01T11:32:41.447Z"
   },
   {
    "duration": 50,
    "start_time": "2023-02-01T11:32:41.503Z"
   },
   {
    "duration": 80,
    "start_time": "2023-02-01T11:32:41.554Z"
   },
   {
    "duration": 5,
    "start_time": "2023-02-01T11:32:41.635Z"
   },
   {
    "duration": 52,
    "start_time": "2023-02-01T11:32:41.642Z"
   },
   {
    "duration": 53,
    "start_time": "2023-02-01T11:32:41.695Z"
   },
   {
    "duration": 74,
    "start_time": "2023-02-01T11:32:41.750Z"
   },
   {
    "duration": 40,
    "start_time": "2023-02-01T11:32:41.826Z"
   },
   {
    "duration": 78,
    "start_time": "2023-02-01T11:32:41.868Z"
   },
   {
    "duration": 54,
    "start_time": "2023-02-01T11:32:41.948Z"
   },
   {
    "duration": 57,
    "start_time": "2023-02-01T11:32:42.003Z"
   },
   {
    "duration": 1068,
    "start_time": "2023-02-01T11:32:42.062Z"
   },
   {
    "duration": 817,
    "start_time": "2023-02-01T11:32:43.132Z"
   },
   {
    "duration": 393,
    "start_time": "2023-02-01T11:32:43.951Z"
   },
   {
    "duration": 13,
    "start_time": "2023-02-01T11:32:44.347Z"
   },
   {
    "duration": 101,
    "start_time": "2023-02-01T11:32:44.362Z"
   },
   {
    "duration": 72,
    "start_time": "2023-02-01T11:32:44.465Z"
   },
   {
    "duration": 43,
    "start_time": "2023-02-01T11:32:44.539Z"
   },
   {
    "duration": 2644,
    "start_time": "2023-02-01T11:34:06.064Z"
   },
   {
    "duration": 2589,
    "start_time": "2023-02-01T11:34:15.116Z"
   },
   {
    "duration": 2458,
    "start_time": "2023-02-01T11:34:40.001Z"
   },
   {
    "duration": 126,
    "start_time": "2023-02-01T11:35:29.200Z"
   },
   {
    "duration": 368,
    "start_time": "2023-02-01T11:35:38.103Z"
   },
   {
    "duration": 139,
    "start_time": "2023-02-01T11:35:54.495Z"
   },
   {
    "duration": 386,
    "start_time": "2023-02-01T11:36:21.898Z"
   },
   {
    "duration": 2562,
    "start_time": "2023-02-01T11:37:24.602Z"
   },
   {
    "duration": 43,
    "start_time": "2023-02-01T11:38:53.824Z"
   },
   {
    "duration": 2424,
    "start_time": "2023-02-01T11:39:41.356Z"
   },
   {
    "duration": 1922,
    "start_time": "2023-02-01T11:39:52.102Z"
   },
   {
    "duration": 5,
    "start_time": "2023-02-01T11:39:54.030Z"
   },
   {
    "duration": 1184,
    "start_time": "2023-02-01T11:39:54.037Z"
   },
   {
    "duration": 25,
    "start_time": "2023-02-01T11:39:55.223Z"
   },
   {
    "duration": 59,
    "start_time": "2023-02-01T11:39:55.249Z"
   },
   {
    "duration": 61,
    "start_time": "2023-02-01T11:39:55.309Z"
   },
   {
    "duration": 33,
    "start_time": "2023-02-01T11:39:55.372Z"
   },
   {
    "duration": 44,
    "start_time": "2023-02-01T11:39:55.407Z"
   },
   {
    "duration": 26,
    "start_time": "2023-02-01T11:39:55.453Z"
   },
   {
    "duration": 57,
    "start_time": "2023-02-01T11:39:55.481Z"
   },
   {
    "duration": 58,
    "start_time": "2023-02-01T11:39:55.540Z"
   },
   {
    "duration": 69,
    "start_time": "2023-02-01T11:39:55.599Z"
   },
   {
    "duration": 53,
    "start_time": "2023-02-01T11:39:55.670Z"
   },
   {
    "duration": 51,
    "start_time": "2023-02-01T11:39:55.724Z"
   },
   {
    "duration": 42,
    "start_time": "2023-02-01T11:39:55.776Z"
   },
   {
    "duration": 118,
    "start_time": "2023-02-01T11:39:55.820Z"
   },
   {
    "duration": 56,
    "start_time": "2023-02-01T11:39:55.939Z"
   },
   {
    "duration": 98,
    "start_time": "2023-02-01T11:39:55.996Z"
   },
   {
    "duration": 70,
    "start_time": "2023-02-01T11:39:56.096Z"
   },
   {
    "duration": 63,
    "start_time": "2023-02-01T11:39:56.169Z"
   },
   {
    "duration": 35,
    "start_time": "2023-02-01T11:39:56.234Z"
   },
   {
    "duration": 89,
    "start_time": "2023-02-01T11:39:56.271Z"
   },
   {
    "duration": 6,
    "start_time": "2023-02-01T11:39:56.362Z"
   },
   {
    "duration": 115,
    "start_time": "2023-02-01T11:39:56.370Z"
   },
   {
    "duration": 3,
    "start_time": "2023-02-01T11:39:56.486Z"
   },
   {
    "duration": 66,
    "start_time": "2023-02-01T11:39:56.491Z"
   },
   {
    "duration": 99,
    "start_time": "2023-02-01T11:39:56.559Z"
   },
   {
    "duration": 58,
    "start_time": "2023-02-01T11:39:56.662Z"
   },
   {
    "duration": 85,
    "start_time": "2023-02-01T11:39:56.721Z"
   },
   {
    "duration": 9,
    "start_time": "2023-02-01T11:39:56.808Z"
   },
   {
    "duration": 51,
    "start_time": "2023-02-01T11:39:56.820Z"
   },
   {
    "duration": 70,
    "start_time": "2023-02-01T11:39:56.873Z"
   },
   {
    "duration": 50,
    "start_time": "2023-02-01T11:39:56.946Z"
   },
   {
    "duration": 34,
    "start_time": "2023-02-01T11:39:56.998Z"
   },
   {
    "duration": 57,
    "start_time": "2023-02-01T11:39:57.033Z"
   },
   {
    "duration": 50,
    "start_time": "2023-02-01T11:39:57.100Z"
   },
   {
    "duration": 86,
    "start_time": "2023-02-01T11:39:57.153Z"
   },
   {
    "duration": 2495,
    "start_time": "2023-02-01T11:39:57.241Z"
   },
   {
    "duration": 344,
    "start_time": "2023-02-01T11:39:59.737Z"
   },
   {
    "duration": 18,
    "start_time": "2023-02-01T11:40:00.084Z"
   },
   {
    "duration": 87,
    "start_time": "2023-02-01T11:40:00.103Z"
   },
   {
    "duration": 92,
    "start_time": "2023-02-01T11:40:00.192Z"
   },
   {
    "duration": 69,
    "start_time": "2023-02-01T11:40:00.285Z"
   },
   {
    "duration": 3242,
    "start_time": "2023-02-02T07:58:22.684Z"
   },
   {
    "duration": 1575,
    "start_time": "2023-02-02T07:58:25.928Z"
   },
   {
    "duration": 1515,
    "start_time": "2023-02-02T07:58:27.504Z"
   },
   {
    "duration": 38,
    "start_time": "2023-02-02T07:58:29.021Z"
   },
   {
    "duration": 37,
    "start_time": "2023-02-02T07:58:29.062Z"
   },
   {
    "duration": 15,
    "start_time": "2023-02-02T07:58:29.102Z"
   },
   {
    "duration": 30,
    "start_time": "2023-02-02T07:58:29.119Z"
   },
   {
    "duration": 28,
    "start_time": "2023-02-02T07:58:29.151Z"
   },
   {
    "duration": 36,
    "start_time": "2023-02-02T07:58:29.181Z"
   },
   {
    "duration": 17,
    "start_time": "2023-02-02T07:58:29.219Z"
   },
   {
    "duration": 39,
    "start_time": "2023-02-02T07:58:29.238Z"
   },
   {
    "duration": 51,
    "start_time": "2023-02-02T07:58:29.279Z"
   },
   {
    "duration": 89,
    "start_time": "2023-02-02T07:58:29.332Z"
   },
   {
    "duration": 54,
    "start_time": "2023-02-02T07:58:29.426Z"
   },
   {
    "duration": 32,
    "start_time": "2023-02-02T07:58:29.483Z"
   },
   {
    "duration": 418,
    "start_time": "2023-02-02T07:58:29.518Z"
   },
   {
    "duration": 12,
    "start_time": "2023-02-02T07:58:29.938Z"
   },
   {
    "duration": 126,
    "start_time": "2023-02-02T07:58:29.952Z"
   },
   {
    "duration": 4,
    "start_time": "2023-02-02T07:58:30.080Z"
   },
   {
    "duration": 60,
    "start_time": "2023-02-02T07:58:30.086Z"
   },
   {
    "duration": 21,
    "start_time": "2023-02-02T07:58:30.148Z"
   },
   {
    "duration": 192,
    "start_time": "2023-02-02T07:58:30.171Z"
   },
   {
    "duration": 5,
    "start_time": "2023-02-02T07:58:30.365Z"
   },
   {
    "duration": 111,
    "start_time": "2023-02-02T07:58:30.371Z"
   },
   {
    "duration": 24,
    "start_time": "2023-02-02T07:58:30.484Z"
   },
   {
    "duration": 59,
    "start_time": "2023-02-02T07:58:30.510Z"
   },
   {
    "duration": 83,
    "start_time": "2023-02-02T07:58:30.572Z"
   },
   {
    "duration": 57,
    "start_time": "2023-02-02T07:58:30.657Z"
   },
   {
    "duration": 88,
    "start_time": "2023-02-02T07:58:30.716Z"
   },
   {
    "duration": 8,
    "start_time": "2023-02-02T07:58:30.806Z"
   },
   {
    "duration": 44,
    "start_time": "2023-02-02T07:58:30.816Z"
   },
   {
    "duration": 80,
    "start_time": "2023-02-02T07:58:30.862Z"
   },
   {
    "duration": 62,
    "start_time": "2023-02-02T07:58:30.945Z"
   },
   {
    "duration": 55,
    "start_time": "2023-02-02T07:58:31.008Z"
   },
   {
    "duration": 80,
    "start_time": "2023-02-02T07:58:31.066Z"
   },
   {
    "duration": 71,
    "start_time": "2023-02-02T07:58:31.148Z"
   },
   {
    "duration": 64,
    "start_time": "2023-02-02T07:58:31.236Z"
   },
   {
    "duration": 2679,
    "start_time": "2023-02-02T07:58:31.302Z"
   },
   {
    "duration": 428,
    "start_time": "2023-02-02T07:58:33.983Z"
   },
   {
    "duration": 29,
    "start_time": "2023-02-02T07:58:34.413Z"
   },
   {
    "duration": 5,
    "start_time": "2023-02-02T07:58:34.447Z"
   },
   {
    "duration": 16,
    "start_time": "2023-02-02T07:58:34.454Z"
   },
   {
    "duration": 10,
    "start_time": "2023-02-02T07:58:34.472Z"
   },
   {
    "duration": 169,
    "start_time": "2023-02-02T08:57:30.505Z"
   },
   {
    "duration": 2158,
    "start_time": "2023-02-02T08:57:52.209Z"
   },
   {
    "duration": 5,
    "start_time": "2023-02-02T08:57:54.371Z"
   },
   {
    "duration": 1392,
    "start_time": "2023-02-02T08:57:54.378Z"
   },
   {
    "duration": 26,
    "start_time": "2023-02-02T08:57:55.773Z"
   },
   {
    "duration": 25,
    "start_time": "2023-02-02T08:57:55.800Z"
   },
   {
    "duration": 12,
    "start_time": "2023-02-02T08:57:55.827Z"
   },
   {
    "duration": 20,
    "start_time": "2023-02-02T08:57:55.841Z"
   },
   {
    "duration": 21,
    "start_time": "2023-02-02T08:57:55.864Z"
   },
   {
    "duration": 5,
    "start_time": "2023-02-02T08:57:55.887Z"
   },
   {
    "duration": 24,
    "start_time": "2023-02-02T08:57:55.896Z"
   },
   {
    "duration": 29,
    "start_time": "2023-02-02T08:57:55.922Z"
   },
   {
    "duration": 23,
    "start_time": "2023-02-02T08:57:55.953Z"
   },
   {
    "duration": 39,
    "start_time": "2023-02-02T08:57:55.977Z"
   },
   {
    "duration": 41,
    "start_time": "2023-02-02T08:57:56.018Z"
   },
   {
    "duration": 16,
    "start_time": "2023-02-02T08:57:56.061Z"
   },
   {
    "duration": 53,
    "start_time": "2023-02-02T08:57:56.079Z"
   },
   {
    "duration": 20,
    "start_time": "2023-02-02T08:57:56.134Z"
   },
   {
    "duration": 47,
    "start_time": "2023-02-02T08:57:56.156Z"
   },
   {
    "duration": 8,
    "start_time": "2023-02-02T08:57:56.205Z"
   },
   {
    "duration": 49,
    "start_time": "2023-02-02T08:57:56.215Z"
   },
   {
    "duration": 16,
    "start_time": "2023-02-02T08:57:56.265Z"
   },
   {
    "duration": 74,
    "start_time": "2023-02-02T08:57:56.283Z"
   },
   {
    "duration": 4,
    "start_time": "2023-02-02T08:57:56.359Z"
   },
   {
    "duration": 79,
    "start_time": "2023-02-02T08:57:56.364Z"
   },
   {
    "duration": 5,
    "start_time": "2023-02-02T08:57:56.445Z"
   },
   {
    "duration": 59,
    "start_time": "2023-02-02T08:57:56.452Z"
   },
   {
    "duration": 61,
    "start_time": "2023-02-02T08:57:56.513Z"
   },
   {
    "duration": 55,
    "start_time": "2023-02-02T08:57:56.577Z"
   },
   {
    "duration": 73,
    "start_time": "2023-02-02T08:57:56.637Z"
   },
   {
    "duration": 7,
    "start_time": "2023-02-02T08:57:56.711Z"
   },
   {
    "duration": 58,
    "start_time": "2023-02-02T08:57:56.719Z"
   },
   {
    "duration": 187,
    "start_time": "2023-02-02T08:57:56.779Z"
   },
   {
    "duration": 123,
    "start_time": "2023-02-02T08:57:56.969Z"
   },
   {
    "duration": 86,
    "start_time": "2023-02-02T08:57:57.094Z"
   },
   {
    "duration": 71,
    "start_time": "2023-02-02T08:57:57.182Z"
   },
   {
    "duration": 56,
    "start_time": "2023-02-02T08:57:57.254Z"
   },
   {
    "duration": 97,
    "start_time": "2023-02-02T08:57:57.312Z"
   },
   {
    "duration": 2898,
    "start_time": "2023-02-02T08:57:57.411Z"
   },
   {
    "duration": 504,
    "start_time": "2023-02-02T08:58:00.311Z"
   },
   {
    "duration": 20,
    "start_time": "2023-02-02T08:58:00.816Z"
   },
   {
    "duration": 10,
    "start_time": "2023-02-02T08:58:00.838Z"
   },
   {
    "duration": 25,
    "start_time": "2023-02-02T08:58:00.850Z"
   },
   {
    "duration": 15,
    "start_time": "2023-02-02T08:58:00.877Z"
   },
   {
    "duration": 36,
    "start_time": "2023-02-02T08:58:00.894Z"
   },
   {
    "duration": 1537,
    "start_time": "2023-02-02T08:58:05.936Z"
   },
   {
    "duration": 13,
    "start_time": "2023-02-02T08:58:15.401Z"
   },
   {
    "duration": 70,
    "start_time": "2023-02-02T08:58:18.960Z"
   },
   {
    "duration": 326,
    "start_time": "2023-02-02T09:01:43.084Z"
   },
   {
    "duration": 52,
    "start_time": "2023-02-02T09:01:48.420Z"
   },
   {
    "duration": 597,
    "start_time": "2023-02-02T09:02:10.736Z"
   },
   {
    "duration": 16,
    "start_time": "2023-02-02T09:02:21.096Z"
   },
   {
    "duration": 14,
    "start_time": "2023-02-02T09:02:32.220Z"
   },
   {
    "duration": 17,
    "start_time": "2023-02-02T09:02:40.636Z"
   },
   {
    "duration": 17,
    "start_time": "2023-02-02T09:02:54.872Z"
   },
   {
    "duration": 1172,
    "start_time": "2023-02-02T09:07:49.559Z"
   },
   {
    "duration": 42,
    "start_time": "2023-02-02T09:10:08.723Z"
   },
   {
    "duration": 27,
    "start_time": "2023-02-02T09:11:03.247Z"
   },
   {
    "duration": 29,
    "start_time": "2023-02-02T09:11:10.071Z"
   },
   {
    "duration": 29,
    "start_time": "2023-02-02T09:11:34.667Z"
   },
   {
    "duration": 36,
    "start_time": "2023-02-02T09:12:29.647Z"
   },
   {
    "duration": 29,
    "start_time": "2023-02-02T09:12:45.702Z"
   },
   {
    "duration": 42,
    "start_time": "2023-02-02T09:13:04.986Z"
   },
   {
    "duration": 4,
    "start_time": "2023-02-02T09:45:53.391Z"
   },
   {
    "duration": 1443,
    "start_time": "2023-02-02T09:46:03.660Z"
   },
   {
    "duration": 3,
    "start_time": "2023-02-02T09:46:17.032Z"
   },
   {
    "duration": 23,
    "start_time": "2023-02-02T09:46:19.763Z"
   },
   {
    "duration": 19,
    "start_time": "2023-02-02T09:46:37.644Z"
   },
   {
    "duration": 19,
    "start_time": "2023-02-02T09:46:48.674Z"
   },
   {
    "duration": 4,
    "start_time": "2023-02-02T09:47:33.705Z"
   },
   {
    "duration": 75,
    "start_time": "2023-02-02T09:47:35.753Z"
   },
   {
    "duration": 3,
    "start_time": "2023-02-02T09:47:57.074Z"
   },
   {
    "duration": 19,
    "start_time": "2023-02-02T09:47:57.973Z"
   },
   {
    "duration": 19,
    "start_time": "2023-02-02T09:48:06.185Z"
   },
   {
    "duration": 4,
    "start_time": "2023-02-02T09:49:03.153Z"
   },
   {
    "duration": 1529,
    "start_time": "2023-02-02T09:49:05.355Z"
   },
   {
    "duration": 4,
    "start_time": "2023-02-02T09:52:03.972Z"
   },
   {
    "duration": 21,
    "start_time": "2023-02-02T09:52:06.251Z"
   },
   {
    "duration": 5,
    "start_time": "2023-02-02T09:58:00.392Z"
   },
   {
    "duration": 30,
    "start_time": "2023-02-02T09:58:02.957Z"
   },
   {
    "duration": 3,
    "start_time": "2023-02-02T09:59:08.150Z"
   },
   {
    "duration": 20,
    "start_time": "2023-02-02T09:59:09.678Z"
   },
   {
    "duration": 4,
    "start_time": "2023-02-02T10:03:00.079Z"
   },
   {
    "duration": 26,
    "start_time": "2023-02-02T10:03:01.974Z"
   },
   {
    "duration": 3171,
    "start_time": "2023-02-03T08:02:25.593Z"
   },
   {
    "duration": 1420,
    "start_time": "2023-02-03T08:02:28.767Z"
   },
   {
    "duration": 1229,
    "start_time": "2023-02-03T08:02:30.189Z"
   },
   {
    "duration": 26,
    "start_time": "2023-02-03T08:02:31.420Z"
   },
   {
    "duration": 22,
    "start_time": "2023-02-03T08:02:31.447Z"
   },
   {
    "duration": 9,
    "start_time": "2023-02-03T08:02:31.470Z"
   },
   {
    "duration": 26,
    "start_time": "2023-02-03T08:02:31.480Z"
   },
   {
    "duration": 17,
    "start_time": "2023-02-03T08:02:31.507Z"
   },
   {
    "duration": 5,
    "start_time": "2023-02-03T08:02:31.526Z"
   },
   {
    "duration": 25,
    "start_time": "2023-02-03T08:02:31.535Z"
   },
   {
    "duration": 8,
    "start_time": "2023-02-03T08:02:31.562Z"
   },
   {
    "duration": 17,
    "start_time": "2023-02-03T08:02:31.571Z"
   },
   {
    "duration": 37,
    "start_time": "2023-02-03T08:02:31.590Z"
   },
   {
    "duration": 18,
    "start_time": "2023-02-03T08:02:31.629Z"
   },
   {
    "duration": 11,
    "start_time": "2023-02-03T08:02:31.648Z"
   },
   {
    "duration": 395,
    "start_time": "2023-02-03T08:02:31.661Z"
   },
   {
    "duration": 16,
    "start_time": "2023-02-03T08:02:32.058Z"
   },
   {
    "duration": 100,
    "start_time": "2023-02-03T08:02:32.075Z"
   },
   {
    "duration": 4,
    "start_time": "2023-02-03T08:02:32.177Z"
   },
   {
    "duration": 99,
    "start_time": "2023-02-03T08:02:32.183Z"
   },
   {
    "duration": 4,
    "start_time": "2023-02-03T08:02:32.284Z"
   },
   {
    "duration": 168,
    "start_time": "2023-02-03T08:02:32.289Z"
   },
   {
    "duration": 5,
    "start_time": "2023-02-03T08:02:32.458Z"
   },
   {
    "duration": 57,
    "start_time": "2023-02-03T08:02:32.464Z"
   },
   {
    "duration": 3,
    "start_time": "2023-02-03T08:02:32.523Z"
   },
   {
    "duration": 46,
    "start_time": "2023-02-03T08:02:32.528Z"
   },
   {
    "duration": 48,
    "start_time": "2023-02-03T08:02:32.576Z"
   },
   {
    "duration": 67,
    "start_time": "2023-02-03T08:02:32.627Z"
   },
   {
    "duration": 79,
    "start_time": "2023-02-03T08:02:32.695Z"
   },
   {
    "duration": 7,
    "start_time": "2023-02-03T08:02:32.775Z"
   },
   {
    "duration": 37,
    "start_time": "2023-02-03T08:02:32.783Z"
   },
   {
    "duration": 63,
    "start_time": "2023-02-03T08:02:32.822Z"
   },
   {
    "duration": 61,
    "start_time": "2023-02-03T08:02:32.887Z"
   },
   {
    "duration": 37,
    "start_time": "2023-02-03T08:02:32.950Z"
   },
   {
    "duration": 68,
    "start_time": "2023-02-03T08:02:32.989Z"
   },
   {
    "duration": 45,
    "start_time": "2023-02-03T08:02:33.058Z"
   },
   {
    "duration": 71,
    "start_time": "2023-02-03T08:02:33.104Z"
   },
   {
    "duration": 2639,
    "start_time": "2023-02-03T08:02:33.177Z"
   },
   {
    "duration": 386,
    "start_time": "2023-02-03T08:02:35.818Z"
   },
   {
    "duration": 11,
    "start_time": "2023-02-03T08:02:36.206Z"
   },
   {
    "duration": 5,
    "start_time": "2023-02-03T08:02:36.219Z"
   },
   {
    "duration": 29,
    "start_time": "2023-02-03T08:02:36.225Z"
   },
   {
    "duration": 3,
    "start_time": "2023-02-03T08:02:36.256Z"
   },
   {
    "duration": 40,
    "start_time": "2023-02-03T08:02:36.261Z"
   },
   {
    "duration": 53,
    "start_time": "2023-02-03T08:02:36.304Z"
   },
   {
    "duration": 36,
    "start_time": "2023-02-03T08:02:36.359Z"
   },
   {
    "duration": 53,
    "start_time": "2023-02-03T08:02:36.397Z"
   },
   {
    "duration": 3,
    "start_time": "2023-02-03T08:02:36.452Z"
   },
   {
    "duration": 1404,
    "start_time": "2023-02-03T08:02:36.457Z"
   },
   {
    "duration": 3,
    "start_time": "2023-02-03T08:03:25.445Z"
   },
   {
    "duration": 13,
    "start_time": "2023-02-03T08:03:27.440Z"
   },
   {
    "duration": 15,
    "start_time": "2023-02-03T08:03:43.600Z"
   },
   {
    "duration": 14,
    "start_time": "2023-02-03T08:03:48.497Z"
   },
   {
    "duration": 14,
    "start_time": "2023-02-03T08:03:51.928Z"
   },
   {
    "duration": 14,
    "start_time": "2023-02-03T08:03:55.540Z"
   },
   {
    "duration": 13,
    "start_time": "2023-02-03T08:05:06.859Z"
   },
   {
    "duration": 14,
    "start_time": "2023-02-03T08:05:10.816Z"
   },
   {
    "duration": 1197,
    "start_time": "2023-02-03T08:08:13.257Z"
   },
   {
    "duration": 26,
    "start_time": "2023-02-03T08:08:18.072Z"
   },
   {
    "duration": 471,
    "start_time": "2023-02-03T08:10:03.928Z"
   },
   {
    "duration": 12,
    "start_time": "2023-02-03T08:10:12.432Z"
   },
   {
    "duration": 17,
    "start_time": "2023-02-03T08:10:21.203Z"
   },
   {
    "duration": 23,
    "start_time": "2023-02-03T08:10:46.496Z"
   },
   {
    "duration": 21,
    "start_time": "2023-02-03T08:11:04.832Z"
   },
   {
    "duration": 1355,
    "start_time": "2023-02-03T08:14:10.988Z"
   },
   {
    "duration": 18,
    "start_time": "2023-02-03T08:14:20.388Z"
   },
   {
    "duration": 3,
    "start_time": "2023-02-03T08:14:56.664Z"
   },
   {
    "duration": 11,
    "start_time": "2023-02-03T08:14:59.657Z"
   },
   {
    "duration": 4,
    "start_time": "2023-02-03T08:15:16.113Z"
   },
   {
    "duration": 16,
    "start_time": "2023-02-03T08:15:17.917Z"
   },
   {
    "duration": 51,
    "start_time": "2023-02-03T08:18:15.084Z"
   },
   {
    "duration": 61,
    "start_time": "2023-02-03T08:18:56.341Z"
   },
   {
    "duration": 11,
    "start_time": "2023-02-03T08:20:44.638Z"
   },
   {
    "duration": 11,
    "start_time": "2023-02-03T08:21:01.989Z"
   },
   {
    "duration": 47,
    "start_time": "2023-02-03T08:21:15.461Z"
   },
   {
    "duration": 13,
    "start_time": "2023-02-03T08:21:47.449Z"
   },
   {
    "duration": 46,
    "start_time": "2023-02-03T08:21:51.321Z"
   },
   {
    "duration": 59,
    "start_time": "2023-02-03T08:22:00.289Z"
   },
   {
    "duration": 52,
    "start_time": "2023-02-03T08:22:47.908Z"
   },
   {
    "duration": 78,
    "start_time": "2023-02-03T08:28:03.562Z"
   },
   {
    "duration": 13,
    "start_time": "2023-02-03T08:28:13.238Z"
   },
   {
    "duration": 11,
    "start_time": "2023-02-03T08:28:33.882Z"
   },
   {
    "duration": 11,
    "start_time": "2023-02-03T08:31:42.727Z"
   },
   {
    "duration": 60,
    "start_time": "2023-02-03T08:32:05.547Z"
   },
   {
    "duration": 66,
    "start_time": "2023-02-03T08:32:24.901Z"
   },
   {
    "duration": 3,
    "start_time": "2023-02-03T08:34:10.879Z"
   },
   {
    "duration": 58,
    "start_time": "2023-02-03T08:35:01.430Z"
   },
   {
    "duration": 27,
    "start_time": "2023-02-03T08:45:00.763Z"
   },
   {
    "duration": 2289,
    "start_time": "2023-02-03T08:48:42.616Z"
   },
   {
    "duration": 4,
    "start_time": "2023-02-03T08:48:44.909Z"
   },
   {
    "duration": 1280,
    "start_time": "2023-02-03T08:48:44.915Z"
   },
   {
    "duration": 26,
    "start_time": "2023-02-03T08:48:46.197Z"
   },
   {
    "duration": 16,
    "start_time": "2023-02-03T08:48:46.224Z"
   },
   {
    "duration": 8,
    "start_time": "2023-02-03T08:48:46.241Z"
   },
   {
    "duration": 14,
    "start_time": "2023-02-03T08:48:46.252Z"
   },
   {
    "duration": 17,
    "start_time": "2023-02-03T08:48:46.268Z"
   },
   {
    "duration": 4,
    "start_time": "2023-02-03T08:48:46.287Z"
   },
   {
    "duration": 8,
    "start_time": "2023-02-03T08:48:46.294Z"
   },
   {
    "duration": 5,
    "start_time": "2023-02-03T08:48:46.304Z"
   },
   {
    "duration": 8,
    "start_time": "2023-02-03T08:48:46.311Z"
   },
   {
    "duration": 81,
    "start_time": "2023-02-03T08:48:46.321Z"
   },
   {
    "duration": 16,
    "start_time": "2023-02-03T08:48:46.404Z"
   },
   {
    "duration": 19,
    "start_time": "2023-02-03T08:48:46.422Z"
   },
   {
    "duration": 58,
    "start_time": "2023-02-03T08:48:46.443Z"
   },
   {
    "duration": 19,
    "start_time": "2023-02-03T08:48:46.503Z"
   },
   {
    "duration": 58,
    "start_time": "2023-02-03T08:48:46.525Z"
   },
   {
    "duration": 4,
    "start_time": "2023-02-03T08:48:46.585Z"
   },
   {
    "duration": 40,
    "start_time": "2023-02-03T08:48:46.591Z"
   },
   {
    "duration": 39,
    "start_time": "2023-02-03T08:48:46.633Z"
   },
   {
    "duration": 65,
    "start_time": "2023-02-03T08:48:46.674Z"
   },
   {
    "duration": 4,
    "start_time": "2023-02-03T08:48:46.741Z"
   },
   {
    "duration": 68,
    "start_time": "2023-02-03T08:48:46.747Z"
   },
   {
    "duration": 4,
    "start_time": "2023-02-03T08:48:46.817Z"
   },
   {
    "duration": 45,
    "start_time": "2023-02-03T08:48:46.822Z"
   },
   {
    "duration": 60,
    "start_time": "2023-02-03T08:48:46.869Z"
   },
   {
    "duration": 88,
    "start_time": "2023-02-03T08:48:46.934Z"
   },
   {
    "duration": 78,
    "start_time": "2023-02-03T08:48:47.023Z"
   },
   {
    "duration": 6,
    "start_time": "2023-02-03T08:48:47.102Z"
   },
   {
    "duration": 45,
    "start_time": "2023-02-03T08:48:47.110Z"
   },
   {
    "duration": 66,
    "start_time": "2023-02-03T08:48:47.157Z"
   },
   {
    "duration": 79,
    "start_time": "2023-02-03T08:48:47.225Z"
   },
   {
    "duration": 60,
    "start_time": "2023-02-03T08:48:47.306Z"
   },
   {
    "duration": 60,
    "start_time": "2023-02-03T08:48:47.369Z"
   },
   {
    "duration": 75,
    "start_time": "2023-02-03T08:48:47.431Z"
   },
   {
    "duration": 71,
    "start_time": "2023-02-03T08:48:47.508Z"
   },
   {
    "duration": 2887,
    "start_time": "2023-02-03T08:48:47.581Z"
   },
   {
    "duration": 363,
    "start_time": "2023-02-03T08:48:50.471Z"
   },
   {
    "duration": 38,
    "start_time": "2023-02-03T08:48:50.835Z"
   },
   {
    "duration": 45,
    "start_time": "2023-02-03T08:48:50.875Z"
   },
   {
    "duration": 35,
    "start_time": "2023-02-03T08:48:50.921Z"
   },
   {
    "duration": 35,
    "start_time": "2023-02-03T08:48:50.959Z"
   },
   {
    "duration": 19,
    "start_time": "2023-02-03T08:48:50.996Z"
   },
   {
    "duration": 89,
    "start_time": "2023-02-03T08:48:51.017Z"
   },
   {
    "duration": 10,
    "start_time": "2023-02-03T08:48:51.108Z"
   },
   {
    "duration": 11,
    "start_time": "2023-02-03T08:48:51.119Z"
   },
   {
    "duration": 46,
    "start_time": "2023-02-03T08:48:51.132Z"
   },
   {
    "duration": 18,
    "start_time": "2023-02-03T08:48:51.180Z"
   },
   {
    "duration": 2163,
    "start_time": "2023-02-03T08:51:24.124Z"
   },
   {
    "duration": 6,
    "start_time": "2023-02-03T08:51:26.290Z"
   },
   {
    "duration": 1286,
    "start_time": "2023-02-03T08:51:26.297Z"
   },
   {
    "duration": 26,
    "start_time": "2023-02-03T08:51:27.586Z"
   },
   {
    "duration": 26,
    "start_time": "2023-02-03T08:51:27.614Z"
   },
   {
    "duration": 6,
    "start_time": "2023-02-03T08:51:27.642Z"
   },
   {
    "duration": 17,
    "start_time": "2023-02-03T08:51:27.649Z"
   },
   {
    "duration": 14,
    "start_time": "2023-02-03T08:51:27.668Z"
   },
   {
    "duration": 4,
    "start_time": "2023-02-03T08:51:27.683Z"
   },
   {
    "duration": 8,
    "start_time": "2023-02-03T08:51:27.690Z"
   },
   {
    "duration": 6,
    "start_time": "2023-02-03T08:51:27.700Z"
   },
   {
    "duration": 12,
    "start_time": "2023-02-03T08:51:27.708Z"
   },
   {
    "duration": 39,
    "start_time": "2023-02-03T08:51:27.721Z"
   },
   {
    "duration": 30,
    "start_time": "2023-02-03T08:51:27.762Z"
   },
   {
    "duration": 17,
    "start_time": "2023-02-03T08:51:27.794Z"
   },
   {
    "duration": 43,
    "start_time": "2023-02-03T08:51:27.812Z"
   },
   {
    "duration": 12,
    "start_time": "2023-02-03T08:51:27.857Z"
   },
   {
    "duration": 38,
    "start_time": "2023-02-03T08:51:27.871Z"
   },
   {
    "duration": 5,
    "start_time": "2023-02-03T08:51:27.912Z"
   },
   {
    "duration": 53,
    "start_time": "2023-02-03T08:51:27.919Z"
   },
   {
    "duration": 11,
    "start_time": "2023-02-03T08:51:27.974Z"
   },
   {
    "duration": 56,
    "start_time": "2023-02-03T08:51:27.987Z"
   },
   {
    "duration": 4,
    "start_time": "2023-02-03T08:51:28.048Z"
   },
   {
    "duration": 61,
    "start_time": "2023-02-03T08:51:28.053Z"
   },
   {
    "duration": 4,
    "start_time": "2023-02-03T08:51:28.115Z"
   },
   {
    "duration": 47,
    "start_time": "2023-02-03T08:51:28.120Z"
   },
   {
    "duration": 51,
    "start_time": "2023-02-03T08:51:28.168Z"
   },
   {
    "duration": 67,
    "start_time": "2023-02-03T08:51:28.222Z"
   },
   {
    "duration": 74,
    "start_time": "2023-02-03T08:51:28.291Z"
   },
   {
    "duration": 5,
    "start_time": "2023-02-03T08:51:28.367Z"
   },
   {
    "duration": 31,
    "start_time": "2023-02-03T08:51:28.374Z"
   },
   {
    "duration": 79,
    "start_time": "2023-02-03T08:51:28.407Z"
   },
   {
    "duration": 60,
    "start_time": "2023-02-03T08:51:28.488Z"
   },
   {
    "duration": 38,
    "start_time": "2023-02-03T08:51:28.550Z"
   },
   {
    "duration": 63,
    "start_time": "2023-02-03T08:51:28.592Z"
   },
   {
    "duration": 45,
    "start_time": "2023-02-03T08:51:28.656Z"
   },
   {
    "duration": 67,
    "start_time": "2023-02-03T08:51:28.703Z"
   },
   {
    "duration": 2659,
    "start_time": "2023-02-03T08:51:28.772Z"
   },
   {
    "duration": 396,
    "start_time": "2023-02-03T08:51:31.433Z"
   },
   {
    "duration": 30,
    "start_time": "2023-02-03T08:51:31.830Z"
   },
   {
    "duration": 24,
    "start_time": "2023-02-03T08:51:31.862Z"
   },
   {
    "duration": 25,
    "start_time": "2023-02-03T08:51:31.888Z"
   },
   {
    "duration": 46,
    "start_time": "2023-02-03T08:51:31.914Z"
   },
   {
    "duration": 3,
    "start_time": "2023-02-03T08:51:31.962Z"
   },
   {
    "duration": 49,
    "start_time": "2023-02-03T08:51:31.967Z"
   },
   {
    "duration": 31,
    "start_time": "2023-02-03T08:51:32.018Z"
   },
   {
    "duration": 4,
    "start_time": "2023-02-03T08:51:32.051Z"
   },
   {
    "duration": 12,
    "start_time": "2023-02-03T08:51:32.057Z"
   },
   {
    "duration": 3,
    "start_time": "2023-02-03T08:51:32.071Z"
   },
   {
    "duration": 2177,
    "start_time": "2023-02-03T09:17:47.892Z"
   },
   {
    "duration": 4,
    "start_time": "2023-02-03T09:17:50.072Z"
   },
   {
    "duration": 1097,
    "start_time": "2023-02-03T09:17:50.078Z"
   },
   {
    "duration": 26,
    "start_time": "2023-02-03T09:17:51.176Z"
   },
   {
    "duration": 14,
    "start_time": "2023-02-03T09:17:51.204Z"
   },
   {
    "duration": 5,
    "start_time": "2023-02-03T09:17:51.220Z"
   },
   {
    "duration": 26,
    "start_time": "2023-02-03T09:17:51.227Z"
   },
   {
    "duration": 14,
    "start_time": "2023-02-03T09:17:51.254Z"
   },
   {
    "duration": 4,
    "start_time": "2023-02-03T09:17:51.270Z"
   },
   {
    "duration": 20,
    "start_time": "2023-02-03T09:17:51.276Z"
   },
   {
    "duration": 6,
    "start_time": "2023-02-03T09:17:51.298Z"
   },
   {
    "duration": 4,
    "start_time": "2023-02-03T09:17:51.306Z"
   },
   {
    "duration": 45,
    "start_time": "2023-02-03T09:17:51.312Z"
   },
   {
    "duration": 15,
    "start_time": "2023-02-03T09:17:51.361Z"
   },
   {
    "duration": 15,
    "start_time": "2023-02-03T09:17:51.378Z"
   },
   {
    "duration": 57,
    "start_time": "2023-02-03T09:17:51.395Z"
   },
   {
    "duration": 12,
    "start_time": "2023-02-03T09:17:51.453Z"
   },
   {
    "duration": 41,
    "start_time": "2023-02-03T09:17:51.467Z"
   },
   {
    "duration": 4,
    "start_time": "2023-02-03T09:17:51.510Z"
   },
   {
    "duration": 52,
    "start_time": "2023-02-03T09:17:51.516Z"
   },
   {
    "duration": 4,
    "start_time": "2023-02-03T09:17:51.569Z"
   },
   {
    "duration": 72,
    "start_time": "2023-02-03T09:17:51.575Z"
   },
   {
    "duration": 4,
    "start_time": "2023-02-03T09:17:51.649Z"
   },
   {
    "duration": 72,
    "start_time": "2023-02-03T09:17:51.655Z"
   },
   {
    "duration": 4,
    "start_time": "2023-02-03T09:17:51.729Z"
   },
   {
    "duration": 42,
    "start_time": "2023-02-03T09:17:51.734Z"
   },
   {
    "duration": 51,
    "start_time": "2023-02-03T09:17:51.778Z"
   },
   {
    "duration": 64,
    "start_time": "2023-02-03T09:17:51.830Z"
   },
   {
    "duration": 67,
    "start_time": "2023-02-03T09:17:51.896Z"
   },
   {
    "duration": 5,
    "start_time": "2023-02-03T09:17:51.965Z"
   },
   {
    "duration": 29,
    "start_time": "2023-02-03T09:17:51.972Z"
   },
   {
    "duration": 72,
    "start_time": "2023-02-03T09:17:52.003Z"
   },
   {
    "duration": 79,
    "start_time": "2023-02-03T09:17:52.077Z"
   },
   {
    "duration": 38,
    "start_time": "2023-02-03T09:17:52.158Z"
   },
   {
    "duration": 69,
    "start_time": "2023-02-03T09:17:52.198Z"
   },
   {
    "duration": 47,
    "start_time": "2023-02-03T09:17:52.268Z"
   },
   {
    "duration": 65,
    "start_time": "2023-02-03T09:17:52.316Z"
   },
   {
    "duration": 2753,
    "start_time": "2023-02-03T09:17:52.382Z"
   },
   {
    "duration": 384,
    "start_time": "2023-02-03T09:17:55.136Z"
   },
   {
    "duration": 31,
    "start_time": "2023-02-03T09:17:55.522Z"
   },
   {
    "duration": 27,
    "start_time": "2023-02-03T09:17:55.556Z"
   },
   {
    "duration": 28,
    "start_time": "2023-02-03T09:17:55.584Z"
   },
   {
    "duration": 51,
    "start_time": "2023-02-03T09:17:55.613Z"
   },
   {
    "duration": 3,
    "start_time": "2023-02-03T09:17:55.666Z"
   },
   {
    "duration": 55,
    "start_time": "2023-02-03T09:17:55.671Z"
   },
   {
    "duration": 22,
    "start_time": "2023-02-03T09:17:55.727Z"
   },
   {
    "duration": 3,
    "start_time": "2023-02-03T09:17:55.751Z"
   },
   {
    "duration": 17,
    "start_time": "2023-02-03T09:17:55.756Z"
   },
   {
    "duration": 4,
    "start_time": "2023-02-03T09:17:55.775Z"
   },
   {
    "duration": 3321,
    "start_time": "2023-04-26T07:52:37.781Z"
   },
   {
    "duration": 1354,
    "start_time": "2023-04-26T07:52:41.104Z"
   },
   {
    "duration": 1127,
    "start_time": "2023-04-26T07:52:42.460Z"
   },
   {
    "duration": 41,
    "start_time": "2023-04-26T07:52:43.589Z"
   },
   {
    "duration": 14,
    "start_time": "2023-04-26T07:52:43.631Z"
   },
   {
    "duration": 6,
    "start_time": "2023-04-26T07:52:43.647Z"
   },
   {
    "duration": 10,
    "start_time": "2023-04-26T07:52:43.654Z"
   },
   {
    "duration": 34,
    "start_time": "2023-04-26T07:52:43.665Z"
   },
   {
    "duration": 4,
    "start_time": "2023-04-26T07:52:43.701Z"
   },
   {
    "duration": 13,
    "start_time": "2023-04-26T07:52:43.708Z"
   },
   {
    "duration": 4,
    "start_time": "2023-04-26T07:52:43.723Z"
   },
   {
    "duration": 7,
    "start_time": "2023-04-26T07:52:43.729Z"
   },
   {
    "duration": 27,
    "start_time": "2023-04-26T07:52:43.737Z"
   },
   {
    "duration": 33,
    "start_time": "2023-04-26T07:52:43.765Z"
   },
   {
    "duration": 21,
    "start_time": "2023-04-26T07:52:43.799Z"
   },
   {
    "duration": 400,
    "start_time": "2023-04-26T07:52:43.821Z"
   },
   {
    "duration": 23,
    "start_time": "2023-04-26T07:52:44.223Z"
   },
   {
    "duration": 87,
    "start_time": "2023-04-26T07:52:44.251Z"
   },
   {
    "duration": 6,
    "start_time": "2023-04-26T07:52:44.341Z"
   },
   {
    "duration": 84,
    "start_time": "2023-04-26T07:52:44.349Z"
   },
   {
    "duration": 5,
    "start_time": "2023-04-26T07:52:44.436Z"
   },
   {
    "duration": 146,
    "start_time": "2023-04-26T07:52:44.442Z"
   },
   {
    "duration": 5,
    "start_time": "2023-04-26T07:52:44.590Z"
   },
   {
    "duration": 72,
    "start_time": "2023-04-26T07:52:44.597Z"
   },
   {
    "duration": 4,
    "start_time": "2023-04-26T07:52:44.671Z"
   },
   {
    "duration": 52,
    "start_time": "2023-04-26T07:52:44.676Z"
   },
   {
    "duration": 69,
    "start_time": "2023-04-26T07:52:44.733Z"
   },
   {
    "duration": 69,
    "start_time": "2023-04-26T07:52:44.805Z"
   },
   {
    "duration": 84,
    "start_time": "2023-04-26T07:52:44.876Z"
   },
   {
    "duration": 6,
    "start_time": "2023-04-26T07:52:44.961Z"
   },
   {
    "duration": 49,
    "start_time": "2023-04-26T07:52:44.969Z"
   },
   {
    "duration": 56,
    "start_time": "2023-04-26T07:52:45.021Z"
   },
   {
    "duration": 84,
    "start_time": "2023-04-26T07:52:45.079Z"
   },
   {
    "duration": 55,
    "start_time": "2023-04-26T07:52:45.165Z"
   },
   {
    "duration": 56,
    "start_time": "2023-04-26T07:52:45.221Z"
   },
   {
    "duration": 70,
    "start_time": "2023-04-26T07:52:45.279Z"
   },
   {
    "duration": 62,
    "start_time": "2023-04-26T07:52:45.351Z"
   },
   {
    "duration": 2706,
    "start_time": "2023-04-26T07:52:45.415Z"
   },
   {
    "duration": 352,
    "start_time": "2023-04-26T07:52:48.123Z"
   },
   {
    "duration": 35,
    "start_time": "2023-04-26T07:52:48.477Z"
   },
   {
    "duration": 34,
    "start_time": "2023-04-26T07:52:48.515Z"
   },
   {
    "duration": 24,
    "start_time": "2023-04-26T07:52:48.551Z"
   },
   {
    "duration": 65,
    "start_time": "2023-04-26T07:52:48.576Z"
   },
   {
    "duration": 4,
    "start_time": "2023-04-26T07:52:48.643Z"
   },
   {
    "duration": 66,
    "start_time": "2023-04-26T07:52:48.648Z"
   },
   {
    "duration": 18,
    "start_time": "2023-04-26T07:52:48.717Z"
   },
   {
    "duration": 4,
    "start_time": "2023-04-26T07:52:48.737Z"
   },
   {
    "duration": 11,
    "start_time": "2023-04-26T07:52:48.743Z"
   },
   {
    "duration": 3,
    "start_time": "2023-04-26T07:52:48.756Z"
   },
   {
    "duration": 146,
    "start_time": "2023-04-26T07:58:50.400Z"
   },
   {
    "duration": 12,
    "start_time": "2023-04-26T07:59:01.204Z"
   },
   {
    "duration": 43,
    "start_time": "2023-04-26T07:59:55.039Z"
   },
   {
    "duration": 127,
    "start_time": "2023-04-26T08:19:11.736Z"
   },
   {
    "duration": 155,
    "start_time": "2023-04-26T08:19:22.037Z"
   },
   {
    "duration": 1950,
    "start_time": "2023-04-26T08:19:32.019Z"
   },
   {
    "duration": 5,
    "start_time": "2023-04-26T08:19:33.971Z"
   },
   {
    "duration": 1335,
    "start_time": "2023-04-26T08:19:33.978Z"
   },
   {
    "duration": 24,
    "start_time": "2023-04-26T08:19:35.315Z"
   },
   {
    "duration": 26,
    "start_time": "2023-04-26T08:19:35.341Z"
   },
   {
    "duration": 6,
    "start_time": "2023-04-26T08:19:35.369Z"
   },
   {
    "duration": 18,
    "start_time": "2023-04-26T08:19:35.377Z"
   },
   {
    "duration": 20,
    "start_time": "2023-04-26T08:19:35.399Z"
   },
   {
    "duration": 4,
    "start_time": "2023-04-26T08:19:35.421Z"
   },
   {
    "duration": 16,
    "start_time": "2023-04-26T08:19:35.428Z"
   },
   {
    "duration": 9,
    "start_time": "2023-04-26T08:19:35.446Z"
   },
   {
    "duration": 13,
    "start_time": "2023-04-26T08:19:35.456Z"
   },
   {
    "duration": 37,
    "start_time": "2023-04-26T08:19:35.472Z"
   },
   {
    "duration": 14,
    "start_time": "2023-04-26T08:19:35.510Z"
   },
   {
    "duration": 12,
    "start_time": "2023-04-26T08:19:35.526Z"
   },
   {
    "duration": 134,
    "start_time": "2023-04-26T08:19:35.540Z"
   },
   {
    "duration": 0,
    "start_time": "2023-04-26T08:19:35.676Z"
   },
   {
    "duration": 0,
    "start_time": "2023-04-26T08:19:35.677Z"
   },
   {
    "duration": 0,
    "start_time": "2023-04-26T08:19:35.679Z"
   },
   {
    "duration": 0,
    "start_time": "2023-04-26T08:19:35.680Z"
   },
   {
    "duration": 0,
    "start_time": "2023-04-26T08:19:35.681Z"
   },
   {
    "duration": 0,
    "start_time": "2023-04-26T08:19:35.698Z"
   },
   {
    "duration": 0,
    "start_time": "2023-04-26T08:19:35.701Z"
   },
   {
    "duration": 0,
    "start_time": "2023-04-26T08:19:35.708Z"
   },
   {
    "duration": 0,
    "start_time": "2023-04-26T08:19:35.709Z"
   },
   {
    "duration": 0,
    "start_time": "2023-04-26T08:19:35.710Z"
   },
   {
    "duration": 0,
    "start_time": "2023-04-26T08:19:35.711Z"
   },
   {
    "duration": 0,
    "start_time": "2023-04-26T08:19:35.713Z"
   },
   {
    "duration": 0,
    "start_time": "2023-04-26T08:19:35.714Z"
   },
   {
    "duration": 0,
    "start_time": "2023-04-26T08:19:35.715Z"
   },
   {
    "duration": 0,
    "start_time": "2023-04-26T08:19:35.716Z"
   },
   {
    "duration": 0,
    "start_time": "2023-04-26T08:19:35.718Z"
   },
   {
    "duration": 0,
    "start_time": "2023-04-26T08:19:35.719Z"
   },
   {
    "duration": 0,
    "start_time": "2023-04-26T08:19:35.721Z"
   },
   {
    "duration": 0,
    "start_time": "2023-04-26T08:19:35.722Z"
   },
   {
    "duration": 0,
    "start_time": "2023-04-26T08:19:35.723Z"
   },
   {
    "duration": 0,
    "start_time": "2023-04-26T08:19:35.725Z"
   },
   {
    "duration": 0,
    "start_time": "2023-04-26T08:19:35.727Z"
   },
   {
    "duration": 0,
    "start_time": "2023-04-26T08:19:35.728Z"
   },
   {
    "duration": 0,
    "start_time": "2023-04-26T08:19:35.730Z"
   },
   {
    "duration": 0,
    "start_time": "2023-04-26T08:19:35.731Z"
   },
   {
    "duration": 0,
    "start_time": "2023-04-26T08:19:35.732Z"
   },
   {
    "duration": 0,
    "start_time": "2023-04-26T08:19:35.733Z"
   },
   {
    "duration": 0,
    "start_time": "2023-04-26T08:19:35.734Z"
   },
   {
    "duration": 0,
    "start_time": "2023-04-26T08:19:35.735Z"
   },
   {
    "duration": 0,
    "start_time": "2023-04-26T08:19:35.736Z"
   },
   {
    "duration": 0,
    "start_time": "2023-04-26T08:19:35.737Z"
   },
   {
    "duration": 0,
    "start_time": "2023-04-26T08:19:35.739Z"
   },
   {
    "duration": 0,
    "start_time": "2023-04-26T08:19:35.740Z"
   },
   {
    "duration": 14,
    "start_time": "2023-04-26T08:23:08.633Z"
   },
   {
    "duration": 14,
    "start_time": "2023-04-26T08:24:07.857Z"
   },
   {
    "duration": 15,
    "start_time": "2023-04-26T08:24:13.468Z"
   },
   {
    "duration": 18,
    "start_time": "2023-04-26T08:24:20.049Z"
   },
   {
    "duration": 12,
    "start_time": "2023-04-26T08:25:05.950Z"
   },
   {
    "duration": 21,
    "start_time": "2023-04-26T08:25:24.539Z"
   },
   {
    "duration": 152,
    "start_time": "2023-04-26T08:26:16.069Z"
   },
   {
    "duration": 297,
    "start_time": "2023-04-26T08:37:31.428Z"
   },
   {
    "duration": 9,
    "start_time": "2023-04-26T08:37:57.853Z"
   },
   {
    "duration": 136,
    "start_time": "2023-04-26T08:38:26.429Z"
   },
   {
    "duration": 268,
    "start_time": "2023-04-26T08:38:44.358Z"
   },
   {
    "duration": 2057,
    "start_time": "2023-04-26T08:39:17.140Z"
   },
   {
    "duration": 5,
    "start_time": "2023-04-26T08:39:19.200Z"
   },
   {
    "duration": 1084,
    "start_time": "2023-04-26T08:39:19.206Z"
   },
   {
    "duration": 40,
    "start_time": "2023-04-26T08:39:20.292Z"
   },
   {
    "duration": 12,
    "start_time": "2023-04-26T08:39:20.334Z"
   },
   {
    "duration": 17,
    "start_time": "2023-04-26T08:39:20.348Z"
   },
   {
    "duration": 35,
    "start_time": "2023-04-26T08:39:20.367Z"
   },
   {
    "duration": 24,
    "start_time": "2023-04-26T08:39:20.404Z"
   },
   {
    "duration": 4,
    "start_time": "2023-04-26T08:39:20.430Z"
   },
   {
    "duration": 19,
    "start_time": "2023-04-26T08:39:20.437Z"
   },
   {
    "duration": 29,
    "start_time": "2023-04-26T08:39:20.458Z"
   },
   {
    "duration": 17,
    "start_time": "2023-04-26T08:39:20.489Z"
   },
   {
    "duration": 48,
    "start_time": "2023-04-26T08:39:20.507Z"
   },
   {
    "duration": 26,
    "start_time": "2023-04-26T08:39:20.556Z"
   },
   {
    "duration": 46,
    "start_time": "2023-04-26T08:39:20.584Z"
   },
   {
    "duration": 262,
    "start_time": "2023-04-26T08:39:20.632Z"
   },
   {
    "duration": 0,
    "start_time": "2023-04-26T08:39:20.897Z"
   },
   {
    "duration": 0,
    "start_time": "2023-04-26T08:39:20.898Z"
   },
   {
    "duration": 0,
    "start_time": "2023-04-26T08:39:20.899Z"
   },
   {
    "duration": 0,
    "start_time": "2023-04-26T08:39:20.899Z"
   },
   {
    "duration": 0,
    "start_time": "2023-04-26T08:39:20.900Z"
   },
   {
    "duration": 0,
    "start_time": "2023-04-26T08:39:20.901Z"
   },
   {
    "duration": 0,
    "start_time": "2023-04-26T08:39:20.902Z"
   },
   {
    "duration": 0,
    "start_time": "2023-04-26T08:39:20.903Z"
   },
   {
    "duration": 0,
    "start_time": "2023-04-26T08:39:20.904Z"
   },
   {
    "duration": 0,
    "start_time": "2023-04-26T08:39:20.904Z"
   },
   {
    "duration": 0,
    "start_time": "2023-04-26T08:39:20.905Z"
   },
   {
    "duration": 0,
    "start_time": "2023-04-26T08:39:20.906Z"
   },
   {
    "duration": 0,
    "start_time": "2023-04-26T08:39:20.907Z"
   },
   {
    "duration": 0,
    "start_time": "2023-04-26T08:39:20.908Z"
   },
   {
    "duration": 1,
    "start_time": "2023-04-26T08:39:20.911Z"
   },
   {
    "duration": 0,
    "start_time": "2023-04-26T08:39:20.913Z"
   },
   {
    "duration": 0,
    "start_time": "2023-04-26T08:39:20.914Z"
   },
   {
    "duration": 0,
    "start_time": "2023-04-26T08:39:20.916Z"
   },
   {
    "duration": 0,
    "start_time": "2023-04-26T08:39:20.917Z"
   },
   {
    "duration": 0,
    "start_time": "2023-04-26T08:39:20.918Z"
   },
   {
    "duration": 0,
    "start_time": "2023-04-26T08:39:20.919Z"
   },
   {
    "duration": 0,
    "start_time": "2023-04-26T08:39:20.920Z"
   },
   {
    "duration": 0,
    "start_time": "2023-04-26T08:39:20.921Z"
   },
   {
    "duration": 0,
    "start_time": "2023-04-26T08:39:20.922Z"
   },
   {
    "duration": 0,
    "start_time": "2023-04-26T08:39:20.924Z"
   },
   {
    "duration": 0,
    "start_time": "2023-04-26T08:39:20.924Z"
   },
   {
    "duration": 0,
    "start_time": "2023-04-26T08:39:20.925Z"
   },
   {
    "duration": 0,
    "start_time": "2023-04-26T08:39:20.925Z"
   },
   {
    "duration": 0,
    "start_time": "2023-04-26T08:39:20.927Z"
   },
   {
    "duration": 0,
    "start_time": "2023-04-26T08:39:20.928Z"
   },
   {
    "duration": 0,
    "start_time": "2023-04-26T08:39:20.930Z"
   },
   {
    "duration": 0,
    "start_time": "2023-04-26T08:39:20.932Z"
   },
   {
    "duration": 0,
    "start_time": "2023-04-26T08:39:20.933Z"
   },
   {
    "duration": 126,
    "start_time": "2023-04-26T08:40:57.379Z"
   },
   {
    "duration": 16,
    "start_time": "2023-04-26T08:41:23.615Z"
   },
   {
    "duration": 17,
    "start_time": "2023-04-26T08:41:30.970Z"
   },
   {
    "duration": 269,
    "start_time": "2023-04-26T08:41:42.656Z"
   },
   {
    "duration": 133,
    "start_time": "2023-04-26T08:50:18.790Z"
   },
   {
    "duration": 121,
    "start_time": "2023-04-26T08:52:07.713Z"
   },
   {
    "duration": 105,
    "start_time": "2023-04-26T08:52:16.029Z"
   },
   {
    "duration": 15,
    "start_time": "2023-04-26T08:52:48.247Z"
   },
   {
    "duration": 2326,
    "start_time": "2023-04-26T08:52:53.871Z"
   },
   {
    "duration": 13,
    "start_time": "2023-04-26T08:52:56.206Z"
   },
   {
    "duration": 949,
    "start_time": "2023-04-26T08:52:56.229Z"
   },
   {
    "duration": 38,
    "start_time": "2023-04-26T08:52:57.181Z"
   },
   {
    "duration": 19,
    "start_time": "2023-04-26T08:52:57.225Z"
   },
   {
    "duration": 6,
    "start_time": "2023-04-26T08:52:57.246Z"
   },
   {
    "duration": 11,
    "start_time": "2023-04-26T08:52:57.254Z"
   },
   {
    "duration": 15,
    "start_time": "2023-04-26T08:52:57.267Z"
   },
   {
    "duration": 7,
    "start_time": "2023-04-26T08:52:57.294Z"
   },
   {
    "duration": 8,
    "start_time": "2023-04-26T08:52:57.306Z"
   },
   {
    "duration": 10,
    "start_time": "2023-04-26T08:52:57.318Z"
   },
   {
    "duration": 4,
    "start_time": "2023-04-26T08:52:57.331Z"
   },
   {
    "duration": 24,
    "start_time": "2023-04-26T08:52:57.336Z"
   },
   {
    "duration": 10,
    "start_time": "2023-04-26T08:52:57.361Z"
   },
   {
    "duration": 41,
    "start_time": "2023-04-26T08:52:57.373Z"
   },
   {
    "duration": 49,
    "start_time": "2023-04-26T08:52:57.417Z"
   },
   {
    "duration": 99,
    "start_time": "2023-04-26T08:52:57.468Z"
   },
   {
    "duration": 11,
    "start_time": "2023-04-26T08:52:57.569Z"
   },
   {
    "duration": 55,
    "start_time": "2023-04-26T08:52:57.581Z"
   },
   {
    "duration": 5,
    "start_time": "2023-04-26T08:52:57.637Z"
   },
   {
    "duration": 34,
    "start_time": "2023-04-26T08:52:57.643Z"
   },
   {
    "duration": 31,
    "start_time": "2023-04-26T08:52:57.700Z"
   },
   {
    "duration": 53,
    "start_time": "2023-04-26T08:52:57.732Z"
   },
   {
    "duration": 4,
    "start_time": "2023-04-26T08:52:57.787Z"
   },
   {
    "duration": 78,
    "start_time": "2023-04-26T08:52:57.793Z"
   },
   {
    "duration": 4,
    "start_time": "2023-04-26T08:52:57.872Z"
   },
   {
    "duration": 52,
    "start_time": "2023-04-26T08:52:57.878Z"
   },
   {
    "duration": 47,
    "start_time": "2023-04-26T08:52:57.935Z"
   },
   {
    "duration": 65,
    "start_time": "2023-04-26T08:52:57.983Z"
   },
   {
    "duration": 83,
    "start_time": "2023-04-26T08:52:58.049Z"
   },
   {
    "duration": 5,
    "start_time": "2023-04-26T08:52:58.135Z"
   },
   {
    "duration": 33,
    "start_time": "2023-04-26T08:52:58.142Z"
   },
   {
    "duration": 72,
    "start_time": "2023-04-26T08:52:58.177Z"
   },
   {
    "duration": 84,
    "start_time": "2023-04-26T08:52:58.251Z"
   },
   {
    "duration": 18,
    "start_time": "2023-04-26T08:52:58.338Z"
   },
   {
    "duration": 0,
    "start_time": "2023-04-26T08:52:58.357Z"
   },
   {
    "duration": 0,
    "start_time": "2023-04-26T08:52:58.359Z"
   },
   {
    "duration": 0,
    "start_time": "2023-04-26T08:52:58.360Z"
   },
   {
    "duration": 0,
    "start_time": "2023-04-26T08:52:58.361Z"
   },
   {
    "duration": 0,
    "start_time": "2023-04-26T08:52:58.362Z"
   },
   {
    "duration": 0,
    "start_time": "2023-04-26T08:52:58.364Z"
   },
   {
    "duration": 0,
    "start_time": "2023-04-26T08:52:58.365Z"
   },
   {
    "duration": 0,
    "start_time": "2023-04-26T08:52:58.366Z"
   },
   {
    "duration": 0,
    "start_time": "2023-04-26T08:52:58.367Z"
   },
   {
    "duration": 0,
    "start_time": "2023-04-26T08:52:58.368Z"
   },
   {
    "duration": 0,
    "start_time": "2023-04-26T08:52:58.369Z"
   },
   {
    "duration": 0,
    "start_time": "2023-04-26T08:52:58.370Z"
   },
   {
    "duration": 0,
    "start_time": "2023-04-26T08:52:58.394Z"
   },
   {
    "duration": 0,
    "start_time": "2023-04-26T08:52:58.395Z"
   },
   {
    "duration": 0,
    "start_time": "2023-04-26T08:52:58.396Z"
   },
   {
    "duration": 144,
    "start_time": "2023-04-26T08:54:36.583Z"
   },
   {
    "duration": 71,
    "start_time": "2023-04-26T08:54:48.019Z"
   },
   {
    "duration": 6,
    "start_time": "2023-04-26T08:59:56.834Z"
   },
   {
    "duration": 26,
    "start_time": "2023-04-26T08:59:59.720Z"
   },
   {
    "duration": 2854,
    "start_time": "2023-04-26T09:00:08.069Z"
   },
   {
    "duration": 4,
    "start_time": "2023-04-26T09:00:10.929Z"
   },
   {
    "duration": 1312,
    "start_time": "2023-04-26T09:00:10.936Z"
   },
   {
    "duration": 28,
    "start_time": "2023-04-26T09:00:12.250Z"
   },
   {
    "duration": 33,
    "start_time": "2023-04-26T09:00:12.279Z"
   },
   {
    "duration": 14,
    "start_time": "2023-04-26T09:00:12.314Z"
   },
   {
    "duration": 10,
    "start_time": "2023-04-26T09:00:12.330Z"
   },
   {
    "duration": 15,
    "start_time": "2023-04-26T09:00:12.342Z"
   },
   {
    "duration": 4,
    "start_time": "2023-04-26T09:00:12.359Z"
   },
   {
    "duration": 26,
    "start_time": "2023-04-26T09:00:12.366Z"
   },
   {
    "duration": 29,
    "start_time": "2023-04-26T09:00:12.393Z"
   },
   {
    "duration": 12,
    "start_time": "2023-04-26T09:00:12.424Z"
   },
   {
    "duration": 40,
    "start_time": "2023-04-26T09:00:12.438Z"
   },
   {
    "duration": 23,
    "start_time": "2023-04-26T09:00:12.480Z"
   },
   {
    "duration": 19,
    "start_time": "2023-04-26T09:00:12.508Z"
   },
   {
    "duration": 135,
    "start_time": "2023-04-26T09:00:12.530Z"
   },
   {
    "duration": 13,
    "start_time": "2023-04-26T09:00:12.666Z"
   },
   {
    "duration": 108,
    "start_time": "2023-04-26T09:00:12.681Z"
   },
   {
    "duration": 13,
    "start_time": "2023-04-26T09:00:12.791Z"
   },
   {
    "duration": 49,
    "start_time": "2023-04-26T09:00:12.806Z"
   },
   {
    "duration": 3,
    "start_time": "2023-04-26T09:00:12.856Z"
   },
   {
    "duration": 33,
    "start_time": "2023-04-26T09:00:12.861Z"
   },
   {
    "duration": 44,
    "start_time": "2023-04-26T09:00:12.901Z"
   },
   {
    "duration": 0,
    "start_time": "2023-04-26T09:00:12.947Z"
   },
   {
    "duration": 0,
    "start_time": "2023-04-26T09:00:12.948Z"
   },
   {
    "duration": 0,
    "start_time": "2023-04-26T09:00:12.949Z"
   },
   {
    "duration": 0,
    "start_time": "2023-04-26T09:00:12.950Z"
   },
   {
    "duration": 0,
    "start_time": "2023-04-26T09:00:12.952Z"
   },
   {
    "duration": 0,
    "start_time": "2023-04-26T09:00:12.953Z"
   },
   {
    "duration": 0,
    "start_time": "2023-04-26T09:00:12.955Z"
   },
   {
    "duration": 0,
    "start_time": "2023-04-26T09:00:12.956Z"
   },
   {
    "duration": 0,
    "start_time": "2023-04-26T09:00:12.957Z"
   },
   {
    "duration": 0,
    "start_time": "2023-04-26T09:00:12.958Z"
   },
   {
    "duration": 0,
    "start_time": "2023-04-26T09:00:12.960Z"
   },
   {
    "duration": 0,
    "start_time": "2023-04-26T09:00:12.961Z"
   },
   {
    "duration": 0,
    "start_time": "2023-04-26T09:00:12.962Z"
   },
   {
    "duration": 0,
    "start_time": "2023-04-26T09:00:12.964Z"
   },
   {
    "duration": 0,
    "start_time": "2023-04-26T09:00:12.965Z"
   },
   {
    "duration": 0,
    "start_time": "2023-04-26T09:00:12.966Z"
   },
   {
    "duration": 0,
    "start_time": "2023-04-26T09:00:12.967Z"
   },
   {
    "duration": 0,
    "start_time": "2023-04-26T09:00:12.968Z"
   },
   {
    "duration": 0,
    "start_time": "2023-04-26T09:00:12.969Z"
   },
   {
    "duration": 0,
    "start_time": "2023-04-26T09:00:12.970Z"
   },
   {
    "duration": 0,
    "start_time": "2023-04-26T09:00:13.001Z"
   },
   {
    "duration": 0,
    "start_time": "2023-04-26T09:00:13.002Z"
   },
   {
    "duration": 0,
    "start_time": "2023-04-26T09:00:13.004Z"
   },
   {
    "duration": 0,
    "start_time": "2023-04-26T09:00:13.005Z"
   },
   {
    "duration": 0,
    "start_time": "2023-04-26T09:00:13.012Z"
   },
   {
    "duration": 0,
    "start_time": "2023-04-26T09:00:13.013Z"
   },
   {
    "duration": 0,
    "start_time": "2023-04-26T09:00:13.014Z"
   },
   {
    "duration": 7,
    "start_time": "2023-04-26T09:04:27.547Z"
   },
   {
    "duration": 96,
    "start_time": "2023-04-26T09:04:30.560Z"
   },
   {
    "duration": 2523,
    "start_time": "2023-04-26T09:04:38.547Z"
   },
   {
    "duration": 5,
    "start_time": "2023-04-26T09:04:41.072Z"
   },
   {
    "duration": 1361,
    "start_time": "2023-04-26T09:04:41.079Z"
   },
   {
    "duration": 25,
    "start_time": "2023-04-26T09:04:42.442Z"
   },
   {
    "duration": 11,
    "start_time": "2023-04-26T09:04:42.470Z"
   },
   {
    "duration": 6,
    "start_time": "2023-04-26T09:04:42.483Z"
   },
   {
    "duration": 21,
    "start_time": "2023-04-26T09:04:42.490Z"
   },
   {
    "duration": 22,
    "start_time": "2023-04-26T09:04:42.512Z"
   },
   {
    "duration": 5,
    "start_time": "2023-04-26T09:04:42.536Z"
   },
   {
    "duration": 13,
    "start_time": "2023-04-26T09:04:42.544Z"
   },
   {
    "duration": 4,
    "start_time": "2023-04-26T09:04:42.559Z"
   },
   {
    "duration": 5,
    "start_time": "2023-04-26T09:04:42.564Z"
   },
   {
    "duration": 72,
    "start_time": "2023-04-26T09:04:42.570Z"
   },
   {
    "duration": 13,
    "start_time": "2023-04-26T09:04:42.647Z"
   },
   {
    "duration": 10,
    "start_time": "2023-04-26T09:04:42.662Z"
   },
   {
    "duration": 114,
    "start_time": "2023-04-26T09:04:42.674Z"
   },
   {
    "duration": 18,
    "start_time": "2023-04-26T09:04:42.790Z"
   },
   {
    "duration": 89,
    "start_time": "2023-04-26T09:04:42.810Z"
   },
   {
    "duration": 11,
    "start_time": "2023-04-26T09:04:42.900Z"
   },
   {
    "duration": 47,
    "start_time": "2023-04-26T09:04:42.913Z"
   },
   {
    "duration": 5,
    "start_time": "2023-04-26T09:04:42.961Z"
   },
   {
    "duration": 5,
    "start_time": "2023-04-26T09:04:42.968Z"
   },
   {
    "duration": 95,
    "start_time": "2023-04-26T09:04:42.974Z"
   },
   {
    "duration": 0,
    "start_time": "2023-04-26T09:04:43.071Z"
   },
   {
    "duration": 0,
    "start_time": "2023-04-26T09:04:43.071Z"
   },
   {
    "duration": 0,
    "start_time": "2023-04-26T09:04:43.072Z"
   },
   {
    "duration": 0,
    "start_time": "2023-04-26T09:04:43.073Z"
   },
   {
    "duration": 0,
    "start_time": "2023-04-26T09:04:43.075Z"
   },
   {
    "duration": 0,
    "start_time": "2023-04-26T09:04:43.075Z"
   },
   {
    "duration": 0,
    "start_time": "2023-04-26T09:04:43.076Z"
   },
   {
    "duration": 0,
    "start_time": "2023-04-26T09:04:43.078Z"
   },
   {
    "duration": 0,
    "start_time": "2023-04-26T09:04:43.094Z"
   },
   {
    "duration": 0,
    "start_time": "2023-04-26T09:04:43.095Z"
   },
   {
    "duration": 0,
    "start_time": "2023-04-26T09:04:43.096Z"
   },
   {
    "duration": 0,
    "start_time": "2023-04-26T09:04:43.097Z"
   },
   {
    "duration": 0,
    "start_time": "2023-04-26T09:04:43.098Z"
   },
   {
    "duration": 0,
    "start_time": "2023-04-26T09:04:43.099Z"
   },
   {
    "duration": 0,
    "start_time": "2023-04-26T09:04:43.101Z"
   },
   {
    "duration": 0,
    "start_time": "2023-04-26T09:04:43.102Z"
   },
   {
    "duration": 0,
    "start_time": "2023-04-26T09:04:43.104Z"
   },
   {
    "duration": 1,
    "start_time": "2023-04-26T09:04:43.104Z"
   },
   {
    "duration": 0,
    "start_time": "2023-04-26T09:04:43.105Z"
   },
   {
    "duration": 0,
    "start_time": "2023-04-26T09:04:43.106Z"
   },
   {
    "duration": 0,
    "start_time": "2023-04-26T09:04:43.107Z"
   },
   {
    "duration": 0,
    "start_time": "2023-04-26T09:04:43.107Z"
   },
   {
    "duration": 0,
    "start_time": "2023-04-26T09:04:43.108Z"
   },
   {
    "duration": 0,
    "start_time": "2023-04-26T09:04:43.109Z"
   },
   {
    "duration": 0,
    "start_time": "2023-04-26T09:04:43.110Z"
   },
   {
    "duration": 0,
    "start_time": "2023-04-26T09:04:43.111Z"
   },
   {
    "duration": 0,
    "start_time": "2023-04-26T09:04:43.112Z"
   },
   {
    "duration": 7,
    "start_time": "2023-04-26T09:05:10.192Z"
   },
   {
    "duration": 35,
    "start_time": "2023-04-26T09:05:13.433Z"
   },
   {
    "duration": 5,
    "start_time": "2023-04-26T09:05:21.755Z"
   },
   {
    "duration": 183,
    "start_time": "2023-04-26T09:05:24.523Z"
   },
   {
    "duration": 2656,
    "start_time": "2023-04-26T09:05:31.940Z"
   },
   {
    "duration": 13,
    "start_time": "2023-04-26T09:05:34.600Z"
   },
   {
    "duration": 982,
    "start_time": "2023-04-26T09:05:34.617Z"
   },
   {
    "duration": 41,
    "start_time": "2023-04-26T09:05:35.601Z"
   },
   {
    "duration": 12,
    "start_time": "2023-04-26T09:05:35.644Z"
   },
   {
    "duration": 5,
    "start_time": "2023-04-26T09:05:35.658Z"
   },
   {
    "duration": 11,
    "start_time": "2023-04-26T09:05:35.664Z"
   },
   {
    "duration": 23,
    "start_time": "2023-04-26T09:05:35.694Z"
   },
   {
    "duration": 11,
    "start_time": "2023-04-26T09:05:35.723Z"
   },
   {
    "duration": 15,
    "start_time": "2023-04-26T09:05:35.737Z"
   },
   {
    "duration": 13,
    "start_time": "2023-04-26T09:05:35.754Z"
   },
   {
    "duration": 4,
    "start_time": "2023-04-26T09:05:35.768Z"
   },
   {
    "duration": 39,
    "start_time": "2023-04-26T09:05:35.773Z"
   },
   {
    "duration": 18,
    "start_time": "2023-04-26T09:05:35.821Z"
   },
   {
    "duration": 18,
    "start_time": "2023-04-26T09:05:35.841Z"
   },
   {
    "duration": 96,
    "start_time": "2023-04-26T09:05:35.861Z"
   },
   {
    "duration": 10,
    "start_time": "2023-04-26T09:05:35.959Z"
   },
   {
    "duration": 201,
    "start_time": "2023-04-26T09:05:35.971Z"
   },
   {
    "duration": 4,
    "start_time": "2023-04-26T09:05:36.174Z"
   },
   {
    "duration": 56,
    "start_time": "2023-04-26T09:05:36.180Z"
   },
   {
    "duration": 32,
    "start_time": "2023-04-26T09:05:36.238Z"
   },
   {
    "duration": 25,
    "start_time": "2023-04-26T09:05:36.272Z"
   },
   {
    "duration": 189,
    "start_time": "2023-04-26T09:05:36.301Z"
   },
   {
    "duration": 23,
    "start_time": "2023-04-26T09:05:36.492Z"
   },
   {
    "duration": 63,
    "start_time": "2023-04-26T09:05:36.516Z"
   },
   {
    "duration": 4,
    "start_time": "2023-04-26T09:05:36.580Z"
   },
   {
    "duration": 59,
    "start_time": "2023-04-26T09:05:36.586Z"
   },
   {
    "duration": 200,
    "start_time": "2023-04-26T09:05:36.647Z"
   },
   {
    "duration": 83,
    "start_time": "2023-04-26T09:05:36.849Z"
   },
   {
    "duration": 92,
    "start_time": "2023-04-26T09:05:36.934Z"
   },
   {
    "duration": 9,
    "start_time": "2023-04-26T09:05:37.033Z"
   },
   {
    "duration": 38,
    "start_time": "2023-04-26T09:05:37.047Z"
   },
   {
    "duration": 88,
    "start_time": "2023-04-26T09:05:37.087Z"
   },
   {
    "duration": 84,
    "start_time": "2023-04-26T09:05:37.177Z"
   },
   {
    "duration": 17,
    "start_time": "2023-04-26T09:05:37.263Z"
   },
   {
    "duration": 0,
    "start_time": "2023-04-26T09:05:37.282Z"
   },
   {
    "duration": 0,
    "start_time": "2023-04-26T09:05:37.283Z"
   },
   {
    "duration": 0,
    "start_time": "2023-04-26T09:05:37.284Z"
   },
   {
    "duration": 0,
    "start_time": "2023-04-26T09:05:37.285Z"
   },
   {
    "duration": 0,
    "start_time": "2023-04-26T09:05:37.286Z"
   },
   {
    "duration": 0,
    "start_time": "2023-04-26T09:05:37.287Z"
   },
   {
    "duration": 0,
    "start_time": "2023-04-26T09:05:37.293Z"
   },
   {
    "duration": 0,
    "start_time": "2023-04-26T09:05:37.294Z"
   },
   {
    "duration": 0,
    "start_time": "2023-04-26T09:05:37.295Z"
   },
   {
    "duration": 0,
    "start_time": "2023-04-26T09:05:37.301Z"
   },
   {
    "duration": 0,
    "start_time": "2023-04-26T09:05:37.302Z"
   },
   {
    "duration": 0,
    "start_time": "2023-04-26T09:05:37.307Z"
   },
   {
    "duration": 0,
    "start_time": "2023-04-26T09:05:37.307Z"
   },
   {
    "duration": 0,
    "start_time": "2023-04-26T09:05:37.308Z"
   },
   {
    "duration": 0,
    "start_time": "2023-04-26T09:05:37.308Z"
   },
   {
    "duration": 119,
    "start_time": "2023-04-26T09:06:49.892Z"
   },
   {
    "duration": 2281,
    "start_time": "2023-04-26T09:07:03.637Z"
   },
   {
    "duration": 4,
    "start_time": "2023-04-26T09:07:05.920Z"
   },
   {
    "duration": 1110,
    "start_time": "2023-04-26T09:07:05.930Z"
   },
   {
    "duration": 25,
    "start_time": "2023-04-26T09:07:07.042Z"
   },
   {
    "duration": 15,
    "start_time": "2023-04-26T09:07:07.070Z"
   },
   {
    "duration": 5,
    "start_time": "2023-04-26T09:07:07.087Z"
   },
   {
    "duration": 20,
    "start_time": "2023-04-26T09:07:07.093Z"
   },
   {
    "duration": 17,
    "start_time": "2023-04-26T09:07:07.115Z"
   },
   {
    "duration": 5,
    "start_time": "2023-04-26T09:07:07.134Z"
   },
   {
    "duration": 9,
    "start_time": "2023-04-26T09:07:07.141Z"
   },
   {
    "duration": 6,
    "start_time": "2023-04-26T09:07:07.152Z"
   },
   {
    "duration": 7,
    "start_time": "2023-04-26T09:07:07.159Z"
   },
   {
    "duration": 65,
    "start_time": "2023-04-26T09:07:07.168Z"
   },
   {
    "duration": 16,
    "start_time": "2023-04-26T09:07:07.237Z"
   },
   {
    "duration": 12,
    "start_time": "2023-04-26T09:07:07.255Z"
   },
   {
    "duration": 138,
    "start_time": "2023-04-26T09:07:07.269Z"
   },
   {
    "duration": 18,
    "start_time": "2023-04-26T09:07:07.408Z"
   },
   {
    "duration": 91,
    "start_time": "2023-04-26T09:07:07.428Z"
   },
   {
    "duration": 7,
    "start_time": "2023-04-26T09:07:07.521Z"
   },
   {
    "duration": 46,
    "start_time": "2023-04-26T09:07:07.532Z"
   },
   {
    "duration": 11,
    "start_time": "2023-04-26T09:07:07.579Z"
   },
   {
    "duration": 23,
    "start_time": "2023-04-26T09:07:07.591Z"
   },
   {
    "duration": 192,
    "start_time": "2023-04-26T09:07:07.616Z"
   },
   {
    "duration": 9,
    "start_time": "2023-04-26T09:07:07.811Z"
   },
   {
    "duration": 73,
    "start_time": "2023-04-26T09:07:07.822Z"
   },
   {
    "duration": 5,
    "start_time": "2023-04-26T09:07:07.897Z"
   },
   {
    "duration": 44,
    "start_time": "2023-04-26T09:07:07.904Z"
   },
   {
    "duration": 200,
    "start_time": "2023-04-26T09:07:07.949Z"
   },
   {
    "duration": 57,
    "start_time": "2023-04-26T09:07:08.151Z"
   },
   {
    "duration": 68,
    "start_time": "2023-04-26T09:07:08.209Z"
   },
   {
    "duration": 22,
    "start_time": "2023-04-26T09:07:08.279Z"
   },
   {
    "duration": 37,
    "start_time": "2023-04-26T09:07:08.303Z"
   },
   {
    "duration": 80,
    "start_time": "2023-04-26T09:07:08.342Z"
   },
   {
    "duration": 62,
    "start_time": "2023-04-26T09:07:08.423Z"
   },
   {
    "duration": 61,
    "start_time": "2023-04-26T09:07:08.487Z"
   },
   {
    "duration": 181,
    "start_time": "2023-04-26T09:07:08.550Z"
   },
   {
    "duration": 130,
    "start_time": "2023-04-26T09:07:08.733Z"
   },
   {
    "duration": 127,
    "start_time": "2023-04-26T09:07:08.865Z"
   },
   {
    "duration": 2945,
    "start_time": "2023-04-26T09:07:08.994Z"
   },
   {
    "duration": 452,
    "start_time": "2023-04-26T09:07:11.941Z"
   },
   {
    "duration": 44,
    "start_time": "2023-04-26T09:07:12.400Z"
   },
   {
    "duration": 29,
    "start_time": "2023-04-26T09:07:12.447Z"
   },
   {
    "duration": 60,
    "start_time": "2023-04-26T09:07:12.482Z"
   },
   {
    "duration": 37,
    "start_time": "2023-04-26T09:07:12.544Z"
   },
   {
    "duration": 20,
    "start_time": "2023-04-26T09:07:12.583Z"
   },
   {
    "duration": 60,
    "start_time": "2023-04-26T09:07:12.610Z"
   },
   {
    "duration": 11,
    "start_time": "2023-04-26T09:07:12.671Z"
   },
   {
    "duration": 26,
    "start_time": "2023-04-26T09:07:12.684Z"
   },
   {
    "duration": 15,
    "start_time": "2023-04-26T09:07:12.711Z"
   },
   {
    "duration": 40,
    "start_time": "2023-04-26T09:07:12.728Z"
   },
   {
    "duration": 6,
    "start_time": "2023-04-26T09:11:52.724Z"
   },
   {
    "duration": 286,
    "start_time": "2023-04-26T09:11:55.437Z"
   },
   {
    "duration": 6,
    "start_time": "2023-04-26T09:21:10.034Z"
   },
   {
    "duration": 213,
    "start_time": "2023-04-26T09:21:11.719Z"
   },
   {
    "duration": 2109,
    "start_time": "2023-04-26T09:22:12.618Z"
   },
   {
    "duration": 4,
    "start_time": "2023-04-26T09:22:14.730Z"
   },
   {
    "duration": 1233,
    "start_time": "2023-04-26T09:22:14.736Z"
   },
   {
    "duration": 40,
    "start_time": "2023-04-26T09:22:15.970Z"
   },
   {
    "duration": 13,
    "start_time": "2023-04-26T09:22:16.012Z"
   },
   {
    "duration": 10,
    "start_time": "2023-04-26T09:22:16.026Z"
   },
   {
    "duration": 10,
    "start_time": "2023-04-26T09:22:16.038Z"
   },
   {
    "duration": 17,
    "start_time": "2023-04-26T09:22:16.050Z"
   },
   {
    "duration": 5,
    "start_time": "2023-04-26T09:22:16.068Z"
   },
   {
    "duration": 32,
    "start_time": "2023-04-26T09:22:16.074Z"
   },
   {
    "duration": 6,
    "start_time": "2023-04-26T09:22:16.109Z"
   },
   {
    "duration": 4,
    "start_time": "2023-04-26T09:22:16.117Z"
   },
   {
    "duration": 30,
    "start_time": "2023-04-26T09:22:16.123Z"
   },
   {
    "duration": 21,
    "start_time": "2023-04-26T09:22:16.156Z"
   },
   {
    "duration": 11,
    "start_time": "2023-04-26T09:22:16.179Z"
   },
   {
    "duration": 101,
    "start_time": "2023-04-26T09:22:16.194Z"
   },
   {
    "duration": 23,
    "start_time": "2023-04-26T09:22:16.299Z"
   },
   {
    "duration": 82,
    "start_time": "2023-04-26T09:22:16.324Z"
   },
   {
    "duration": 5,
    "start_time": "2023-04-26T09:22:16.408Z"
   },
   {
    "duration": 34,
    "start_time": "2023-04-26T09:22:16.414Z"
   },
   {
    "duration": 6,
    "start_time": "2023-04-26T09:22:16.449Z"
   },
   {
    "duration": 27,
    "start_time": "2023-04-26T09:22:16.457Z"
   },
   {
    "duration": 155,
    "start_time": "2023-04-26T09:22:16.485Z"
   },
   {
    "duration": 2,
    "start_time": "2023-04-26T09:22:16.642Z"
   },
   {
    "duration": 6,
    "start_time": "2023-04-26T09:22:16.646Z"
   },
   {
    "duration": 221,
    "start_time": "2023-04-26T09:22:16.653Z"
   },
   {
    "duration": 4,
    "start_time": "2023-04-26T09:22:16.875Z"
   },
   {
    "duration": 46,
    "start_time": "2023-04-26T09:22:16.881Z"
   },
   {
    "duration": 145,
    "start_time": "2023-04-26T09:22:16.929Z"
   },
   {
    "duration": 237,
    "start_time": "2023-04-26T09:22:17.076Z"
   },
   {
    "duration": 401,
    "start_time": "2023-04-26T09:22:17.315Z"
   },
   {
    "duration": 6,
    "start_time": "2023-04-26T09:22:17.718Z"
   },
   {
    "duration": 36,
    "start_time": "2023-04-26T09:22:17.725Z"
   },
   {
    "duration": 214,
    "start_time": "2023-04-26T09:22:17.763Z"
   },
   {
    "duration": 241,
    "start_time": "2023-04-26T09:22:17.979Z"
   },
   {
    "duration": 51,
    "start_time": "2023-04-26T09:22:18.222Z"
   },
   {
    "duration": 174,
    "start_time": "2023-04-26T09:22:18.275Z"
   },
   {
    "duration": 122,
    "start_time": "2023-04-26T09:22:18.451Z"
   },
   {
    "duration": 115,
    "start_time": "2023-04-26T09:22:18.574Z"
   },
   {
    "duration": 2472,
    "start_time": "2023-04-26T09:22:18.694Z"
   },
   {
    "duration": 402,
    "start_time": "2023-04-26T09:22:21.170Z"
   },
   {
    "duration": 37,
    "start_time": "2023-04-26T09:22:21.574Z"
   },
   {
    "duration": 29,
    "start_time": "2023-04-26T09:22:21.614Z"
   },
   {
    "duration": 36,
    "start_time": "2023-04-26T09:22:21.645Z"
   },
   {
    "duration": 45,
    "start_time": "2023-04-26T09:22:21.682Z"
   },
   {
    "duration": 12,
    "start_time": "2023-04-26T09:22:21.729Z"
   },
   {
    "duration": 68,
    "start_time": "2023-04-26T09:22:21.743Z"
   },
   {
    "duration": 12,
    "start_time": "2023-04-26T09:22:21.812Z"
   },
   {
    "duration": 9,
    "start_time": "2023-04-26T09:22:21.826Z"
   },
   {
    "duration": 12,
    "start_time": "2023-04-26T09:22:21.837Z"
   },
   {
    "duration": 14,
    "start_time": "2023-04-26T09:22:21.851Z"
   },
   {
    "duration": 2060,
    "start_time": "2023-04-26T09:23:28.772Z"
   },
   {
    "duration": 6,
    "start_time": "2023-04-26T09:23:30.835Z"
   },
   {
    "duration": 916,
    "start_time": "2023-04-26T09:23:30.844Z"
   },
   {
    "duration": 25,
    "start_time": "2023-04-26T09:23:31.762Z"
   },
   {
    "duration": 45,
    "start_time": "2023-04-26T09:23:31.788Z"
   },
   {
    "duration": 15,
    "start_time": "2023-04-26T09:23:31.835Z"
   },
   {
    "duration": 27,
    "start_time": "2023-04-26T09:23:31.852Z"
   },
   {
    "duration": 30,
    "start_time": "2023-04-26T09:23:31.881Z"
   },
   {
    "duration": 6,
    "start_time": "2023-04-26T09:23:31.913Z"
   },
   {
    "duration": 16,
    "start_time": "2023-04-26T09:23:31.921Z"
   },
   {
    "duration": 22,
    "start_time": "2023-04-26T09:23:31.938Z"
   },
   {
    "duration": 16,
    "start_time": "2023-04-26T09:23:31.962Z"
   },
   {
    "duration": 49,
    "start_time": "2023-04-26T09:23:31.980Z"
   },
   {
    "duration": 26,
    "start_time": "2023-04-26T09:23:32.031Z"
   },
   {
    "duration": 40,
    "start_time": "2023-04-26T09:23:32.058Z"
   },
   {
    "duration": 80,
    "start_time": "2023-04-26T09:23:32.111Z"
   },
   {
    "duration": 18,
    "start_time": "2023-04-26T09:23:32.192Z"
   },
   {
    "duration": 67,
    "start_time": "2023-04-26T09:23:32.211Z"
   },
   {
    "duration": 3,
    "start_time": "2023-04-26T09:23:32.280Z"
   },
   {
    "duration": 48,
    "start_time": "2023-04-26T09:23:32.284Z"
   },
   {
    "duration": 12,
    "start_time": "2023-04-26T09:23:32.333Z"
   },
   {
    "duration": 5,
    "start_time": "2023-04-26T09:23:32.346Z"
   },
   {
    "duration": 157,
    "start_time": "2023-04-26T09:23:32.353Z"
   },
   {
    "duration": 2,
    "start_time": "2023-04-26T09:23:32.512Z"
   },
   {
    "duration": 13,
    "start_time": "2023-04-26T09:23:32.516Z"
   },
   {
    "duration": 202,
    "start_time": "2023-04-26T09:23:32.531Z"
   },
   {
    "duration": 4,
    "start_time": "2023-04-26T09:23:32.734Z"
   },
   {
    "duration": 36,
    "start_time": "2023-04-26T09:23:32.740Z"
   },
   {
    "duration": 259,
    "start_time": "2023-04-26T09:23:32.778Z"
   },
   {
    "duration": 196,
    "start_time": "2023-04-26T09:23:33.039Z"
   },
   {
    "duration": 306,
    "start_time": "2023-04-26T09:23:33.236Z"
   },
   {
    "duration": 6,
    "start_time": "2023-04-26T09:23:33.543Z"
   },
   {
    "duration": 24,
    "start_time": "2023-04-26T09:23:33.550Z"
   },
   {
    "duration": 203,
    "start_time": "2023-04-26T09:23:33.575Z"
   },
   {
    "duration": 200,
    "start_time": "2023-04-26T09:23:33.780Z"
   },
   {
    "duration": 48,
    "start_time": "2023-04-26T09:23:33.982Z"
   },
   {
    "duration": 180,
    "start_time": "2023-04-26T09:23:34.032Z"
   },
   {
    "duration": 132,
    "start_time": "2023-04-26T09:23:34.217Z"
   },
   {
    "duration": 130,
    "start_time": "2023-04-26T09:23:34.351Z"
   },
   {
    "duration": 2572,
    "start_time": "2023-04-26T09:23:34.483Z"
   },
   {
    "duration": 502,
    "start_time": "2023-04-26T09:23:37.057Z"
   },
   {
    "duration": 35,
    "start_time": "2023-04-26T09:23:37.560Z"
   },
   {
    "duration": 33,
    "start_time": "2023-04-26T09:23:37.598Z"
   },
   {
    "duration": 37,
    "start_time": "2023-04-26T09:23:37.633Z"
   },
   {
    "duration": 48,
    "start_time": "2023-04-26T09:23:37.671Z"
   },
   {
    "duration": 4,
    "start_time": "2023-04-26T09:23:37.721Z"
   },
   {
    "duration": 52,
    "start_time": "2023-04-26T09:23:37.728Z"
   },
   {
    "duration": 19,
    "start_time": "2023-04-26T09:23:37.795Z"
   },
   {
    "duration": 5,
    "start_time": "2023-04-26T09:23:37.816Z"
   },
   {
    "duration": 12,
    "start_time": "2023-04-26T09:23:37.823Z"
   },
   {
    "duration": 4,
    "start_time": "2023-04-26T09:23:37.837Z"
   },
   {
    "duration": 3,
    "start_time": "2023-04-26T09:24:42.718Z"
   },
   {
    "duration": 5,
    "start_time": "2023-04-26T09:25:29.212Z"
   },
   {
    "duration": 217,
    "start_time": "2023-04-26T09:25:31.013Z"
   },
   {
    "duration": 324,
    "start_time": "2023-04-26T09:25:44.320Z"
   },
   {
    "duration": 2100,
    "start_time": "2023-04-26T09:25:50.248Z"
   },
   {
    "duration": 5,
    "start_time": "2023-04-26T09:25:52.351Z"
   },
   {
    "duration": 1063,
    "start_time": "2023-04-26T09:25:52.358Z"
   },
   {
    "duration": 31,
    "start_time": "2023-04-26T09:25:53.424Z"
   },
   {
    "duration": 13,
    "start_time": "2023-04-26T09:25:53.456Z"
   },
   {
    "duration": 13,
    "start_time": "2023-04-26T09:25:53.471Z"
   },
   {
    "duration": 20,
    "start_time": "2023-04-26T09:25:53.496Z"
   },
   {
    "duration": 19,
    "start_time": "2023-04-26T09:25:53.527Z"
   },
   {
    "duration": 5,
    "start_time": "2023-04-26T09:25:53.547Z"
   },
   {
    "duration": 14,
    "start_time": "2023-04-26T09:25:53.555Z"
   },
   {
    "duration": 9,
    "start_time": "2023-04-26T09:25:53.571Z"
   },
   {
    "duration": 13,
    "start_time": "2023-04-26T09:25:53.582Z"
   },
   {
    "duration": 43,
    "start_time": "2023-04-26T09:25:53.607Z"
   },
   {
    "duration": 124,
    "start_time": "2023-04-26T09:25:53.652Z"
   },
   {
    "duration": 62,
    "start_time": "2023-04-26T09:25:53.778Z"
   },
   {
    "duration": 138,
    "start_time": "2023-04-26T09:25:53.842Z"
   },
   {
    "duration": 24,
    "start_time": "2023-04-26T09:25:53.983Z"
   },
   {
    "duration": 111,
    "start_time": "2023-04-26T09:25:54.008Z"
   },
   {
    "duration": 5,
    "start_time": "2023-04-26T09:25:54.121Z"
   },
   {
    "duration": 49,
    "start_time": "2023-04-26T09:25:54.127Z"
   },
   {
    "duration": 23,
    "start_time": "2023-04-26T09:25:54.178Z"
   },
   {
    "duration": 5,
    "start_time": "2023-04-26T09:25:54.203Z"
   },
   {
    "duration": 178,
    "start_time": "2023-04-26T09:25:54.214Z"
   },
   {
    "duration": 6,
    "start_time": "2023-04-26T09:25:54.394Z"
   },
   {
    "duration": 12,
    "start_time": "2023-04-26T09:25:54.402Z"
   },
   {
    "duration": 241,
    "start_time": "2023-04-26T09:25:54.416Z"
   },
   {
    "duration": 4,
    "start_time": "2023-04-26T09:25:54.659Z"
   },
   {
    "duration": 46,
    "start_time": "2023-04-26T09:25:54.666Z"
   },
   {
    "duration": 159,
    "start_time": "2023-04-26T09:25:54.714Z"
   },
   {
    "duration": 229,
    "start_time": "2023-04-26T09:25:54.875Z"
   },
   {
    "duration": 449,
    "start_time": "2023-04-26T09:25:55.106Z"
   },
   {
    "duration": 6,
    "start_time": "2023-04-26T09:25:55.557Z"
   },
   {
    "duration": 47,
    "start_time": "2023-04-26T09:25:55.565Z"
   },
   {
    "duration": 249,
    "start_time": "2023-04-26T09:25:55.614Z"
   },
   {
    "duration": 256,
    "start_time": "2023-04-26T09:25:55.865Z"
   },
   {
    "duration": 40,
    "start_time": "2023-04-26T09:25:56.123Z"
   },
   {
    "duration": 175,
    "start_time": "2023-04-26T09:25:56.165Z"
   },
   {
    "duration": 123,
    "start_time": "2023-04-26T09:25:56.341Z"
   },
   {
    "duration": 143,
    "start_time": "2023-04-26T09:25:56.466Z"
   },
   {
    "duration": 2804,
    "start_time": "2023-04-26T09:25:56.611Z"
   },
   {
    "duration": 352,
    "start_time": "2023-04-26T09:25:59.417Z"
   },
   {
    "duration": 46,
    "start_time": "2023-04-26T09:25:59.771Z"
   },
   {
    "duration": 25,
    "start_time": "2023-04-26T09:25:59.819Z"
   },
   {
    "duration": 24,
    "start_time": "2023-04-26T09:25:59.846Z"
   },
   {
    "duration": 39,
    "start_time": "2023-04-26T09:25:59.872Z"
   },
   {
    "duration": 4,
    "start_time": "2023-04-26T09:25:59.912Z"
   },
   {
    "duration": 50,
    "start_time": "2023-04-26T09:25:59.918Z"
   },
   {
    "duration": 9,
    "start_time": "2023-04-26T09:25:59.970Z"
   },
   {
    "duration": 6,
    "start_time": "2023-04-26T09:26:00.003Z"
   },
   {
    "duration": 18,
    "start_time": "2023-04-26T09:26:00.011Z"
   },
   {
    "duration": 22,
    "start_time": "2023-04-26T09:26:00.031Z"
   },
   {
    "duration": 4,
    "start_time": "2023-04-26T09:26:12.836Z"
   },
   {
    "duration": 206,
    "start_time": "2023-04-26T09:26:15.812Z"
   },
   {
    "duration": 436,
    "start_time": "2023-04-26T09:26:22.341Z"
   },
   {
    "duration": 3,
    "start_time": "2023-04-26T09:26:40.605Z"
   },
   {
    "duration": 155,
    "start_time": "2023-04-26T09:26:41.859Z"
   },
   {
    "duration": 69,
    "start_time": "2023-04-26T09:27:01.120Z"
   },
   {
    "duration": 73,
    "start_time": "2023-04-26T09:27:05.748Z"
   },
   {
    "duration": 72,
    "start_time": "2023-04-26T09:27:09.164Z"
   },
   {
    "duration": 68,
    "start_time": "2023-04-26T09:27:16.168Z"
   },
   {
    "duration": 60,
    "start_time": "2023-04-26T09:27:24.426Z"
   },
   {
    "duration": 10,
    "start_time": "2023-04-26T09:29:04.778Z"
   },
   {
    "duration": 80,
    "start_time": "2023-04-26T09:31:21.230Z"
   },
   {
    "duration": 1948,
    "start_time": "2023-04-26T09:31:46.668Z"
   },
   {
    "duration": 4,
    "start_time": "2023-04-26T09:31:48.618Z"
   },
   {
    "duration": 1085,
    "start_time": "2023-04-26T09:31:48.624Z"
   },
   {
    "duration": 25,
    "start_time": "2023-04-26T09:31:49.711Z"
   },
   {
    "duration": 13,
    "start_time": "2023-04-26T09:31:49.738Z"
   },
   {
    "duration": 8,
    "start_time": "2023-04-26T09:31:49.753Z"
   },
   {
    "duration": 17,
    "start_time": "2023-04-26T09:31:49.762Z"
   },
   {
    "duration": 32,
    "start_time": "2023-04-26T09:31:49.781Z"
   },
   {
    "duration": 4,
    "start_time": "2023-04-26T09:31:49.815Z"
   },
   {
    "duration": 6,
    "start_time": "2023-04-26T09:31:49.823Z"
   },
   {
    "duration": 4,
    "start_time": "2023-04-26T09:31:49.831Z"
   },
   {
    "duration": 3,
    "start_time": "2023-04-26T09:31:49.837Z"
   },
   {
    "duration": 62,
    "start_time": "2023-04-26T09:31:49.842Z"
   },
   {
    "duration": 14,
    "start_time": "2023-04-26T09:31:49.905Z"
   },
   {
    "duration": 12,
    "start_time": "2023-04-26T09:31:49.921Z"
   },
   {
    "duration": 105,
    "start_time": "2023-04-26T09:31:49.935Z"
   },
   {
    "duration": 13,
    "start_time": "2023-04-26T09:31:50.042Z"
   },
   {
    "duration": 105,
    "start_time": "2023-04-26T09:31:50.057Z"
   },
   {
    "duration": 3,
    "start_time": "2023-04-26T09:31:50.164Z"
   },
   {
    "duration": 48,
    "start_time": "2023-04-26T09:31:50.169Z"
   },
   {
    "duration": 20,
    "start_time": "2023-04-26T09:31:50.219Z"
   },
   {
    "duration": 19,
    "start_time": "2023-04-26T09:31:50.241Z"
   },
   {
    "duration": 178,
    "start_time": "2023-04-26T09:31:50.261Z"
   },
   {
    "duration": 3,
    "start_time": "2023-04-26T09:31:50.440Z"
   },
   {
    "duration": 12,
    "start_time": "2023-04-26T09:31:50.444Z"
   },
   {
    "duration": 209,
    "start_time": "2023-04-26T09:31:50.458Z"
   },
   {
    "duration": 3,
    "start_time": "2023-04-26T09:31:50.669Z"
   },
   {
    "duration": 50,
    "start_time": "2023-04-26T09:31:50.675Z"
   },
   {
    "duration": 140,
    "start_time": "2023-04-26T09:31:50.726Z"
   },
   {
    "duration": 218,
    "start_time": "2023-04-26T09:31:50.867Z"
   },
   {
    "duration": 440,
    "start_time": "2023-04-26T09:31:51.087Z"
   },
   {
    "duration": 5,
    "start_time": "2023-04-26T09:31:51.529Z"
   },
   {
    "duration": 38,
    "start_time": "2023-04-26T09:31:51.536Z"
   },
   {
    "duration": 234,
    "start_time": "2023-04-26T09:31:51.576Z"
   },
   {
    "duration": 239,
    "start_time": "2023-04-26T09:31:51.811Z"
   },
   {
    "duration": 12,
    "start_time": "2023-04-26T09:31:52.052Z"
   },
   {
    "duration": 98,
    "start_time": "2023-04-26T09:31:52.066Z"
   },
   {
    "duration": 170,
    "start_time": "2023-04-26T09:31:52.166Z"
   },
   {
    "duration": 138,
    "start_time": "2023-04-26T09:31:52.338Z"
   },
   {
    "duration": 137,
    "start_time": "2023-04-26T09:31:52.478Z"
   },
   {
    "duration": 2616,
    "start_time": "2023-04-26T09:31:52.617Z"
   },
   {
    "duration": 354,
    "start_time": "2023-04-26T09:31:55.235Z"
   },
   {
    "duration": 41,
    "start_time": "2023-04-26T09:31:55.591Z"
   },
   {
    "duration": 29,
    "start_time": "2023-04-26T09:31:55.634Z"
   },
   {
    "duration": 43,
    "start_time": "2023-04-26T09:31:55.665Z"
   },
   {
    "duration": 26,
    "start_time": "2023-04-26T09:31:55.709Z"
   },
   {
    "duration": 3,
    "start_time": "2023-04-26T09:31:55.736Z"
   },
   {
    "duration": 68,
    "start_time": "2023-04-26T09:31:55.741Z"
   },
   {
    "duration": 12,
    "start_time": "2023-04-26T09:31:55.811Z"
   },
   {
    "duration": 4,
    "start_time": "2023-04-26T09:31:55.825Z"
   },
   {
    "duration": 25,
    "start_time": "2023-04-26T09:31:55.831Z"
   },
   {
    "duration": 9,
    "start_time": "2023-04-26T09:31:55.857Z"
   },
   {
    "duration": 2023,
    "start_time": "2023-04-26T09:39:09.805Z"
   },
   {
    "duration": 5,
    "start_time": "2023-04-26T09:39:11.831Z"
   },
   {
    "duration": 988,
    "start_time": "2023-04-26T09:39:11.837Z"
   },
   {
    "duration": 26,
    "start_time": "2023-04-26T09:39:12.827Z"
   },
   {
    "duration": 17,
    "start_time": "2023-04-26T09:39:12.854Z"
   },
   {
    "duration": 6,
    "start_time": "2023-04-26T09:39:12.873Z"
   },
   {
    "duration": 20,
    "start_time": "2023-04-26T09:39:12.881Z"
   },
   {
    "duration": 19,
    "start_time": "2023-04-26T09:39:12.906Z"
   },
   {
    "duration": 3,
    "start_time": "2023-04-26T09:39:12.927Z"
   },
   {
    "duration": 12,
    "start_time": "2023-04-26T09:39:12.934Z"
   },
   {
    "duration": 9,
    "start_time": "2023-04-26T09:39:12.947Z"
   },
   {
    "duration": 23,
    "start_time": "2023-04-26T09:39:12.958Z"
   },
   {
    "duration": 33,
    "start_time": "2023-04-26T09:39:12.983Z"
   },
   {
    "duration": 12,
    "start_time": "2023-04-26T09:39:13.018Z"
   },
   {
    "duration": 25,
    "start_time": "2023-04-26T09:39:13.031Z"
   },
   {
    "duration": 108,
    "start_time": "2023-04-26T09:39:13.058Z"
   },
   {
    "duration": 11,
    "start_time": "2023-04-26T09:39:13.168Z"
   },
   {
    "duration": 82,
    "start_time": "2023-04-26T09:39:13.181Z"
   },
   {
    "duration": 4,
    "start_time": "2023-04-26T09:39:13.265Z"
   },
   {
    "duration": 50,
    "start_time": "2023-04-26T09:39:13.271Z"
   },
   {
    "duration": 3,
    "start_time": "2023-04-26T09:39:13.323Z"
   },
   {
    "duration": 18,
    "start_time": "2023-04-26T09:39:13.328Z"
   },
   {
    "duration": 181,
    "start_time": "2023-04-26T09:39:13.348Z"
   },
   {
    "duration": 3,
    "start_time": "2023-04-26T09:39:13.531Z"
   },
   {
    "duration": 16,
    "start_time": "2023-04-26T09:39:13.536Z"
   },
   {
    "duration": 213,
    "start_time": "2023-04-26T09:39:13.554Z"
   },
   {
    "duration": 3,
    "start_time": "2023-04-26T09:39:13.768Z"
   },
   {
    "duration": 52,
    "start_time": "2023-04-26T09:39:13.776Z"
   },
   {
    "duration": 306,
    "start_time": "2023-04-26T09:39:13.830Z"
   },
   {
    "duration": 286,
    "start_time": "2023-04-26T09:39:14.139Z"
   },
   {
    "duration": 307,
    "start_time": "2023-04-26T09:39:14.429Z"
   },
   {
    "duration": 6,
    "start_time": "2023-04-26T09:39:14.738Z"
   },
   {
    "duration": 53,
    "start_time": "2023-04-26T09:39:14.746Z"
   },
   {
    "duration": 210,
    "start_time": "2023-04-26T09:39:14.804Z"
   },
   {
    "duration": 235,
    "start_time": "2023-04-26T09:39:15.016Z"
   },
   {
    "duration": 12,
    "start_time": "2023-04-26T09:39:15.252Z"
   },
   {
    "duration": 84,
    "start_time": "2023-04-26T09:39:15.265Z"
   },
   {
    "duration": 179,
    "start_time": "2023-04-26T09:39:15.351Z"
   },
   {
    "duration": 125,
    "start_time": "2023-04-26T09:39:15.531Z"
   },
   {
    "duration": 129,
    "start_time": "2023-04-26T09:39:15.657Z"
   },
   {
    "duration": 2612,
    "start_time": "2023-04-26T09:39:15.798Z"
   },
   {
    "duration": 354,
    "start_time": "2023-04-26T09:39:18.413Z"
   },
   {
    "duration": 42,
    "start_time": "2023-04-26T09:39:18.769Z"
   },
   {
    "duration": 38,
    "start_time": "2023-04-26T09:39:18.813Z"
   },
   {
    "duration": 47,
    "start_time": "2023-04-26T09:39:18.852Z"
   },
   {
    "duration": 29,
    "start_time": "2023-04-26T09:39:18.903Z"
   },
   {
    "duration": 4,
    "start_time": "2023-04-26T09:39:18.933Z"
   },
   {
    "duration": 78,
    "start_time": "2023-04-26T09:39:18.939Z"
   },
   {
    "duration": 9,
    "start_time": "2023-04-26T09:39:19.019Z"
   },
   {
    "duration": 4,
    "start_time": "2023-04-26T09:39:19.030Z"
   },
   {
    "duration": 27,
    "start_time": "2023-04-26T09:39:19.035Z"
   },
   {
    "duration": 4,
    "start_time": "2023-04-26T09:39:19.063Z"
   }
  ],
  "kernelspec": {
   "display_name": "Python 3 (ipykernel)",
   "language": "python",
   "name": "python3"
  },
  "language_info": {
   "codemirror_mode": {
    "name": "ipython",
    "version": 3
   },
   "file_extension": ".py",
   "mimetype": "text/x-python",
   "name": "python",
   "nbconvert_exporter": "python",
   "pygments_lexer": "ipython3",
   "version": "3.9.5"
  },
  "toc": {
   "base_numbering": 1,
   "nav_menu": {
    "height": "126.991px",
    "width": "376.978px"
   },
   "number_sections": true,
   "sideBar": true,
   "skip_h1_title": true,
   "title_cell": "Table of Contents",
   "title_sidebar": "Contents",
   "toc_cell": false,
   "toc_position": {
    "height": "calc(100% - 180px)",
    "left": "10px",
    "top": "150px",
    "width": "164.988px"
   },
   "toc_section_display": true,
   "toc_window_display": true
  }
 },
 "nbformat": 4,
 "nbformat_minor": 2
}
