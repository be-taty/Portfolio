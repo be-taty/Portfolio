{
 "cells": [
  {
   "cell_type": "markdown",
   "metadata": {},
   "source": [
    "# Проект: Принятие решений в бизнесе"
   ]
  },
  {
   "cell_type": "markdown",
   "metadata": {},
   "source": [
    "**Введение**\n",
    "<br>Вместе с отделом маркетинга мы подготовили список гипотез для увеличения выручки крупного интернет-магазина.\n",
    "Необходимо приоритизировать гипотезы, запустить A/B-тест и проанализировать результаты.\n",
    "<br>Проект состоит из двух частей:\n",
    "- Часть 1. Приоритизация гипотез;\n",
    "- Часть 2. Анализ A/B-теста.\n",
    "\n",
    "**Часть 1. Приоритизация гипотез.**\n",
    "<br>В файле /datasets/hypothesis.csv 9 гипотез по увеличению выручки интернет-магазина с указанными параметрами Reach, Impact, Confidence, Effort.\n",
    "<br>Задача:\n",
    "- Применить фреймворк ICE для приоритизации гипотез. Отсортировать их по убыванию приоритета.\n",
    "- Применить фреймворк RICE для приоритизации гипотез. Отсортировать их по убыванию приоритета.\n",
    "- Указать, как изменилась приоритизация гипотез при применении RICE вместо ICE. Объяснить, почему так произошло.\n",
    "\n",
    "**Часть 2. Анализ A/B-теста.**\n",
    "<br>Мы провели A/B-тест и получили результаты, которые описаны в файлах /datasets/orders.csv и /datasets/visitors.csv.\n",
    "<br>Задача:\n",
    "- Проанализировать A/B-тест:\n",
    "- Построить график кумулятивной выручки по группам. Сделать выводы и предположения.\n",
    "- Построить график кумулятивного среднего чека по группам. Сделать выводы и предположения.\n",
    "- Построить график относительного изменения кумулятивного среднего чека группы B к группе A. Сделать выводы и предположения.\n",
    "- Построить график кумулятивного среднего количества заказов по группам. Сделать выводы и предположения.\n",
    "- Построить график относительного изменения кумулятивного среднего количества заказов группы B к группе A. Сделать выводы и предположения.\n",
    "- Построить точечный график количества заказов по пользователям. Сделать выводы и предположения.\n",
    "- Посчитать 95-й и 99-й перцентили количества заказов на пользователя. Выбрать границу для определения аномальных пользователей.\n",
    "- Построить точечный график стоимостей заказов. Сделать выводы и предположения.\n",
    "- Построить 95-й и 99-й перцентили стоимости заказов. Выбрать границу для определения аномальных заказов.\n",
    "- Посчитать статистическую значимость различий в среднем количестве заказов между группами по «сырым» данным. Сделать выводы и предположения.\n",
    "- Посчитать статистическую значимость различий в среднем чеке заказа между группами по «сырым» данным. Сделать выводы и предположения.\n",
    "- Посчитать статистическую значимость различий в среднем количестве заказов между группами по «очищенным» данным. Сделать выводы и предположения.\n",
    "- Посчитать статистическую значимость различий в среднем чеке заказа между группами по «очищенным» данным. Сделать выводы и предположения.\n",
    "- Принятье решение по результатам теста и объяснить его. "
   ]
  },
  {
   "cell_type": "markdown",
   "metadata": {},
   "source": [
    "### Приоритизация гипотез."
   ]
  },
  {
   "cell_type": "markdown",
   "metadata": {},
   "source": [
    "Прежде, чем приступить к работе с гипотезами, необходимо загрузить данные и подготовить их к анализу. Изучим данные и выполним предобработку. "
   ]
  },
  {
   "cell_type": "code",
   "execution_count": 57,
   "metadata": {},
   "outputs": [],
   "source": [
    "import pandas as pd\n",
    "import scipy.stats as stats\n",
    "import datetime as dt\n",
    "import numpy as np\n",
    "import matplotlib.pyplot as plt"
   ]
  },
  {
   "cell_type": "code",
   "execution_count": 58,
   "metadata": {},
   "outputs": [
    {
     "data": {
      "text/html": [
       "<div>\n",
       "<style scoped>\n",
       "    .dataframe tbody tr th:only-of-type {\n",
       "        vertical-align: middle;\n",
       "    }\n",
       "\n",
       "    .dataframe tbody tr th {\n",
       "        vertical-align: top;\n",
       "    }\n",
       "\n",
       "    .dataframe thead th {\n",
       "        text-align: right;\n",
       "    }\n",
       "</style>\n",
       "<table border=\"1\" class=\"dataframe\">\n",
       "  <thead>\n",
       "    <tr style=\"text-align: right;\">\n",
       "      <th></th>\n",
       "      <th>Hypothesis</th>\n",
       "      <th>Reach</th>\n",
       "      <th>Impact</th>\n",
       "      <th>Confidence</th>\n",
       "      <th>Efforts</th>\n",
       "    </tr>\n",
       "  </thead>\n",
       "  <tbody>\n",
       "    <tr>\n",
       "      <th>0</th>\n",
       "      <td>Добавить два новых канала привлечения трафика, что позволит привлекать на 30% больше пользователей</td>\n",
       "      <td>3</td>\n",
       "      <td>10</td>\n",
       "      <td>8</td>\n",
       "      <td>6</td>\n",
       "    </tr>\n",
       "    <tr>\n",
       "      <th>1</th>\n",
       "      <td>Запустить собственную службу доставки, что сократит срок доставки заказов</td>\n",
       "      <td>2</td>\n",
       "      <td>5</td>\n",
       "      <td>4</td>\n",
       "      <td>10</td>\n",
       "    </tr>\n",
       "    <tr>\n",
       "      <th>2</th>\n",
       "      <td>Добавить блоки рекомендаций товаров на сайт интернет магазина, чтобы повысить конверсию и средний чек заказа</td>\n",
       "      <td>8</td>\n",
       "      <td>3</td>\n",
       "      <td>7</td>\n",
       "      <td>3</td>\n",
       "    </tr>\n",
       "    <tr>\n",
       "      <th>3</th>\n",
       "      <td>Изменить структура категорий, что увеличит конверсию, т.к. пользователи быстрее найдут нужный товар</td>\n",
       "      <td>8</td>\n",
       "      <td>3</td>\n",
       "      <td>3</td>\n",
       "      <td>8</td>\n",
       "    </tr>\n",
       "    <tr>\n",
       "      <th>4</th>\n",
       "      <td>Изменить цвет фона главной страницы, чтобы увеличить вовлеченность пользователей</td>\n",
       "      <td>3</td>\n",
       "      <td>1</td>\n",
       "      <td>1</td>\n",
       "      <td>1</td>\n",
       "    </tr>\n",
       "    <tr>\n",
       "      <th>5</th>\n",
       "      <td>Добавить страницу отзывов клиентов о магазине, что позволит увеличить количество заказов</td>\n",
       "      <td>3</td>\n",
       "      <td>2</td>\n",
       "      <td>2</td>\n",
       "      <td>3</td>\n",
       "    </tr>\n",
       "    <tr>\n",
       "      <th>6</th>\n",
       "      <td>Показать на главной странице баннеры с актуальными акциями и распродажами, чтобы увеличить конверсию</td>\n",
       "      <td>5</td>\n",
       "      <td>3</td>\n",
       "      <td>8</td>\n",
       "      <td>3</td>\n",
       "    </tr>\n",
       "    <tr>\n",
       "      <th>7</th>\n",
       "      <td>Добавить форму подписки на все основные страницы, чтобы собрать базу клиентов для email-рассылок</td>\n",
       "      <td>10</td>\n",
       "      <td>7</td>\n",
       "      <td>8</td>\n",
       "      <td>5</td>\n",
       "    </tr>\n",
       "    <tr>\n",
       "      <th>8</th>\n",
       "      <td>Запустить акцию, дающую скидку на товар в день рождения</td>\n",
       "      <td>1</td>\n",
       "      <td>9</td>\n",
       "      <td>9</td>\n",
       "      <td>5</td>\n",
       "    </tr>\n",
       "  </tbody>\n",
       "</table>\n",
       "</div>"
      ],
      "text/plain": [
       "                                                                                                     Hypothesis  \\\n",
       "0            Добавить два новых канала привлечения трафика, что позволит привлекать на 30% больше пользователей   \n",
       "1                                     Запустить собственную службу доставки, что сократит срок доставки заказов   \n",
       "2  Добавить блоки рекомендаций товаров на сайт интернет магазина, чтобы повысить конверсию и средний чек заказа   \n",
       "3           Изменить структура категорий, что увеличит конверсию, т.к. пользователи быстрее найдут нужный товар   \n",
       "4                              Изменить цвет фона главной страницы, чтобы увеличить вовлеченность пользователей   \n",
       "5                      Добавить страницу отзывов клиентов о магазине, что позволит увеличить количество заказов   \n",
       "6          Показать на главной странице баннеры с актуальными акциями и распродажами, чтобы увеличить конверсию   \n",
       "7              Добавить форму подписки на все основные страницы, чтобы собрать базу клиентов для email-рассылок   \n",
       "8                                                       Запустить акцию, дающую скидку на товар в день рождения   \n",
       "\n",
       "   Reach  Impact  Confidence  Efforts  \n",
       "0      3      10           8        6  \n",
       "1      2       5           4       10  \n",
       "2      8       3           7        3  \n",
       "3      8       3           3        8  \n",
       "4      3       1           1        1  \n",
       "5      3       2           2        3  \n",
       "6      5       3           8        3  \n",
       "7     10       7           8        5  \n",
       "8      1       9           9        5  "
      ]
     },
     "execution_count": 58,
     "metadata": {},
     "output_type": "execute_result"
    }
   ],
   "source": [
    "# загружаем данные для первой части\n",
    "\n",
    "hypothesis = pd.read_csv('/datasets/hypothesis.csv')\n",
    "pd.options.display.max_colwidth = 150\n",
    "hypothesis"
   ]
  },
  {
   "cell_type": "markdown",
   "metadata": {},
   "source": [
    "В таблице всего 9 строк и 5 столбцов, можно оценить качество данных визуально. Пропусков и дубликатов нет. \n",
    "<br> Таблица содержит следующие данные:\n",
    "- Hypothesis — краткое описание гипотезы;\n",
    "- Reach — охват пользователей по 10-балльной шкале;\n",
    "- Impact — влияние на пользователей по 10-балльной шкале;\n",
    "- Confidence — уверенность в гипотезе по 10-балльной шкале;\n",
    "- Efforts — затраты ресурсов на проверку гипотезы по 10-балльной шкале."
   ]
  },
  {
   "cell_type": "code",
   "execution_count": 59,
   "metadata": {},
   "outputs": [
    {
     "name": "stdout",
     "output_type": "stream",
     "text": [
      "<class 'pandas.core.frame.DataFrame'>\n",
      "RangeIndex: 9 entries, 0 to 8\n",
      "Data columns (total 5 columns):\n",
      " #   Column      Non-Null Count  Dtype \n",
      "---  ------      --------------  ----- \n",
      " 0   hypothesis  9 non-null      object\n",
      " 1   reach       9 non-null      int64 \n",
      " 2   impact      9 non-null      int64 \n",
      " 3   confidence  9 non-null      int64 \n",
      " 4   efforts     9 non-null      int64 \n",
      "dtypes: int64(4), object(1)\n",
      "memory usage: 488.0+ bytes\n"
     ]
    }
   ],
   "source": [
    "# приведем названия столбцов к нижнему регистру и изучим общую информацию\n",
    "\n",
    "hypothesis.columns = hypothesis.columns.str.lower()\n",
    "hypothesis.info()"
   ]
  },
  {
   "cell_type": "markdown",
   "metadata": {},
   "source": [
    "Столбцы переименовали. В типах данных проблем нет. \n",
    "<br> Приступим к приоритизации гипотез."
   ]
  },
  {
   "cell_type": "code",
   "execution_count": 60,
   "metadata": {
    "scrolled": true
   },
   "outputs": [
    {
     "data": {
      "text/html": [
       "<div>\n",
       "<style scoped>\n",
       "    .dataframe tbody tr th:only-of-type {\n",
       "        vertical-align: middle;\n",
       "    }\n",
       "\n",
       "    .dataframe tbody tr th {\n",
       "        vertical-align: top;\n",
       "    }\n",
       "\n",
       "    .dataframe thead th {\n",
       "        text-align: right;\n",
       "    }\n",
       "</style>\n",
       "<table border=\"1\" class=\"dataframe\">\n",
       "  <thead>\n",
       "    <tr style=\"text-align: right;\">\n",
       "      <th></th>\n",
       "      <th>hypothesis</th>\n",
       "      <th>ICE</th>\n",
       "    </tr>\n",
       "  </thead>\n",
       "  <tbody>\n",
       "    <tr>\n",
       "      <th>8</th>\n",
       "      <td>Запустить акцию, дающую скидку на товар в день рождения</td>\n",
       "      <td>16.20</td>\n",
       "    </tr>\n",
       "    <tr>\n",
       "      <th>0</th>\n",
       "      <td>Добавить два новых канала привлечения трафика, что позволит привлекать на 30% больше пользователей</td>\n",
       "      <td>13.33</td>\n",
       "    </tr>\n",
       "    <tr>\n",
       "      <th>7</th>\n",
       "      <td>Добавить форму подписки на все основные страницы, чтобы собрать базу клиентов для email-рассылок</td>\n",
       "      <td>11.20</td>\n",
       "    </tr>\n",
       "    <tr>\n",
       "      <th>6</th>\n",
       "      <td>Показать на главной странице баннеры с актуальными акциями и распродажами, чтобы увеличить конверсию</td>\n",
       "      <td>8.00</td>\n",
       "    </tr>\n",
       "    <tr>\n",
       "      <th>2</th>\n",
       "      <td>Добавить блоки рекомендаций товаров на сайт интернет магазина, чтобы повысить конверсию и средний чек заказа</td>\n",
       "      <td>7.00</td>\n",
       "    </tr>\n",
       "    <tr>\n",
       "      <th>1</th>\n",
       "      <td>Запустить собственную службу доставки, что сократит срок доставки заказов</td>\n",
       "      <td>2.00</td>\n",
       "    </tr>\n",
       "    <tr>\n",
       "      <th>5</th>\n",
       "      <td>Добавить страницу отзывов клиентов о магазине, что позволит увеличить количество заказов</td>\n",
       "      <td>1.33</td>\n",
       "    </tr>\n",
       "    <tr>\n",
       "      <th>3</th>\n",
       "      <td>Изменить структура категорий, что увеличит конверсию, т.к. пользователи быстрее найдут нужный товар</td>\n",
       "      <td>1.12</td>\n",
       "    </tr>\n",
       "    <tr>\n",
       "      <th>4</th>\n",
       "      <td>Изменить цвет фона главной страницы, чтобы увеличить вовлеченность пользователей</td>\n",
       "      <td>1.00</td>\n",
       "    </tr>\n",
       "  </tbody>\n",
       "</table>\n",
       "</div>"
      ],
      "text/plain": [
       "                                                                                                     hypothesis  \\\n",
       "8                                                       Запустить акцию, дающую скидку на товар в день рождения   \n",
       "0            Добавить два новых канала привлечения трафика, что позволит привлекать на 30% больше пользователей   \n",
       "7              Добавить форму подписки на все основные страницы, чтобы собрать базу клиентов для email-рассылок   \n",
       "6          Показать на главной странице баннеры с актуальными акциями и распродажами, чтобы увеличить конверсию   \n",
       "2  Добавить блоки рекомендаций товаров на сайт интернет магазина, чтобы повысить конверсию и средний чек заказа   \n",
       "1                                     Запустить собственную службу доставки, что сократит срок доставки заказов   \n",
       "5                      Добавить страницу отзывов клиентов о магазине, что позволит увеличить количество заказов   \n",
       "3           Изменить структура категорий, что увеличит конверсию, т.к. пользователи быстрее найдут нужный товар   \n",
       "4                              Изменить цвет фона главной страницы, чтобы увеличить вовлеченность пользователей   \n",
       "\n",
       "     ICE  \n",
       "8  16.20  \n",
       "0  13.33  \n",
       "7  11.20  \n",
       "6   8.00  \n",
       "2   7.00  \n",
       "1   2.00  \n",
       "5   1.33  \n",
       "3   1.12  \n",
       "4   1.00  "
      ]
     },
     "execution_count": 60,
     "metadata": {},
     "output_type": "execute_result"
    }
   ],
   "source": [
    "# применим фреймворк ICE для приоритизации гипотез, отсортируем их по убыванию приоритета\n",
    "\n",
    "hypothesis['ICE'] = (hypothesis['impact'] * hypothesis['confidence']) / hypothesis['efforts']\n",
    "hypothesis['ICE'] = hypothesis['ICE'].round(2)\n",
    "hypothesis[['hypothesis', 'ICE']].sort_values(by = 'ICE', ascending = False)"
   ]
  },
  {
   "cell_type": "markdown",
   "metadata": {},
   "source": [
    "Наиболее перспективные гипотезы по ICE: \n",
    "- \"Запустить акцию, дающую скидку на товар в день рождения\";\n",
    "- \"Добавить два новых канала привлечения трафика, что позволит привлекать на 30% больше пользователей\";\n",
    "- \"Добавить форму подписки на все основные страницы, чтобы собрать базу клиентов для email-рассылок\";\n",
    "- \"Показать на главной странице баннеры с актуальными акциями и распродажами, чтобы увеличить конверсию\"."
   ]
  },
  {
   "cell_type": "code",
   "execution_count": 61,
   "metadata": {},
   "outputs": [
    {
     "data": {
      "text/html": [
       "<div>\n",
       "<style scoped>\n",
       "    .dataframe tbody tr th:only-of-type {\n",
       "        vertical-align: middle;\n",
       "    }\n",
       "\n",
       "    .dataframe tbody tr th {\n",
       "        vertical-align: top;\n",
       "    }\n",
       "\n",
       "    .dataframe thead th {\n",
       "        text-align: right;\n",
       "    }\n",
       "</style>\n",
       "<table border=\"1\" class=\"dataframe\">\n",
       "  <thead>\n",
       "    <tr style=\"text-align: right;\">\n",
       "      <th></th>\n",
       "      <th>hypothesis</th>\n",
       "      <th>RICE</th>\n",
       "    </tr>\n",
       "  </thead>\n",
       "  <tbody>\n",
       "    <tr>\n",
       "      <th>7</th>\n",
       "      <td>Добавить форму подписки на все основные страницы, чтобы собрать базу клиентов для email-рассылок</td>\n",
       "      <td>112.0</td>\n",
       "    </tr>\n",
       "    <tr>\n",
       "      <th>2</th>\n",
       "      <td>Добавить блоки рекомендаций товаров на сайт интернет магазина, чтобы повысить конверсию и средний чек заказа</td>\n",
       "      <td>56.0</td>\n",
       "    </tr>\n",
       "    <tr>\n",
       "      <th>0</th>\n",
       "      <td>Добавить два новых канала привлечения трафика, что позволит привлекать на 30% больше пользователей</td>\n",
       "      <td>40.0</td>\n",
       "    </tr>\n",
       "    <tr>\n",
       "      <th>6</th>\n",
       "      <td>Показать на главной странице баннеры с актуальными акциями и распродажами, чтобы увеличить конверсию</td>\n",
       "      <td>40.0</td>\n",
       "    </tr>\n",
       "    <tr>\n",
       "      <th>8</th>\n",
       "      <td>Запустить акцию, дающую скидку на товар в день рождения</td>\n",
       "      <td>16.2</td>\n",
       "    </tr>\n",
       "    <tr>\n",
       "      <th>3</th>\n",
       "      <td>Изменить структура категорий, что увеличит конверсию, т.к. пользователи быстрее найдут нужный товар</td>\n",
       "      <td>9.0</td>\n",
       "    </tr>\n",
       "    <tr>\n",
       "      <th>1</th>\n",
       "      <td>Запустить собственную службу доставки, что сократит срок доставки заказов</td>\n",
       "      <td>4.0</td>\n",
       "    </tr>\n",
       "    <tr>\n",
       "      <th>5</th>\n",
       "      <td>Добавить страницу отзывов клиентов о магазине, что позволит увеличить количество заказов</td>\n",
       "      <td>4.0</td>\n",
       "    </tr>\n",
       "    <tr>\n",
       "      <th>4</th>\n",
       "      <td>Изменить цвет фона главной страницы, чтобы увеличить вовлеченность пользователей</td>\n",
       "      <td>3.0</td>\n",
       "    </tr>\n",
       "  </tbody>\n",
       "</table>\n",
       "</div>"
      ],
      "text/plain": [
       "                                                                                                     hypothesis  \\\n",
       "7              Добавить форму подписки на все основные страницы, чтобы собрать базу клиентов для email-рассылок   \n",
       "2  Добавить блоки рекомендаций товаров на сайт интернет магазина, чтобы повысить конверсию и средний чек заказа   \n",
       "0            Добавить два новых канала привлечения трафика, что позволит привлекать на 30% больше пользователей   \n",
       "6          Показать на главной странице баннеры с актуальными акциями и распродажами, чтобы увеличить конверсию   \n",
       "8                                                       Запустить акцию, дающую скидку на товар в день рождения   \n",
       "3           Изменить структура категорий, что увеличит конверсию, т.к. пользователи быстрее найдут нужный товар   \n",
       "1                                     Запустить собственную службу доставки, что сократит срок доставки заказов   \n",
       "5                      Добавить страницу отзывов клиентов о магазине, что позволит увеличить количество заказов   \n",
       "4                              Изменить цвет фона главной страницы, чтобы увеличить вовлеченность пользователей   \n",
       "\n",
       "    RICE  \n",
       "7  112.0  \n",
       "2   56.0  \n",
       "0   40.0  \n",
       "6   40.0  \n",
       "8   16.2  \n",
       "3    9.0  \n",
       "1    4.0  \n",
       "5    4.0  \n",
       "4    3.0  "
      ]
     },
     "execution_count": 61,
     "metadata": {},
     "output_type": "execute_result"
    }
   ],
   "source": [
    "# применим фреймворк RICE для приоритизации гипотез, отсортируем их по убыванию приоритета\n",
    "\n",
    "hypothesis['RICE'] = (hypothesis['reach'] * hypothesis['impact'] * hypothesis['confidence']) / hypothesis['efforts']\n",
    "hypothesis[['hypothesis', 'RICE']].sort_values(by = 'RICE', ascending = False)"
   ]
  },
  {
   "cell_type": "markdown",
   "metadata": {},
   "source": [
    "Наиболее перспективные гипотезы по RICE: \n",
    "- \"Добавить форму подписки на все основные страницы, чтобы собрать базу клиентов для email-рассылок\";\n",
    "- \"Добавить блоки рекомендаций товаров на сайт интернет магазина, чтобы повысить конверсию и средний чек заказа\";\n",
    "- \"Добавить два новых канала привлечения трафика, что позволит привлекать на 30% больше пользователей\";\n",
    "- \"Запустить акцию, дающую скидку на товар в день рождения\". \n",
    "\n",
    "Гипотезы остались те же, однако порядок их изменился. На первом месте по RICE гипотеза \"Добавить форму подписки на все основные страницы, чтобы собрать базу клиентов для email-рассылок\", гипотеза \"Запустить акцию, дающую скидку на товар в день рождения\" сместилась на последнее место. \n",
    "<br> Гипотеза \"Добавить форму подписки на все основные страницы, чтобы собрать базу клиентов для email-рассылок\" оказалась на первом месте, потому что ее показатель охвата пользователей (reach) 10, в то время как у других гипотез он меньше.\n",
    "<br> В отличие от ICE Score, RICE Score учитывает фактор охвата пользователей, поэтому он более сбалансирован."
   ]
  },
  {
   "cell_type": "markdown",
   "metadata": {},
   "source": [
    "### Анализ A/B-теста"
   ]
  },
  {
   "cell_type": "markdown",
   "metadata": {},
   "source": [
    "Перед тем, как приступить к анализу A/B-теста, загрузим и изучим данные для второй части проекта."
   ]
  },
  {
   "cell_type": "code",
   "execution_count": 62,
   "metadata": {},
   "outputs": [],
   "source": [
    "# загружаем данные для второй части\n",
    "\n",
    "orders, visitors = (\n",
    "    pd.read_csv('/datasets/orders.csv'),  \n",
    "    pd.read_csv('/datasets/visitors.csv'),  \n",
    ")"
   ]
  },
  {
   "cell_type": "code",
   "execution_count": 63,
   "metadata": {},
   "outputs": [
    {
     "name": "stdout",
     "output_type": "stream",
     "text": [
      "<class 'pandas.core.frame.DataFrame'>\n",
      "RangeIndex: 1197 entries, 0 to 1196\n",
      "Data columns (total 5 columns):\n",
      " #   Column         Non-Null Count  Dtype \n",
      "---  ------         --------------  ----- \n",
      " 0   transactionId  1197 non-null   int64 \n",
      " 1   visitorId      1197 non-null   int64 \n",
      " 2   date           1197 non-null   object\n",
      " 3   revenue        1197 non-null   int64 \n",
      " 4   group          1197 non-null   object\n",
      "dtypes: int64(3), object(2)\n",
      "memory usage: 46.9+ KB\n"
     ]
    },
    {
     "data": {
      "text/html": [
       "<div>\n",
       "<style scoped>\n",
       "    .dataframe tbody tr th:only-of-type {\n",
       "        vertical-align: middle;\n",
       "    }\n",
       "\n",
       "    .dataframe tbody tr th {\n",
       "        vertical-align: top;\n",
       "    }\n",
       "\n",
       "    .dataframe thead th {\n",
       "        text-align: right;\n",
       "    }\n",
       "</style>\n",
       "<table border=\"1\" class=\"dataframe\">\n",
       "  <thead>\n",
       "    <tr style=\"text-align: right;\">\n",
       "      <th></th>\n",
       "      <th>transactionId</th>\n",
       "      <th>visitorId</th>\n",
       "      <th>date</th>\n",
       "      <th>revenue</th>\n",
       "      <th>group</th>\n",
       "    </tr>\n",
       "  </thead>\n",
       "  <tbody>\n",
       "    <tr>\n",
       "      <th>0</th>\n",
       "      <td>3667963787</td>\n",
       "      <td>3312258926</td>\n",
       "      <td>2019-08-15</td>\n",
       "      <td>1650</td>\n",
       "      <td>B</td>\n",
       "    </tr>\n",
       "    <tr>\n",
       "      <th>1</th>\n",
       "      <td>2804400009</td>\n",
       "      <td>3642806036</td>\n",
       "      <td>2019-08-15</td>\n",
       "      <td>730</td>\n",
       "      <td>B</td>\n",
       "    </tr>\n",
       "    <tr>\n",
       "      <th>2</th>\n",
       "      <td>2961555356</td>\n",
       "      <td>4069496402</td>\n",
       "      <td>2019-08-15</td>\n",
       "      <td>400</td>\n",
       "      <td>A</td>\n",
       "    </tr>\n",
       "    <tr>\n",
       "      <th>3</th>\n",
       "      <td>3797467345</td>\n",
       "      <td>1196621759</td>\n",
       "      <td>2019-08-15</td>\n",
       "      <td>9759</td>\n",
       "      <td>B</td>\n",
       "    </tr>\n",
       "    <tr>\n",
       "      <th>4</th>\n",
       "      <td>2282983706</td>\n",
       "      <td>2322279887</td>\n",
       "      <td>2019-08-15</td>\n",
       "      <td>2308</td>\n",
       "      <td>B</td>\n",
       "    </tr>\n",
       "  </tbody>\n",
       "</table>\n",
       "</div>"
      ],
      "text/plain": [
       "   transactionId   visitorId        date  revenue group\n",
       "0     3667963787  3312258926  2019-08-15     1650     B\n",
       "1     2804400009  3642806036  2019-08-15      730     B\n",
       "2     2961555356  4069496402  2019-08-15      400     A\n",
       "3     3797467345  1196621759  2019-08-15     9759     B\n",
       "4     2282983706  2322279887  2019-08-15     2308     B"
      ]
     },
     "execution_count": 63,
     "metadata": {},
     "output_type": "execute_result"
    }
   ],
   "source": [
    "# изучим данные о orders\n",
    "\n",
    "orders.info()\n",
    "orders.head(5)"
   ]
  },
  {
   "cell_type": "markdown",
   "metadata": {},
   "source": [
    "Пропущенных значений нет. \n",
    "<br>Таблица содержит следующие данные:\n",
    "- transactionId — идентификатор заказа;\n",
    "- visitorId — идентификатор пользователя, совершившего заказ;\n",
    "- date — дата, когда был совершён заказ;\n",
    "- revenue — выручка заказа;\n",
    "- group — группа A/B-теста, в которую попал заказ.\n",
    "\n",
    "Приведем названия столбцов к нижнему регистру. Проверим данные на наличие дубликатов и изменим тип данных в date."
   ]
  },
  {
   "cell_type": "code",
   "execution_count": 64,
   "metadata": {},
   "outputs": [],
   "source": [
    "# переименуем столбцы\n",
    "\n",
    "orders = orders.rename(columns = {'transactionId' : 'transaction_id', 'visitorId' : 'visitor_id'})"
   ]
  },
  {
   "cell_type": "code",
   "execution_count": 65,
   "metadata": {},
   "outputs": [
    {
     "data": {
      "text/plain": [
       "0"
      ]
     },
     "execution_count": 65,
     "metadata": {},
     "output_type": "execute_result"
    }
   ],
   "source": [
    "# проверка на наличие явных дубликатов\n",
    "\n",
    "orders.duplicated().sum()"
   ]
  },
  {
   "cell_type": "markdown",
   "metadata": {},
   "source": [
    "Дубликатов нет."
   ]
  },
  {
   "cell_type": "code",
   "execution_count": 66,
   "metadata": {},
   "outputs": [
    {
     "name": "stdout",
     "output_type": "stream",
     "text": [
      "<class 'pandas.core.frame.DataFrame'>\n",
      "RangeIndex: 1197 entries, 0 to 1196\n",
      "Data columns (total 5 columns):\n",
      " #   Column          Non-Null Count  Dtype         \n",
      "---  ------          --------------  -----         \n",
      " 0   transaction_id  1197 non-null   int64         \n",
      " 1   visitor_id      1197 non-null   int64         \n",
      " 2   date            1197 non-null   datetime64[ns]\n",
      " 3   revenue         1197 non-null   int64         \n",
      " 4   group           1197 non-null   object        \n",
      "dtypes: datetime64[ns](1), int64(3), object(1)\n",
      "memory usage: 46.9+ KB\n"
     ]
    }
   ],
   "source": [
    "# меняем тип данных в date и еще раз вызовем info для проверки\n",
    "\n",
    "orders['date'] = orders['date'].map(\n",
    "    lambda x: dt.datetime.strptime(x, '%Y-%m-%d')\n",
    ")\n",
    "orders.info()"
   ]
  },
  {
   "cell_type": "markdown",
   "metadata": {},
   "source": [
    "Предобработку с таблицей orders закончили. Теперь изучим информацию о visitors."
   ]
  },
  {
   "cell_type": "code",
   "execution_count": 67,
   "metadata": {},
   "outputs": [
    {
     "name": "stdout",
     "output_type": "stream",
     "text": [
      "<class 'pandas.core.frame.DataFrame'>\n",
      "RangeIndex: 62 entries, 0 to 61\n",
      "Data columns (total 3 columns):\n",
      " #   Column    Non-Null Count  Dtype \n",
      "---  ------    --------------  ----- \n",
      " 0   date      62 non-null     object\n",
      " 1   group     62 non-null     object\n",
      " 2   visitors  62 non-null     int64 \n",
      "dtypes: int64(1), object(2)\n",
      "memory usage: 1.6+ KB\n"
     ]
    },
    {
     "data": {
      "text/html": [
       "<div>\n",
       "<style scoped>\n",
       "    .dataframe tbody tr th:only-of-type {\n",
       "        vertical-align: middle;\n",
       "    }\n",
       "\n",
       "    .dataframe tbody tr th {\n",
       "        vertical-align: top;\n",
       "    }\n",
       "\n",
       "    .dataframe thead th {\n",
       "        text-align: right;\n",
       "    }\n",
       "</style>\n",
       "<table border=\"1\" class=\"dataframe\">\n",
       "  <thead>\n",
       "    <tr style=\"text-align: right;\">\n",
       "      <th></th>\n",
       "      <th>date</th>\n",
       "      <th>group</th>\n",
       "      <th>visitors</th>\n",
       "    </tr>\n",
       "  </thead>\n",
       "  <tbody>\n",
       "    <tr>\n",
       "      <th>0</th>\n",
       "      <td>2019-08-01</td>\n",
       "      <td>A</td>\n",
       "      <td>719</td>\n",
       "    </tr>\n",
       "    <tr>\n",
       "      <th>1</th>\n",
       "      <td>2019-08-02</td>\n",
       "      <td>A</td>\n",
       "      <td>619</td>\n",
       "    </tr>\n",
       "    <tr>\n",
       "      <th>2</th>\n",
       "      <td>2019-08-03</td>\n",
       "      <td>A</td>\n",
       "      <td>507</td>\n",
       "    </tr>\n",
       "    <tr>\n",
       "      <th>3</th>\n",
       "      <td>2019-08-04</td>\n",
       "      <td>A</td>\n",
       "      <td>717</td>\n",
       "    </tr>\n",
       "    <tr>\n",
       "      <th>4</th>\n",
       "      <td>2019-08-05</td>\n",
       "      <td>A</td>\n",
       "      <td>756</td>\n",
       "    </tr>\n",
       "  </tbody>\n",
       "</table>\n",
       "</div>"
      ],
      "text/plain": [
       "         date group  visitors\n",
       "0  2019-08-01     A       719\n",
       "1  2019-08-02     A       619\n",
       "2  2019-08-03     A       507\n",
       "3  2019-08-04     A       717\n",
       "4  2019-08-05     A       756"
      ]
     },
     "execution_count": 67,
     "metadata": {},
     "output_type": "execute_result"
    }
   ],
   "source": [
    "# изучим данные о visitors\n",
    "\n",
    "visitors.info()\n",
    "visitors.head(5)"
   ]
  },
  {
   "cell_type": "markdown",
   "metadata": {},
   "source": [
    "В таблице содержаться следующие данные:\n",
    "- date — дата;\n",
    "- group — группа A/B-теста;\n",
    "- visitors — количество пользователей в указанную дату в указанной группе A/B-теста\n",
    "\n",
    "Пропущенных значений нет. Наименование столбцов в порядке. Проверим данные на наличие дубликатов и изменим тип данных в date."
   ]
  },
  {
   "cell_type": "code",
   "execution_count": 68,
   "metadata": {},
   "outputs": [
    {
     "data": {
      "text/plain": [
       "0"
      ]
     },
     "execution_count": 68,
     "metadata": {},
     "output_type": "execute_result"
    }
   ],
   "source": [
    "# проверка на наличие явных дубликатов\n",
    "\n",
    "visitors.duplicated().sum()"
   ]
  },
  {
   "cell_type": "markdown",
   "metadata": {},
   "source": [
    "Дубликатов нет."
   ]
  },
  {
   "cell_type": "code",
   "execution_count": 69,
   "metadata": {},
   "outputs": [
    {
     "name": "stdout",
     "output_type": "stream",
     "text": [
      "<class 'pandas.core.frame.DataFrame'>\n",
      "RangeIndex: 62 entries, 0 to 61\n",
      "Data columns (total 3 columns):\n",
      " #   Column    Non-Null Count  Dtype         \n",
      "---  ------    --------------  -----         \n",
      " 0   date      62 non-null     datetime64[ns]\n",
      " 1   group     62 non-null     object        \n",
      " 2   visitors  62 non-null     int64         \n",
      "dtypes: datetime64[ns](1), int64(1), object(1)\n",
      "memory usage: 1.6+ KB\n"
     ]
    }
   ],
   "source": [
    "# меняем тип данных в date и еще раз вызовем info для проверки\n",
    "\n",
    "visitors['date'] = visitors['date'].map(\n",
    "    lambda x: dt.datetime.strptime(x, '%Y-%m-%d')\n",
    ")\n",
    "visitors.info()"
   ]
  },
  {
   "cell_type": "markdown",
   "metadata": {},
   "source": [
    "Предобработка таблицы visitors закончена, можно приступать к анализу A/B-теста."
   ]
  },
  {
   "cell_type": "code",
   "execution_count": 70,
   "metadata": {},
   "outputs": [],
   "source": [
    "# построим график кумулятивной выручки по группам\n",
    "# создаем массив уникальных пар значений дат и групп теста\n",
    "\n",
    "datesGroups = orders[['date','group']].drop_duplicates() "
   ]
  },
  {
   "cell_type": "code",
   "execution_count": 71,
   "metadata": {},
   "outputs": [],
   "source": [
    "# получаем агрегированные кумулятивные по дням данные о заказах \n",
    "\n",
    "ordersAggregated = datesGroups.apply(\n",
    "    lambda x: orders[\n",
    "        np.logical_and(\n",
    "            orders['date'] <= x['date'], orders['group'] == x['group']\n",
    "        )\n",
    "    ].agg(\n",
    "        {\n",
    "            'date': 'max',\n",
    "            'group': 'max',\n",
    "            'transaction_id': 'nunique',\n",
    "            'visitor_id': 'nunique',\n",
    "            'revenue': 'sum',\n",
    "        }\n",
    "    ),\n",
    "    axis = 1,\n",
    ").sort_values(by = ['date', 'group'])"
   ]
  },
  {
   "cell_type": "code",
   "execution_count": 72,
   "metadata": {},
   "outputs": [],
   "source": [
    "# получаем агрегированные кумулятивные по дням данные о посетителях интернет-магазина \n",
    "\n",
    "visitorsAggregated = datesGroups.apply(\n",
    "    lambda x: visitors[\n",
    "        np.logical_and(\n",
    "            visitors['date'] <= x['date'], visitors['group'] == x['group']\n",
    "        )\n",
    "    ].agg({'date': 'max', 'group': 'max', 'visitors': 'sum'}),\n",
    "    axis = 1,\n",
    ").sort_values(by = ['date', 'group'])"
   ]
  },
  {
   "cell_type": "code",
   "execution_count": 73,
   "metadata": {},
   "outputs": [
    {
     "data": {
      "text/html": [
       "<div>\n",
       "<style scoped>\n",
       "    .dataframe tbody tr th:only-of-type {\n",
       "        vertical-align: middle;\n",
       "    }\n",
       "\n",
       "    .dataframe tbody tr th {\n",
       "        vertical-align: top;\n",
       "    }\n",
       "\n",
       "    .dataframe thead th {\n",
       "        text-align: right;\n",
       "    }\n",
       "</style>\n",
       "<table border=\"1\" class=\"dataframe\">\n",
       "  <thead>\n",
       "    <tr style=\"text-align: right;\">\n",
       "      <th></th>\n",
       "      <th>date</th>\n",
       "      <th>group</th>\n",
       "      <th>orders</th>\n",
       "      <th>buyers</th>\n",
       "      <th>revenue</th>\n",
       "      <th>visitors</th>\n",
       "    </tr>\n",
       "  </thead>\n",
       "  <tbody>\n",
       "    <tr>\n",
       "      <th>0</th>\n",
       "      <td>2019-08-01</td>\n",
       "      <td>A</td>\n",
       "      <td>24</td>\n",
       "      <td>20</td>\n",
       "      <td>148579</td>\n",
       "      <td>719</td>\n",
       "    </tr>\n",
       "    <tr>\n",
       "      <th>1</th>\n",
       "      <td>2019-08-01</td>\n",
       "      <td>B</td>\n",
       "      <td>21</td>\n",
       "      <td>20</td>\n",
       "      <td>101217</td>\n",
       "      <td>713</td>\n",
       "    </tr>\n",
       "    <tr>\n",
       "      <th>2</th>\n",
       "      <td>2019-08-02</td>\n",
       "      <td>A</td>\n",
       "      <td>44</td>\n",
       "      <td>38</td>\n",
       "      <td>242401</td>\n",
       "      <td>1338</td>\n",
       "    </tr>\n",
       "    <tr>\n",
       "      <th>3</th>\n",
       "      <td>2019-08-02</td>\n",
       "      <td>B</td>\n",
       "      <td>45</td>\n",
       "      <td>43</td>\n",
       "      <td>266748</td>\n",
       "      <td>1294</td>\n",
       "    </tr>\n",
       "    <tr>\n",
       "      <th>4</th>\n",
       "      <td>2019-08-03</td>\n",
       "      <td>A</td>\n",
       "      <td>68</td>\n",
       "      <td>62</td>\n",
       "      <td>354874</td>\n",
       "      <td>1845</td>\n",
       "    </tr>\n",
       "  </tbody>\n",
       "</table>\n",
       "</div>"
      ],
      "text/plain": [
       "        date group  orders  buyers  revenue  visitors\n",
       "0 2019-08-01     A      24      20   148579       719\n",
       "1 2019-08-01     B      21      20   101217       713\n",
       "2 2019-08-02     A      44      38   242401      1338\n",
       "3 2019-08-02     B      45      43   266748      1294\n",
       "4 2019-08-03     A      68      62   354874      1845"
      ]
     },
     "execution_count": 73,
     "metadata": {},
     "output_type": "execute_result"
    }
   ],
   "source": [
    "# объединяем кумулятивные данные в одной таблице и присваиваем ее столбцам понятные названия\n",
    "\n",
    "cumulativeData = ordersAggregated.merge(\n",
    "    visitorsAggregated, left_on = ['date', 'group'], right_on = ['date', 'group']\n",
    ")\n",
    "cumulativeData.columns = [\n",
    "    'date',\n",
    "    'group',\n",
    "    'orders',\n",
    "    'buyers',\n",
    "    'revenue',\n",
    "    'visitors',\n",
    "]\n",
    "cumulativeData.head(5)"
   ]
  },
  {
   "cell_type": "code",
   "execution_count": 74,
   "metadata": {
    "scrolled": true
   },
   "outputs": [
    {
     "name": "stdout",
     "output_type": "stream",
     "text": [
      "1031\n"
     ]
    }
   ],
   "source": [
    "# проверим сколько у нас уникальных visitor id в таблице orders\n",
    "\n",
    "print(orders['visitor_id'].nunique())"
   ]
  },
  {
   "cell_type": "code",
   "execution_count": 75,
   "metadata": {
    "scrolled": false
   },
   "outputs": [
    {
     "name": "stdout",
     "output_type": "stream",
     "text": [
      "group\n",
      "A    503\n",
      "B    586\n",
      "Name: visitor_id, dtype: int64\n"
     ]
    }
   ],
   "source": [
    "# сравним это значение с количеством уникальных visitor id в orders, сгруппированных по группам\n",
    "\n",
    "print(orders.groupby('group')['visitor_id'].nunique())"
   ]
  },
  {
   "cell_type": "markdown",
   "metadata": {},
   "source": [
    "В таблице orders 1031 уникальных visitor id. Количество уникальных visitor id в orders в группе 'А' - 503, 'В' - 586, всего 1089. 58 Покупателей повторяются в группах"
   ]
  },
  {
   "cell_type": "code",
   "execution_count": 76,
   "metadata": {},
   "outputs": [
    {
     "name": "stdout",
     "output_type": "stream",
     "text": [
      "transaction_id    503\n",
      "visitor_id        503\n",
      "date              503\n",
      "revenue           503\n",
      "group             503\n",
      "dtype: int64\n",
      "transaction_id    528\n",
      "visitor_id        528\n",
      "date              528\n",
      "revenue           528\n",
      "group             528\n",
      "dtype: int64\n"
     ]
    },
    {
     "data": {
      "text/html": [
       "<div>\n",
       "<style scoped>\n",
       "    .dataframe tbody tr th:only-of-type {\n",
       "        vertical-align: middle;\n",
       "    }\n",
       "\n",
       "    .dataframe tbody tr th {\n",
       "        vertical-align: top;\n",
       "    }\n",
       "\n",
       "    .dataframe thead th {\n",
       "        text-align: right;\n",
       "    }\n",
       "</style>\n",
       "<table border=\"1\" class=\"dataframe\">\n",
       "  <thead>\n",
       "    <tr style=\"text-align: right;\">\n",
       "      <th></th>\n",
       "      <th>transaction_id</th>\n",
       "      <th>visitor_id</th>\n",
       "      <th>date</th>\n",
       "      <th>revenue</th>\n",
       "      <th>group</th>\n",
       "    </tr>\n",
       "  </thead>\n",
       "  <tbody>\n",
       "    <tr>\n",
       "      <th>0</th>\n",
       "      <td>2961555356</td>\n",
       "      <td>4069496402</td>\n",
       "      <td>2019-08-15</td>\n",
       "      <td>400</td>\n",
       "      <td>A</td>\n",
       "    </tr>\n",
       "    <tr>\n",
       "      <th>1</th>\n",
       "      <td>2626614568</td>\n",
       "      <td>78758296</td>\n",
       "      <td>2019-08-15</td>\n",
       "      <td>1044</td>\n",
       "      <td>A</td>\n",
       "    </tr>\n",
       "    <tr>\n",
       "      <th>2</th>\n",
       "      <td>1576988021</td>\n",
       "      <td>295230930</td>\n",
       "      <td>2019-08-15</td>\n",
       "      <td>13710</td>\n",
       "      <td>A</td>\n",
       "    </tr>\n",
       "    <tr>\n",
       "      <th>3</th>\n",
       "      <td>3649131742</td>\n",
       "      <td>879864040</td>\n",
       "      <td>2019-08-15</td>\n",
       "      <td>4008</td>\n",
       "      <td>A</td>\n",
       "    </tr>\n",
       "    <tr>\n",
       "      <th>4</th>\n",
       "      <td>2809384911</td>\n",
       "      <td>3213223594</td>\n",
       "      <td>2019-08-15</td>\n",
       "      <td>7370</td>\n",
       "      <td>A</td>\n",
       "    </tr>\n",
       "    <tr>\n",
       "      <th>...</th>\n",
       "      <td>...</td>\n",
       "      <td>...</td>\n",
       "      <td>...</td>\n",
       "      <td>...</td>\n",
       "      <td>...</td>\n",
       "    </tr>\n",
       "    <tr>\n",
       "      <th>1026</th>\n",
       "      <td>2116724386</td>\n",
       "      <td>2146711261</td>\n",
       "      <td>2019-08-14</td>\n",
       "      <td>15380</td>\n",
       "      <td>B</td>\n",
       "    </tr>\n",
       "    <tr>\n",
       "      <th>1027</th>\n",
       "      <td>38478481</td>\n",
       "      <td>1197745035</td>\n",
       "      <td>2019-08-14</td>\n",
       "      <td>8600</td>\n",
       "      <td>B</td>\n",
       "    </tr>\n",
       "    <tr>\n",
       "      <th>1028</th>\n",
       "      <td>3592955527</td>\n",
       "      <td>608641596</td>\n",
       "      <td>2019-08-14</td>\n",
       "      <td>16490</td>\n",
       "      <td>B</td>\n",
       "    </tr>\n",
       "    <tr>\n",
       "      <th>1029</th>\n",
       "      <td>2662137336</td>\n",
       "      <td>3733762160</td>\n",
       "      <td>2019-08-14</td>\n",
       "      <td>6490</td>\n",
       "      <td>B</td>\n",
       "    </tr>\n",
       "    <tr>\n",
       "      <th>1030</th>\n",
       "      <td>3936777065</td>\n",
       "      <td>2108080724</td>\n",
       "      <td>2019-08-15</td>\n",
       "      <td>202740</td>\n",
       "      <td>B</td>\n",
       "    </tr>\n",
       "  </tbody>\n",
       "</table>\n",
       "<p>1031 rows × 5 columns</p>\n",
       "</div>"
      ],
      "text/plain": [
       "      transaction_id  visitor_id       date  revenue group\n",
       "0         2961555356  4069496402 2019-08-15      400     A\n",
       "1         2626614568    78758296 2019-08-15     1044     A\n",
       "2         1576988021   295230930 2019-08-15    13710     A\n",
       "3         3649131742   879864040 2019-08-15     4008     A\n",
       "4         2809384911  3213223594 2019-08-15     7370     A\n",
       "...              ...         ...        ...      ...   ...\n",
       "1026      2116724386  2146711261 2019-08-14    15380     B\n",
       "1027        38478481  1197745035 2019-08-14     8600     B\n",
       "1028      3592955527   608641596 2019-08-14    16490     B\n",
       "1029      2662137336  3733762160 2019-08-14     6490     B\n",
       "1030      3936777065  2108080724 2019-08-15   202740     B\n",
       "\n",
       "[1031 rows x 5 columns]"
      ]
     },
     "execution_count": 76,
     "metadata": {},
     "output_type": "execute_result"
    }
   ],
   "source": [
    "# сохраним данные о пользователях, вошедших в группу A и B, в отдельные датафреймы,\n",
    "# затем объединим их в один датафрейм и удалим дубликаты по столбцу visitorid:\n",
    " \n",
    "A = orders[orders['group'] == 'A']\n",
    "B = orders[orders['group'] == 'B']\n",
    "orders = pd.concat([A, B]).drop_duplicates(subset = 'visitor_id').reset_index(drop=True)\n",
    "print(orders[orders['group'] == 'A'].count())\n",
    "print(orders[orders['group'] == 'B'].count())\n",
    "orders"
   ]
  },
  {
   "cell_type": "markdown",
   "metadata": {},
   "source": [
    "Пересечения исключили. После этого изменились результаты дальнейших анализов"
   ]
  },
  {
   "cell_type": "code",
   "execution_count": 77,
   "metadata": {},
   "outputs": [],
   "source": [
    "# датафрейм с кумулятивным количеством заказов и кумулятивной выручкой по дням в группе А\n",
    "\n",
    "cumulativeRevenueA = cumulativeData[cumulativeData['group'] == 'A'][['date','revenue', 'orders']]"
   ]
  },
  {
   "cell_type": "code",
   "execution_count": 78,
   "metadata": {},
   "outputs": [],
   "source": [
    "# датафрейм с кумулятивным количеством заказов и кумулятивной выручкой по дням в группе B\n",
    "\n",
    "cumulativeRevenueB = cumulativeData[cumulativeData['group'] == 'B'][['date','revenue', 'orders']]"
   ]
  },
  {
   "cell_type": "code",
   "execution_count": 79,
   "metadata": {},
   "outputs": [
    {
     "data": {
      "image/png": "[encoded data removed]",
      "text/plain": [
       "<Figure size 660x420 with 1 Axes>"
      ]
     },
     "metadata": {
      "needs_background": "light"
     },
     "output_type": "display_data"
    }
   ],
   "source": [
    "# строим график кумулятивной выручки по группам\n",
    "\n",
    "plt.figure(figsize = (11, 7), dpi = 60)\n",
    "plt.plot(cumulativeRevenueA['date'], cumulativeRevenueA['revenue'], label = 'A') # график выручки группы А\n",
    "plt.plot(cumulativeRevenueB['date'], cumulativeRevenueB['revenue'], label = 'B') # график выручки группы B\n",
    "plt.title('График кумулятивной выручки по дням и группам A/B-тестирования')\n",
    "plt.ylabel('Выручка')\n",
    "plt.legend();"
   ]
  },
  {
   "cell_type": "markdown",
   "metadata": {},
   "source": [
    "Выручка увеличивается в течение всего теста в обоих группах. Для группы А рост равномерный. На графике группы В наблюдается резкий всплеск. Это может сигнализировать о всплесках числа заказов, либо о появлении очень дорогих заказов в выборке."
   ]
  },
  {
   "cell_type": "code",
   "execution_count": 80,
   "metadata": {},
   "outputs": [
    {
     "data": {
      "image/png": "[encoded data removed]",
      "text/plain": [
       "<Figure size 660x420 with 1 Axes>"
      ]
     },
     "metadata": {
      "needs_background": "light"
     },
     "output_type": "display_data"
    }
   ],
   "source": [
    "# построим графики среднего чека по группам\n",
    "\n",
    "plt.figure(figsize = (11, 7), dpi = 60)\n",
    "plt.plot(cumulativeRevenueA['date'], cumulativeRevenueA['revenue'] / cumulativeRevenueA['orders'], label = 'A')\n",
    "plt.plot(cumulativeRevenueB['date'], cumulativeRevenueB['revenue'] / cumulativeRevenueB['orders'], label = 'B')\n",
    "plt.title('График среднего чека по группам')\n",
    "plt.ylabel('Средний чек')\n",
    "plt.legend();"
   ]
  },
  {
   "cell_type": "markdown",
   "metadata": {},
   "source": [
    "Средний чек в обоих группах имеет неравномерный рост с резкими всплесками и падениями. Ближе к концу графика для группы А начинается равномерный рост после падения, для группы В после резкого всплеска наблюдается равномерный спад. Всплески на графиках могут быть связанны с крупными заказами, которые попали в группу."
   ]
  },
  {
   "cell_type": "code",
   "execution_count": 81,
   "metadata": {},
   "outputs": [],
   "source": [
    "# построим график относительного различия для среднего чека\n",
    "# собираем данные в одном датафрейме\n",
    "\n",
    "mergedCumulativeRevenue = cumulativeRevenueA.merge(\n",
    "    cumulativeRevenueB, left_on = 'date', right_on = 'date', how = 'left', suffixes = ['A', 'B']\n",
    ")"
   ]
  },
  {
   "cell_type": "code",
   "execution_count": 82,
   "metadata": {},
   "outputs": [
    {
     "data": {
      "image/png": "[encoded data removed]",
      "text/plain": [
       "<Figure size 660x420 with 1 Axes>"
      ]
     },
     "metadata": {
      "needs_background": "light"
     },
     "output_type": "display_data"
    }
   ],
   "source": [
    "# cтроим отношение средних чеков\n",
    "\n",
    "plt.figure(figsize = (11, 7), dpi = 60)\n",
    "plt.plot(mergedCumulativeRevenue['date'], (mergedCumulativeRevenue['revenueB'] / \n",
    "                                           mergedCumulativeRevenue['ordersB']) / \n",
    "                                          (mergedCumulativeRevenue['revenueA'] / \n",
    "                                           mergedCumulativeRevenue['ordersA']) - 1)\n",
    "plt.title('График относительного различия для среднего чека')\n",
    "plt.ylabel('Относительная разница средних чеков')\n",
    "plt.axhline(y=0, color='black', linestyle='--'); # добавляем ось X"
   ]
  },
  {
   "cell_type": "markdown",
   "metadata": {},
   "source": [
    "В нескольких точках график различия между сегментами резко «скачет», можно предположить, что в данных есть крупные заказы и выбросы."
   ]
  },
  {
   "cell_type": "code",
   "execution_count": 83,
   "metadata": {},
   "outputs": [],
   "source": [
    "# построим график кумулятивного среднего количества заказов по группам\n",
    "# считаем кумулятивную конверсию\n",
    "\n",
    "cumulativeData['conversion'] = cumulativeData['orders'] / cumulativeData['visitors']"
   ]
  },
  {
   "cell_type": "code",
   "execution_count": 84,
   "metadata": {},
   "outputs": [],
   "source": [
    "# отделяем данные по группе A\n",
    "\n",
    "cumulativeDataA = cumulativeData[cumulativeData['group'] == 'A']\n",
    "\n",
    "# отделяем данные по группе B\n",
    "\n",
    "cumulativeDataB = cumulativeData[cumulativeData['group'] == 'B']"
   ]
  },
  {
   "cell_type": "code",
   "execution_count": 85,
   "metadata": {},
   "outputs": [
    {
     "data": {
      "image/png": "[encoded data removed]",
      "text/plain": [
       "<Figure size 660x420 with 1 Axes>"
      ]
     },
     "metadata": {
      "needs_background": "light"
     },
     "output_type": "display_data"
    }
   ],
   "source": [
    "# строим графики\n",
    "\n",
    "plt.figure(figsize = (11, 7), dpi = 60)\n",
    "plt.plot(cumulativeDataA['date'], cumulativeDataA['conversion'], label='A')\n",
    "plt.plot(cumulativeDataB['date'], cumulativeDataB['conversion'], label='B')\n",
    "plt.title('График кумулятивной конверсии')\n",
    "plt.ylabel('Конверсия')\n",
    "plt.legend();"
   ]
  },
  {
   "cell_type": "markdown",
   "metadata": {},
   "source": [
    "У групп наблюдается резкий скачок около одного значения, после которого последовал резкий спад. После спада у группы В был еще один скачок, после которого график начал выравниваться. Группа А продолжила падать, после чего наблюдается незначительный рост."
   ]
  },
  {
   "cell_type": "code",
   "execution_count": 86,
   "metadata": {},
   "outputs": [
    {
     "data": {
      "image/png": "[encoded data removed]",
      "text/plain": [
       "<Figure size 660x420 with 1 Axes>"
      ]
     },
     "metadata": {
      "needs_background": "light"
     },
     "output_type": "display_data"
    }
   ],
   "source": [
    "# построим график относительного различия кумулятивных конверсий\n",
    "\n",
    "mergedCumulativeConversions = cumulativeDataA[['date','conversion']].merge(cumulativeDataB[['date','conversion']], \n",
    "                                                                           left_on = 'date', right_on = 'date', how = 'left', \n",
    "                                                                           suffixes = ['A', 'B'])\n",
    "plt.figure(figsize = (11, 7), dpi = 60)\n",
    "plt.plot(mergedCumulativeConversions['date'], \n",
    "         mergedCumulativeConversions['conversionB'] / mergedCumulativeConversions['conversionA'] - 1, \n",
    "         label=\"Относительный прирост конверсии группы B относительно группы A\")\n",
    "plt.title('График относительного различия кумулятивных конверсий')\n",
    "plt.ylabel('Конверсия')\n",
    "plt.axhline(y = 0, color = 'black', linestyle = '--')\n",
    "plt.axhline(y = -0.1, color = 'grey', linestyle = '--');"
   ]
  },
  {
   "cell_type": "markdown",
   "metadata": {},
   "source": [
    "В начале теста наблюдаются резкие всплески и падения группы В, но потом конверсия отностильно выровнялась и после просадки растет."
   ]
  },
  {
   "cell_type": "code",
   "execution_count": 87,
   "metadata": {},
   "outputs": [
    {
     "data": {
      "image/png": "[encoded data removed]",
      "text/plain": [
       "<Figure size 1080x360 with 1 Axes>"
      ]
     },
     "metadata": {
      "needs_background": "light"
     },
     "output_type": "display_data"
    }
   ],
   "source": [
    "# построим точечную диаграмму числа заказов на одного пользователя\n",
    "\n",
    "ordersByUsers = (\n",
    "    orders.groupby('visitor_id', as_index=False)\n",
    "    .agg({'transaction_id': 'nunique'})\n",
    ")\n",
    "ordersByUsers.columns = ['visitor_id', 'transaction_id']\n",
    "\n",
    "x_values = pd.Series(range(0,len(ordersByUsers)))\n",
    "plt.figure(figsize=(15,5))\n",
    "plt.grid()\n",
    "plt.title('График числа заказов на одного пользователя')\n",
    "plt.ylabel('Число заказов')\n",
    "plt.scatter(x_values, ordersByUsers['transaction_id'], alpha=0.5);"
   ]
  },
  {
   "cell_type": "markdown",
   "metadata": {},
   "source": [
    "Большинство покупателей заказывали только один раз."
   ]
  },
  {
   "cell_type": "code",
   "execution_count": 88,
   "metadata": {},
   "outputs": [
    {
     "name": "stdout",
     "output_type": "stream",
     "text": [
      "95-й и 99-й перцентили количества заказов на пользователя: [1. 1.]\n"
     ]
    }
   ],
   "source": [
    "# посчитаем выборочные перцентили количества заказов на одного пользователя\n",
    "\n",
    "print('95-й и 99-й перцентили количества заказов на пользователя:', np.percentile(ordersByUsers['transaction_id'], [95, 99]))"
   ]
  },
  {
   "cell_type": "markdown",
   "metadata": {},
   "source": [
    "Не более 5% пользователей совершали больше 1 заказов. \n",
    "Разумно выбрать 2 заказа на одного пользователя за верхнюю границу числа заказов, и отсеять аномальных пользователей по ней."
   ]
  },
  {
   "cell_type": "code",
   "execution_count": 89,
   "metadata": {},
   "outputs": [
    {
     "data": {
      "image/png": "[encoded data removed]",
      "text/plain": [
       "<Figure size 1080x360 with 1 Axes>"
      ]
     },
     "metadata": {
      "needs_background": "light"
     },
     "output_type": "display_data"
    }
   ],
   "source": [
    "# построим точечную диаграмму стоимости заказов\n",
    "\n",
    "x_values = pd.Series(range(0,len(orders['revenue'])))\n",
    "plt.figure(figsize=(15,5))\n",
    "plt.grid()\n",
    "plt.title('График стоимостей заказов')\n",
    "plt.xlabel('Количество заказов')\n",
    "plt.ylabel('Стоимость заказов')\n",
    "plt.scatter(x_values, orders['revenue'], alpha=0.5);"
   ]
  },
  {
   "cell_type": "markdown",
   "metadata": {},
   "source": [
    "На графике есть выбросы с 'revenue' большим 199000, отбросим их и посторим диаграмму еще раз."
   ]
  },
  {
   "cell_type": "code",
   "execution_count": 90,
   "metadata": {},
   "outputs": [
    {
     "data": {
      "image/png": "[encoded data removed]",
      "text/plain": [
       "<Figure size 1080x360 with 1 Axes>"
      ]
     },
     "metadata": {
      "needs_background": "light"
     },
     "output_type": "display_data"
    }
   ],
   "source": [
    "norm_orders = orders[orders['revenue'] <= 199000]['revenue']\n",
    "xn_values = pd.Series(range(0,len(norm_orders)))\n",
    "plt.figure(figsize = (15,5))\n",
    "plt.grid()\n",
    "plt.title('График стоимостей заказов')\n",
    "plt.xlabel('Количество заказов')\n",
    "plt.ylabel('Стоимость заказов')\n",
    "plt.scatter(xn_values, norm_orders, alpha = 0.5);"
   ]
  },
  {
   "cell_type": "markdown",
   "metadata": {},
   "source": [
    "Большая часть заказов не дороже 40000. Чтобы точнее определеить границу аномальной стоимости заказа рассчитаем 95-й и 99-й перцентили."
   ]
  },
  {
   "cell_type": "code",
   "execution_count": 91,
   "metadata": {},
   "outputs": [
    {
     "name": "stdout",
     "output_type": "stream",
     "text": [
      "95-й и 99-й перцентили стоимости заказов: [27575.  57156.2]\n"
     ]
    }
   ],
   "source": [
    "# посчитаем выборочные перцентили стоимости заказов\n",
    "\n",
    "print('95-й и 99-й перцентили стоимости заказов:', np.percentile(orders['revenue'], [95, 99]))"
   ]
  },
  {
   "cell_type": "markdown",
   "metadata": {},
   "source": [
    "Не более 5% заказов дороже 27575. И не более 1% - дороже 57156. Примем 30000 за верхнюю границу стоимости заказов."
   ]
  },
  {
   "cell_type": "code",
   "execution_count": 92,
   "metadata": {},
   "outputs": [],
   "source": [
    "# посчитаем статистическую значимость различий в среднем количестве заказов между группами по «сырым» данным,\n",
    "# для этого соберем все данные по заказам и визитам (а также добавим кумулятивные показатели) в одну таблицу:\n",
    "# создадим несколько таблиц и затем объединим их\n",
    "\n",
    "visitorsADaily = visitors[visitors['group'] == 'A'][['date', 'visitors']]\n",
    "visitorsADaily.columns = ['date', 'visitorsPerDateA']\n",
    "\n",
    "visitorsACummulative = visitorsADaily.apply(lambda x: visitorsADaily[visitorsADaily['date'] <= x['date']]. \\\n",
    "                                            agg({'date' : 'max', 'visitorsPerDateA' : 'sum'}), axis = 1)\n",
    "visitorsACummulative.columns = ['date', 'visitorsCummulativeA']\n",
    "\n",
    "visitorsBDaily = visitors[visitors['group'] == 'B'][['date', 'visitors']]\n",
    "visitorsBDaily.columns = ['date', 'visitorsPerDateB']\n",
    "\n",
    "visitorsBCummulative = visitorsBDaily.apply(lambda x: visitorsBDaily[visitorsBDaily['date'] <= x['date']]. \\\n",
    "                                            agg({'date' : 'max', 'visitorsPerDateB' : 'sum'}), axis = 1)\n",
    "visitorsBCummulative.columns = ['date', 'visitorsCummulativeB']\n",
    "\n",
    "\n",
    "ordersADaily = orders[orders['group'] == 'A'][['date', 'transaction_id', 'visitor_id', 'revenue']]\\\n",
    "    .groupby('date', as_index=False)\\\n",
    "    .agg({'transaction_id' : pd.Series.nunique, 'revenue' : 'sum'})\n",
    "ordersADaily.columns = ['date', 'ordersPerDateA', 'revenuePerDateA']\n",
    "\n",
    "ordersACummulative = ordersADaily.apply(\n",
    "    lambda x: \\\n",
    "        ordersADaily[ordersADaily['date'] <= x['date']]\\\n",
    "            .agg({\n",
    "                'date' : 'max',\n",
    "                'ordersPerDateA' : 'sum',\n",
    "                'revenuePerDateA' : 'sum'}), axis=1).sort_values(by=['date'])\n",
    "ordersACummulative.columns = ['date', 'ordersCummulativeA', 'revenueCummulativeA']\n",
    "\n",
    "ordersBDaily = orders[orders['group']=='B'][['date', 'transaction_id', 'visitor_id', 'revenue']]\\\n",
    "    .groupby('date', as_index=False)\\\n",
    "    .agg({'transaction_id' : pd.Series.nunique, 'revenue' : 'sum'})\n",
    "ordersBDaily.columns = ['date', 'ordersPerDateB', 'revenuePerDateB']\n",
    "\n",
    "ordersBCummulative = ordersBDaily.apply(\n",
    "    lambda x: \\\n",
    "        ordersBDaily[ordersBDaily['date'] <= x['date']]\\\n",
    "            .agg({\n",
    "                'date' : 'max',\n",
    "                'ordersPerDateB' : 'sum',\n",
    "                'revenuePerDateB' : 'sum'}), axis=1).sort_values(by=['date'])\n",
    "ordersBCummulative.columns = ['date', 'ordersCummulativeB', 'revenueCummulativeB']"
   ]
  },
  {
   "cell_type": "code",
   "execution_count": 93,
   "metadata": {},
   "outputs": [
    {
     "data": {
      "text/html": [
       "<div>\n",
       "<style scoped>\n",
       "    .dataframe tbody tr th:only-of-type {\n",
       "        vertical-align: middle;\n",
       "    }\n",
       "\n",
       "    .dataframe tbody tr th {\n",
       "        vertical-align: top;\n",
       "    }\n",
       "\n",
       "    .dataframe thead th {\n",
       "        text-align: right;\n",
       "    }\n",
       "</style>\n",
       "<table border=\"1\" class=\"dataframe\">\n",
       "  <thead>\n",
       "    <tr style=\"text-align: right;\">\n",
       "      <th></th>\n",
       "      <th>date</th>\n",
       "      <th>ordersPerDateA</th>\n",
       "      <th>revenuePerDateA</th>\n",
       "      <th>ordersPerDateB</th>\n",
       "      <th>revenuePerDateB</th>\n",
       "      <th>ordersCummulativeA</th>\n",
       "      <th>revenueCummulativeA</th>\n",
       "      <th>ordersCummulativeB</th>\n",
       "      <th>revenueCummulativeB</th>\n",
       "      <th>visitorsPerDateA</th>\n",
       "      <th>visitorsPerDateB</th>\n",
       "      <th>visitorsCummulativeA</th>\n",
       "      <th>visitorsCummulativeB</th>\n",
       "    </tr>\n",
       "  </thead>\n",
       "  <tbody>\n",
       "    <tr>\n",
       "      <th>0</th>\n",
       "      <td>2019-08-01</td>\n",
       "      <td>20</td>\n",
       "      <td>128910</td>\n",
       "      <td>17</td>\n",
       "      <td>59758</td>\n",
       "      <td>20</td>\n",
       "      <td>128910</td>\n",
       "      <td>17</td>\n",
       "      <td>59758</td>\n",
       "      <td>719</td>\n",
       "      <td>713</td>\n",
       "      <td>719</td>\n",
       "      <td>713</td>\n",
       "    </tr>\n",
       "    <tr>\n",
       "      <th>1</th>\n",
       "      <td>2019-08-02</td>\n",
       "      <td>18</td>\n",
       "      <td>76715</td>\n",
       "      <td>22</td>\n",
       "      <td>159293</td>\n",
       "      <td>38</td>\n",
       "      <td>205625</td>\n",
       "      <td>39</td>\n",
       "      <td>219051</td>\n",
       "      <td>619</td>\n",
       "      <td>581</td>\n",
       "      <td>1338</td>\n",
       "      <td>1294</td>\n",
       "    </tr>\n",
       "    <tr>\n",
       "      <th>2</th>\n",
       "      <td>2019-08-03</td>\n",
       "      <td>24</td>\n",
       "      <td>112473</td>\n",
       "      <td>14</td>\n",
       "      <td>67049</td>\n",
       "      <td>62</td>\n",
       "      <td>318098</td>\n",
       "      <td>53</td>\n",
       "      <td>286100</td>\n",
       "      <td>507</td>\n",
       "      <td>509</td>\n",
       "      <td>1845</td>\n",
       "      <td>1803</td>\n",
       "    </tr>\n",
       "    <tr>\n",
       "      <th>3</th>\n",
       "      <td>2019-08-04</td>\n",
       "      <td>12</td>\n",
       "      <td>61395</td>\n",
       "      <td>13</td>\n",
       "      <td>84340</td>\n",
       "      <td>74</td>\n",
       "      <td>379493</td>\n",
       "      <td>66</td>\n",
       "      <td>370440</td>\n",
       "      <td>717</td>\n",
       "      <td>770</td>\n",
       "      <td>2562</td>\n",
       "      <td>2573</td>\n",
       "    </tr>\n",
       "    <tr>\n",
       "      <th>4</th>\n",
       "      <td>2019-08-05</td>\n",
       "      <td>22</td>\n",
       "      <td>102933</td>\n",
       "      <td>21</td>\n",
       "      <td>89908</td>\n",
       "      <td>96</td>\n",
       "      <td>482426</td>\n",
       "      <td>87</td>\n",
       "      <td>460348</td>\n",
       "      <td>756</td>\n",
       "      <td>707</td>\n",
       "      <td>3318</td>\n",
       "      <td>3280</td>\n",
       "    </tr>\n",
       "  </tbody>\n",
       "</table>\n",
       "</div>"
      ],
      "text/plain": [
       "        date  ordersPerDateA  revenuePerDateA  ordersPerDateB  \\\n",
       "0 2019-08-01              20           128910              17   \n",
       "1 2019-08-02              18            76715              22   \n",
       "2 2019-08-03              24           112473              14   \n",
       "3 2019-08-04              12            61395              13   \n",
       "4 2019-08-05              22           102933              21   \n",
       "\n",
       "   revenuePerDateB  ordersCummulativeA  revenueCummulativeA  \\\n",
       "0            59758                  20               128910   \n",
       "1           159293                  38               205625   \n",
       "2            67049                  62               318098   \n",
       "3            84340                  74               379493   \n",
       "4            89908                  96               482426   \n",
       "\n",
       "   ordersCummulativeB  revenueCummulativeB  visitorsPerDateA  \\\n",
       "0                  17                59758               719   \n",
       "1                  39               219051               619   \n",
       "2                  53               286100               507   \n",
       "3                  66               370440               717   \n",
       "4                  87               460348               756   \n",
       "\n",
       "   visitorsPerDateB  visitorsCummulativeA  visitorsCummulativeB  \n",
       "0               713                   719                   713  \n",
       "1               581                  1338                  1294  \n",
       "2               509                  1845                  1803  \n",
       "3               770                  2562                  2573  \n",
       "4               707                  3318                  3280  "
      ]
     },
     "execution_count": 93,
     "metadata": {},
     "output_type": "execute_result"
    }
   ],
   "source": [
    "# объединяем таблицы\n",
    "\n",
    "data = ordersADaily.merge(ordersBDaily, left_on = 'date', right_on = 'date', how = 'left')\\\n",
    "    .merge(ordersACummulative, left_on = 'date', right_on = 'date', how = 'left')\\\n",
    "    .merge(ordersBCummulative, left_on = 'date', right_on = 'date', how = 'left')\\\n",
    "    .merge(visitorsADaily, left_on = 'date', right_on = 'date', how = 'left')\\\n",
    "    .merge(visitorsBDaily, left_on = 'date', right_on = 'date', how = 'left')\\\n",
    "    .merge(visitorsACummulative, left_on = 'date', right_on = 'date', how = 'left')\\\n",
    "    .merge(visitorsBCummulative, left_on = 'date', right_on = 'date', how = 'left')\n",
    "data.head(5)"
   ]
  },
  {
   "cell_type": "code",
   "execution_count": 94,
   "metadata": {},
   "outputs": [],
   "source": [
    "# cоздадим переменные ordersByUsersA и ordersByUsersB со столбцами ['userId', 'orders'],\n",
    "# в них для пользователей, которые заказывали хотя бы 1 раз, укажем число совершённых заказов\n",
    "\n",
    "ordersByUsersA = (\n",
    "    orders[orders['group'] == 'A']\n",
    "    .groupby('visitor_id', as_index = False)\n",
    "    .agg({'transaction_id': pd.Series.nunique})\n",
    ")\n",
    "ordersByUsersA.columns = ['visitor_id', 'orders']\n",
    "\n",
    "ordersByUsersB = (\n",
    "    orders[orders['group'] == 'B']\n",
    "    .groupby('visitor_id', as_index = False)\n",
    "    .agg({'transaction_id': pd.Series.nunique})\n",
    ")\n",
    "ordersByUsersB.columns = ['visitor_id', 'orders']"
   ]
  },
  {
   "cell_type": "code",
   "execution_count": 95,
   "metadata": {},
   "outputs": [],
   "source": [
    "# объявим переменные sampleA и sampleB, в которых пользователям из разных групп будет соответствовать количество заказов\n",
    "\n",
    "sampleA = pd.concat([ordersByUsersA['orders'],pd.Series(\n",
    "    0, index = np.arange(data['visitorsPerDateA'].sum() - len(ordersByUsersA['orders'])), name = 'orders')],axis = 0)\n",
    "\n",
    "sampleB = pd.concat([ordersByUsersB['orders'],pd.Series(\n",
    "    0, index = np.arange(data['visitorsPerDateB'].sum() - len(ordersByUsersB['orders'])), name = 'orders')],axis = 0)"
   ]
  },
  {
   "cell_type": "markdown",
   "metadata": {},
   "source": [
    "Сформулируем гипотезы:\n",
    "<br>H₀ - статистически значимых различий в конверсии между группами нет; \n",
    "<br>H₁ - статистически значимые различия есть."
   ]
  },
  {
   "cell_type": "code",
   "execution_count": 96,
   "metadata": {},
   "outputs": [
    {
     "name": "stdout",
     "output_type": "stream",
     "text": [
      "alpha = 0.05\n",
      "p-value = 0.526\n",
      "Относительный показатель 'B' и 'A' = 0.040\n"
     ]
    }
   ],
   "source": [
    "# применим критерий и отформатируем p-value, округлив его до трёх знаков после запятой\n",
    "\n",
    "print(\"alpha =\",0.05)\n",
    "print(\"p-value = {0:.3f}\".format(stats.mannwhitneyu(sampleA, sampleB, alternative = 'two-sided')[1]))\n",
    "print(\"Относительный показатель 'B' и 'A' = {0:.3f}\".format(sampleB.mean() / sampleA.mean()-1)) "
   ]
  },
  {
   "cell_type": "markdown",
   "metadata": {},
   "source": [
    "По «сырым» данным нет различий в конверсии групп A и B: p-value (0.526) больше alpha (0.05). Нулевую гипотезу о том, что статистически значимых различий в конверсии между группами нет - принимаем. Относительный проигрыш группы 'A' равен 0.04%."
   ]
  },
  {
   "cell_type": "markdown",
   "metadata": {},
   "source": [
    "Посчитаем статистическую значимость различий в среднем чеке заказа между группами по «сырым» данным. Сформулируем гипотезы:\n",
    "<br>H₀ - статистически значимых различий в средних чеках между группами нет; \n",
    "<br>H₁ - статистически значимые различия есть."
   ]
  },
  {
   "cell_type": "code",
   "execution_count": 97,
   "metadata": {},
   "outputs": [
    {
     "name": "stdout",
     "output_type": "stream",
     "text": [
      "alpha = 0.05\n",
      "p-value = 0.660\n",
      "Относительный показатель 'B' и 'A' = 0.274\n"
     ]
    }
   ],
   "source": [
    "# считаем статистическую значимость различий в среднем чеке заказа\n",
    "\n",
    "print(\"alpha =\",0.05)\n",
    "print(\"p-value = {0:.3f}\".format(stats.mannwhitneyu(\n",
    "    orders[orders['group'] == 'A']['revenue'], orders[orders['group'] == 'B']['revenue'], alternative = 'two-sided')[1]))\n",
    "print(\"Относительный показатель 'B' и 'A' = {0:.3f}\".format(\n",
    "    orders[orders['group'] == 'B']['revenue'].mean() / orders[orders['group'] == 'A']['revenue'].mean() - 1)) "
   ]
  },
  {
   "cell_type": "markdown",
   "metadata": {},
   "source": [
    "P-value 0.729 больше 0.05, значит различий по «сырым» данным нет, нулевая гипотеза подтвердилась. Относительный проигрыш группы 'A' ~27%"
   ]
  },
  {
   "cell_type": "markdown",
   "metadata": {},
   "source": [
    "Посчитаем статистическую значимость различий в среднем количестве заказов между группами по «очищенным» данным. \n",
    "<br>В прошлых пунктах установили границы аномальных значений: пользователи, оформившие больше 2 покупок или заказ на сумму более 30000 признаются аномальными. Создадим таблицу, из которой исключим аномальные значения."
   ]
  },
  {
   "cell_type": "code",
   "execution_count": 98,
   "metadata": {},
   "outputs": [
    {
     "name": "stdout",
     "output_type": "stream",
     "text": [
      "Количество аномальных пользователей: 44\n"
     ]
    }
   ],
   "source": [
    "usersWithManyOrders = pd.concat(\n",
    "    [\n",
    "        ordersByUsersA[ordersByUsersA['orders'] > 2]['visitor_id'],\n",
    "        ordersByUsersB[ordersByUsersB['orders'] > 2]['visitor_id'],\n",
    "    ],\n",
    "    axis = 0,\n",
    ")\n",
    "usersWithExpensiveOrders = orders[orders['revenue'] > 30000]['visitor_id']\n",
    "abnormalUsers = (\n",
    "    pd.concat([usersWithManyOrders, usersWithExpensiveOrders], axis = 0)\n",
    "    .drop_duplicates()\n",
    "    .sort_values()\n",
    ")\n",
    "\n",
    "print('Количество аномальных пользователей:', len(abnormalUsers)) "
   ]
  },
  {
   "cell_type": "code",
   "execution_count": 99,
   "metadata": {},
   "outputs": [],
   "source": [
    "# посчитаем статистическую значимость различий в конверсии между группами теста по очищенным данным,\n",
    "# сначала подготовим выборки количества заказов по пользователям по группам теста\n",
    "\n",
    "sampleAFiltered = pd.concat(\n",
    "    [\n",
    "        ordersByUsersA[\n",
    "            np.logical_not(ordersByUsersA['visitor_id'].isin(abnormalUsers))\n",
    "        ]['orders'],\n",
    "        pd.Series(\n",
    "            0,\n",
    "            index=np.arange(\n",
    "                data['visitorsPerDateA'].sum() - len(ordersByUsersA['orders'])\n",
    "            ),\n",
    "            name='orders',\n",
    "        ),\n",
    "    ],\n",
    "    axis=0,\n",
    ")\n",
    "\n",
    "sampleBFiltered = pd.concat(\n",
    "    [\n",
    "        ordersByUsersB[\n",
    "            np.logical_not(ordersByUsersB['visitor_id'].isin(abnormalUsers))\n",
    "        ]['orders'],\n",
    "        pd.Series(\n",
    "            0,\n",
    "            index=np.arange(\n",
    "                data['visitorsPerDateB'].sum() - len(ordersByUsersB['orders'])\n",
    "            ),\n",
    "            name='orders',\n",
    "        ),\n",
    "    ],\n",
    "    axis=0,\n",
    ")"
   ]
  },
  {
   "cell_type": "markdown",
   "metadata": {},
   "source": [
    "Сформулируем гипотезы:\n",
    "<br>H₀ - статистически значимых различий в конверсии между группами нет;\n",
    "<br>H₁ - статистически значимые различия есть."
   ]
  },
  {
   "cell_type": "code",
   "execution_count": 100,
   "metadata": {},
   "outputs": [
    {
     "name": "stdout",
     "output_type": "stream",
     "text": [
      "alpha = 0.05\n",
      "p-value = 0.554\n",
      "Относительный показатель 'B' и 'A' = 0.038\n"
     ]
    }
   ],
   "source": [
    "# применим статистический критерий Манна-Уитни к полученным выборкам\n",
    "\n",
    "print(\"alpha =\",0.05)\n",
    "print(\"p-value = {0:.3f}\".format(stats.mannwhitneyu(sampleAFiltered, sampleBFiltered, alternative = 'two-sided')[1]))\n",
    "print(\"Относительный показатель 'B' и 'A' = {0:.3f}\".format(sampleBFiltered.mean() / sampleAFiltered.mean() - 1)) "
   ]
  },
  {
   "cell_type": "markdown",
   "metadata": {},
   "source": [
    "Нулевую гипотезу отвергаем, по «очищенным» данным различия в конверсии групп 'A' и 'B' отсутсвуют: p-value (0.554) больше alpha (0.05). Относительный выигрыш группы 'B' равен 0.038% (почти такой же, как по «сырым» данным - 0.04%)."
   ]
  },
  {
   "cell_type": "markdown",
   "metadata": {},
   "source": [
    "Посчитаем статистическую значимость различий в среднем чеке заказа между группами по «очищенным» данным. Сформулируем гипотезы:\n",
    "<br>H₀ - статистически значимых различий в средних чеках между группами не;\n",
    "<br>H₁ - статистически значимые различия есть."
   ]
  },
  {
   "cell_type": "code",
   "execution_count": 101,
   "metadata": {},
   "outputs": [
    {
     "name": "stdout",
     "output_type": "stream",
     "text": [
      "alpha = 0.05\n",
      "p-value = 0.613\n",
      "Относительный показатель 'B' и 'A' = -0.042\n"
     ]
    }
   ],
   "source": [
    "print(\"alpha =\",0.05)\n",
    "print(\"p-value = {0:.3f}\".format(stats.mannwhitneyu(\n",
    "    orders[np.logical_and(\n",
    "        orders['group']=='A',\n",
    "        np.logical_not(orders['visitor_id'].isin(abnormalUsers)))]['revenue'],\n",
    "    orders[np.logical_and(\n",
    "        orders['group']=='B',\n",
    "        np.logical_not(orders['visitor_id'].isin(abnormalUsers)))]['revenue'], alternative = 'two-sided')[1]))\n",
    "\n",
    "print(\"Относительный показатель 'B' и 'A' = {0:.3f}\".format(\n",
    "    orders[np.logical_and(orders['group']=='B',np.logical_not(orders['visitor_id'].isin(abnormalUsers)))]['revenue'].mean()/\n",
    "    orders[np.logical_and(\n",
    "        orders['group']=='A',\n",
    "        np.logical_not(orders['visitor_id'].isin(abnormalUsers)))]['revenue'].mean() - 1)) "
   ]
  },
  {
   "cell_type": "markdown",
   "metadata": {},
   "source": [
    "Нулевая гипотеза подтвердилась, различий в среднем чеке нет: p-value (0.720) больше alpha (0.05). Относительный выигрыш группы 'A' 0.042%, в то время как по «сырым» данным относительный проигрыш группы 'A' ~27%. Причина - в «сырых» данных был аномальный заказ на большую сумму."
   ]
  },
  {
   "cell_type": "markdown",
   "metadata": {},
   "source": [
    "**По результатам тестирования:**\n",
    "- нет различий в конверсии групп по «сырым» и по «очищенным» данным, относительный выигрыш группы 'B' над 'A' равен 0.038% по «очищенным» и 0.04% по «сырым» данным.\n",
    "- различия в средних чеках групп A и B по «сырым» и по «очищенным» данным отстутствуют, несмотря на то, что относительный выигрыш группы 'A' по «очищенным» данным составил 0.042%, в то время как по «сырым» данным относительный проигрыш группы 'A' ~27%. После исключения из групп аномальных значений средний чек сравнялся.\n",
    "\n",
    "Результаты тестирования вполне однозначны. В итоге можно принять решение остановить тестирование и констатировать успех и победу группы 'B'. Группа 'B' значительно эффективнее группы 'A' по конверсии, хотя по среднему чеку группы примерно равны."
   ]
  },
  {
   "cell_type": "markdown",
   "metadata": {},
   "source": [
    "### Вывод\n",
    "\n",
    "**По результатам части 1:**\n",
    "- наиболее перспективные гипотезы по ICE:\n",
    "  - \"Запустить акцию, дающую скидку на товар в день рождения\";\n",
    "  - \"Добавить два новых канала привлечения трафика, что позволит привлекать на 30% больше пользователей\";\n",
    "  - \"Добавить форму подписки на все основные страницы, чтобы собрать базу клиентов для email-рассылок\";\n",
    "  - \"Показать на главной странице баннеры с актуальными акциями и распродажами, чтобы увеличить конверсию\";\n",
    "- наиболее перспективные гипотезы по RICE: \n",
    "  - \"Добавить форму подписки на все основные страницы, чтобы собрать базу клиентов для email-рассылок\";\n",
    "  - \"Добавить блоки рекомендаций товаров на сайт интернет магазина, чтобы повысить конверсию и средний чек заказа\";\n",
    "  - \"Добавить два новых канала привлечения трафика, что позволит привлекать на 30% больше пользователей\";\n",
    "  - \"Запустить акцию, дающую скидку на товар в день рождения\". \n",
    "\n",
    "Гипотезы остались те же, однако порядок их изменился. На первом месте по RICE гипотеза \"Добавить форму подписки на все основные страницы, чтобы собрать базу клиентов для email-рассылок\", гипотеза \"Запустить акцию, дающую скидку на товар в день рождения\" сместилась на последнее место.\n",
    "Гипотеза \"Добавить форму подписки на все основные страницы, чтобы собрать базу клиентов для email-рассылок\" оказалась на первом месте, потому что ее показатель охвата пользователей (reach) 10, в то время как у других гипотез он меньше.\n",
    "В отличие от ICE Score, RICE Score учитывает фактор охвата пользователей, поэтому он более сбалансирован.\n",
    "\n",
    "**По результатм части 2:**\n",
    "- нашли и установили границы аномальных значений: пользователи, оформившие больше 2 покупок или заказ на сумму более 30000 признаются аномальными;\n",
    "- нет различий в конверсии групп по «сырым» и по «очищенным» данным, относительный выигрыш группы 'B' над 'A' равен 0.038% по «очищенным» и 0.04% по «сырым» данным;\n",
    "- различия в средних чеках групп A и B по «сырым» и по «очищенным» данным отстутствуют, несмотря на то, что относительный выигрыш группы 'A' по «очищенным» данным составил 0.042%, в то время как по «сырым» данным относительный проигрыш группы 'A' ~27%. После исключения из групп аномальных значений средний чек сравнялся.\n",
    "\n",
    "Результаты тестирования вполне однозначны. В итоге можно принять решение остановить тестирование и констатировать успех и победу группы 'B'. Группа 'B' значительно эффективнее группы 'A' по конверсии, хотя по среднему чеку группы примерно равны."
   ]
  }
 ],
 "metadata": {
  "ExecuteTimeLog": [
   {
    "duration": 50,
    "start_time": "2022-11-20T06:17:02.604Z"
   },
   {
    "duration": 843,
    "start_time": "2022-11-20T06:38:53.098Z"
   },
   {
    "duration": 67,
    "start_time": "2022-11-20T06:43:47.761Z"
   },
   {
    "duration": 29,
    "start_time": "2022-11-20T06:45:52.239Z"
   },
   {
    "duration": 87,
    "start_time": "2022-11-20T06:54:14.074Z"
   },
   {
    "duration": 11,
    "start_time": "2022-11-20T06:55:13.016Z"
   },
   {
    "duration": 10,
    "start_time": "2022-11-20T06:55:25.761Z"
   },
   {
    "duration": 10,
    "start_time": "2022-11-20T06:57:04.958Z"
   },
   {
    "duration": 7,
    "start_time": "2022-11-20T06:57:32.062Z"
   },
   {
    "duration": 12,
    "start_time": "2022-11-20T07:45:47.809Z"
   },
   {
    "duration": 10,
    "start_time": "2022-11-20T07:57:32.659Z"
   },
   {
    "duration": 5,
    "start_time": "2022-11-20T08:03:50.377Z"
   },
   {
    "duration": 11,
    "start_time": "2022-11-20T08:05:48.980Z"
   },
   {
    "duration": 92,
    "start_time": "2022-11-20T08:10:27.402Z"
   },
   {
    "duration": 9,
    "start_time": "2022-11-20T08:13:38.302Z"
   },
   {
    "duration": 134,
    "start_time": "2022-11-20T08:30:46.608Z"
   },
   {
    "duration": 8,
    "start_time": "2022-11-20T08:31:06.922Z"
   },
   {
    "duration": 8,
    "start_time": "2022-11-20T08:31:11.412Z"
   },
   {
    "duration": 7,
    "start_time": "2022-11-20T08:31:18.028Z"
   },
   {
    "duration": 14,
    "start_time": "2022-11-20T08:32:08.775Z"
   },
   {
    "duration": 7,
    "start_time": "2022-11-20T08:37:09.081Z"
   },
   {
    "duration": 6,
    "start_time": "2022-11-20T08:37:24.828Z"
   },
   {
    "duration": 277,
    "start_time": "2022-11-20T08:40:08.059Z"
   },
   {
    "duration": 189,
    "start_time": "2022-11-20T08:40:29.301Z"
   },
   {
    "duration": 269,
    "start_time": "2022-11-20T08:43:26.423Z"
   },
   {
    "duration": 250,
    "start_time": "2022-11-20T08:43:50.730Z"
   },
   {
    "duration": 63,
    "start_time": "2022-11-20T08:43:55.318Z"
   },
   {
    "duration": 17,
    "start_time": "2022-11-20T08:43:56.911Z"
   },
   {
    "duration": 5,
    "start_time": "2022-11-20T08:43:59.677Z"
   },
   {
    "duration": 185,
    "start_time": "2022-11-20T08:44:02.610Z"
   },
   {
    "duration": 181,
    "start_time": "2022-11-20T08:45:12.287Z"
   },
   {
    "duration": 19,
    "start_time": "2022-11-20T09:21:13.777Z"
   },
   {
    "duration": 8,
    "start_time": "2022-11-20T09:21:40.375Z"
   },
   {
    "duration": 15,
    "start_time": "2022-11-20T09:26:25.152Z"
   },
   {
    "duration": 6,
    "start_time": "2022-11-20T09:27:07.943Z"
   },
   {
    "duration": 4,
    "start_time": "2022-11-20T09:27:46.076Z"
   },
   {
    "duration": 11,
    "start_time": "2022-11-20T09:27:48.012Z"
   },
   {
    "duration": 3,
    "start_time": "2022-11-20T09:30:54.550Z"
   },
   {
    "duration": 2,
    "start_time": "2022-11-20T09:30:59.403Z"
   },
   {
    "duration": 33,
    "start_time": "2022-11-20T09:30:59.409Z"
   },
   {
    "duration": 10,
    "start_time": "2022-11-20T09:30:59.444Z"
   },
   {
    "duration": 13,
    "start_time": "2022-11-20T09:30:59.456Z"
   },
   {
    "duration": 13,
    "start_time": "2022-11-20T09:30:59.471Z"
   },
   {
    "duration": 49,
    "start_time": "2022-11-20T09:30:59.485Z"
   },
   {
    "duration": 15,
    "start_time": "2022-11-20T09:30:59.536Z"
   },
   {
    "duration": 4,
    "start_time": "2022-11-20T09:30:59.553Z"
   },
   {
    "duration": 8,
    "start_time": "2022-11-20T09:30:59.558Z"
   },
   {
    "duration": 17,
    "start_time": "2022-11-20T09:30:59.567Z"
   },
   {
    "duration": 12,
    "start_time": "2022-11-20T09:30:59.587Z"
   },
   {
    "duration": 7,
    "start_time": "2022-11-20T09:30:59.620Z"
   },
   {
    "duration": 18,
    "start_time": "2022-11-20T09:30:59.629Z"
   },
   {
    "duration": 2,
    "start_time": "2022-11-20T09:33:23.999Z"
   },
   {
    "duration": 40,
    "start_time": "2022-11-20T09:33:24.003Z"
   },
   {
    "duration": 10,
    "start_time": "2022-11-20T09:33:24.045Z"
   },
   {
    "duration": 26,
    "start_time": "2022-11-20T09:33:24.057Z"
   },
   {
    "duration": 13,
    "start_time": "2022-11-20T09:33:24.085Z"
   },
   {
    "duration": 51,
    "start_time": "2022-11-20T09:33:24.099Z"
   },
   {
    "duration": 13,
    "start_time": "2022-11-20T09:33:24.152Z"
   },
   {
    "duration": 12,
    "start_time": "2022-11-20T09:33:24.166Z"
   },
   {
    "duration": 8,
    "start_time": "2022-11-20T09:33:24.179Z"
   },
   {
    "duration": 29,
    "start_time": "2022-11-20T09:33:24.188Z"
   },
   {
    "duration": 17,
    "start_time": "2022-11-20T09:33:24.219Z"
   },
   {
    "duration": 5,
    "start_time": "2022-11-20T09:33:24.237Z"
   },
   {
    "duration": 12,
    "start_time": "2022-11-20T09:33:24.243Z"
   },
   {
    "duration": 4,
    "start_time": "2022-11-20T09:33:47.835Z"
   },
   {
    "duration": 3,
    "start_time": "2022-11-20T09:34:51.043Z"
   },
   {
    "duration": 31,
    "start_time": "2022-11-20T09:34:51.050Z"
   },
   {
    "duration": 10,
    "start_time": "2022-11-20T09:34:51.083Z"
   },
   {
    "duration": 16,
    "start_time": "2022-11-20T09:34:51.095Z"
   },
   {
    "duration": 11,
    "start_time": "2022-11-20T09:34:51.113Z"
   },
   {
    "duration": 49,
    "start_time": "2022-11-20T09:34:51.125Z"
   },
   {
    "duration": 14,
    "start_time": "2022-11-20T09:34:51.176Z"
   },
   {
    "duration": 12,
    "start_time": "2022-11-20T09:34:51.192Z"
   },
   {
    "duration": 8,
    "start_time": "2022-11-20T09:34:51.205Z"
   },
   {
    "duration": 19,
    "start_time": "2022-11-20T09:34:51.214Z"
   },
   {
    "duration": 28,
    "start_time": "2022-11-20T09:34:51.235Z"
   },
   {
    "duration": 20,
    "start_time": "2022-11-20T09:34:51.265Z"
   },
   {
    "duration": 19,
    "start_time": "2022-11-20T09:34:51.287Z"
   },
   {
    "duration": 46,
    "start_time": "2022-11-22T10:05:10.535Z"
   },
   {
    "duration": 7,
    "start_time": "2022-11-22T10:05:37.163Z"
   },
   {
    "duration": 888,
    "start_time": "2022-11-22T10:05:41.595Z"
   },
   {
    "duration": 74,
    "start_time": "2022-11-22T10:05:42.485Z"
   },
   {
    "duration": 12,
    "start_time": "2022-11-22T10:05:42.561Z"
   },
   {
    "duration": 16,
    "start_time": "2022-11-22T10:05:42.575Z"
   },
   {
    "duration": 11,
    "start_time": "2022-11-22T10:05:42.592Z"
   },
   {
    "duration": 134,
    "start_time": "2022-11-22T10:05:42.605Z"
   },
   {
    "duration": 16,
    "start_time": "2022-11-22T10:05:42.741Z"
   },
   {
    "duration": 7,
    "start_time": "2022-11-22T10:05:42.759Z"
   },
   {
    "duration": 10,
    "start_time": "2022-11-22T10:05:42.768Z"
   },
   {
    "duration": 21,
    "start_time": "2022-11-22T10:05:42.781Z"
   },
   {
    "duration": 20,
    "start_time": "2022-11-22T10:05:42.804Z"
   },
   {
    "duration": 6,
    "start_time": "2022-11-22T10:05:42.826Z"
   },
   {
    "duration": 14,
    "start_time": "2022-11-22T10:05:42.834Z"
   },
   {
    "duration": 7,
    "start_time": "2022-11-22T10:05:42.849Z"
   },
   {
    "duration": 170,
    "start_time": "2022-11-22T10:09:47.306Z"
   },
   {
    "duration": 123,
    "start_time": "2022-11-22T10:10:42.680Z"
   },
   {
    "duration": 15,
    "start_time": "2022-11-22T10:11:23.940Z"
   },
   {
    "duration": 5,
    "start_time": "2022-11-22T10:22:41.705Z"
   },
   {
    "duration": 6,
    "start_time": "2022-11-22T10:23:01.615Z"
   },
   {
    "duration": 56,
    "start_time": "2022-11-22T10:23:42.452Z"
   },
   {
    "duration": 452,
    "start_time": "2022-11-22T10:24:02.771Z"
   },
   {
    "duration": 36,
    "start_time": "2022-11-22T10:24:03.225Z"
   },
   {
    "duration": 14,
    "start_time": "2022-11-22T10:24:03.262Z"
   },
   {
    "duration": 15,
    "start_time": "2022-11-22T10:24:03.279Z"
   },
   {
    "duration": 20,
    "start_time": "2022-11-22T10:24:03.296Z"
   },
   {
    "duration": 64,
    "start_time": "2022-11-22T10:24:03.318Z"
   },
   {
    "duration": 17,
    "start_time": "2022-11-22T10:24:03.383Z"
   },
   {
    "duration": 5,
    "start_time": "2022-11-22T10:24:03.402Z"
   },
   {
    "duration": 10,
    "start_time": "2022-11-22T10:24:03.409Z"
   },
   {
    "duration": 26,
    "start_time": "2022-11-22T10:24:03.422Z"
   },
   {
    "duration": 26,
    "start_time": "2022-11-22T10:24:03.450Z"
   },
   {
    "duration": 7,
    "start_time": "2022-11-22T10:24:03.478Z"
   },
   {
    "duration": 27,
    "start_time": "2022-11-22T10:24:03.487Z"
   },
   {
    "duration": 15,
    "start_time": "2022-11-22T10:24:03.516Z"
   },
   {
    "duration": 188,
    "start_time": "2022-11-22T10:24:03.533Z"
   },
   {
    "duration": 136,
    "start_time": "2022-11-22T10:24:03.722Z"
   },
   {
    "duration": 13,
    "start_time": "2022-11-22T10:24:03.860Z"
   },
   {
    "duration": 9,
    "start_time": "2022-11-22T10:24:03.875Z"
   },
   {
    "duration": 8,
    "start_time": "2022-11-22T10:24:03.886Z"
   },
   {
    "duration": 308,
    "start_time": "2022-11-22T10:24:03.895Z"
   },
   {
    "duration": 182,
    "start_time": "2022-11-22T10:25:04.003Z"
   },
   {
    "duration": 206,
    "start_time": "2022-11-22T10:32:33.463Z"
   },
   {
    "duration": 199,
    "start_time": "2022-11-22T10:32:52.083Z"
   },
   {
    "duration": 203,
    "start_time": "2022-11-22T10:34:44.028Z"
   },
   {
    "duration": 342,
    "start_time": "2022-11-22T10:35:39.005Z"
   },
   {
    "duration": 207,
    "start_time": "2022-11-22T10:35:48.294Z"
   },
   {
    "duration": 292,
    "start_time": "2022-11-22T10:35:56.148Z"
   },
   {
    "duration": 196,
    "start_time": "2022-11-22T10:36:02.872Z"
   },
   {
    "duration": 194,
    "start_time": "2022-11-22T10:36:13.467Z"
   },
   {
    "duration": 172,
    "start_time": "2022-11-22T10:38:37.216Z"
   },
   {
    "duration": 195,
    "start_time": "2022-11-22T10:43:05.868Z"
   },
   {
    "duration": 194,
    "start_time": "2022-11-22T10:43:17.631Z"
   },
   {
    "duration": 347,
    "start_time": "2022-11-22T10:52:55.504Z"
   },
   {
    "duration": 188,
    "start_time": "2022-11-22T10:53:27.377Z"
   },
   {
    "duration": 259,
    "start_time": "2022-11-22T10:54:59.511Z"
   },
   {
    "duration": 220,
    "start_time": "2022-11-22T10:55:13.707Z"
   },
   {
    "duration": 253,
    "start_time": "2022-11-22T10:56:06.412Z"
   },
   {
    "duration": 334,
    "start_time": "2022-11-22T10:56:15.229Z"
   },
   {
    "duration": 220,
    "start_time": "2022-11-22T10:56:24.131Z"
   },
   {
    "duration": 214,
    "start_time": "2022-11-22T10:56:33.012Z"
   },
   {
    "duration": 219,
    "start_time": "2022-11-22T10:57:21.281Z"
   },
   {
    "duration": 196,
    "start_time": "2022-11-22T10:57:29.577Z"
   },
   {
    "duration": 208,
    "start_time": "2022-11-22T10:57:35.195Z"
   },
   {
    "duration": 199,
    "start_time": "2022-11-22T10:57:41.364Z"
   },
   {
    "duration": 413,
    "start_time": "2022-11-22T10:58:11.434Z"
   },
   {
    "duration": 207,
    "start_time": "2022-11-22T10:58:23.709Z"
   },
   {
    "duration": 224,
    "start_time": "2022-11-22T10:58:30.925Z"
   },
   {
    "duration": 200,
    "start_time": "2022-11-22T11:07:55.564Z"
   },
   {
    "duration": 312,
    "start_time": "2022-11-22T11:08:00.919Z"
   },
   {
    "duration": 45,
    "start_time": "2022-11-23T07:46:53.254Z"
   },
   {
    "duration": 1240,
    "start_time": "2022-11-23T07:46:57.540Z"
   },
   {
    "duration": 137,
    "start_time": "2022-11-23T07:46:58.782Z"
   },
   {
    "duration": 13,
    "start_time": "2022-11-23T07:46:58.920Z"
   },
   {
    "duration": 24,
    "start_time": "2022-11-23T07:46:58.935Z"
   },
   {
    "duration": 20,
    "start_time": "2022-11-23T07:46:58.962Z"
   },
   {
    "duration": 153,
    "start_time": "2022-11-23T07:46:58.984Z"
   },
   {
    "duration": 16,
    "start_time": "2022-11-23T07:46:59.139Z"
   },
   {
    "duration": 6,
    "start_time": "2022-11-23T07:46:59.156Z"
   },
   {
    "duration": 8,
    "start_time": "2022-11-23T07:46:59.163Z"
   },
   {
    "duration": 19,
    "start_time": "2022-11-23T07:46:59.175Z"
   },
   {
    "duration": 35,
    "start_time": "2022-11-23T07:46:59.196Z"
   },
   {
    "duration": 5,
    "start_time": "2022-11-23T07:46:59.233Z"
   },
   {
    "duration": 43,
    "start_time": "2022-11-23T07:46:59.240Z"
   },
   {
    "duration": 9,
    "start_time": "2022-11-23T07:46:59.285Z"
   },
   {
    "duration": 152,
    "start_time": "2022-11-23T07:46:59.295Z"
   },
   {
    "duration": 112,
    "start_time": "2022-11-23T07:46:59.449Z"
   },
   {
    "duration": 13,
    "start_time": "2022-11-23T07:46:59.563Z"
   },
   {
    "duration": 10,
    "start_time": "2022-11-23T07:46:59.578Z"
   },
   {
    "duration": 8,
    "start_time": "2022-11-23T07:46:59.590Z"
   },
   {
    "duration": 265,
    "start_time": "2022-11-23T07:46:59.600Z"
   },
   {
    "duration": 176,
    "start_time": "2022-11-23T07:46:59.867Z"
   },
   {
    "duration": 7,
    "start_time": "2022-11-23T07:47:00.051Z"
   },
   {
    "duration": 344,
    "start_time": "2022-11-23T07:49:34.213Z"
   },
   {
    "duration": 209,
    "start_time": "2022-11-23T07:53:38.515Z"
   },
   {
    "duration": 302,
    "start_time": "2022-11-23T07:54:24.253Z"
   },
   {
    "duration": 277,
    "start_time": "2022-11-23T07:54:30.863Z"
   },
   {
    "duration": 71,
    "start_time": "2022-11-23T07:57:02.903Z"
   },
   {
    "duration": 1273,
    "start_time": "2022-11-23T15:33:29.637Z"
   },
   {
    "duration": 186,
    "start_time": "2022-11-23T15:33:30.913Z"
   },
   {
    "duration": 13,
    "start_time": "2022-11-23T15:33:31.101Z"
   },
   {
    "duration": 17,
    "start_time": "2022-11-23T15:33:31.117Z"
   },
   {
    "duration": 12,
    "start_time": "2022-11-23T15:33:31.136Z"
   },
   {
    "duration": 154,
    "start_time": "2022-11-23T15:33:31.150Z"
   },
   {
    "duration": 17,
    "start_time": "2022-11-23T15:33:31.306Z"
   },
   {
    "duration": 19,
    "start_time": "2022-11-23T15:33:31.324Z"
   },
   {
    "duration": 9,
    "start_time": "2022-11-23T15:33:31.345Z"
   },
   {
    "duration": 23,
    "start_time": "2022-11-23T15:33:31.357Z"
   },
   {
    "duration": 18,
    "start_time": "2022-11-23T15:33:31.382Z"
   },
   {
    "duration": 10,
    "start_time": "2022-11-23T15:33:31.402Z"
   },
   {
    "duration": 24,
    "start_time": "2022-11-23T15:33:31.414Z"
   },
   {
    "duration": 6,
    "start_time": "2022-11-23T15:33:31.441Z"
   },
   {
    "duration": 188,
    "start_time": "2022-11-23T15:33:31.449Z"
   },
   {
    "duration": 134,
    "start_time": "2022-11-23T15:33:31.639Z"
   },
   {
    "duration": 15,
    "start_time": "2022-11-23T15:33:31.775Z"
   },
   {
    "duration": 15,
    "start_time": "2022-11-23T15:33:31.792Z"
   },
   {
    "duration": 25,
    "start_time": "2022-11-23T15:33:31.809Z"
   },
   {
    "duration": 344,
    "start_time": "2022-11-23T15:33:31.836Z"
   },
   {
    "duration": 204,
    "start_time": "2022-11-23T15:33:32.181Z"
   },
   {
    "duration": 6,
    "start_time": "2022-11-23T15:33:32.387Z"
   },
   {
    "duration": 385,
    "start_time": "2022-11-23T15:33:32.395Z"
   },
   {
    "duration": 5,
    "start_time": "2022-11-23T15:37:30.869Z"
   },
   {
    "duration": 5,
    "start_time": "2022-11-23T15:38:22.583Z"
   },
   {
    "duration": 6,
    "start_time": "2022-11-23T15:38:29.305Z"
   },
   {
    "duration": 4,
    "start_time": "2022-11-23T15:38:30.023Z"
   },
   {
    "duration": 243,
    "start_time": "2022-11-23T15:39:22.559Z"
   },
   {
    "duration": 206,
    "start_time": "2022-11-23T15:39:28.483Z"
   },
   {
    "duration": 189,
    "start_time": "2022-11-23T15:39:42.202Z"
   },
   {
    "duration": 340,
    "start_time": "2022-11-23T15:39:48.845Z"
   },
   {
    "duration": 203,
    "start_time": "2022-11-23T15:39:58.471Z"
   },
   {
    "duration": 73,
    "start_time": "2022-11-23T15:56:13.743Z"
   },
   {
    "duration": 73,
    "start_time": "2022-11-23T15:56:25.749Z"
   },
   {
    "duration": 334,
    "start_time": "2022-11-23T15:56:34.671Z"
   },
   {
    "duration": 413,
    "start_time": "2022-11-23T15:57:35.054Z"
   },
   {
    "duration": 327,
    "start_time": "2022-11-23T15:57:54.333Z"
   },
   {
    "duration": 9,
    "start_time": "2022-11-23T16:01:53.032Z"
   },
   {
    "duration": 13,
    "start_time": "2022-11-23T16:02:21.242Z"
   },
   {
    "duration": 124,
    "start_time": "2022-11-23T16:04:26.500Z"
   },
   {
    "duration": 116,
    "start_time": "2022-11-23T16:04:30.610Z"
   },
   {
    "duration": 1240,
    "start_time": "2022-11-23T16:07:26.408Z"
   },
   {
    "duration": 6,
    "start_time": "2022-11-23T16:08:10.936Z"
   },
   {
    "duration": 5,
    "start_time": "2022-11-23T16:08:24.728Z"
   },
   {
    "duration": 5,
    "start_time": "2022-11-23T16:08:35.134Z"
   },
   {
    "duration": 4,
    "start_time": "2022-11-23T16:08:46.498Z"
   },
   {
    "duration": 7,
    "start_time": "2022-11-23T16:08:49.248Z"
   },
   {
    "duration": 4,
    "start_time": "2022-11-23T16:09:09.509Z"
   },
   {
    "duration": 1126,
    "start_time": "2022-11-23T16:21:13.396Z"
   },
   {
    "duration": 114,
    "start_time": "2022-11-23T16:21:37.868Z"
   },
   {
    "duration": 297,
    "start_time": "2022-11-23T16:21:52.162Z"
   },
   {
    "duration": 139,
    "start_time": "2022-11-23T16:22:06.432Z"
   },
   {
    "duration": 61,
    "start_time": "2022-11-24T07:26:08.436Z"
   },
   {
    "duration": 1184,
    "start_time": "2022-11-24T07:26:30.852Z"
   },
   {
    "duration": 139,
    "start_time": "2022-11-24T07:26:32.038Z"
   },
   {
    "duration": 11,
    "start_time": "2022-11-24T07:26:32.178Z"
   },
   {
    "duration": 14,
    "start_time": "2022-11-24T07:26:32.191Z"
   },
   {
    "duration": 16,
    "start_time": "2022-11-24T07:26:32.207Z"
   },
   {
    "duration": 123,
    "start_time": "2022-11-24T07:26:32.225Z"
   },
   {
    "duration": 15,
    "start_time": "2022-11-24T07:26:32.350Z"
   },
   {
    "duration": 13,
    "start_time": "2022-11-24T07:26:32.367Z"
   },
   {
    "duration": 9,
    "start_time": "2022-11-24T07:26:32.382Z"
   },
   {
    "duration": 20,
    "start_time": "2022-11-24T07:26:32.394Z"
   },
   {
    "duration": 15,
    "start_time": "2022-11-24T07:26:32.415Z"
   },
   {
    "duration": 7,
    "start_time": "2022-11-24T07:26:32.431Z"
   },
   {
    "duration": 12,
    "start_time": "2022-11-24T07:26:32.439Z"
   },
   {
    "duration": 8,
    "start_time": "2022-11-24T07:26:32.452Z"
   },
   {
    "duration": 157,
    "start_time": "2022-11-24T07:26:32.462Z"
   },
   {
    "duration": 135,
    "start_time": "2022-11-24T07:26:32.620Z"
   },
   {
    "duration": 14,
    "start_time": "2022-11-24T07:26:32.756Z"
   },
   {
    "duration": 11,
    "start_time": "2022-11-24T07:26:32.771Z"
   },
   {
    "duration": 20,
    "start_time": "2022-11-24T07:26:32.783Z"
   },
   {
    "duration": 328,
    "start_time": "2022-11-24T07:26:32.805Z"
   },
   {
    "duration": 185,
    "start_time": "2022-11-24T07:26:33.135Z"
   },
   {
    "duration": 6,
    "start_time": "2022-11-24T07:26:33.322Z"
   },
   {
    "duration": 318,
    "start_time": "2022-11-24T07:26:33.330Z"
   },
   {
    "duration": 5,
    "start_time": "2022-11-24T07:26:33.650Z"
   },
   {
    "duration": 8,
    "start_time": "2022-11-24T07:26:33.657Z"
   },
   {
    "duration": 224,
    "start_time": "2022-11-24T07:26:33.667Z"
   },
   {
    "duration": 345,
    "start_time": "2022-11-24T07:26:33.893Z"
   },
   {
    "duration": 133,
    "start_time": "2022-11-24T07:26:34.242Z"
   },
   {
    "duration": 4,
    "start_time": "2022-11-24T07:26:34.377Z"
   },
   {
    "duration": 76,
    "start_time": "2022-11-24T07:26:34.383Z"
   },
   {
    "duration": 117,
    "start_time": "2022-11-24T07:26:42.851Z"
   },
   {
    "duration": 121,
    "start_time": "2022-11-24T07:26:53.650Z"
   },
   {
    "duration": 114,
    "start_time": "2022-11-24T07:27:08.571Z"
   },
   {
    "duration": 222,
    "start_time": "2022-11-24T07:30:19.484Z"
   },
   {
    "duration": 180,
    "start_time": "2022-11-24T07:32:20.044Z"
   },
   {
    "duration": 5,
    "start_time": "2022-11-24T07:36:12.257Z"
   },
   {
    "duration": 5,
    "start_time": "2022-11-24T07:36:25.931Z"
   },
   {
    "duration": 147,
    "start_time": "2022-11-24T07:42:14.977Z"
   },
   {
    "duration": 5,
    "start_time": "2022-11-24T07:42:39.403Z"
   },
   {
    "duration": 44,
    "start_time": "2022-11-24T07:42:39.410Z"
   },
   {
    "duration": 10,
    "start_time": "2022-11-24T07:42:39.456Z"
   },
   {
    "duration": 18,
    "start_time": "2022-11-24T07:42:39.467Z"
   },
   {
    "duration": 15,
    "start_time": "2022-11-24T07:42:39.487Z"
   },
   {
    "duration": 55,
    "start_time": "2022-11-24T07:42:39.504Z"
   },
   {
    "duration": 18,
    "start_time": "2022-11-24T07:42:39.561Z"
   },
   {
    "duration": 6,
    "start_time": "2022-11-24T07:42:39.580Z"
   },
   {
    "duration": 9,
    "start_time": "2022-11-24T07:42:39.588Z"
   },
   {
    "duration": 19,
    "start_time": "2022-11-24T07:42:39.598Z"
   },
   {
    "duration": 24,
    "start_time": "2022-11-24T07:42:39.621Z"
   },
   {
    "duration": 10,
    "start_time": "2022-11-24T07:42:39.647Z"
   },
   {
    "duration": 16,
    "start_time": "2022-11-24T07:42:39.659Z"
   },
   {
    "duration": 6,
    "start_time": "2022-11-24T07:42:39.678Z"
   },
   {
    "duration": 213,
    "start_time": "2022-11-24T07:42:39.686Z"
   },
   {
    "duration": 141,
    "start_time": "2022-11-24T07:42:39.900Z"
   },
   {
    "duration": 13,
    "start_time": "2022-11-24T07:42:40.043Z"
   },
   {
    "duration": 10,
    "start_time": "2022-11-24T07:42:40.058Z"
   },
   {
    "duration": 9,
    "start_time": "2022-11-24T07:42:40.069Z"
   },
   {
    "duration": 254,
    "start_time": "2022-11-24T07:42:40.080Z"
   },
   {
    "duration": 255,
    "start_time": "2022-11-24T07:42:40.336Z"
   },
   {
    "duration": 6,
    "start_time": "2022-11-24T07:42:40.593Z"
   },
   {
    "duration": 312,
    "start_time": "2022-11-24T07:42:40.601Z"
   },
   {
    "duration": 5,
    "start_time": "2022-11-24T07:42:40.921Z"
   },
   {
    "duration": 12,
    "start_time": "2022-11-24T07:42:40.927Z"
   },
   {
    "duration": 204,
    "start_time": "2022-11-24T07:42:40.941Z"
   },
   {
    "duration": 290,
    "start_time": "2022-11-24T07:42:41.146Z"
   },
   {
    "duration": 145,
    "start_time": "2022-11-24T07:42:41.438Z"
   },
   {
    "duration": 5,
    "start_time": "2022-11-24T07:42:41.587Z"
   },
   {
    "duration": 182,
    "start_time": "2022-11-24T07:42:41.594Z"
   },
   {
    "duration": 175,
    "start_time": "2022-11-24T07:42:41.779Z"
   },
   {
    "duration": 4,
    "start_time": "2022-11-24T07:42:41.956Z"
   },
   {
    "duration": 9,
    "start_time": "2022-11-24T07:42:41.962Z"
   },
   {
    "duration": 126,
    "start_time": "2022-11-24T07:46:17.837Z"
   },
   {
    "duration": 12,
    "start_time": "2022-11-24T07:47:30.024Z"
   },
   {
    "duration": 199,
    "start_time": "2022-11-24T07:59:42.149Z"
   },
   {
    "duration": 108,
    "start_time": "2022-11-24T08:01:58.241Z"
   },
   {
    "duration": 218,
    "start_time": "2022-11-24T08:02:26.682Z"
   },
   {
    "duration": 210,
    "start_time": "2022-11-24T08:03:11.740Z"
   },
   {
    "duration": 31,
    "start_time": "2022-11-24T08:04:12.432Z"
   },
   {
    "duration": 14,
    "start_time": "2022-11-24T08:06:36.324Z"
   },
   {
    "duration": 73,
    "start_time": "2022-11-24T08:07:29.095Z"
   },
   {
    "duration": 90,
    "start_time": "2022-11-24T08:08:24.013Z"
   },
   {
    "duration": 3,
    "start_time": "2022-11-24T08:08:53.586Z"
   },
   {
    "duration": 53,
    "start_time": "2022-11-24T08:08:53.593Z"
   },
   {
    "duration": 10,
    "start_time": "2022-11-24T08:08:53.648Z"
   },
   {
    "duration": 38,
    "start_time": "2022-11-24T08:08:53.659Z"
   },
   {
    "duration": 40,
    "start_time": "2022-11-24T08:08:53.700Z"
   },
   {
    "duration": 76,
    "start_time": "2022-11-24T08:08:53.741Z"
   },
   {
    "duration": 16,
    "start_time": "2022-11-24T08:08:53.818Z"
   },
   {
    "duration": 31,
    "start_time": "2022-11-24T08:08:53.836Z"
   },
   {
    "duration": 23,
    "start_time": "2022-11-24T08:08:53.868Z"
   },
   {
    "duration": 35,
    "start_time": "2022-11-24T08:08:53.893Z"
   },
   {
    "duration": 35,
    "start_time": "2022-11-24T08:08:53.931Z"
   },
   {
    "duration": 19,
    "start_time": "2022-11-24T08:08:53.968Z"
   },
   {
    "duration": 36,
    "start_time": "2022-11-24T08:08:53.989Z"
   },
   {
    "duration": 41,
    "start_time": "2022-11-24T08:08:54.027Z"
   },
   {
    "duration": 225,
    "start_time": "2022-11-24T08:08:54.070Z"
   },
   {
    "duration": 118,
    "start_time": "2022-11-24T08:08:54.297Z"
   },
   {
    "duration": 17,
    "start_time": "2022-11-24T08:08:54.416Z"
   },
   {
    "duration": 37,
    "start_time": "2022-11-24T08:08:54.435Z"
   },
   {
    "duration": 27,
    "start_time": "2022-11-24T08:08:54.473Z"
   },
   {
    "duration": 201,
    "start_time": "2022-11-24T08:08:54.502Z"
   },
   {
    "duration": 193,
    "start_time": "2022-11-24T08:08:54.705Z"
   },
   {
    "duration": 7,
    "start_time": "2022-11-24T08:08:54.899Z"
   },
   {
    "duration": 323,
    "start_time": "2022-11-24T08:08:54.907Z"
   },
   {
    "duration": 4,
    "start_time": "2022-11-24T08:08:55.231Z"
   },
   {
    "duration": 42,
    "start_time": "2022-11-24T08:08:55.237Z"
   },
   {
    "duration": 234,
    "start_time": "2022-11-24T08:08:55.281Z"
   },
   {
    "duration": 322,
    "start_time": "2022-11-24T08:08:55.517Z"
   },
   {
    "duration": 162,
    "start_time": "2022-11-24T08:08:55.841Z"
   },
   {
    "duration": 4,
    "start_time": "2022-11-24T08:08:56.006Z"
   },
   {
    "duration": 175,
    "start_time": "2022-11-24T08:08:56.021Z"
   },
   {
    "duration": 173,
    "start_time": "2022-11-24T08:08:56.197Z"
   },
   {
    "duration": 4,
    "start_time": "2022-11-24T08:08:56.372Z"
   },
   {
    "duration": 237,
    "start_time": "2022-11-24T08:08:56.378Z"
   },
   {
    "duration": 29,
    "start_time": "2022-11-24T08:08:56.623Z"
   },
   {
    "duration": 90,
    "start_time": "2022-11-24T08:08:56.654Z"
   },
   {
    "duration": 74,
    "start_time": "2022-11-24T08:09:11.959Z"
   },
   {
    "duration": 72,
    "start_time": "2022-11-24T08:09:20.011Z"
   },
   {
    "duration": 84,
    "start_time": "2022-11-24T08:09:31.852Z"
   },
   {
    "duration": 148,
    "start_time": "2022-11-24T08:09:38.541Z"
   },
   {
    "duration": 7,
    "start_time": "2022-11-24T08:10:54.133Z"
   },
   {
    "duration": 22,
    "start_time": "2022-11-24T08:17:39.278Z"
   },
   {
    "duration": 11,
    "start_time": "2022-11-24T08:28:02.253Z"
   },
   {
    "duration": 4,
    "start_time": "2022-11-24T08:41:29.315Z"
   },
   {
    "duration": 36,
    "start_time": "2022-11-24T08:41:29.321Z"
   },
   {
    "duration": 13,
    "start_time": "2022-11-24T08:41:29.359Z"
   },
   {
    "duration": 17,
    "start_time": "2022-11-24T08:41:29.373Z"
   },
   {
    "duration": 21,
    "start_time": "2022-11-24T08:41:29.392Z"
   },
   {
    "duration": 55,
    "start_time": "2022-11-24T08:41:29.415Z"
   },
   {
    "duration": 16,
    "start_time": "2022-11-24T08:41:29.472Z"
   },
   {
    "duration": 5,
    "start_time": "2022-11-24T08:41:29.490Z"
   },
   {
    "duration": 11,
    "start_time": "2022-11-24T08:41:29.497Z"
   },
   {
    "duration": 20,
    "start_time": "2022-11-24T08:41:29.509Z"
   },
   {
    "duration": 15,
    "start_time": "2022-11-24T08:41:29.532Z"
   },
   {
    "duration": 7,
    "start_time": "2022-11-24T08:41:29.549Z"
   },
   {
    "duration": 18,
    "start_time": "2022-11-24T08:41:29.557Z"
   },
   {
    "duration": 7,
    "start_time": "2022-11-24T08:41:29.577Z"
   },
   {
    "duration": 191,
    "start_time": "2022-11-24T08:41:29.586Z"
   },
   {
    "duration": 144,
    "start_time": "2022-11-24T08:41:29.779Z"
   },
   {
    "duration": 14,
    "start_time": "2022-11-24T08:41:29.925Z"
   },
   {
    "duration": 7,
    "start_time": "2022-11-24T08:41:29.940Z"
   },
   {
    "duration": 6,
    "start_time": "2022-11-24T08:41:29.948Z"
   },
   {
    "duration": 212,
    "start_time": "2022-11-24T08:41:29.956Z"
   },
   {
    "duration": 280,
    "start_time": "2022-11-24T08:41:30.170Z"
   },
   {
    "duration": 6,
    "start_time": "2022-11-24T08:41:30.452Z"
   },
   {
    "duration": 287,
    "start_time": "2022-11-24T08:41:30.459Z"
   },
   {
    "duration": 6,
    "start_time": "2022-11-24T08:41:30.748Z"
   },
   {
    "duration": 18,
    "start_time": "2022-11-24T08:41:30.756Z"
   },
   {
    "duration": 206,
    "start_time": "2022-11-24T08:41:30.775Z"
   },
   {
    "duration": 313,
    "start_time": "2022-11-24T08:41:30.983Z"
   },
   {
    "duration": 148,
    "start_time": "2022-11-24T08:41:31.299Z"
   },
   {
    "duration": 5,
    "start_time": "2022-11-24T08:41:31.449Z"
   },
   {
    "duration": 172,
    "start_time": "2022-11-24T08:41:31.456Z"
   },
   {
    "duration": 175,
    "start_time": "2022-11-24T08:41:31.629Z"
   },
   {
    "duration": 4,
    "start_time": "2022-11-24T08:41:31.806Z"
   },
   {
    "duration": 207,
    "start_time": "2022-11-24T08:41:31.822Z"
   },
   {
    "duration": 28,
    "start_time": "2022-11-24T08:41:32.031Z"
   },
   {
    "duration": 139,
    "start_time": "2022-11-24T08:41:32.060Z"
   },
   {
    "duration": 6,
    "start_time": "2022-11-24T08:41:32.201Z"
   },
   {
    "duration": 31,
    "start_time": "2022-11-24T08:41:32.209Z"
   },
   {
    "duration": 11,
    "start_time": "2022-11-24T08:41:32.242Z"
   },
   {
    "duration": 8,
    "start_time": "2022-11-24T08:41:32.255Z"
   },
   {
    "duration": 9,
    "start_time": "2022-11-24T08:42:39.440Z"
   },
   {
    "duration": 9,
    "start_time": "2022-11-24T08:42:56.023Z"
   },
   {
    "duration": 9,
    "start_time": "2022-11-24T08:44:48.784Z"
   },
   {
    "duration": 22,
    "start_time": "2022-11-24T08:46:19.326Z"
   },
   {
    "duration": 15,
    "start_time": "2022-11-24T08:51:19.923Z"
   },
   {
    "duration": 3,
    "start_time": "2022-11-24T09:25:19.989Z"
   },
   {
    "duration": 34,
    "start_time": "2022-11-24T09:25:19.996Z"
   },
   {
    "duration": 12,
    "start_time": "2022-11-24T09:25:20.032Z"
   },
   {
    "duration": 26,
    "start_time": "2022-11-24T09:25:20.046Z"
   },
   {
    "duration": 36,
    "start_time": "2022-11-24T09:25:20.074Z"
   },
   {
    "duration": 52,
    "start_time": "2022-11-24T09:25:20.111Z"
   },
   {
    "duration": 17,
    "start_time": "2022-11-24T09:25:20.165Z"
   },
   {
    "duration": 22,
    "start_time": "2022-11-24T09:25:20.183Z"
   },
   {
    "duration": 15,
    "start_time": "2022-11-24T09:25:20.207Z"
   },
   {
    "duration": 25,
    "start_time": "2022-11-24T09:25:20.224Z"
   },
   {
    "duration": 27,
    "start_time": "2022-11-24T09:25:20.251Z"
   },
   {
    "duration": 12,
    "start_time": "2022-11-24T09:25:20.279Z"
   },
   {
    "duration": 17,
    "start_time": "2022-11-24T09:25:20.293Z"
   },
   {
    "duration": 6,
    "start_time": "2022-11-24T09:25:20.401Z"
   },
   {
    "duration": 164,
    "start_time": "2022-11-24T09:25:20.415Z"
   },
   {
    "duration": 123,
    "start_time": "2022-11-24T09:25:20.581Z"
   },
   {
    "duration": 28,
    "start_time": "2022-11-24T09:25:20.706Z"
   },
   {
    "duration": 8,
    "start_time": "2022-11-24T09:25:20.736Z"
   },
   {
    "duration": 6,
    "start_time": "2022-11-24T09:25:20.746Z"
   },
   {
    "duration": 216,
    "start_time": "2022-11-24T09:25:20.754Z"
   },
   {
    "duration": 205,
    "start_time": "2022-11-24T09:25:20.971Z"
   },
   {
    "duration": 7,
    "start_time": "2022-11-24T09:25:21.178Z"
   },
   {
    "duration": 329,
    "start_time": "2022-11-24T09:25:21.187Z"
   },
   {
    "duration": 9,
    "start_time": "2022-11-24T09:25:21.517Z"
   },
   {
    "duration": 14,
    "start_time": "2022-11-24T09:25:21.528Z"
   },
   {
    "duration": 240,
    "start_time": "2022-11-24T09:25:21.544Z"
   },
   {
    "duration": 444,
    "start_time": "2022-11-24T09:25:21.785Z"
   },
   {
    "duration": 163,
    "start_time": "2022-11-24T09:25:22.231Z"
   },
   {
    "duration": 6,
    "start_time": "2022-11-24T09:25:22.396Z"
   },
   {
    "duration": 204,
    "start_time": "2022-11-24T09:25:22.404Z"
   },
   {
    "duration": 181,
    "start_time": "2022-11-24T09:25:22.611Z"
   },
   {
    "duration": 4,
    "start_time": "2022-11-24T09:25:22.794Z"
   },
   {
    "duration": 238,
    "start_time": "2022-11-24T09:25:22.800Z"
   },
   {
    "duration": 29,
    "start_time": "2022-11-24T09:25:23.040Z"
   },
   {
    "duration": 158,
    "start_time": "2022-11-24T09:25:23.070Z"
   },
   {
    "duration": 6,
    "start_time": "2022-11-24T09:25:23.230Z"
   },
   {
    "duration": 25,
    "start_time": "2022-11-24T09:25:23.238Z"
   },
   {
    "duration": 15,
    "start_time": "2022-11-24T09:25:23.266Z"
   },
   {
    "duration": 40,
    "start_time": "2022-11-24T09:25:23.283Z"
   },
   {
    "duration": 12,
    "start_time": "2022-11-24T09:25:23.325Z"
   },
   {
    "duration": 37,
    "start_time": "2022-11-24T09:25:23.340Z"
   },
   {
    "duration": 44,
    "start_time": "2022-11-24T09:25:23.379Z"
   },
   {
    "duration": 160,
    "start_time": "2022-11-24T09:26:20.092Z"
   },
   {
    "duration": 44,
    "start_time": "2022-11-25T03:49:50.089Z"
   },
   {
    "duration": 1144,
    "start_time": "2022-11-25T03:49:55.461Z"
   },
   {
    "duration": 124,
    "start_time": "2022-11-25T03:49:56.607Z"
   },
   {
    "duration": 11,
    "start_time": "2022-11-25T03:49:56.733Z"
   },
   {
    "duration": 20,
    "start_time": "2022-11-25T03:49:56.745Z"
   },
   {
    "duration": 9,
    "start_time": "2022-11-25T03:49:56.766Z"
   },
   {
    "duration": 137,
    "start_time": "2022-11-25T03:49:56.776Z"
   },
   {
    "duration": 14,
    "start_time": "2022-11-25T03:49:56.915Z"
   },
   {
    "duration": 3,
    "start_time": "2022-11-25T03:49:56.930Z"
   },
   {
    "duration": 11,
    "start_time": "2022-11-25T03:49:56.934Z"
   },
   {
    "duration": 17,
    "start_time": "2022-11-25T03:49:56.947Z"
   },
   {
    "duration": 19,
    "start_time": "2022-11-25T03:49:56.966Z"
   },
   {
    "duration": 7,
    "start_time": "2022-11-25T03:49:56.987Z"
   },
   {
    "duration": 19,
    "start_time": "2022-11-25T03:49:56.995Z"
   },
   {
    "duration": 14,
    "start_time": "2022-11-25T03:49:57.015Z"
   },
   {
    "duration": 152,
    "start_time": "2022-11-25T03:49:57.031Z"
   },
   {
    "duration": 120,
    "start_time": "2022-11-25T03:49:57.185Z"
   },
   {
    "duration": 16,
    "start_time": "2022-11-25T03:49:57.308Z"
   },
   {
    "duration": 13,
    "start_time": "2022-11-25T03:49:57.326Z"
   },
   {
    "duration": 12,
    "start_time": "2022-11-25T03:49:57.341Z"
   },
   {
    "duration": 249,
    "start_time": "2022-11-25T03:49:57.355Z"
   },
   {
    "duration": 171,
    "start_time": "2022-11-25T03:49:57.606Z"
   },
   {
    "duration": 5,
    "start_time": "2022-11-25T03:49:57.779Z"
   },
   {
    "duration": 338,
    "start_time": "2022-11-25T03:49:57.786Z"
   },
   {
    "duration": 4,
    "start_time": "2022-11-25T03:49:58.125Z"
   },
   {
    "duration": 13,
    "start_time": "2022-11-25T03:49:58.131Z"
   },
   {
    "duration": 208,
    "start_time": "2022-11-25T03:49:58.145Z"
   },
   {
    "duration": 277,
    "start_time": "2022-11-25T03:49:58.355Z"
   },
   {
    "duration": 148,
    "start_time": "2022-11-25T03:49:58.635Z"
   },
   {
    "duration": 5,
    "start_time": "2022-11-25T03:49:58.784Z"
   },
   {
    "duration": 160,
    "start_time": "2022-11-25T03:49:58.790Z"
   },
   {
    "duration": 186,
    "start_time": "2022-11-25T03:49:58.951Z"
   },
   {
    "duration": 5,
    "start_time": "2022-11-25T03:49:59.139Z"
   },
   {
    "duration": 192,
    "start_time": "2022-11-25T03:49:59.145Z"
   },
   {
    "duration": 27,
    "start_time": "2022-11-25T03:49:59.339Z"
   },
   {
    "duration": 162,
    "start_time": "2022-11-25T03:49:59.367Z"
   },
   {
    "duration": 6,
    "start_time": "2022-11-25T03:49:59.530Z"
   },
   {
    "duration": 37,
    "start_time": "2022-11-25T03:49:59.537Z"
   },
   {
    "duration": 10,
    "start_time": "2022-11-25T03:49:59.575Z"
   },
   {
    "duration": 26,
    "start_time": "2022-11-25T03:49:59.587Z"
   },
   {
    "duration": 21,
    "start_time": "2022-11-25T03:49:59.614Z"
   },
   {
    "duration": 33,
    "start_time": "2022-11-25T03:49:59.637Z"
   },
   {
    "duration": 12,
    "start_time": "2022-11-25T03:49:59.671Z"
   },
   {
    "duration": 99,
    "start_time": "2022-11-25T03:51:36.287Z"
   },
   {
    "duration": 31,
    "start_time": "2022-11-25T03:51:48.812Z"
   },
   {
    "duration": 31,
    "start_time": "2022-11-25T03:51:55.511Z"
   },
   {
    "duration": 3,
    "start_time": "2022-11-25T03:52:11.729Z"
   },
   {
    "duration": 33,
    "start_time": "2022-11-25T03:52:11.736Z"
   },
   {
    "duration": 9,
    "start_time": "2022-11-25T03:52:11.771Z"
   },
   {
    "duration": 13,
    "start_time": "2022-11-25T03:52:11.782Z"
   },
   {
    "duration": 10,
    "start_time": "2022-11-25T03:52:11.797Z"
   },
   {
    "duration": 64,
    "start_time": "2022-11-25T03:52:11.809Z"
   },
   {
    "duration": 14,
    "start_time": "2022-11-25T03:52:11.874Z"
   },
   {
    "duration": 6,
    "start_time": "2022-11-25T03:52:11.890Z"
   },
   {
    "duration": 7,
    "start_time": "2022-11-25T03:52:11.897Z"
   },
   {
    "duration": 17,
    "start_time": "2022-11-25T03:52:11.905Z"
   },
   {
    "duration": 13,
    "start_time": "2022-11-25T03:52:11.925Z"
   },
   {
    "duration": 5,
    "start_time": "2022-11-25T03:52:11.940Z"
   },
   {
    "duration": 11,
    "start_time": "2022-11-25T03:52:11.946Z"
   },
   {
    "duration": 7,
    "start_time": "2022-11-25T03:52:11.958Z"
   },
   {
    "duration": 186,
    "start_time": "2022-11-25T03:52:11.967Z"
   },
   {
    "duration": 118,
    "start_time": "2022-11-25T03:52:12.154Z"
   },
   {
    "duration": 11,
    "start_time": "2022-11-25T03:52:12.274Z"
   },
   {
    "duration": 20,
    "start_time": "2022-11-25T03:52:12.287Z"
   },
   {
    "duration": 6,
    "start_time": "2022-11-25T03:52:12.309Z"
   },
   {
    "duration": 255,
    "start_time": "2022-11-25T03:52:12.317Z"
   },
   {
    "duration": 180,
    "start_time": "2022-11-25T03:52:12.574Z"
   },
   {
    "duration": 6,
    "start_time": "2022-11-25T03:52:12.756Z"
   },
   {
    "duration": 290,
    "start_time": "2022-11-25T03:52:12.764Z"
   },
   {
    "duration": 5,
    "start_time": "2022-11-25T03:52:13.056Z"
   },
   {
    "duration": 9,
    "start_time": "2022-11-25T03:52:13.064Z"
   },
   {
    "duration": 199,
    "start_time": "2022-11-25T03:52:13.075Z"
   },
   {
    "duration": 306,
    "start_time": "2022-11-25T03:52:13.276Z"
   },
   {
    "duration": 140,
    "start_time": "2022-11-25T03:52:13.583Z"
   },
   {
    "duration": 4,
    "start_time": "2022-11-25T03:52:13.724Z"
   },
   {
    "duration": 159,
    "start_time": "2022-11-25T03:52:13.729Z"
   },
   {
    "duration": 152,
    "start_time": "2022-11-25T03:52:13.889Z"
   },
   {
    "duration": 5,
    "start_time": "2022-11-25T03:52:14.042Z"
   },
   {
    "duration": 199,
    "start_time": "2022-11-25T03:52:14.048Z"
   },
   {
    "duration": 26,
    "start_time": "2022-11-25T03:52:14.248Z"
   },
   {
    "duration": 136,
    "start_time": "2022-11-25T03:52:14.275Z"
   },
   {
    "duration": 6,
    "start_time": "2022-11-25T03:52:14.413Z"
   },
   {
    "duration": 28,
    "start_time": "2022-11-25T03:52:14.420Z"
   },
   {
    "duration": 10,
    "start_time": "2022-11-25T03:52:14.449Z"
   },
   {
    "duration": 8,
    "start_time": "2022-11-25T03:52:14.460Z"
   },
   {
    "duration": 9,
    "start_time": "2022-11-25T03:52:14.469Z"
   },
   {
    "duration": 22,
    "start_time": "2022-11-25T03:52:14.504Z"
   },
   {
    "duration": 13,
    "start_time": "2022-11-25T03:52:14.527Z"
   },
   {
    "duration": 1114,
    "start_time": "2022-11-27T04:54:10.696Z"
   },
   {
    "duration": 128,
    "start_time": "2022-11-27T04:54:11.813Z"
   },
   {
    "duration": 12,
    "start_time": "2022-11-27T04:54:11.943Z"
   },
   {
    "duration": 15,
    "start_time": "2022-11-27T04:54:11.957Z"
   },
   {
    "duration": 11,
    "start_time": "2022-11-27T04:54:11.973Z"
   },
   {
    "duration": 132,
    "start_time": "2022-11-27T04:54:11.985Z"
   },
   {
    "duration": 16,
    "start_time": "2022-11-27T04:54:12.118Z"
   },
   {
    "duration": 8,
    "start_time": "2022-11-27T04:54:12.136Z"
   },
   {
    "duration": 9,
    "start_time": "2022-11-27T04:54:12.146Z"
   },
   {
    "duration": 19,
    "start_time": "2022-11-27T04:54:12.158Z"
   },
   {
    "duration": 14,
    "start_time": "2022-11-27T04:54:12.178Z"
   },
   {
    "duration": 10,
    "start_time": "2022-11-27T04:54:12.193Z"
   },
   {
    "duration": 20,
    "start_time": "2022-11-27T04:54:12.204Z"
   },
   {
    "duration": 29,
    "start_time": "2022-11-27T04:54:12.226Z"
   },
   {
    "duration": 165,
    "start_time": "2022-11-27T04:54:12.256Z"
   },
   {
    "duration": 115,
    "start_time": "2022-11-27T04:54:12.423Z"
   },
   {
    "duration": 21,
    "start_time": "2022-11-27T04:54:12.540Z"
   },
   {
    "duration": 9,
    "start_time": "2022-11-27T04:54:12.563Z"
   },
   {
    "duration": 10,
    "start_time": "2022-11-27T04:54:12.574Z"
   },
   {
    "duration": 275,
    "start_time": "2022-11-27T04:54:12.585Z"
   },
   {
    "duration": 188,
    "start_time": "2022-11-27T04:54:12.862Z"
   },
   {
    "duration": 6,
    "start_time": "2022-11-27T04:54:13.055Z"
   },
   {
    "duration": 341,
    "start_time": "2022-11-27T04:54:13.062Z"
   },
   {
    "duration": 4,
    "start_time": "2022-11-27T04:54:13.404Z"
   },
   {
    "duration": 8,
    "start_time": "2022-11-27T04:54:13.410Z"
   },
   {
    "duration": 213,
    "start_time": "2022-11-27T04:54:13.419Z"
   },
   {
    "duration": 310,
    "start_time": "2022-11-27T04:54:13.634Z"
   },
   {
    "duration": 149,
    "start_time": "2022-11-27T04:54:13.954Z"
   },
   {
    "duration": 4,
    "start_time": "2022-11-27T04:54:14.105Z"
   },
   {
    "duration": 166,
    "start_time": "2022-11-27T04:54:14.111Z"
   },
   {
    "duration": 210,
    "start_time": "2022-11-27T04:54:14.278Z"
   },
   {
    "duration": 6,
    "start_time": "2022-11-27T04:54:14.489Z"
   },
   {
    "duration": 191,
    "start_time": "2022-11-27T04:54:14.497Z"
   },
   {
    "duration": 27,
    "start_time": "2022-11-27T04:54:14.690Z"
   },
   {
    "duration": 141,
    "start_time": "2022-11-27T04:54:14.718Z"
   },
   {
    "duration": 7,
    "start_time": "2022-11-27T04:54:14.861Z"
   },
   {
    "duration": 27,
    "start_time": "2022-11-27T04:54:14.869Z"
   },
   {
    "duration": 11,
    "start_time": "2022-11-27T04:54:14.898Z"
   },
   {
    "duration": 10,
    "start_time": "2022-11-27T04:54:14.911Z"
   },
   {
    "duration": 32,
    "start_time": "2022-11-27T04:54:14.923Z"
   },
   {
    "duration": 30,
    "start_time": "2022-11-27T04:54:14.957Z"
   },
   {
    "duration": 14,
    "start_time": "2022-11-27T04:54:14.989Z"
   },
   {
    "duration": 26,
    "start_time": "2022-11-27T04:54:39.813Z"
   },
   {
    "duration": 28,
    "start_time": "2022-11-27T04:56:09.516Z"
   },
   {
    "duration": 3,
    "start_time": "2022-11-27T04:56:14.511Z"
   },
   {
    "duration": 29,
    "start_time": "2022-11-27T04:56:14.517Z"
   },
   {
    "duration": 97,
    "start_time": "2022-11-27T04:56:14.548Z"
   },
   {
    "duration": 10,
    "start_time": "2022-11-27T04:56:14.898Z"
   },
   {
    "duration": 0,
    "start_time": "2022-11-27T04:56:14.911Z"
   },
   {
    "duration": 0,
    "start_time": "2022-11-27T04:56:14.912Z"
   },
   {
    "duration": 0,
    "start_time": "2022-11-27T04:56:14.913Z"
   },
   {
    "duration": 0,
    "start_time": "2022-11-27T04:56:14.914Z"
   },
   {
    "duration": 0,
    "start_time": "2022-11-27T04:56:14.915Z"
   },
   {
    "duration": 0,
    "start_time": "2022-11-27T04:56:14.916Z"
   },
   {
    "duration": 0,
    "start_time": "2022-11-27T04:56:14.918Z"
   },
   {
    "duration": 0,
    "start_time": "2022-11-27T04:56:14.918Z"
   },
   {
    "duration": 1,
    "start_time": "2022-11-27T04:56:14.919Z"
   },
   {
    "duration": 0,
    "start_time": "2022-11-27T04:56:14.921Z"
   },
   {
    "duration": 0,
    "start_time": "2022-11-27T04:56:14.922Z"
   },
   {
    "duration": 0,
    "start_time": "2022-11-27T04:56:14.923Z"
   },
   {
    "duration": 0,
    "start_time": "2022-11-27T04:56:14.924Z"
   },
   {
    "duration": 0,
    "start_time": "2022-11-27T04:56:14.925Z"
   },
   {
    "duration": 0,
    "start_time": "2022-11-27T04:56:14.926Z"
   },
   {
    "duration": 0,
    "start_time": "2022-11-27T04:56:14.928Z"
   },
   {
    "duration": 0,
    "start_time": "2022-11-27T04:56:14.929Z"
   },
   {
    "duration": 0,
    "start_time": "2022-11-27T04:56:14.930Z"
   },
   {
    "duration": 0,
    "start_time": "2022-11-27T04:56:14.931Z"
   },
   {
    "duration": 0,
    "start_time": "2022-11-27T04:56:14.932Z"
   },
   {
    "duration": 0,
    "start_time": "2022-11-27T04:56:14.934Z"
   },
   {
    "duration": 0,
    "start_time": "2022-11-27T04:56:14.935Z"
   },
   {
    "duration": 0,
    "start_time": "2022-11-27T04:56:14.936Z"
   },
   {
    "duration": 0,
    "start_time": "2022-11-27T04:56:14.937Z"
   },
   {
    "duration": 0,
    "start_time": "2022-11-27T04:56:14.958Z"
   },
   {
    "duration": 0,
    "start_time": "2022-11-27T04:56:14.959Z"
   },
   {
    "duration": 0,
    "start_time": "2022-11-27T04:56:14.961Z"
   },
   {
    "duration": 0,
    "start_time": "2022-11-27T04:56:14.962Z"
   },
   {
    "duration": 0,
    "start_time": "2022-11-27T04:56:14.964Z"
   },
   {
    "duration": 0,
    "start_time": "2022-11-27T04:56:14.965Z"
   },
   {
    "duration": 0,
    "start_time": "2022-11-27T04:56:14.967Z"
   },
   {
    "duration": 0,
    "start_time": "2022-11-27T04:56:14.968Z"
   },
   {
    "duration": 0,
    "start_time": "2022-11-27T04:56:14.969Z"
   },
   {
    "duration": 0,
    "start_time": "2022-11-27T04:56:14.971Z"
   },
   {
    "duration": 0,
    "start_time": "2022-11-27T04:56:14.972Z"
   },
   {
    "duration": 0,
    "start_time": "2022-11-27T04:56:14.974Z"
   },
   {
    "duration": 0,
    "start_time": "2022-11-27T04:56:14.975Z"
   },
   {
    "duration": 0,
    "start_time": "2022-11-27T04:56:14.976Z"
   },
   {
    "duration": 34,
    "start_time": "2022-11-27T04:56:37.104Z"
   },
   {
    "duration": 3,
    "start_time": "2022-11-27T04:56:40.968Z"
   },
   {
    "duration": 36,
    "start_time": "2022-11-27T04:56:40.973Z"
   },
   {
    "duration": 0,
    "start_time": "2022-11-27T04:56:41.011Z"
   },
   {
    "duration": 0,
    "start_time": "2022-11-27T04:56:41.012Z"
   },
   {
    "duration": 0,
    "start_time": "2022-11-27T04:56:41.014Z"
   },
   {
    "duration": 0,
    "start_time": "2022-11-27T04:56:41.015Z"
   },
   {
    "duration": 0,
    "start_time": "2022-11-27T04:56:41.016Z"
   },
   {
    "duration": 0,
    "start_time": "2022-11-27T04:56:41.017Z"
   },
   {
    "duration": 0,
    "start_time": "2022-11-27T04:56:41.018Z"
   },
   {
    "duration": 1,
    "start_time": "2022-11-27T04:56:41.019Z"
   },
   {
    "duration": 0,
    "start_time": "2022-11-27T04:56:41.021Z"
   },
   {
    "duration": 0,
    "start_time": "2022-11-27T04:56:41.022Z"
   },
   {
    "duration": 0,
    "start_time": "2022-11-27T04:56:41.023Z"
   },
   {
    "duration": 0,
    "start_time": "2022-11-27T04:56:41.024Z"
   },
   {
    "duration": 0,
    "start_time": "2022-11-27T04:56:41.025Z"
   },
   {
    "duration": 0,
    "start_time": "2022-11-27T04:56:41.027Z"
   },
   {
    "duration": 0,
    "start_time": "2022-11-27T04:56:41.028Z"
   },
   {
    "duration": 0,
    "start_time": "2022-11-27T04:56:41.029Z"
   },
   {
    "duration": 0,
    "start_time": "2022-11-27T04:56:41.030Z"
   },
   {
    "duration": 0,
    "start_time": "2022-11-27T04:56:41.031Z"
   },
   {
    "duration": 279,
    "start_time": "2022-11-27T04:56:41.055Z"
   },
   {
    "duration": 6,
    "start_time": "2022-11-27T04:56:41.335Z"
   },
   {
    "duration": 298,
    "start_time": "2022-11-27T04:56:41.342Z"
   },
   {
    "duration": 13,
    "start_time": "2022-11-27T04:56:41.642Z"
   },
   {
    "duration": 5,
    "start_time": "2022-11-27T04:56:41.656Z"
   },
   {
    "duration": 205,
    "start_time": "2022-11-27T04:56:41.663Z"
   },
   {
    "duration": 287,
    "start_time": "2022-11-27T04:56:41.870Z"
   },
   {
    "duration": 147,
    "start_time": "2022-11-27T04:56:42.161Z"
   },
   {
    "duration": 5,
    "start_time": "2022-11-27T04:56:42.310Z"
   },
   {
    "duration": 172,
    "start_time": "2022-11-27T04:56:42.317Z"
   },
   {
    "duration": 171,
    "start_time": "2022-11-27T04:56:42.491Z"
   },
   {
    "duration": 5,
    "start_time": "2022-11-27T04:56:42.664Z"
   },
   {
    "duration": 208,
    "start_time": "2022-11-27T04:56:42.671Z"
   },
   {
    "duration": 28,
    "start_time": "2022-11-27T04:56:42.881Z"
   },
   {
    "duration": 159,
    "start_time": "2022-11-27T04:56:42.911Z"
   },
   {
    "duration": 7,
    "start_time": "2022-11-27T04:56:43.072Z"
   },
   {
    "duration": 25,
    "start_time": "2022-11-27T04:56:43.081Z"
   },
   {
    "duration": 11,
    "start_time": "2022-11-27T04:56:43.108Z"
   },
   {
    "duration": 35,
    "start_time": "2022-11-27T04:56:43.120Z"
   },
   {
    "duration": 10,
    "start_time": "2022-11-27T04:56:43.157Z"
   },
   {
    "duration": 26,
    "start_time": "2022-11-27T04:56:43.168Z"
   },
   {
    "duration": 13,
    "start_time": "2022-11-27T04:56:43.196Z"
   },
   {
    "duration": 34,
    "start_time": "2022-11-27T04:56:46.916Z"
   },
   {
    "duration": 32,
    "start_time": "2022-11-27T04:57:36.480Z"
   },
   {
    "duration": 2,
    "start_time": "2022-11-27T04:57:43.334Z"
   },
   {
    "duration": 37,
    "start_time": "2022-11-27T04:57:43.338Z"
   },
   {
    "duration": 11,
    "start_time": "2022-11-27T04:57:43.376Z"
   },
   {
    "duration": 15,
    "start_time": "2022-11-27T04:57:43.389Z"
   },
   {
    "duration": 19,
    "start_time": "2022-11-27T04:57:43.406Z"
   },
   {
    "duration": 82,
    "start_time": "2022-11-27T04:57:43.426Z"
   },
   {
    "duration": 15,
    "start_time": "2022-11-27T04:57:43.510Z"
   },
   {
    "duration": 9,
    "start_time": "2022-11-27T04:57:43.526Z"
   },
   {
    "duration": 32,
    "start_time": "2022-11-27T04:57:43.537Z"
   },
   {
    "duration": 23,
    "start_time": "2022-11-27T04:57:43.570Z"
   },
   {
    "duration": 17,
    "start_time": "2022-11-27T04:57:43.595Z"
   },
   {
    "duration": 8,
    "start_time": "2022-11-27T04:57:43.614Z"
   },
   {
    "duration": 82,
    "start_time": "2022-11-27T04:57:43.624Z"
   },
   {
    "duration": 11,
    "start_time": "2022-11-27T04:57:43.708Z"
   },
   {
    "duration": 162,
    "start_time": "2022-11-27T04:57:43.720Z"
   },
   {
    "duration": 120,
    "start_time": "2022-11-27T04:57:43.883Z"
   },
   {
    "duration": 15,
    "start_time": "2022-11-27T04:57:44.005Z"
   },
   {
    "duration": 9,
    "start_time": "2022-11-27T04:57:44.022Z"
   },
   {
    "duration": 24,
    "start_time": "2022-11-27T04:57:44.032Z"
   },
   {
    "duration": 192,
    "start_time": "2022-11-27T04:57:44.057Z"
   },
   {
    "duration": 206,
    "start_time": "2022-11-27T04:57:44.251Z"
   },
   {
    "duration": 8,
    "start_time": "2022-11-27T04:57:44.459Z"
   },
   {
    "duration": 303,
    "start_time": "2022-11-27T04:57:44.469Z"
   },
   {
    "duration": 4,
    "start_time": "2022-11-27T04:57:44.774Z"
   },
   {
    "duration": 18,
    "start_time": "2022-11-27T04:57:44.780Z"
   },
   {
    "duration": 230,
    "start_time": "2022-11-27T04:57:44.799Z"
   },
   {
    "duration": 372,
    "start_time": "2022-11-27T04:57:45.031Z"
   },
   {
    "duration": 143,
    "start_time": "2022-11-27T04:57:45.405Z"
   },
   {
    "duration": 6,
    "start_time": "2022-11-27T04:57:45.551Z"
   },
   {
    "duration": 163,
    "start_time": "2022-11-27T04:57:45.559Z"
   },
   {
    "duration": 173,
    "start_time": "2022-11-27T04:57:45.723Z"
   },
   {
    "duration": 4,
    "start_time": "2022-11-27T04:57:45.897Z"
   },
   {
    "duration": 199,
    "start_time": "2022-11-27T04:57:45.903Z"
   },
   {
    "duration": 29,
    "start_time": "2022-11-27T04:57:46.103Z"
   },
   {
    "duration": 172,
    "start_time": "2022-11-27T04:57:46.134Z"
   },
   {
    "duration": 7,
    "start_time": "2022-11-27T04:57:46.307Z"
   },
   {
    "duration": 50,
    "start_time": "2022-11-27T04:57:46.315Z"
   },
   {
    "duration": 13,
    "start_time": "2022-11-27T04:57:46.366Z"
   },
   {
    "duration": 15,
    "start_time": "2022-11-27T04:57:46.381Z"
   },
   {
    "duration": 12,
    "start_time": "2022-11-27T04:57:46.398Z"
   },
   {
    "duration": 37,
    "start_time": "2022-11-27T04:57:46.411Z"
   },
   {
    "duration": 14,
    "start_time": "2022-11-27T04:57:46.455Z"
   },
   {
    "duration": 32,
    "start_time": "2022-11-27T04:59:02.267Z"
   },
   {
    "duration": 4,
    "start_time": "2022-11-27T04:59:15.444Z"
   },
   {
    "duration": 36,
    "start_time": "2022-11-27T04:59:15.450Z"
   },
   {
    "duration": 4,
    "start_time": "2022-11-27T04:59:20.659Z"
   },
   {
    "duration": 42,
    "start_time": "2022-11-27T04:59:20.665Z"
   },
   {
    "duration": 11,
    "start_time": "2022-11-27T04:59:20.709Z"
   },
   {
    "duration": 15,
    "start_time": "2022-11-27T04:59:20.721Z"
   },
   {
    "duration": 21,
    "start_time": "2022-11-27T04:59:20.739Z"
   },
   {
    "duration": 59,
    "start_time": "2022-11-27T04:59:20.762Z"
   },
   {
    "duration": 20,
    "start_time": "2022-11-27T04:59:20.824Z"
   },
   {
    "duration": 7,
    "start_time": "2022-11-27T04:59:20.846Z"
   },
   {
    "duration": 11,
    "start_time": "2022-11-27T04:59:20.855Z"
   },
   {
    "duration": 25,
    "start_time": "2022-11-27T04:59:20.868Z"
   },
   {
    "duration": 18,
    "start_time": "2022-11-27T04:59:20.896Z"
   },
   {
    "duration": 13,
    "start_time": "2022-11-27T04:59:20.916Z"
   },
   {
    "duration": 30,
    "start_time": "2022-11-27T04:59:20.931Z"
   },
   {
    "duration": 12,
    "start_time": "2022-11-27T04:59:20.963Z"
   },
   {
    "duration": 178,
    "start_time": "2022-11-27T04:59:20.977Z"
   },
   {
    "duration": 127,
    "start_time": "2022-11-27T04:59:21.156Z"
   },
   {
    "duration": 12,
    "start_time": "2022-11-27T04:59:21.284Z"
   },
   {
    "duration": 8,
    "start_time": "2022-11-27T04:59:21.298Z"
   },
   {
    "duration": 7,
    "start_time": "2022-11-27T04:59:21.307Z"
   },
   {
    "duration": 201,
    "start_time": "2022-11-27T04:59:21.316Z"
   },
   {
    "duration": 201,
    "start_time": "2022-11-27T04:59:21.518Z"
   },
   {
    "duration": 7,
    "start_time": "2022-11-27T04:59:21.721Z"
   },
   {
    "duration": 321,
    "start_time": "2022-11-27T04:59:21.729Z"
   },
   {
    "duration": 5,
    "start_time": "2022-11-27T04:59:22.055Z"
   },
   {
    "duration": 7,
    "start_time": "2022-11-27T04:59:22.062Z"
   },
   {
    "duration": 218,
    "start_time": "2022-11-27T04:59:22.071Z"
   },
   {
    "duration": 286,
    "start_time": "2022-11-27T04:59:22.291Z"
   },
   {
    "duration": 148,
    "start_time": "2022-11-27T04:59:22.579Z"
   },
   {
    "duration": 5,
    "start_time": "2022-11-27T04:59:22.731Z"
   },
   {
    "duration": 176,
    "start_time": "2022-11-27T04:59:22.738Z"
   },
   {
    "duration": 247,
    "start_time": "2022-11-27T04:59:22.916Z"
   },
   {
    "duration": 6,
    "start_time": "2022-11-27T04:59:23.164Z"
   },
   {
    "duration": 220,
    "start_time": "2022-11-27T04:59:23.171Z"
   },
   {
    "duration": 26,
    "start_time": "2022-11-27T04:59:23.393Z"
   },
   {
    "duration": 158,
    "start_time": "2022-11-27T04:59:23.421Z"
   },
   {
    "duration": 6,
    "start_time": "2022-11-27T04:59:23.580Z"
   },
   {
    "duration": 24,
    "start_time": "2022-11-27T04:59:23.588Z"
   },
   {
    "duration": 15,
    "start_time": "2022-11-27T04:59:23.614Z"
   },
   {
    "duration": 33,
    "start_time": "2022-11-27T04:59:23.631Z"
   },
   {
    "duration": 9,
    "start_time": "2022-11-27T04:59:23.667Z"
   },
   {
    "duration": 46,
    "start_time": "2022-11-27T04:59:23.679Z"
   },
   {
    "duration": 37,
    "start_time": "2022-11-27T04:59:23.728Z"
   },
   {
    "duration": 14,
    "start_time": "2022-11-27T05:01:35.349Z"
   },
   {
    "duration": 11,
    "start_time": "2022-11-27T05:01:56.492Z"
   },
   {
    "duration": 3,
    "start_time": "2022-11-27T05:03:35.632Z"
   },
   {
    "duration": 35,
    "start_time": "2022-11-27T05:03:35.637Z"
   },
   {
    "duration": 11,
    "start_time": "2022-11-27T05:03:35.673Z"
   },
   {
    "duration": 11,
    "start_time": "2022-11-27T05:03:35.686Z"
   },
   {
    "duration": 12,
    "start_time": "2022-11-27T05:03:35.700Z"
   },
   {
    "duration": 54,
    "start_time": "2022-11-27T05:03:35.714Z"
   },
   {
    "duration": 16,
    "start_time": "2022-11-27T05:03:35.770Z"
   },
   {
    "duration": 4,
    "start_time": "2022-11-27T05:03:35.788Z"
   },
   {
    "duration": 8,
    "start_time": "2022-11-27T05:03:35.794Z"
   },
   {
    "duration": 19,
    "start_time": "2022-11-27T05:03:35.803Z"
   },
   {
    "duration": 37,
    "start_time": "2022-11-27T05:03:35.826Z"
   },
   {
    "duration": 5,
    "start_time": "2022-11-27T05:03:35.865Z"
   },
   {
    "duration": 13,
    "start_time": "2022-11-27T05:03:35.872Z"
   },
   {
    "duration": 7,
    "start_time": "2022-11-27T05:03:35.886Z"
   },
   {
    "duration": 182,
    "start_time": "2022-11-27T05:03:35.895Z"
   },
   {
    "duration": 125,
    "start_time": "2022-11-27T05:03:36.079Z"
   },
   {
    "duration": 14,
    "start_time": "2022-11-27T05:03:36.206Z"
   },
   {
    "duration": 8,
    "start_time": "2022-11-27T05:03:36.222Z"
   },
   {
    "duration": 24,
    "start_time": "2022-11-27T05:03:36.231Z"
   },
   {
    "duration": 203,
    "start_time": "2022-11-27T05:03:36.257Z"
   },
   {
    "duration": 216,
    "start_time": "2022-11-27T05:03:36.462Z"
   },
   {
    "duration": 9,
    "start_time": "2022-11-27T05:03:36.680Z"
   },
   {
    "duration": 309,
    "start_time": "2022-11-27T05:03:36.691Z"
   },
   {
    "duration": 4,
    "start_time": "2022-11-27T05:03:37.002Z"
   },
   {
    "duration": 8,
    "start_time": "2022-11-27T05:03:37.008Z"
   },
   {
    "duration": 225,
    "start_time": "2022-11-27T05:03:37.018Z"
   },
   {
    "duration": 333,
    "start_time": "2022-11-27T05:03:37.245Z"
   },
   {
    "duration": 146,
    "start_time": "2022-11-27T05:03:37.580Z"
   },
   {
    "duration": 4,
    "start_time": "2022-11-27T05:03:37.729Z"
   },
   {
    "duration": 171,
    "start_time": "2022-11-27T05:03:37.735Z"
   },
   {
    "duration": 171,
    "start_time": "2022-11-27T05:03:37.908Z"
   },
   {
    "duration": 4,
    "start_time": "2022-11-27T05:03:38.081Z"
   },
   {
    "duration": 213,
    "start_time": "2022-11-27T05:03:38.087Z"
   },
   {
    "duration": 26,
    "start_time": "2022-11-27T05:03:38.302Z"
   },
   {
    "duration": 150,
    "start_time": "2022-11-27T05:03:38.329Z"
   },
   {
    "duration": 7,
    "start_time": "2022-11-27T05:03:38.480Z"
   },
   {
    "duration": 32,
    "start_time": "2022-11-27T05:03:38.489Z"
   },
   {
    "duration": 33,
    "start_time": "2022-11-27T05:03:38.523Z"
   },
   {
    "duration": 12,
    "start_time": "2022-11-27T05:03:38.558Z"
   },
   {
    "duration": 8,
    "start_time": "2022-11-27T05:03:38.571Z"
   },
   {
    "duration": 29,
    "start_time": "2022-11-27T05:03:38.581Z"
   },
   {
    "duration": 14,
    "start_time": "2022-11-27T05:03:38.612Z"
   },
   {
    "duration": 24,
    "start_time": "2022-11-27T05:10:27.844Z"
   },
   {
    "duration": 5,
    "start_time": "2022-11-27T05:30:43.845Z"
   },
   {
    "duration": 14,
    "start_time": "2022-11-27T05:30:51.825Z"
   },
   {
    "duration": 8,
    "start_time": "2022-11-27T05:31:07.736Z"
   },
   {
    "duration": 22,
    "start_time": "2022-11-27T05:31:13.905Z"
   },
   {
    "duration": 22,
    "start_time": "2022-11-27T05:31:22.684Z"
   },
   {
    "duration": 13,
    "start_time": "2022-11-27T05:31:31.084Z"
   },
   {
    "duration": 4,
    "start_time": "2022-11-27T05:31:56.680Z"
   },
   {
    "duration": 46,
    "start_time": "2022-11-27T05:31:56.686Z"
   },
   {
    "duration": 11,
    "start_time": "2022-11-27T05:31:56.735Z"
   },
   {
    "duration": 17,
    "start_time": "2022-11-27T05:31:56.747Z"
   },
   {
    "duration": 12,
    "start_time": "2022-11-27T05:31:56.766Z"
   },
   {
    "duration": 52,
    "start_time": "2022-11-27T05:31:56.780Z"
   },
   {
    "duration": 17,
    "start_time": "2022-11-27T05:31:56.834Z"
   },
   {
    "duration": 10,
    "start_time": "2022-11-27T05:31:56.853Z"
   },
   {
    "duration": 15,
    "start_time": "2022-11-27T05:31:56.864Z"
   },
   {
    "duration": 23,
    "start_time": "2022-11-27T05:31:56.881Z"
   },
   {
    "duration": 16,
    "start_time": "2022-11-27T05:31:56.907Z"
   },
   {
    "duration": 4,
    "start_time": "2022-11-27T05:31:56.925Z"
   },
   {
    "duration": 25,
    "start_time": "2022-11-27T05:31:56.931Z"
   },
   {
    "duration": 12,
    "start_time": "2022-11-27T05:31:56.958Z"
   },
   {
    "duration": 161,
    "start_time": "2022-11-27T05:31:56.972Z"
   },
   {
    "duration": 120,
    "start_time": "2022-11-27T05:31:57.135Z"
   },
   {
    "duration": 12,
    "start_time": "2022-11-27T05:31:57.256Z"
   },
   {
    "duration": 9,
    "start_time": "2022-11-27T05:31:57.270Z"
   },
   {
    "duration": 10,
    "start_time": "2022-11-27T05:31:57.281Z"
   },
   {
    "duration": 287,
    "start_time": "2022-11-27T05:31:57.293Z"
   },
   {
    "duration": 185,
    "start_time": "2022-11-27T05:31:57.582Z"
   },
   {
    "duration": 6,
    "start_time": "2022-11-27T05:31:57.769Z"
   },
   {
    "duration": 297,
    "start_time": "2022-11-27T05:31:57.777Z"
   },
   {
    "duration": 4,
    "start_time": "2022-11-27T05:31:58.076Z"
   },
   {
    "duration": 7,
    "start_time": "2022-11-27T05:31:58.082Z"
   },
   {
    "duration": 222,
    "start_time": "2022-11-27T05:31:58.090Z"
   },
   {
    "duration": 301,
    "start_time": "2022-11-27T05:31:58.314Z"
   },
   {
    "duration": 154,
    "start_time": "2022-11-27T05:31:58.617Z"
   },
   {
    "duration": 4,
    "start_time": "2022-11-27T05:31:58.775Z"
   },
   {
    "duration": 175,
    "start_time": "2022-11-27T05:31:58.781Z"
   },
   {
    "duration": 208,
    "start_time": "2022-11-27T05:31:58.958Z"
   },
   {
    "duration": 5,
    "start_time": "2022-11-27T05:31:59.168Z"
   },
   {
    "duration": 216,
    "start_time": "2022-11-27T05:31:59.174Z"
   },
   {
    "duration": 27,
    "start_time": "2022-11-27T05:31:59.391Z"
   },
   {
    "duration": 158,
    "start_time": "2022-11-27T05:31:59.420Z"
   },
   {
    "duration": 6,
    "start_time": "2022-11-27T05:31:59.580Z"
   },
   {
    "duration": 28,
    "start_time": "2022-11-27T05:31:59.588Z"
   },
   {
    "duration": 37,
    "start_time": "2022-11-27T05:31:59.618Z"
   },
   {
    "duration": 10,
    "start_time": "2022-11-27T05:31:59.657Z"
   },
   {
    "duration": 9,
    "start_time": "2022-11-27T05:31:59.669Z"
   },
   {
    "duration": 32,
    "start_time": "2022-11-27T05:31:59.679Z"
   },
   {
    "duration": 16,
    "start_time": "2022-11-27T05:31:59.713Z"
   },
   {
    "duration": 20,
    "start_time": "2022-11-27T05:36:37.397Z"
   },
   {
    "duration": 26,
    "start_time": "2022-11-27T05:36:42.273Z"
   },
   {
    "duration": 23,
    "start_time": "2022-11-27T05:37:20.585Z"
   },
   {
    "duration": 22,
    "start_time": "2022-11-27T05:37:29.110Z"
   },
   {
    "duration": 21,
    "start_time": "2022-11-27T05:37:36.230Z"
   },
   {
    "duration": 20,
    "start_time": "2022-11-27T05:37:56.625Z"
   },
   {
    "duration": 14,
    "start_time": "2022-11-27T05:38:15.109Z"
   },
   {
    "duration": 12,
    "start_time": "2022-11-27T05:38:27.861Z"
   },
   {
    "duration": 13,
    "start_time": "2022-11-27T05:38:32.049Z"
   },
   {
    "duration": 5,
    "start_time": "2022-11-27T05:38:49.421Z"
   },
   {
    "duration": 8,
    "start_time": "2022-11-27T05:39:34.705Z"
   },
   {
    "duration": 7,
    "start_time": "2022-11-27T05:39:43.317Z"
   },
   {
    "duration": 3,
    "start_time": "2022-11-27T05:39:47.729Z"
   },
   {
    "duration": 37,
    "start_time": "2022-11-27T05:39:47.735Z"
   },
   {
    "duration": 12,
    "start_time": "2022-11-27T05:39:47.774Z"
   },
   {
    "duration": 15,
    "start_time": "2022-11-27T05:39:47.788Z"
   },
   {
    "duration": 16,
    "start_time": "2022-11-27T05:39:47.805Z"
   },
   {
    "duration": 56,
    "start_time": "2022-11-27T05:39:47.822Z"
   },
   {
    "duration": 18,
    "start_time": "2022-11-27T05:39:47.880Z"
   },
   {
    "duration": 5,
    "start_time": "2022-11-27T05:39:47.900Z"
   },
   {
    "duration": 12,
    "start_time": "2022-11-27T05:39:47.907Z"
   },
   {
    "duration": 20,
    "start_time": "2022-11-27T05:39:47.920Z"
   },
   {
    "duration": 17,
    "start_time": "2022-11-27T05:39:47.956Z"
   },
   {
    "duration": 5,
    "start_time": "2022-11-27T05:39:47.975Z"
   },
   {
    "duration": 15,
    "start_time": "2022-11-27T05:39:47.982Z"
   },
   {
    "duration": 8,
    "start_time": "2022-11-27T05:39:47.999Z"
   },
   {
    "duration": 208,
    "start_time": "2022-11-27T05:39:48.008Z"
   },
   {
    "duration": 157,
    "start_time": "2022-11-27T05:39:48.218Z"
   },
   {
    "duration": 15,
    "start_time": "2022-11-27T05:39:48.377Z"
   },
   {
    "duration": 9,
    "start_time": "2022-11-27T05:39:48.394Z"
   },
   {
    "duration": 9,
    "start_time": "2022-11-27T05:39:48.405Z"
   },
   {
    "duration": 10,
    "start_time": "2022-11-27T05:39:48.415Z"
   },
   {
    "duration": 31,
    "start_time": "2022-11-27T05:39:48.427Z"
   },
   {
    "duration": 7,
    "start_time": "2022-11-27T05:39:48.461Z"
   },
   {
    "duration": 233,
    "start_time": "2022-11-27T05:39:48.470Z"
   },
   {
    "duration": 221,
    "start_time": "2022-11-27T05:39:48.706Z"
   },
   {
    "duration": 7,
    "start_time": "2022-11-27T05:39:48.929Z"
   },
   {
    "duration": 342,
    "start_time": "2022-11-27T05:39:48.938Z"
   },
   {
    "duration": 5,
    "start_time": "2022-11-27T05:39:49.282Z"
   },
   {
    "duration": 12,
    "start_time": "2022-11-27T05:39:49.289Z"
   },
   {
    "duration": 329,
    "start_time": "2022-11-27T05:39:49.304Z"
   },
   {
    "duration": 330,
    "start_time": "2022-11-27T05:39:49.635Z"
   },
   {
    "duration": 174,
    "start_time": "2022-11-27T05:39:49.967Z"
   },
   {
    "duration": 5,
    "start_time": "2022-11-27T05:39:50.143Z"
   },
   {
    "duration": 184,
    "start_time": "2022-11-27T05:39:50.156Z"
   },
   {
    "duration": 181,
    "start_time": "2022-11-27T05:39:50.342Z"
   },
   {
    "duration": 6,
    "start_time": "2022-11-27T05:39:50.525Z"
   },
   {
    "duration": 233,
    "start_time": "2022-11-27T05:39:50.533Z"
   },
   {
    "duration": 32,
    "start_time": "2022-11-27T05:39:50.768Z"
   },
   {
    "duration": 220,
    "start_time": "2022-11-27T05:39:50.802Z"
   },
   {
    "duration": 7,
    "start_time": "2022-11-27T05:39:51.024Z"
   },
   {
    "duration": 43,
    "start_time": "2022-11-27T05:39:51.033Z"
   },
   {
    "duration": 12,
    "start_time": "2022-11-27T05:39:51.078Z"
   },
   {
    "duration": 13,
    "start_time": "2022-11-27T05:39:51.091Z"
   },
   {
    "duration": 11,
    "start_time": "2022-11-27T05:39:51.105Z"
   },
   {
    "duration": 48,
    "start_time": "2022-11-27T05:39:51.118Z"
   },
   {
    "duration": 15,
    "start_time": "2022-11-27T05:39:51.168Z"
   },
   {
    "duration": 7,
    "start_time": "2022-11-27T05:41:16.293Z"
   },
   {
    "duration": 10,
    "start_time": "2022-11-27T05:41:49.673Z"
   },
   {
    "duration": 5,
    "start_time": "2022-11-27T05:42:43.645Z"
   },
   {
    "duration": 8,
    "start_time": "2022-11-27T05:45:16.267Z"
   },
   {
    "duration": 8,
    "start_time": "2022-11-27T05:45:21.167Z"
   },
   {
    "duration": 5,
    "start_time": "2022-11-27T05:45:25.613Z"
   },
   {
    "duration": 8,
    "start_time": "2022-11-27T05:47:01.267Z"
   },
   {
    "duration": 7,
    "start_time": "2022-11-27T05:48:05.662Z"
   },
   {
    "duration": 12,
    "start_time": "2022-11-27T05:48:12.950Z"
   },
   {
    "duration": 5,
    "start_time": "2022-11-27T05:49:20.570Z"
   },
   {
    "duration": 3,
    "start_time": "2022-11-27T05:49:48.668Z"
   },
   {
    "duration": 36,
    "start_time": "2022-11-27T05:49:48.673Z"
   },
   {
    "duration": 11,
    "start_time": "2022-11-27T05:49:48.711Z"
   },
   {
    "duration": 22,
    "start_time": "2022-11-27T05:49:48.725Z"
   },
   {
    "duration": 15,
    "start_time": "2022-11-27T05:49:48.756Z"
   },
   {
    "duration": 54,
    "start_time": "2022-11-27T05:49:48.772Z"
   },
   {
    "duration": 17,
    "start_time": "2022-11-27T05:49:48.828Z"
   },
   {
    "duration": 5,
    "start_time": "2022-11-27T05:49:48.847Z"
   },
   {
    "duration": 25,
    "start_time": "2022-11-27T05:49:48.854Z"
   },
   {
    "duration": 22,
    "start_time": "2022-11-27T05:49:48.881Z"
   },
   {
    "duration": 16,
    "start_time": "2022-11-27T05:49:48.907Z"
   },
   {
    "duration": 6,
    "start_time": "2022-11-27T05:49:48.925Z"
   },
   {
    "duration": 36,
    "start_time": "2022-11-27T05:49:48.933Z"
   },
   {
    "duration": 13,
    "start_time": "2022-11-27T05:49:48.971Z"
   },
   {
    "duration": 196,
    "start_time": "2022-11-27T05:49:48.986Z"
   },
   {
    "duration": 142,
    "start_time": "2022-11-27T05:49:49.184Z"
   },
   {
    "duration": 13,
    "start_time": "2022-11-27T05:49:49.328Z"
   },
   {
    "duration": 9,
    "start_time": "2022-11-27T05:49:49.358Z"
   },
   {
    "duration": 10,
    "start_time": "2022-11-27T05:49:49.369Z"
   },
   {
    "duration": 7,
    "start_time": "2022-11-27T05:49:49.381Z"
   },
   {
    "duration": 5,
    "start_time": "2022-11-27T05:49:49.390Z"
   },
   {
    "duration": 9,
    "start_time": "2022-11-27T05:49:49.397Z"
   },
   {
    "duration": 8,
    "start_time": "2022-11-27T05:49:49.407Z"
   },
   {
    "duration": 7,
    "start_time": "2022-11-27T05:49:49.416Z"
   },
   {
    "duration": 245,
    "start_time": "2022-11-27T05:49:49.425Z"
   },
   {
    "duration": 213,
    "start_time": "2022-11-27T05:49:49.671Z"
   },
   {
    "duration": 7,
    "start_time": "2022-11-27T05:49:49.885Z"
   },
   {
    "duration": 303,
    "start_time": "2022-11-27T05:49:49.893Z"
   },
   {
    "duration": 4,
    "start_time": "2022-11-27T05:49:50.200Z"
   },
   {
    "duration": 9,
    "start_time": "2022-11-27T05:49:50.206Z"
   },
   {
    "duration": 234,
    "start_time": "2022-11-27T05:49:50.217Z"
   },
   {
    "duration": 324,
    "start_time": "2022-11-27T05:49:50.456Z"
   },
   {
    "duration": 250,
    "start_time": "2022-11-27T05:49:50.782Z"
   },
   {
    "duration": 5,
    "start_time": "2022-11-27T05:49:51.034Z"
   },
   {
    "duration": 188,
    "start_time": "2022-11-27T05:49:51.041Z"
   },
   {
    "duration": 193,
    "start_time": "2022-11-27T05:49:51.231Z"
   },
   {
    "duration": 6,
    "start_time": "2022-11-27T05:49:51.426Z"
   },
   {
    "duration": 254,
    "start_time": "2022-11-27T05:49:51.434Z"
   },
   {
    "duration": 29,
    "start_time": "2022-11-27T05:49:51.690Z"
   },
   {
    "duration": 208,
    "start_time": "2022-11-27T05:49:51.721Z"
   },
   {
    "duration": 7,
    "start_time": "2022-11-27T05:49:51.931Z"
   },
   {
    "duration": 46,
    "start_time": "2022-11-27T05:49:51.939Z"
   },
   {
    "duration": 25,
    "start_time": "2022-11-27T05:49:51.987Z"
   },
   {
    "duration": 9,
    "start_time": "2022-11-27T05:49:52.014Z"
   },
   {
    "duration": 12,
    "start_time": "2022-11-27T05:49:52.025Z"
   },
   {
    "duration": 43,
    "start_time": "2022-11-27T05:49:52.055Z"
   },
   {
    "duration": 15,
    "start_time": "2022-11-27T05:49:52.100Z"
   },
   {
    "duration": 49,
    "start_time": "2022-11-27T05:59:01.209Z"
   },
   {
    "duration": 225,
    "start_time": "2022-11-27T05:59:07.677Z"
   },
   {
    "duration": 190,
    "start_time": "2022-11-27T05:59:19.421Z"
   },
   {
    "duration": 3,
    "start_time": "2022-11-27T06:00:28.408Z"
   },
   {
    "duration": 42,
    "start_time": "2022-11-27T06:00:28.413Z"
   },
   {
    "duration": 35,
    "start_time": "2022-11-27T06:00:28.457Z"
   },
   {
    "duration": 14,
    "start_time": "2022-11-27T06:00:28.494Z"
   },
   {
    "duration": 15,
    "start_time": "2022-11-27T06:00:28.510Z"
   },
   {
    "duration": 66,
    "start_time": "2022-11-27T06:00:28.527Z"
   },
   {
    "duration": 20,
    "start_time": "2022-11-27T06:00:28.594Z"
   },
   {
    "duration": 8,
    "start_time": "2022-11-27T06:00:28.615Z"
   },
   {
    "duration": 9,
    "start_time": "2022-11-27T06:00:28.625Z"
   },
   {
    "duration": 21,
    "start_time": "2022-11-27T06:00:28.635Z"
   },
   {
    "duration": 45,
    "start_time": "2022-11-27T06:00:28.659Z"
   },
   {
    "duration": 11,
    "start_time": "2022-11-27T06:00:28.706Z"
   },
   {
    "duration": 19,
    "start_time": "2022-11-27T06:00:28.719Z"
   },
   {
    "duration": 12,
    "start_time": "2022-11-27T06:00:28.740Z"
   },
   {
    "duration": 197,
    "start_time": "2022-11-27T06:00:28.753Z"
   },
   {
    "duration": 145,
    "start_time": "2022-11-27T06:00:28.951Z"
   },
   {
    "duration": 13,
    "start_time": "2022-11-27T06:00:29.097Z"
   },
   {
    "duration": 9,
    "start_time": "2022-11-27T06:00:29.112Z"
   },
   {
    "duration": 7,
    "start_time": "2022-11-27T06:00:29.123Z"
   },
   {
    "duration": 24,
    "start_time": "2022-11-27T06:00:29.132Z"
   },
   {
    "duration": 5,
    "start_time": "2022-11-27T06:00:29.158Z"
   },
   {
    "duration": 28,
    "start_time": "2022-11-27T06:00:29.166Z"
   },
   {
    "duration": 6,
    "start_time": "2022-11-27T06:00:29.196Z"
   },
   {
    "duration": 10,
    "start_time": "2022-11-27T06:00:29.203Z"
   },
   {
    "duration": 206,
    "start_time": "2022-11-27T06:00:29.214Z"
   },
   {
    "duration": 0,
    "start_time": "2022-11-27T06:00:29.423Z"
   },
   {
    "duration": 0,
    "start_time": "2022-11-27T06:00:29.425Z"
   },
   {
    "duration": 0,
    "start_time": "2022-11-27T06:00:29.426Z"
   },
   {
    "duration": 0,
    "start_time": "2022-11-27T06:00:29.428Z"
   },
   {
    "duration": 0,
    "start_time": "2022-11-27T06:00:29.430Z"
   },
   {
    "duration": 0,
    "start_time": "2022-11-27T06:00:29.431Z"
   },
   {
    "duration": 0,
    "start_time": "2022-11-27T06:00:29.432Z"
   },
   {
    "duration": 0,
    "start_time": "2022-11-27T06:00:29.433Z"
   },
   {
    "duration": 0,
    "start_time": "2022-11-27T06:00:29.434Z"
   },
   {
    "duration": 0,
    "start_time": "2022-11-27T06:00:29.456Z"
   },
   {
    "duration": 0,
    "start_time": "2022-11-27T06:00:29.457Z"
   },
   {
    "duration": 0,
    "start_time": "2022-11-27T06:00:29.458Z"
   },
   {
    "duration": 0,
    "start_time": "2022-11-27T06:00:29.461Z"
   },
   {
    "duration": 0,
    "start_time": "2022-11-27T06:00:29.461Z"
   },
   {
    "duration": 0,
    "start_time": "2022-11-27T06:00:29.463Z"
   },
   {
    "duration": 0,
    "start_time": "2022-11-27T06:00:29.464Z"
   },
   {
    "duration": 0,
    "start_time": "2022-11-27T06:00:29.466Z"
   },
   {
    "duration": 0,
    "start_time": "2022-11-27T06:00:29.467Z"
   },
   {
    "duration": 0,
    "start_time": "2022-11-27T06:00:29.468Z"
   },
   {
    "duration": 0,
    "start_time": "2022-11-27T06:00:29.469Z"
   },
   {
    "duration": 0,
    "start_time": "2022-11-27T06:00:29.471Z"
   },
   {
    "duration": 0,
    "start_time": "2022-11-27T06:00:29.473Z"
   },
   {
    "duration": 209,
    "start_time": "2022-11-27T06:02:11.681Z"
   },
   {
    "duration": 209,
    "start_time": "2022-11-27T06:02:45.996Z"
   },
   {
    "duration": 206,
    "start_time": "2022-11-27T06:02:59.591Z"
   },
   {
    "duration": 188,
    "start_time": "2022-11-27T06:03:08.740Z"
   },
   {
    "duration": 214,
    "start_time": "2022-11-27T06:04:46.380Z"
   },
   {
    "duration": 295,
    "start_time": "2022-11-27T06:06:00.112Z"
   },
   {
    "duration": 203,
    "start_time": "2022-11-27T06:06:54.640Z"
   },
   {
    "duration": 211,
    "start_time": "2022-11-27T06:07:11.667Z"
   },
   {
    "duration": 50,
    "start_time": "2022-11-27T06:18:02.911Z"
   },
   {
    "duration": 41,
    "start_time": "2022-11-27T06:18:07.991Z"
   },
   {
    "duration": 3,
    "start_time": "2022-11-27T06:18:38.019Z"
   },
   {
    "duration": 51,
    "start_time": "2022-11-27T06:18:38.024Z"
   },
   {
    "duration": 15,
    "start_time": "2022-11-27T06:18:38.081Z"
   },
   {
    "duration": 13,
    "start_time": "2022-11-27T06:18:38.097Z"
   },
   {
    "duration": 12,
    "start_time": "2022-11-27T06:18:38.112Z"
   },
   {
    "duration": 73,
    "start_time": "2022-11-27T06:18:38.125Z"
   },
   {
    "duration": 20,
    "start_time": "2022-11-27T06:18:38.200Z"
   },
   {
    "duration": 7,
    "start_time": "2022-11-27T06:18:38.221Z"
   },
   {
    "duration": 13,
    "start_time": "2022-11-27T06:18:38.230Z"
   },
   {
    "duration": 33,
    "start_time": "2022-11-27T06:18:38.245Z"
   },
   {
    "duration": 25,
    "start_time": "2022-11-27T06:18:38.286Z"
   },
   {
    "duration": 9,
    "start_time": "2022-11-27T06:18:38.313Z"
   },
   {
    "duration": 25,
    "start_time": "2022-11-27T06:18:38.324Z"
   },
   {
    "duration": 38,
    "start_time": "2022-11-27T06:18:38.351Z"
   },
   {
    "duration": 194,
    "start_time": "2022-11-27T06:18:38.391Z"
   },
   {
    "duration": 130,
    "start_time": "2022-11-27T06:18:38.589Z"
   },
   {
    "duration": 14,
    "start_time": "2022-11-27T06:18:38.721Z"
   },
   {
    "duration": 28,
    "start_time": "2022-11-27T06:18:38.737Z"
   },
   {
    "duration": 30,
    "start_time": "2022-11-27T06:18:38.766Z"
   },
   {
    "duration": 8,
    "start_time": "2022-11-27T06:18:38.797Z"
   },
   {
    "duration": 14,
    "start_time": "2022-11-27T06:18:38.807Z"
   },
   {
    "duration": 15,
    "start_time": "2022-11-27T06:18:38.822Z"
   },
   {
    "duration": 8,
    "start_time": "2022-11-27T06:18:38.839Z"
   },
   {
    "duration": 40,
    "start_time": "2022-11-27T06:18:38.848Z"
   },
   {
    "duration": 222,
    "start_time": "2022-11-27T06:18:38.890Z"
   },
   {
    "duration": 0,
    "start_time": "2022-11-27T06:18:39.114Z"
   },
   {
    "duration": 0,
    "start_time": "2022-11-27T06:18:39.115Z"
   },
   {
    "duration": 0,
    "start_time": "2022-11-27T06:18:39.116Z"
   },
   {
    "duration": 0,
    "start_time": "2022-11-27T06:18:39.118Z"
   },
   {
    "duration": 0,
    "start_time": "2022-11-27T06:18:39.119Z"
   },
   {
    "duration": 0,
    "start_time": "2022-11-27T06:18:39.119Z"
   },
   {
    "duration": 0,
    "start_time": "2022-11-27T06:18:39.120Z"
   },
   {
    "duration": 0,
    "start_time": "2022-11-27T06:18:39.122Z"
   },
   {
    "duration": 0,
    "start_time": "2022-11-27T06:18:39.123Z"
   },
   {
    "duration": 0,
    "start_time": "2022-11-27T06:18:39.124Z"
   },
   {
    "duration": 0,
    "start_time": "2022-11-27T06:18:39.125Z"
   },
   {
    "duration": 0,
    "start_time": "2022-11-27T06:18:39.126Z"
   },
   {
    "duration": 0,
    "start_time": "2022-11-27T06:18:39.127Z"
   },
   {
    "duration": 0,
    "start_time": "2022-11-27T06:18:39.128Z"
   },
   {
    "duration": 0,
    "start_time": "2022-11-27T06:18:39.161Z"
   },
   {
    "duration": 0,
    "start_time": "2022-11-27T06:18:39.162Z"
   },
   {
    "duration": 0,
    "start_time": "2022-11-27T06:18:39.163Z"
   },
   {
    "duration": 0,
    "start_time": "2022-11-27T06:18:39.164Z"
   },
   {
    "duration": 0,
    "start_time": "2022-11-27T06:18:39.164Z"
   },
   {
    "duration": 0,
    "start_time": "2022-11-27T06:18:39.165Z"
   },
   {
    "duration": 0,
    "start_time": "2022-11-27T06:18:39.165Z"
   },
   {
    "duration": 0,
    "start_time": "2022-11-27T06:18:39.166Z"
   },
   {
    "duration": 3,
    "start_time": "2022-11-27T06:18:58.703Z"
   },
   {
    "duration": 41,
    "start_time": "2022-11-27T06:18:58.709Z"
   },
   {
    "duration": 15,
    "start_time": "2022-11-27T06:18:58.753Z"
   },
   {
    "duration": 39,
    "start_time": "2022-11-27T06:18:58.770Z"
   },
   {
    "duration": 16,
    "start_time": "2022-11-27T06:18:58.812Z"
   },
   {
    "duration": 73,
    "start_time": "2022-11-27T06:18:58.829Z"
   },
   {
    "duration": 17,
    "start_time": "2022-11-27T06:18:58.904Z"
   },
   {
    "duration": 20,
    "start_time": "2022-11-27T06:18:58.923Z"
   },
   {
    "duration": 52,
    "start_time": "2022-11-27T06:18:58.945Z"
   },
   {
    "duration": 31,
    "start_time": "2022-11-27T06:18:58.999Z"
   },
   {
    "duration": 35,
    "start_time": "2022-11-27T06:18:59.033Z"
   },
   {
    "duration": 25,
    "start_time": "2022-11-27T06:18:59.070Z"
   },
   {
    "duration": 15,
    "start_time": "2022-11-27T06:18:59.096Z"
   },
   {
    "duration": 9,
    "start_time": "2022-11-27T06:18:59.113Z"
   },
   {
    "duration": 176,
    "start_time": "2022-11-27T06:18:59.123Z"
   },
   {
    "duration": 137,
    "start_time": "2022-11-27T06:18:59.300Z"
   },
   {
    "duration": 21,
    "start_time": "2022-11-27T06:18:59.439Z"
   },
   {
    "duration": 33,
    "start_time": "2022-11-27T06:18:59.462Z"
   },
   {
    "duration": 7,
    "start_time": "2022-11-27T06:18:59.497Z"
   },
   {
    "duration": 11,
    "start_time": "2022-11-27T06:18:59.508Z"
   },
   {
    "duration": 16,
    "start_time": "2022-11-27T06:18:59.521Z"
   },
   {
    "duration": 20,
    "start_time": "2022-11-27T06:18:59.538Z"
   },
   {
    "duration": 38,
    "start_time": "2022-11-27T06:18:59.560Z"
   },
   {
    "duration": 11,
    "start_time": "2022-11-27T06:18:59.600Z"
   },
   {
    "duration": 210,
    "start_time": "2022-11-27T06:18:59.613Z"
   },
   {
    "duration": 215,
    "start_time": "2022-11-27T06:18:59.825Z"
   },
   {
    "duration": 6,
    "start_time": "2022-11-27T06:19:00.042Z"
   },
   {
    "duration": 343,
    "start_time": "2022-11-27T06:19:00.054Z"
   },
   {
    "duration": 4,
    "start_time": "2022-11-27T06:19:00.402Z"
   },
   {
    "duration": 39,
    "start_time": "2022-11-27T06:19:00.407Z"
   },
   {
    "duration": 273,
    "start_time": "2022-11-27T06:19:00.448Z"
   },
   {
    "duration": 360,
    "start_time": "2022-11-27T06:19:00.722Z"
   },
   {
    "duration": 166,
    "start_time": "2022-11-27T06:19:01.083Z"
   },
   {
    "duration": 13,
    "start_time": "2022-11-27T06:19:01.255Z"
   },
   {
    "duration": 263,
    "start_time": "2022-11-27T06:19:01.280Z"
   },
   {
    "duration": 192,
    "start_time": "2022-11-27T06:19:01.545Z"
   },
   {
    "duration": 5,
    "start_time": "2022-11-27T06:19:01.739Z"
   },
   {
    "duration": 227,
    "start_time": "2022-11-27T06:19:01.746Z"
   },
   {
    "duration": 33,
    "start_time": "2022-11-27T06:19:01.979Z"
   },
   {
    "duration": 164,
    "start_time": "2022-11-27T06:19:02.014Z"
   },
   {
    "duration": 7,
    "start_time": "2022-11-27T06:19:02.182Z"
   },
   {
    "duration": 38,
    "start_time": "2022-11-27T06:19:02.191Z"
   },
   {
    "duration": 13,
    "start_time": "2022-11-27T06:19:02.231Z"
   },
   {
    "duration": 25,
    "start_time": "2022-11-27T06:19:02.255Z"
   },
   {
    "duration": 17,
    "start_time": "2022-11-27T06:19:02.281Z"
   },
   {
    "duration": 26,
    "start_time": "2022-11-27T06:19:02.300Z"
   },
   {
    "duration": 15,
    "start_time": "2022-11-27T06:19:02.328Z"
   },
   {
    "duration": 73,
    "start_time": "2022-11-27T06:19:49.307Z"
   },
   {
    "duration": 95,
    "start_time": "2022-11-27T06:19:58.849Z"
   },
   {
    "duration": 5,
    "start_time": "2022-11-27T06:27:31.464Z"
   },
   {
    "duration": 42,
    "start_time": "2022-11-27T06:27:31.477Z"
   },
   {
    "duration": 10,
    "start_time": "2022-11-27T06:27:31.521Z"
   },
   {
    "duration": 14,
    "start_time": "2022-11-27T06:27:31.533Z"
   },
   {
    "duration": 19,
    "start_time": "2022-11-27T06:27:31.549Z"
   },
   {
    "duration": 64,
    "start_time": "2022-11-27T06:27:31.577Z"
   },
   {
    "duration": 23,
    "start_time": "2022-11-27T06:27:31.643Z"
   },
   {
    "duration": 21,
    "start_time": "2022-11-27T06:27:31.668Z"
   },
   {
    "duration": 9,
    "start_time": "2022-11-27T06:27:31.691Z"
   },
   {
    "duration": 18,
    "start_time": "2022-11-27T06:27:31.702Z"
   },
   {
    "duration": 18,
    "start_time": "2022-11-27T06:27:31.721Z"
   },
   {
    "duration": 5,
    "start_time": "2022-11-27T06:27:31.740Z"
   },
   {
    "duration": 19,
    "start_time": "2022-11-27T06:27:31.746Z"
   },
   {
    "duration": 22,
    "start_time": "2022-11-27T06:27:31.766Z"
   },
   {
    "duration": 155,
    "start_time": "2022-11-27T06:27:31.791Z"
   },
   {
    "duration": 143,
    "start_time": "2022-11-27T06:27:31.948Z"
   },
   {
    "duration": 13,
    "start_time": "2022-11-27T06:27:32.093Z"
   },
   {
    "duration": 15,
    "start_time": "2022-11-27T06:27:32.108Z"
   },
   {
    "duration": 11,
    "start_time": "2022-11-27T06:27:32.125Z"
   },
   {
    "duration": 10,
    "start_time": "2022-11-27T06:27:32.138Z"
   },
   {
    "duration": 8,
    "start_time": "2022-11-27T06:27:32.159Z"
   },
   {
    "duration": 28,
    "start_time": "2022-11-27T06:27:32.171Z"
   },
   {
    "duration": 16,
    "start_time": "2022-11-27T06:27:32.201Z"
   },
   {
    "duration": 9,
    "start_time": "2022-11-27T06:27:32.219Z"
   },
   {
    "duration": 216,
    "start_time": "2022-11-27T06:27:32.229Z"
   },
   {
    "duration": 199,
    "start_time": "2022-11-27T06:27:32.447Z"
   },
   {
    "duration": 20,
    "start_time": "2022-11-27T06:27:32.648Z"
   },
   {
    "duration": 294,
    "start_time": "2022-11-27T06:27:32.672Z"
   },
   {
    "duration": 8,
    "start_time": "2022-11-27T06:27:32.969Z"
   },
   {
    "duration": 15,
    "start_time": "2022-11-27T06:27:32.979Z"
   },
   {
    "duration": 211,
    "start_time": "2022-11-27T06:27:32.995Z"
   },
   {
    "duration": 298,
    "start_time": "2022-11-27T06:27:33.208Z"
   },
   {
    "duration": 176,
    "start_time": "2022-11-27T06:27:33.508Z"
   },
   {
    "duration": 5,
    "start_time": "2022-11-27T06:27:33.686Z"
   },
   {
    "duration": 191,
    "start_time": "2022-11-27T06:27:33.693Z"
   },
   {
    "duration": 190,
    "start_time": "2022-11-27T06:27:33.886Z"
   },
   {
    "duration": 10,
    "start_time": "2022-11-27T06:27:34.078Z"
   },
   {
    "duration": 213,
    "start_time": "2022-11-27T06:27:34.089Z"
   },
   {
    "duration": 27,
    "start_time": "2022-11-27T06:27:34.304Z"
   },
   {
    "duration": 183,
    "start_time": "2022-11-27T06:27:34.332Z"
   },
   {
    "duration": 9,
    "start_time": "2022-11-27T06:27:34.517Z"
   },
   {
    "duration": 59,
    "start_time": "2022-11-27T06:27:34.530Z"
   },
   {
    "duration": 13,
    "start_time": "2022-11-27T06:27:34.591Z"
   },
   {
    "duration": 14,
    "start_time": "2022-11-27T06:27:34.606Z"
   },
   {
    "duration": 21,
    "start_time": "2022-11-27T06:27:34.622Z"
   },
   {
    "duration": 64,
    "start_time": "2022-11-27T06:27:34.645Z"
   },
   {
    "duration": 17,
    "start_time": "2022-11-27T06:27:34.712Z"
   },
   {
    "duration": 50,
    "start_time": "2022-11-28T06:34:58.923Z"
   },
   {
    "duration": 1194,
    "start_time": "2022-11-28T06:35:27.887Z"
   },
   {
    "duration": 128,
    "start_time": "2022-11-28T06:35:29.083Z"
   },
   {
    "duration": 26,
    "start_time": "2022-11-28T06:35:29.212Z"
   },
   {
    "duration": 34,
    "start_time": "2022-11-28T06:35:29.240Z"
   },
   {
    "duration": 25,
    "start_time": "2022-11-28T06:35:29.275Z"
   },
   {
    "duration": 135,
    "start_time": "2022-11-28T06:35:29.303Z"
   },
   {
    "duration": 15,
    "start_time": "2022-11-28T06:35:29.440Z"
   },
   {
    "duration": 13,
    "start_time": "2022-11-28T06:35:29.456Z"
   },
   {
    "duration": 18,
    "start_time": "2022-11-28T06:35:29.471Z"
   },
   {
    "duration": 23,
    "start_time": "2022-11-28T06:35:29.492Z"
   },
   {
    "duration": 35,
    "start_time": "2022-11-28T06:35:29.517Z"
   },
   {
    "duration": 14,
    "start_time": "2022-11-28T06:35:29.554Z"
   },
   {
    "duration": 23,
    "start_time": "2022-11-28T06:35:29.569Z"
   },
   {
    "duration": 8,
    "start_time": "2022-11-28T06:35:29.593Z"
   },
   {
    "duration": 159,
    "start_time": "2022-11-28T06:35:29.602Z"
   },
   {
    "duration": 119,
    "start_time": "2022-11-28T06:35:29.763Z"
   },
   {
    "duration": 11,
    "start_time": "2022-11-28T06:35:29.884Z"
   },
   {
    "duration": 7,
    "start_time": "2022-11-28T06:35:29.914Z"
   },
   {
    "duration": 13,
    "start_time": "2022-11-28T06:35:29.922Z"
   },
   {
    "duration": 54,
    "start_time": "2022-11-28T06:35:29.937Z"
   },
   {
    "duration": 0,
    "start_time": "2022-11-28T06:35:29.993Z"
   },
   {
    "duration": 0,
    "start_time": "2022-11-28T06:35:29.994Z"
   },
   {
    "duration": 0,
    "start_time": "2022-11-28T06:35:29.995Z"
   },
   {
    "duration": 0,
    "start_time": "2022-11-28T06:35:29.996Z"
   },
   {
    "duration": 0,
    "start_time": "2022-11-28T06:35:30.013Z"
   },
   {
    "duration": 0,
    "start_time": "2022-11-28T06:35:30.015Z"
   },
   {
    "duration": 0,
    "start_time": "2022-11-28T06:35:30.017Z"
   },
   {
    "duration": 0,
    "start_time": "2022-11-28T06:35:30.018Z"
   },
   {
    "duration": 0,
    "start_time": "2022-11-28T06:35:30.020Z"
   },
   {
    "duration": 0,
    "start_time": "2022-11-28T06:35:30.022Z"
   },
   {
    "duration": 0,
    "start_time": "2022-11-28T06:35:30.023Z"
   },
   {
    "duration": 0,
    "start_time": "2022-11-28T06:35:30.025Z"
   },
   {
    "duration": 0,
    "start_time": "2022-11-28T06:35:30.027Z"
   },
   {
    "duration": 0,
    "start_time": "2022-11-28T06:35:30.029Z"
   },
   {
    "duration": 0,
    "start_time": "2022-11-28T06:35:30.030Z"
   },
   {
    "duration": 0,
    "start_time": "2022-11-28T06:35:30.031Z"
   },
   {
    "duration": 0,
    "start_time": "2022-11-28T06:35:30.032Z"
   },
   {
    "duration": 1,
    "start_time": "2022-11-28T06:35:30.037Z"
   },
   {
    "duration": 0,
    "start_time": "2022-11-28T06:35:30.039Z"
   },
   {
    "duration": 0,
    "start_time": "2022-11-28T06:35:30.040Z"
   },
   {
    "duration": 0,
    "start_time": "2022-11-28T06:35:30.042Z"
   },
   {
    "duration": 0,
    "start_time": "2022-11-28T06:35:30.044Z"
   },
   {
    "duration": 0,
    "start_time": "2022-11-28T06:35:30.045Z"
   },
   {
    "duration": 0,
    "start_time": "2022-11-28T06:35:30.046Z"
   },
   {
    "duration": 0,
    "start_time": "2022-11-28T06:35:30.047Z"
   },
   {
    "duration": 0,
    "start_time": "2022-11-28T06:35:30.049Z"
   },
   {
    "duration": 0,
    "start_time": "2022-11-28T06:35:30.050Z"
   },
   {
    "duration": 3,
    "start_time": "2022-11-28T06:36:59.979Z"
   },
   {
    "duration": 45,
    "start_time": "2022-11-28T06:36:59.984Z"
   },
   {
    "duration": 12,
    "start_time": "2022-11-28T06:37:00.032Z"
   },
   {
    "duration": 35,
    "start_time": "2022-11-28T06:37:00.045Z"
   },
   {
    "duration": 23,
    "start_time": "2022-11-28T06:37:00.082Z"
   },
   {
    "duration": 69,
    "start_time": "2022-11-28T06:37:00.107Z"
   },
   {
    "duration": 14,
    "start_time": "2022-11-28T06:37:00.178Z"
   },
   {
    "duration": 31,
    "start_time": "2022-11-28T06:37:00.193Z"
   },
   {
    "duration": 33,
    "start_time": "2022-11-28T06:37:00.227Z"
   },
   {
    "duration": 56,
    "start_time": "2022-11-28T06:37:00.262Z"
   },
   {
    "duration": 93,
    "start_time": "2022-11-28T06:37:00.323Z"
   },
   {
    "duration": 34,
    "start_time": "2022-11-28T06:37:00.419Z"
   },
   {
    "duration": 32,
    "start_time": "2022-11-28T06:37:00.455Z"
   },
   {
    "duration": 52,
    "start_time": "2022-11-28T06:37:00.489Z"
   },
   {
    "duration": 185,
    "start_time": "2022-11-28T06:37:00.542Z"
   },
   {
    "duration": 120,
    "start_time": "2022-11-28T06:37:00.729Z"
   },
   {
    "duration": 31,
    "start_time": "2022-11-28T06:37:00.850Z"
   },
   {
    "duration": 58,
    "start_time": "2022-11-28T06:37:00.882Z"
   },
   {
    "duration": 52,
    "start_time": "2022-11-28T06:37:00.941Z"
   },
   {
    "duration": 48,
    "start_time": "2022-11-28T06:37:00.994Z"
   },
   {
    "duration": 32,
    "start_time": "2022-11-28T06:37:01.044Z"
   },
   {
    "duration": 59,
    "start_time": "2022-11-28T06:37:01.078Z"
   },
   {
    "duration": 302,
    "start_time": "2022-11-28T06:37:01.139Z"
   },
   {
    "duration": 178,
    "start_time": "2022-11-28T06:37:01.442Z"
   },
   {
    "duration": 8,
    "start_time": "2022-11-28T06:37:01.621Z"
   },
   {
    "duration": 429,
    "start_time": "2022-11-28T06:37:01.631Z"
   },
   {
    "duration": 4,
    "start_time": "2022-11-28T06:37:02.061Z"
   },
   {
    "duration": 72,
    "start_time": "2022-11-28T06:37:02.066Z"
   },
   {
    "duration": 217,
    "start_time": "2022-11-28T06:37:02.141Z"
   },
   {
    "duration": 265,
    "start_time": "2022-11-28T06:37:02.360Z"
   },
   {
    "duration": 144,
    "start_time": "2022-11-28T06:37:02.628Z"
   },
   {
    "duration": 5,
    "start_time": "2022-11-28T06:37:02.774Z"
   },
   {
    "duration": 186,
    "start_time": "2022-11-28T06:37:02.780Z"
   },
   {
    "duration": 177,
    "start_time": "2022-11-28T06:37:02.968Z"
   },
   {
    "duration": 4,
    "start_time": "2022-11-28T06:37:03.147Z"
   },
   {
    "duration": 224,
    "start_time": "2022-11-28T06:37:03.152Z"
   },
   {
    "duration": 26,
    "start_time": "2022-11-28T06:37:03.378Z"
   },
   {
    "duration": 135,
    "start_time": "2022-11-28T06:37:03.413Z"
   },
   {
    "duration": 6,
    "start_time": "2022-11-28T06:37:03.550Z"
   },
   {
    "duration": 78,
    "start_time": "2022-11-28T06:37:03.558Z"
   },
   {
    "duration": 27,
    "start_time": "2022-11-28T06:37:03.638Z"
   },
   {
    "duration": 42,
    "start_time": "2022-11-28T06:37:03.667Z"
   },
   {
    "duration": 53,
    "start_time": "2022-11-28T06:37:03.711Z"
   },
   {
    "duration": 67,
    "start_time": "2022-11-28T06:37:03.765Z"
   },
   {
    "duration": 42,
    "start_time": "2022-11-28T06:37:03.834Z"
   },
   {
    "duration": 2,
    "start_time": "2022-11-28T06:38:41.455Z"
   },
   {
    "duration": 36,
    "start_time": "2022-11-28T06:38:41.459Z"
   },
   {
    "duration": 9,
    "start_time": "2022-11-28T06:38:41.497Z"
   },
   {
    "duration": 13,
    "start_time": "2022-11-28T06:38:41.507Z"
   },
   {
    "duration": 35,
    "start_time": "2022-11-28T06:38:41.523Z"
   },
   {
    "duration": 53,
    "start_time": "2022-11-28T06:38:41.560Z"
   },
   {
    "duration": 17,
    "start_time": "2022-11-28T06:38:41.616Z"
   },
   {
    "duration": 21,
    "start_time": "2022-11-28T06:38:41.635Z"
   },
   {
    "duration": 10,
    "start_time": "2022-11-28T06:38:41.657Z"
   },
   {
    "duration": 17,
    "start_time": "2022-11-28T06:38:41.668Z"
   },
   {
    "duration": 14,
    "start_time": "2022-11-28T06:38:41.687Z"
   },
   {
    "duration": 6,
    "start_time": "2022-11-28T06:38:41.714Z"
   },
   {
    "duration": 22,
    "start_time": "2022-11-28T06:38:41.730Z"
   },
   {
    "duration": 9,
    "start_time": "2022-11-28T06:38:41.753Z"
   },
   {
    "duration": 188,
    "start_time": "2022-11-28T06:38:41.763Z"
   },
   {
    "duration": 133,
    "start_time": "2022-11-28T06:38:41.953Z"
   },
   {
    "duration": 11,
    "start_time": "2022-11-28T06:38:42.088Z"
   },
   {
    "duration": 6,
    "start_time": "2022-11-28T06:38:42.101Z"
   },
   {
    "duration": 7,
    "start_time": "2022-11-28T06:38:42.117Z"
   },
   {
    "duration": 30,
    "start_time": "2022-11-28T06:38:42.133Z"
   },
   {
    "duration": 5,
    "start_time": "2022-11-28T06:38:42.164Z"
   },
   {
    "duration": 6,
    "start_time": "2022-11-28T06:38:42.170Z"
   },
   {
    "duration": 297,
    "start_time": "2022-11-28T06:38:42.177Z"
   },
   {
    "duration": 191,
    "start_time": "2022-11-28T06:38:42.476Z"
   },
   {
    "duration": 5,
    "start_time": "2022-11-28T06:38:42.669Z"
   },
   {
    "duration": 298,
    "start_time": "2022-11-28T06:38:42.676Z"
   },
   {
    "duration": 4,
    "start_time": "2022-11-28T06:38:42.975Z"
   },
   {
    "duration": 7,
    "start_time": "2022-11-28T06:38:42.980Z"
   },
   {
    "duration": 209,
    "start_time": "2022-11-28T06:38:42.990Z"
   },
   {
    "duration": 322,
    "start_time": "2022-11-28T06:38:43.201Z"
   },
   {
    "duration": 142,
    "start_time": "2022-11-28T06:38:43.529Z"
   },
   {
    "duration": 4,
    "start_time": "2022-11-28T06:38:43.673Z"
   },
   {
    "duration": 161,
    "start_time": "2022-11-28T06:38:43.678Z"
   },
   {
    "duration": 184,
    "start_time": "2022-11-28T06:38:43.841Z"
   },
   {
    "duration": 14,
    "start_time": "2022-11-28T06:38:44.027Z"
   },
   {
    "duration": 217,
    "start_time": "2022-11-28T06:38:44.043Z"
   },
   {
    "duration": 27,
    "start_time": "2022-11-28T06:38:44.262Z"
   },
   {
    "duration": 159,
    "start_time": "2022-11-28T06:38:44.291Z"
   },
   {
    "duration": 5,
    "start_time": "2022-11-28T06:38:44.452Z"
   },
   {
    "duration": 23,
    "start_time": "2022-11-28T06:38:44.459Z"
   },
   {
    "duration": 10,
    "start_time": "2022-11-28T06:38:44.483Z"
   },
   {
    "duration": 30,
    "start_time": "2022-11-28T06:38:44.495Z"
   },
   {
    "duration": 22,
    "start_time": "2022-11-28T06:38:44.528Z"
   },
   {
    "duration": 22,
    "start_time": "2022-11-28T06:38:44.551Z"
   },
   {
    "duration": 13,
    "start_time": "2022-11-28T06:38:44.574Z"
   },
   {
    "duration": 18,
    "start_time": "2022-11-28T06:40:35.099Z"
   },
   {
    "duration": 31,
    "start_time": "2022-11-28T06:40:56.730Z"
   },
   {
    "duration": 10,
    "start_time": "2022-11-28T06:48:53.958Z"
   },
   {
    "duration": 4,
    "start_time": "2022-11-28T06:54:35.810Z"
   },
   {
    "duration": 136,
    "start_time": "2022-11-28T06:57:38.255Z"
   },
   {
    "duration": 3,
    "start_time": "2022-11-28T07:06:10.070Z"
   },
   {
    "duration": 30,
    "start_time": "2022-11-28T07:06:10.077Z"
   },
   {
    "duration": 13,
    "start_time": "2022-11-28T07:06:10.109Z"
   },
   {
    "duration": 30,
    "start_time": "2022-11-28T07:06:10.123Z"
   },
   {
    "duration": 11,
    "start_time": "2022-11-28T07:06:10.155Z"
   },
   {
    "duration": 65,
    "start_time": "2022-11-28T07:06:10.168Z"
   },
   {
    "duration": 19,
    "start_time": "2022-11-28T07:06:10.239Z"
   },
   {
    "duration": 17,
    "start_time": "2022-11-28T07:06:10.260Z"
   },
   {
    "duration": 16,
    "start_time": "2022-11-28T07:06:10.279Z"
   },
   {
    "duration": 35,
    "start_time": "2022-11-28T07:06:10.297Z"
   },
   {
    "duration": 37,
    "start_time": "2022-11-28T07:06:10.346Z"
   },
   {
    "duration": 15,
    "start_time": "2022-11-28T07:06:10.386Z"
   },
   {
    "duration": 24,
    "start_time": "2022-11-28T07:06:10.403Z"
   },
   {
    "duration": 29,
    "start_time": "2022-11-28T07:06:10.429Z"
   },
   {
    "duration": 188,
    "start_time": "2022-11-28T07:06:10.460Z"
   },
   {
    "duration": 117,
    "start_time": "2022-11-28T07:06:10.650Z"
   },
   {
    "duration": 11,
    "start_time": "2022-11-28T07:06:10.768Z"
   },
   {
    "duration": 6,
    "start_time": "2022-11-28T07:06:10.781Z"
   },
   {
    "duration": 6,
    "start_time": "2022-11-28T07:06:10.788Z"
   },
   {
    "duration": 44,
    "start_time": "2022-11-28T07:06:10.795Z"
   },
   {
    "duration": 6,
    "start_time": "2022-11-28T07:06:10.841Z"
   },
   {
    "duration": 14,
    "start_time": "2022-11-28T07:06:10.848Z"
   },
   {
    "duration": 209,
    "start_time": "2022-11-28T07:06:10.863Z"
   },
   {
    "duration": 192,
    "start_time": "2022-11-28T07:06:11.074Z"
   },
   {
    "duration": 6,
    "start_time": "2022-11-28T07:06:11.268Z"
   },
   {
    "duration": 388,
    "start_time": "2022-11-28T07:06:11.275Z"
   },
   {
    "duration": 4,
    "start_time": "2022-11-28T07:06:11.665Z"
   },
   {
    "duration": 7,
    "start_time": "2022-11-28T07:06:11.670Z"
   },
   {
    "duration": 215,
    "start_time": "2022-11-28T07:06:11.679Z"
   },
   {
    "duration": 319,
    "start_time": "2022-11-28T07:06:11.896Z"
   },
   {
    "duration": 154,
    "start_time": "2022-11-28T07:06:12.217Z"
   },
   {
    "duration": 4,
    "start_time": "2022-11-28T07:06:12.373Z"
   },
   {
    "duration": 167,
    "start_time": "2022-11-28T07:06:12.379Z"
   },
   {
    "duration": 154,
    "start_time": "2022-11-28T07:06:12.547Z"
   },
   {
    "duration": 23,
    "start_time": "2022-11-28T07:06:12.702Z"
   },
   {
    "duration": 217,
    "start_time": "2022-11-28T07:06:12.727Z"
   },
   {
    "duration": 30,
    "start_time": "2022-11-28T07:06:12.949Z"
   },
   {
    "duration": 157,
    "start_time": "2022-11-28T07:06:12.980Z"
   },
   {
    "duration": 7,
    "start_time": "2022-11-28T07:06:13.139Z"
   },
   {
    "duration": 20,
    "start_time": "2022-11-28T07:06:13.148Z"
   },
   {
    "duration": 9,
    "start_time": "2022-11-28T07:06:13.169Z"
   },
   {
    "duration": 7,
    "start_time": "2022-11-28T07:06:13.179Z"
   },
   {
    "duration": 40,
    "start_time": "2022-11-28T07:06:13.187Z"
   },
   {
    "duration": 33,
    "start_time": "2022-11-28T07:06:13.231Z"
   },
   {
    "duration": 13,
    "start_time": "2022-11-28T07:06:13.265Z"
   },
   {
    "duration": 45,
    "start_time": "2023-04-26T12:08:33.033Z"
   },
   {
    "duration": 7,
    "start_time": "2023-04-26T12:10:31.031Z"
   },
   {
    "duration": 13,
    "start_time": "2023-04-26T12:10:33.072Z"
   },
   {
    "duration": 962,
    "start_time": "2023-04-26T12:10:38.616Z"
   },
   {
    "duration": 149,
    "start_time": "2023-04-26T12:10:39.580Z"
   },
   {
    "duration": 10,
    "start_time": "2023-04-26T12:10:39.731Z"
   },
   {
    "duration": 14,
    "start_time": "2023-04-26T12:10:39.743Z"
   },
   {
    "duration": 10,
    "start_time": "2023-04-26T12:10:39.758Z"
   },
   {
    "duration": 154,
    "start_time": "2023-04-26T12:10:39.770Z"
   },
   {
    "duration": 16,
    "start_time": "2023-04-26T12:10:39.926Z"
   },
   {
    "duration": 6,
    "start_time": "2023-04-26T12:10:39.944Z"
   },
   {
    "duration": 10,
    "start_time": "2023-04-26T12:10:39.951Z"
   },
   {
    "duration": 18,
    "start_time": "2023-04-26T12:10:39.963Z"
   },
   {
    "duration": 24,
    "start_time": "2023-04-26T12:10:39.982Z"
   },
   {
    "duration": 18,
    "start_time": "2023-04-26T12:10:40.007Z"
   },
   {
    "duration": 27,
    "start_time": "2023-04-26T12:10:40.027Z"
   },
   {
    "duration": 18,
    "start_time": "2023-04-26T12:10:40.056Z"
   },
   {
    "duration": 173,
    "start_time": "2023-04-26T12:10:40.076Z"
   },
   {
    "duration": 125,
    "start_time": "2023-04-26T12:10:40.251Z"
   },
   {
    "duration": 28,
    "start_time": "2023-04-26T12:10:40.377Z"
   },
   {
    "duration": 12,
    "start_time": "2023-04-26T12:10:40.407Z"
   },
   {
    "duration": 8,
    "start_time": "2023-04-26T12:10:40.421Z"
   },
   {
    "duration": 23,
    "start_time": "2023-04-26T12:10:40.430Z"
   },
   {
    "duration": 4,
    "start_time": "2023-04-26T12:10:40.455Z"
   },
   {
    "duration": 6,
    "start_time": "2023-04-26T12:10:40.461Z"
   },
   {
    "duration": 283,
    "start_time": "2023-04-26T12:10:40.468Z"
   },
   {
    "duration": 191,
    "start_time": "2023-04-26T12:10:40.753Z"
   },
   {
    "duration": 6,
    "start_time": "2023-04-26T12:10:40.945Z"
   },
   {
    "duration": 277,
    "start_time": "2023-04-26T12:10:40.953Z"
   },
   {
    "duration": 5,
    "start_time": "2023-04-26T12:10:41.231Z"
   },
   {
    "duration": 7,
    "start_time": "2023-04-26T12:10:41.239Z"
   },
   {
    "duration": 218,
    "start_time": "2023-04-26T12:10:41.247Z"
   },
   {
    "duration": 324,
    "start_time": "2023-04-26T12:10:41.467Z"
   },
   {
    "duration": 155,
    "start_time": "2023-04-26T12:10:41.799Z"
   },
   {
    "duration": 5,
    "start_time": "2023-04-26T12:10:41.956Z"
   },
   {
    "duration": 158,
    "start_time": "2023-04-26T12:10:41.963Z"
   },
   {
    "duration": 154,
    "start_time": "2023-04-26T12:10:42.122Z"
   },
   {
    "duration": 5,
    "start_time": "2023-04-26T12:10:42.278Z"
   },
   {
    "duration": 195,
    "start_time": "2023-04-26T12:10:42.295Z"
   },
   {
    "duration": 39,
    "start_time": "2023-04-26T12:10:42.495Z"
   },
   {
    "duration": 169,
    "start_time": "2023-04-26T12:10:42.536Z"
   },
   {
    "duration": 15,
    "start_time": "2023-04-26T12:10:42.713Z"
   },
   {
    "duration": 28,
    "start_time": "2023-04-26T12:10:42.730Z"
   },
   {
    "duration": 22,
    "start_time": "2023-04-26T12:10:42.760Z"
   },
   {
    "duration": 19,
    "start_time": "2023-04-26T12:10:42.784Z"
   },
   {
    "duration": 24,
    "start_time": "2023-04-26T12:10:42.808Z"
   },
   {
    "duration": 22,
    "start_time": "2023-04-26T12:10:42.833Z"
   },
   {
    "duration": 16,
    "start_time": "2023-04-26T12:10:42.856Z"
   },
   {
    "duration": 196,
    "start_time": "2023-04-26T12:13:20.667Z"
   },
   {
    "duration": 270,
    "start_time": "2023-04-26T12:13:29.084Z"
   },
   {
    "duration": 176,
    "start_time": "2023-04-26T12:13:38.590Z"
   },
   {
    "duration": 139,
    "start_time": "2023-04-26T12:14:00.318Z"
   },
   {
    "duration": 168,
    "start_time": "2023-04-26T12:15:07.074Z"
   },
   {
    "duration": 160,
    "start_time": "2023-04-26T12:15:15.042Z"
   },
   {
    "duration": 250,
    "start_time": "2023-04-26T12:16:11.834Z"
   },
   {
    "duration": 271,
    "start_time": "2023-04-26T12:17:00.052Z"
   },
   {
    "duration": 5,
    "start_time": "2023-04-26T12:17:07.242Z"
   },
   {
    "duration": 34,
    "start_time": "2023-04-26T12:17:07.249Z"
   },
   {
    "duration": 10,
    "start_time": "2023-04-26T12:17:07.284Z"
   },
   {
    "duration": 18,
    "start_time": "2023-04-26T12:17:07.299Z"
   },
   {
    "duration": 16,
    "start_time": "2023-04-26T12:17:07.318Z"
   },
   {
    "duration": 52,
    "start_time": "2023-04-26T12:17:07.336Z"
   },
   {
    "duration": 36,
    "start_time": "2023-04-26T12:17:07.389Z"
   },
   {
    "duration": 9,
    "start_time": "2023-04-26T12:17:07.426Z"
   },
   {
    "duration": 8,
    "start_time": "2023-04-26T12:17:07.437Z"
   },
   {
    "duration": 18,
    "start_time": "2023-04-26T12:17:07.446Z"
   },
   {
    "duration": 15,
    "start_time": "2023-04-26T12:17:07.466Z"
   },
   {
    "duration": 21,
    "start_time": "2023-04-26T12:17:07.483Z"
   },
   {
    "duration": 18,
    "start_time": "2023-04-26T12:17:07.506Z"
   },
   {
    "duration": 16,
    "start_time": "2023-04-26T12:17:07.527Z"
   },
   {
    "duration": 156,
    "start_time": "2023-04-26T12:17:07.545Z"
   },
   {
    "duration": 134,
    "start_time": "2023-04-26T12:17:07.704Z"
   },
   {
    "duration": 13,
    "start_time": "2023-04-26T12:17:07.840Z"
   },
   {
    "duration": 4,
    "start_time": "2023-04-26T12:17:07.854Z"
   },
   {
    "duration": 6,
    "start_time": "2023-04-26T12:17:07.861Z"
   },
   {
    "duration": 54,
    "start_time": "2023-04-26T12:17:07.869Z"
   },
   {
    "duration": 5,
    "start_time": "2023-04-26T12:17:07.924Z"
   },
   {
    "duration": 9,
    "start_time": "2023-04-26T12:17:07.931Z"
   },
   {
    "duration": 210,
    "start_time": "2023-04-26T12:17:07.941Z"
   },
   {
    "duration": 196,
    "start_time": "2023-04-26T12:17:08.154Z"
   },
   {
    "duration": 6,
    "start_time": "2023-04-26T12:17:08.351Z"
   },
   {
    "duration": 332,
    "start_time": "2023-04-26T12:17:08.359Z"
   },
   {
    "duration": 10,
    "start_time": "2023-04-26T12:17:08.699Z"
   },
   {
    "duration": 22,
    "start_time": "2023-04-26T12:17:08.714Z"
   },
   {
    "duration": 240,
    "start_time": "2023-04-26T12:17:08.738Z"
   },
   {
    "duration": 393,
    "start_time": "2023-04-26T12:17:08.979Z"
   },
   {
    "duration": 164,
    "start_time": "2023-04-26T12:17:09.374Z"
   },
   {
    "duration": 4,
    "start_time": "2023-04-26T12:17:09.541Z"
   },
   {
    "duration": 207,
    "start_time": "2023-04-26T12:17:09.547Z"
   },
   {
    "duration": 194,
    "start_time": "2023-04-26T12:17:09.756Z"
   },
   {
    "duration": 5,
    "start_time": "2023-04-26T12:17:09.953Z"
   },
   {
    "duration": 258,
    "start_time": "2023-04-26T12:17:09.961Z"
   },
   {
    "duration": 36,
    "start_time": "2023-04-26T12:17:10.221Z"
   },
   {
    "duration": 152,
    "start_time": "2023-04-26T12:17:10.261Z"
   },
   {
    "duration": 7,
    "start_time": "2023-04-26T12:17:10.415Z"
   },
   {
    "duration": 37,
    "start_time": "2023-04-26T12:17:10.424Z"
   },
   {
    "duration": 17,
    "start_time": "2023-04-26T12:17:10.462Z"
   },
   {
    "duration": 9,
    "start_time": "2023-04-26T12:17:10.480Z"
   },
   {
    "duration": 20,
    "start_time": "2023-04-26T12:17:10.490Z"
   },
   {
    "duration": 36,
    "start_time": "2023-04-26T12:17:10.512Z"
   },
   {
    "duration": 12,
    "start_time": "2023-04-26T12:17:10.550Z"
   }
  ],
  "kernelspec": {
   "display_name": "Python 3 (ipykernel)",
   "language": "python",
   "name": "python3"
  },
  "language_info": {
   "codemirror_mode": {
    "name": "ipython",
    "version": 3
   },
   "file_extension": ".py",
   "mimetype": "text/x-python",
   "name": "python",
   "nbconvert_exporter": "python",
   "pygments_lexer": "ipython3",
   "version": "3.9.5"
  },
  "toc": {
   "base_numbering": 1,
   "nav_menu": {},
   "number_sections": true,
   "sideBar": true,
   "skip_h1_title": true,
   "title_cell": "Table of Contents",
   "title_sidebar": "Contents",
   "toc_cell": false,
   "toc_position": {},
   "toc_section_display": true,
   "toc_window_display": false
  }
 },
 "nbformat": 4,
 "nbformat_minor": 2
}
